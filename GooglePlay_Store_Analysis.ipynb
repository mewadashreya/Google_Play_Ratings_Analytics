{
  "nbformat": 4,
  "nbformat_minor": 0,
  "metadata": {
    "colab": {
      "name": "GooglePlay Store Analysis.ipynb",
      "provenance": [],
      "collapsed_sections": [],
      "mount_file_id": "1nfhASn3YMsfApCqApCQN2EgviMA5keIJ",
      "authorship_tag": "ABX9TyNJCgWHuG2iK+k30XwEE0KZ",
      "include_colab_link": true
    },
    "kernelspec": {
      "name": "python3",
      "display_name": "Python 3"
    },
    "language_info": {
      "name": "python"
    }
  },
  "cells": [
    {
      "cell_type": "markdown",
      "metadata": {
        "id": "view-in-github",
        "colab_type": "text"
      },
      "source": [
        "<a href=\"https://colab.research.google.com/github/mewadashreya/Google_Play_Ratings_Analytics/blob/main/GooglePlay_Store_Analysis.ipynb\" target=\"_parent\"><img src=\"https://colab.research.google.com/assets/colab-badge.svg\" alt=\"Open In Colab\"/></a>"
      ]
    },
    {
      "cell_type": "code",
      "metadata": {
        "id": "KgqE4sXpH5Zz"
      },
      "source": [
        "import pandas as pd\n",
        "import numpy as np\n",
        "import matplotlib.pyplot as plt\n",
        "import seaborn as sns\n",
        "import plotly.express as px"
      ],
      "execution_count": null,
      "outputs": []
    },
    {
      "cell_type": "code",
      "metadata": {
        "colab": {
          "base_uri": "https://localhost:8080/"
        },
        "id": "zk9yeSgJ_DB-",
        "outputId": "001fd5ad-5a01-4175-f2e5-d40bce384619"
      },
      "source": [
        "!pip install chart_studio"
      ],
      "execution_count": null,
      "outputs": [
        {
          "output_type": "stream",
          "text": [
            "Requirement already satisfied: chart_studio in /usr/local/lib/python3.7/dist-packages (1.1.0)\n",
            "Requirement already satisfied: plotly in /usr/local/lib/python3.7/dist-packages (from chart_studio) (4.4.1)\n",
            "Requirement already satisfied: requests in /usr/local/lib/python3.7/dist-packages (from chart_studio) (2.23.0)\n",
            "Requirement already satisfied: six in /usr/local/lib/python3.7/dist-packages (from chart_studio) (1.15.0)\n",
            "Requirement already satisfied: retrying>=1.3.3 in /usr/local/lib/python3.7/dist-packages (from chart_studio) (1.3.3)\n",
            "Requirement already satisfied: certifi>=2017.4.17 in /usr/local/lib/python3.7/dist-packages (from requests->chart_studio) (2020.12.5)\n",
            "Requirement already satisfied: urllib3!=1.25.0,!=1.25.1,<1.26,>=1.21.1 in /usr/local/lib/python3.7/dist-packages (from requests->chart_studio) (1.24.3)\n",
            "Requirement already satisfied: chardet<4,>=3.0.2 in /usr/local/lib/python3.7/dist-packages (from requests->chart_studio) (3.0.4)\n",
            "Requirement already satisfied: idna<3,>=2.5 in /usr/local/lib/python3.7/dist-packages (from requests->chart_studio) (2.10)\n"
          ],
          "name": "stdout"
        }
      ]
    },
    {
      "cell_type": "code",
      "metadata": {
        "id": "ilTivfZQMFeb"
      },
      "source": [
        "data_df = pd.read_csv('/content/drive/MyDrive/googleplaystore.csv')"
      ],
      "execution_count": null,
      "outputs": []
    },
    {
      "cell_type": "code",
      "metadata": {
        "colab": {
          "base_uri": "https://localhost:8080/",
          "height": 551
        },
        "id": "uyF0lrZeSpzd",
        "outputId": "bf785ace-dc69-4965-e084-181fc6bfe6b0"
      },
      "source": [
        "data_df.head()"
      ],
      "execution_count": null,
      "outputs": [
        {
          "output_type": "execute_result",
          "data": {
            "text/html": [
              "<div>\n",
              "<style scoped>\n",
              "    .dataframe tbody tr th:only-of-type {\n",
              "        vertical-align: middle;\n",
              "    }\n",
              "\n",
              "    .dataframe tbody tr th {\n",
              "        vertical-align: top;\n",
              "    }\n",
              "\n",
              "    .dataframe thead th {\n",
              "        text-align: right;\n",
              "    }\n",
              "</style>\n",
              "<table border=\"1\" class=\"dataframe\">\n",
              "  <thead>\n",
              "    <tr style=\"text-align: right;\">\n",
              "      <th></th>\n",
              "      <th>App</th>\n",
              "      <th>Category</th>\n",
              "      <th>Rating</th>\n",
              "      <th>Reviews</th>\n",
              "      <th>Size</th>\n",
              "      <th>Installs</th>\n",
              "      <th>Type</th>\n",
              "      <th>Price</th>\n",
              "      <th>Content Rating</th>\n",
              "      <th>Genres</th>\n",
              "      <th>Last Updated</th>\n",
              "      <th>Current Ver</th>\n",
              "      <th>Android Ver</th>\n",
              "    </tr>\n",
              "  </thead>\n",
              "  <tbody>\n",
              "    <tr>\n",
              "      <th>0</th>\n",
              "      <td>Photo Editor &amp; Candy Camera &amp; Grid &amp; ScrapBook</td>\n",
              "      <td>ART_AND_DESIGN</td>\n",
              "      <td>4.1</td>\n",
              "      <td>159</td>\n",
              "      <td>19M</td>\n",
              "      <td>10,000+</td>\n",
              "      <td>Free</td>\n",
              "      <td>0</td>\n",
              "      <td>Everyone</td>\n",
              "      <td>Art &amp; Design</td>\n",
              "      <td>January 7, 2018</td>\n",
              "      <td>1.0.0</td>\n",
              "      <td>4.0.3 and up</td>\n",
              "    </tr>\n",
              "    <tr>\n",
              "      <th>1</th>\n",
              "      <td>Coloring book moana</td>\n",
              "      <td>ART_AND_DESIGN</td>\n",
              "      <td>3.9</td>\n",
              "      <td>967</td>\n",
              "      <td>14M</td>\n",
              "      <td>500,000+</td>\n",
              "      <td>Free</td>\n",
              "      <td>0</td>\n",
              "      <td>Everyone</td>\n",
              "      <td>Art &amp; Design;Pretend Play</td>\n",
              "      <td>January 15, 2018</td>\n",
              "      <td>2.0.0</td>\n",
              "      <td>4.0.3 and up</td>\n",
              "    </tr>\n",
              "    <tr>\n",
              "      <th>2</th>\n",
              "      <td>U Launcher Lite – FREE Live Cool Themes, Hide ...</td>\n",
              "      <td>ART_AND_DESIGN</td>\n",
              "      <td>4.7</td>\n",
              "      <td>87510</td>\n",
              "      <td>8.7M</td>\n",
              "      <td>5,000,000+</td>\n",
              "      <td>Free</td>\n",
              "      <td>0</td>\n",
              "      <td>Everyone</td>\n",
              "      <td>Art &amp; Design</td>\n",
              "      <td>August 1, 2018</td>\n",
              "      <td>1.2.4</td>\n",
              "      <td>4.0.3 and up</td>\n",
              "    </tr>\n",
              "    <tr>\n",
              "      <th>3</th>\n",
              "      <td>Sketch - Draw &amp; Paint</td>\n",
              "      <td>ART_AND_DESIGN</td>\n",
              "      <td>4.5</td>\n",
              "      <td>215644</td>\n",
              "      <td>25M</td>\n",
              "      <td>50,000,000+</td>\n",
              "      <td>Free</td>\n",
              "      <td>0</td>\n",
              "      <td>Teen</td>\n",
              "      <td>Art &amp; Design</td>\n",
              "      <td>June 8, 2018</td>\n",
              "      <td>Varies with device</td>\n",
              "      <td>4.2 and up</td>\n",
              "    </tr>\n",
              "    <tr>\n",
              "      <th>4</th>\n",
              "      <td>Pixel Draw - Number Art Coloring Book</td>\n",
              "      <td>ART_AND_DESIGN</td>\n",
              "      <td>4.3</td>\n",
              "      <td>967</td>\n",
              "      <td>2.8M</td>\n",
              "      <td>100,000+</td>\n",
              "      <td>Free</td>\n",
              "      <td>0</td>\n",
              "      <td>Everyone</td>\n",
              "      <td>Art &amp; Design;Creativity</td>\n",
              "      <td>June 20, 2018</td>\n",
              "      <td>1.1</td>\n",
              "      <td>4.4 and up</td>\n",
              "    </tr>\n",
              "  </tbody>\n",
              "</table>\n",
              "</div>"
            ],
            "text/plain": [
              "                                                 App  ...   Android Ver\n",
              "0     Photo Editor & Candy Camera & Grid & ScrapBook  ...  4.0.3 and up\n",
              "1                                Coloring book moana  ...  4.0.3 and up\n",
              "2  U Launcher Lite – FREE Live Cool Themes, Hide ...  ...  4.0.3 and up\n",
              "3                              Sketch - Draw & Paint  ...    4.2 and up\n",
              "4              Pixel Draw - Number Art Coloring Book  ...    4.4 and up\n",
              "\n",
              "[5 rows x 13 columns]"
            ]
          },
          "metadata": {
            "tags": []
          },
          "execution_count": 5
        }
      ]
    },
    {
      "cell_type": "code",
      "metadata": {
        "colab": {
          "base_uri": "https://localhost:8080/"
        },
        "id": "-Mfj2DyQSy-u",
        "outputId": "b8db4944-4b09-47da-c072-51f6d872442e"
      },
      "source": [
        "type(data_df)"
      ],
      "execution_count": null,
      "outputs": [
        {
          "output_type": "execute_result",
          "data": {
            "text/plain": [
              "pandas.core.frame.DataFrame"
            ]
          },
          "metadata": {
            "tags": []
          },
          "execution_count": 6
        }
      ]
    },
    {
      "cell_type": "code",
      "metadata": {
        "colab": {
          "base_uri": "https://localhost:8080/"
        },
        "id": "B9nkOLmNTHu5",
        "outputId": "de3113ad-cded-46d4-deee-5029a9ec683a"
      },
      "source": [
        "data_df.shape"
      ],
      "execution_count": null,
      "outputs": [
        {
          "output_type": "execute_result",
          "data": {
            "text/plain": [
              "(10841, 13)"
            ]
          },
          "metadata": {
            "tags": []
          },
          "execution_count": 7
        }
      ]
    },
    {
      "cell_type": "code",
      "metadata": {
        "colab": {
          "base_uri": "https://localhost:8080/",
          "height": 443
        },
        "id": "teNBwE_4TL8X",
        "outputId": "1d8ff1cb-2588-44bf-ca7d-0efc5a0dacdf"
      },
      "source": [
        "data_df.describe(include='all')"
      ],
      "execution_count": null,
      "outputs": [
        {
          "output_type": "execute_result",
          "data": {
            "text/html": [
              "<div>\n",
              "<style scoped>\n",
              "    .dataframe tbody tr th:only-of-type {\n",
              "        vertical-align: middle;\n",
              "    }\n",
              "\n",
              "    .dataframe tbody tr th {\n",
              "        vertical-align: top;\n",
              "    }\n",
              "\n",
              "    .dataframe thead th {\n",
              "        text-align: right;\n",
              "    }\n",
              "</style>\n",
              "<table border=\"1\" class=\"dataframe\">\n",
              "  <thead>\n",
              "    <tr style=\"text-align: right;\">\n",
              "      <th></th>\n",
              "      <th>App</th>\n",
              "      <th>Category</th>\n",
              "      <th>Rating</th>\n",
              "      <th>Reviews</th>\n",
              "      <th>Size</th>\n",
              "      <th>Installs</th>\n",
              "      <th>Type</th>\n",
              "      <th>Price</th>\n",
              "      <th>Content Rating</th>\n",
              "      <th>Genres</th>\n",
              "      <th>Last Updated</th>\n",
              "      <th>Current Ver</th>\n",
              "      <th>Android Ver</th>\n",
              "    </tr>\n",
              "  </thead>\n",
              "  <tbody>\n",
              "    <tr>\n",
              "      <th>count</th>\n",
              "      <td>10841</td>\n",
              "      <td>10841</td>\n",
              "      <td>9367.000000</td>\n",
              "      <td>10841</td>\n",
              "      <td>10841</td>\n",
              "      <td>10841</td>\n",
              "      <td>10840</td>\n",
              "      <td>10841</td>\n",
              "      <td>10840</td>\n",
              "      <td>10841</td>\n",
              "      <td>10841</td>\n",
              "      <td>10833</td>\n",
              "      <td>10838</td>\n",
              "    </tr>\n",
              "    <tr>\n",
              "      <th>unique</th>\n",
              "      <td>9660</td>\n",
              "      <td>34</td>\n",
              "      <td>NaN</td>\n",
              "      <td>6002</td>\n",
              "      <td>462</td>\n",
              "      <td>22</td>\n",
              "      <td>3</td>\n",
              "      <td>93</td>\n",
              "      <td>6</td>\n",
              "      <td>120</td>\n",
              "      <td>1378</td>\n",
              "      <td>2784</td>\n",
              "      <td>33</td>\n",
              "    </tr>\n",
              "    <tr>\n",
              "      <th>top</th>\n",
              "      <td>ROBLOX</td>\n",
              "      <td>FAMILY</td>\n",
              "      <td>NaN</td>\n",
              "      <td>0</td>\n",
              "      <td>Varies with device</td>\n",
              "      <td>1,000,000+</td>\n",
              "      <td>Free</td>\n",
              "      <td>0</td>\n",
              "      <td>Everyone</td>\n",
              "      <td>Tools</td>\n",
              "      <td>August 3, 2018</td>\n",
              "      <td>Varies with device</td>\n",
              "      <td>4.1 and up</td>\n",
              "    </tr>\n",
              "    <tr>\n",
              "      <th>freq</th>\n",
              "      <td>9</td>\n",
              "      <td>1972</td>\n",
              "      <td>NaN</td>\n",
              "      <td>596</td>\n",
              "      <td>1695</td>\n",
              "      <td>1579</td>\n",
              "      <td>10039</td>\n",
              "      <td>10040</td>\n",
              "      <td>8714</td>\n",
              "      <td>842</td>\n",
              "      <td>326</td>\n",
              "      <td>1459</td>\n",
              "      <td>2451</td>\n",
              "    </tr>\n",
              "    <tr>\n",
              "      <th>mean</th>\n",
              "      <td>NaN</td>\n",
              "      <td>NaN</td>\n",
              "      <td>4.193338</td>\n",
              "      <td>NaN</td>\n",
              "      <td>NaN</td>\n",
              "      <td>NaN</td>\n",
              "      <td>NaN</td>\n",
              "      <td>NaN</td>\n",
              "      <td>NaN</td>\n",
              "      <td>NaN</td>\n",
              "      <td>NaN</td>\n",
              "      <td>NaN</td>\n",
              "      <td>NaN</td>\n",
              "    </tr>\n",
              "    <tr>\n",
              "      <th>std</th>\n",
              "      <td>NaN</td>\n",
              "      <td>NaN</td>\n",
              "      <td>0.537431</td>\n",
              "      <td>NaN</td>\n",
              "      <td>NaN</td>\n",
              "      <td>NaN</td>\n",
              "      <td>NaN</td>\n",
              "      <td>NaN</td>\n",
              "      <td>NaN</td>\n",
              "      <td>NaN</td>\n",
              "      <td>NaN</td>\n",
              "      <td>NaN</td>\n",
              "      <td>NaN</td>\n",
              "    </tr>\n",
              "    <tr>\n",
              "      <th>min</th>\n",
              "      <td>NaN</td>\n",
              "      <td>NaN</td>\n",
              "      <td>1.000000</td>\n",
              "      <td>NaN</td>\n",
              "      <td>NaN</td>\n",
              "      <td>NaN</td>\n",
              "      <td>NaN</td>\n",
              "      <td>NaN</td>\n",
              "      <td>NaN</td>\n",
              "      <td>NaN</td>\n",
              "      <td>NaN</td>\n",
              "      <td>NaN</td>\n",
              "      <td>NaN</td>\n",
              "    </tr>\n",
              "    <tr>\n",
              "      <th>25%</th>\n",
              "      <td>NaN</td>\n",
              "      <td>NaN</td>\n",
              "      <td>4.000000</td>\n",
              "      <td>NaN</td>\n",
              "      <td>NaN</td>\n",
              "      <td>NaN</td>\n",
              "      <td>NaN</td>\n",
              "      <td>NaN</td>\n",
              "      <td>NaN</td>\n",
              "      <td>NaN</td>\n",
              "      <td>NaN</td>\n",
              "      <td>NaN</td>\n",
              "      <td>NaN</td>\n",
              "    </tr>\n",
              "    <tr>\n",
              "      <th>50%</th>\n",
              "      <td>NaN</td>\n",
              "      <td>NaN</td>\n",
              "      <td>4.300000</td>\n",
              "      <td>NaN</td>\n",
              "      <td>NaN</td>\n",
              "      <td>NaN</td>\n",
              "      <td>NaN</td>\n",
              "      <td>NaN</td>\n",
              "      <td>NaN</td>\n",
              "      <td>NaN</td>\n",
              "      <td>NaN</td>\n",
              "      <td>NaN</td>\n",
              "      <td>NaN</td>\n",
              "    </tr>\n",
              "    <tr>\n",
              "      <th>75%</th>\n",
              "      <td>NaN</td>\n",
              "      <td>NaN</td>\n",
              "      <td>4.500000</td>\n",
              "      <td>NaN</td>\n",
              "      <td>NaN</td>\n",
              "      <td>NaN</td>\n",
              "      <td>NaN</td>\n",
              "      <td>NaN</td>\n",
              "      <td>NaN</td>\n",
              "      <td>NaN</td>\n",
              "      <td>NaN</td>\n",
              "      <td>NaN</td>\n",
              "      <td>NaN</td>\n",
              "    </tr>\n",
              "    <tr>\n",
              "      <th>max</th>\n",
              "      <td>NaN</td>\n",
              "      <td>NaN</td>\n",
              "      <td>19.000000</td>\n",
              "      <td>NaN</td>\n",
              "      <td>NaN</td>\n",
              "      <td>NaN</td>\n",
              "      <td>NaN</td>\n",
              "      <td>NaN</td>\n",
              "      <td>NaN</td>\n",
              "      <td>NaN</td>\n",
              "      <td>NaN</td>\n",
              "      <td>NaN</td>\n",
              "      <td>NaN</td>\n",
              "    </tr>\n",
              "  </tbody>\n",
              "</table>\n",
              "</div>"
            ],
            "text/plain": [
              "           App Category  ...         Current Ver Android Ver\n",
              "count    10841    10841  ...               10833       10838\n",
              "unique    9660       34  ...                2784          33\n",
              "top     ROBLOX   FAMILY  ...  Varies with device  4.1 and up\n",
              "freq         9     1972  ...                1459        2451\n",
              "mean       NaN      NaN  ...                 NaN         NaN\n",
              "std        NaN      NaN  ...                 NaN         NaN\n",
              "min        NaN      NaN  ...                 NaN         NaN\n",
              "25%        NaN      NaN  ...                 NaN         NaN\n",
              "50%        NaN      NaN  ...                 NaN         NaN\n",
              "75%        NaN      NaN  ...                 NaN         NaN\n",
              "max        NaN      NaN  ...                 NaN         NaN\n",
              "\n",
              "[11 rows x 13 columns]"
            ]
          },
          "metadata": {
            "tags": []
          },
          "execution_count": 8
        }
      ]
    },
    {
      "cell_type": "code",
      "metadata": {
        "colab": {
          "base_uri": "https://localhost:8080/",
          "height": 282
        },
        "id": "mqvr81M_TZ2Z",
        "outputId": "18a4a396-3d8d-42fb-e9ac-b544000a3578"
      },
      "source": [
        "data_df.boxplot()"
      ],
      "execution_count": null,
      "outputs": [
        {
          "output_type": "execute_result",
          "data": {
            "text/plain": [
              "<matplotlib.axes._subplots.AxesSubplot at 0x7f9a87c812d0>"
            ]
          },
          "metadata": {
            "tags": []
          },
          "execution_count": 9
        },
        {
          "output_type": "display_data",
          "data": {
            "image/png": "[encoded data removed]",
            "text/plain": [
              "<Figure size 432x288 with 1 Axes>"
            ]
          },
          "metadata": {
            "tags": [],
            "needs_background": "light"
          }
        }
      ]
    },
    {
      "cell_type": "code",
      "metadata": {
        "colab": {
          "base_uri": "https://localhost:8080/",
          "height": 542
        },
        "id": "R_vugkV3Tm2y",
        "outputId": "77ae4de0-8d16-49aa-8d0b-a116d290161e"
      },
      "source": [
        "fig = px.box(data_df,y=\"Rating\")\n",
        "fig.show()"
      ],
      "execution_count": null,
      "outputs": [
        {
          "output_type": "display_data",
          "data": {
            "text/html": [
              "<html>\n",
              "<head><meta charset=\"utf-8\" /></head>\n",
              "<body>\n",
              "    <div>\n",
              "            <script src=\"https://cdnjs.cloudflare.com/ajax/libs/mathjax/2.7.5/MathJax.js?config=TeX-AMS-MML_SVG\"></script><script type=\"text/javascript\">if (window.MathJax) {MathJax.Hub.Config({SVG: {font: \"STIX-Web\"}});}</script>\n",
              "                <script type=\"text/javascript\">window.PlotlyConfig = {MathJaxConfig: 'local'};</script>\n",
              "        <script src=\"https://cdn.plot.ly/plotly-latest.min.js\"></script>    \n",
              "            <div id=\"cfc36ac5-3574-40c7-a61a-42642be48777\" class=\"plotly-graph-div\" style=\"height:525px; width:100%;\"></div>\n",
              "            <script type=\"text/javascript\">\n",
              "                \n",
              "                    window.PLOTLYENV=window.PLOTLYENV || {};\n",
              "                    \n",
              "                if (document.getElementById(\"cfc36ac5-3574-40c7-a61a-42642be48777\")) {\n",
              "                    Plotly.newPlot(\n",
              "                        'cfc36ac5-3574-40c7-a61a-42642be48777',\n",
              "                        [{\"alignmentgroup\": \"True\", \"hoverlabel\": {\"namelength\": 0}, \"hovertemplate\": \"Rating=%{y}\", \"legendgroup\": \"\", \"marker\": {\"color\": \"#636efa\"}, \"name\": \"\", \"notched\": false, \"offsetgroup\": \"\", \"orientation\": \"v\", \"showlegend\": false, \"type\": \"box\", \"x0\": \" \", \"xaxis\": \"x\", \"y\": [4.1, 3.9, 4.7, 4.5, 4.3, 4.4, 3.8, 4.1, 4.4, 4.7, 4.4, 4.4, 4.2, 4.6, 4.4, 3.2, 4.7, 4.5, 4.3, 4.6, 4.0, 4.1, 4.7, null, 4.7, 4.8, 4.7, 4.1, 3.9, 4.1, 4.2, 4.1, 4.5, 4.2, 4.7, 3.8, 4.7, 4.1, 4.7, 4.0, 4.2, 4.5, 4.4, 3.8, 4.2, 4.7, 4.6, 4.2, 4.3, 4.2, 4.0, 3.8, 4.6, 3.9, 4.3, 4.9, 4.4, 4.2, 4.0, 3.9, 4.6, 4.9, 4.3, 4.6, 4.9, 3.9, 4.0, 4.3, 3.9, 4.2, 4.8, 3.6, 4.2, 4.8, 4.8, 4.6, 4.5, 4.3, 4.5, 4.9, 3.9, 4.4, 4.0, 4.3, 3.7, 4.4, 4.3, 3.2, 4.6, 4.6, 4.5, 3.7, 4.6, 4.6, 4.6, 4.0, 4.4, 4.0, 4.7, 4.9, 4.7, 3.9, 3.9, 4.2, 4.6, 4.3, 4.7, 4.7, 4.8, 4.2, 4.3, 4.5, 4.1, null, 4.2, 4.5, 4.4, 4.0, 4.1, 4.1, 4.4, 4.6, 4.5, null, 3.9, 4.4, null, 4.6, 3.8, null, null, 4.0, 4.3, 4.5, null, 4.1, 3.7, 4.7, 4.2, 4.6, 4.5, 4.6, 4.4, 4.2, 4.5, 4.5, 4.5, 4.5, 4.4, 4.5, 4.6, 4.8, 3.9, 4.6, 4.2, 4.1, 4.7, 4.2, 4.3, 3.3, 4.6, 4.8, 4.7, null, 4.1, 4.6, 4.1, 4.6, 4.7, 4.5, 3.9, 4.4, 4.3, 4.2, 4.5, 4.4, 3.4, 4.9, 4.6, 4.4, null, 4.4, 4.4, 4.4, 3.5, null, 4.4, 4.1, 4.3, 4.4, 4.3, 4.3, 4.1, 4.4, 4.3, 3.9, 4.8, 4.5, 4.4, 4.0, 4.3, 4.0, 4.2, 4.5, 4.2, 4.2, 4.6, 4.1, 4.6, 3.1, 3.9, 4.3, 4.1, 4.4, 4.1, 4.1, 4.5, 4.4, 4.4, 4.3, 4.4, 4.6, 4.2, 4.4, 4.7, 3.8, 3.9, null, 4.3, 4.2, 4.4, 4.7, 4.5, 4.2, 4.7, 4.8, 4.2, 4.2, 4.3, 4.4, 4.4, 4.1, 3.8, 4.3, 3.8, 3.5, 4.1, 4.6, 4.3, 4.5, 4.1, 4.5, 4.6, 4.0, 4.2, 4.4, 4.4, 4.0, 4.2, 4.2, 4.1, 4.0, 3.8, 3.9, 3.9, 4.2, 4.2, 4.3, 4.4, 4.4, 4.1, 3.8, 4.3, 3.8, 3.5, 4.1, 4.6, 4.3, 4.5, 4.1, 4.5, 4.6, 4.0, 4.2, 4.3, 4.2, 4.4, 4.7, 4.5, 4.2, 4.7, 4.8, 4.1, 4.3, 4.4, 4.5, 4.3, 4.5, 4.6, 4.7, 4.7, 4.8, 3.9, 4.1, 4.4, 4.6, 4.5, 4.7, 4.4, 4.5, 3.9, 3.2, 3.2, 4.1, 4.5, 4.2, 4.2, 3.7, 4.5, 4.6, 4.5, null, 4.7, 4.4, 3.5, 3.3, 4.5, 4.4, 4.2, 5.0, 4.4, 4.7, 4.4, 4.4, 4.6, 4.0, 4.4, 4.3, 4.3, 4.4, 4.3, 4.0, 4.3, 4.3, 4.4, 4.3, 4.3, 4.3, 4.3, 4.3, 4.0, 4.5, 4.3, 3.7, 4.5, 3.9, 4.4, 3.6, 4.4, 4.2, 4.4, 4.1, 4.4, 4.3, 4.2, 4.2, 4.4, 4.4, 3.9, 4.2, 4.4, 4.6, 4.3, 4.3, 4.4, 3.7, 4.3, 3.9, 4.5, 3.7, 4.3, 4.4, 4.0, 4.3, 4.0, 4.3, 4.0, 4.1, 4.2, 4.2, 4.2, 4.1, 4.4, 4.3, 4.2, 4.4, 4.2, 4.1, 4.3, 4.3, 4.5, 4.3, 4.2, 4.2, 4.5, 4.3, 4.3, 4.3, 4.4, 4.2, 4.3, 4.3, 4.4, 4.6, 4.3, 4.4, 4.2, 4.5, 4.5, 4.4, 4.5, 4.1, 4.2, 4.1, 4.3, 4.1, 4.2, 4.0, 4.2, 4.2, 4.2, 4.3, 4.3, 4.4, 4.2, 4.4, 4.1, 4.2, 4.8, 4.4, 4.4, 4.4, 4.0, 4.5, 4.4, 4.1, 4.2, 4.5, 4.3, 4.5, 4.0, 4.3, 4.3, 4.2, 4.5, 4.6, 4.1, 4.0, 4.2, 4.6, 4.1, 4.3, 4.2, 4.3, 4.0, 4.3, 4.2, 4.3, 4.1, 4.2, 4.1, 4.6, 4.3, 4.2, 4.2, 4.3, 4.2, 2.6, null, null, null, 3.5, 4.0, 4.1, 3.7, 4.1, 4.2, 4.5, 4.4, 4.2, 4.0, 4.1, 3.1, 4.4, 4.2, 4.1, 3.9, 4.3, 4.4, 3.5, 4.0, 3.3, 4.5, 4.4, 4.1, 3.9, 3.9, 3.6, 4.0, 3.6, 3.4, 4.2, 4.1, 3.4, 3.0, 4.6, 4.1, 3.9, 1.9, 3.5, 2.5, 3.9, 3.4, 3.5, 4.4, 3.8, 4.2, 2.5, 2.8, 4.1, 4.2, 3.5, 4.3, 3.3, 4.1, 4.2, 3.5, 4.2, 4.4, 4.1, 4.2, 4.3, 4.1, 4.0, 4.1, 4.2, 3.0, 4.4, 4.5, 2.5, 4.1, 4.2, 4.0, 4.1, 1.9, 3.3, 4.4, 4.1, 3.8, 4.1, 4.2, 4.0, 4.5, 3.7, 3.9, 3.5, 3.9, 4.0, 4.6, 4.0, 4.1, 4.2, 3.3, 4.4, 4.3, 4.2, 3.9, 4.3, 3.4, 4.2, 4.1, 4.0, 3.6, 4.2, 3.5, 4.0, 4.1, 4.1, 2.8, 4.4, 4.4, 4.2, 4.1, 4.2, 3.9, 4.1, 4.2, 3.9, 4.0, 4.2, 4.5, 3.9, 3.6, 4.4, 3.5, 4.4, 4.8, 4.6, 4.7, 4.8, null, 2.7, 5.0, null, 4.8, 5.0, 4.8, null, 4.9, 3.0, null, null, 4.7, null, null, 1.0, null, null, null, null, null, null, null, 5.0, 4.7, null, 5.0, null, null, null, 5.0, null, null, null, null, 3.0, 4.1, null, null, null, null, null, null, null, 5.0, 3.7, 4.5, 4.2, null, null, null, 4.3, 4.1, 1.9, 4.1, 4.4, null, 3.9, 3.9, null, 4.0, 4.4, 4.7, 3.8, 4.4, 4.4, 3.6, 4.4, 2.7, 4.3, 4.6, 2.8, 3.5, null, 3.4, 4.8, 4.7, 4.8, 4.8, 4.7, 4.1, 3.5, 4.7, 3.8, 2.9, 4.5, 3.3, 4.1, null, 4.7, 4.6, 4.7, 4.6, 4.7, null, 4.5, 4.7, 4.8, 4.6, 4.6, 4.6, 4.2, 4.9, 3.8, 4.2, 4.4, 4.4, 4.3, 4.5, 4.4, 4.6, 3.9, 4.4, 4.3, 4.4, 4.2, 4.4, 4.0, 4.2, 3.8, 4.5, 4.7, 4.5, 4.3, 4.2, 4.3, 4.7, 4.7, 4.6, 4.6, 4.6, 4.5, 4.4, 4.6, 4.5, 4.5, 4.2, 4.4, 4.4, 4.2, 4.5, 4.1, 4.0, 4.1, 4.3, 4.3, 4.3, 4.5, 4.6, 4.1, 4.6, 4.7, 4.7, 4.3, 4.7, 4.6, 4.6, 4.6, 4.3, 4.2, 4.0, 4.5, 4.2, 4.1, 4.4, 4.0, 4.5, 4.4, 4.0, 4.2, 4.3, 4.2, 4.6, 4.6, 4.7, 4.6, 4.4, 4.5, 4.3, 4.6, 4.5, 4.2, 4.2, 4.7, 4.5, 4.6, 4.3, 4.2, 4.7, 4.7, 4.4, 4.5, 4.4, 4.0, 4.6, 4.4, 4.7, 4.7, 4.3, 4.1, 4.2, 4.3, 4.3, 4.3, 4.0, 4.2, 4.0, 4.0, 3.8, 4.6, 4.1, 3.9, 4.1, 4.5, 4.2, 4.4, 4.7, 4.0, 4.4, 4.4, 4.0, 4.5, 4.7, 4.3, 4.5, 4.3, 4.1, 4.3, 4.5, 4.2, 4.6, 3.5, 4.2, 4.4, 4.4, 4.6, 4.3, 4.5, 4.8, 4.4, 4.1, 4.9, 4.7, 4.7, 4.7, 4.4, 4.0, 4.2, 4.3, 4.5, 3.5, 4.2, 3.1, 4.6, 4.2, 4.3, 4.3, 4.1, 3.8, 3.4, 4.3, 4.4, 4.4, 4.0, 3.7, 3.9, 4.5, 4.4, 4.3, 4.2, 4.2, 4.5, 4.7, 4.5, 4.5, 3.4, 4.2, 4.3, 4.2, 4.6, 4.1, 4.2, 4.2, 4.3, 4.4, 3.9, 4.1, 4.3, 4.5, 4.6, 3.6, 4.3, 4.3, 4.2, 4.4, 4.1, 4.1, 4.2, 3.9, 4.2, 3.7, 4.5, 3.7, 3.8, 4.3, 3.0, 4.1, 4.2, 4.1, 3.9, 4.0, 4.4, 4.2, 4.0, 3.9, 4.0, 4.2, 4.0, 4.3, 3.9, 4.2, 4.4, 4.3, 3.7, 4.3, 3.7, 3.8, 4.2, 4.0, 3.9, 4.4, 4.5, 4.1, 4.1, 3.9, 4.5, 4.0, 4.1, 3.6, 3.8, 4.0, 4.2, 3.7, 3.8, 3.7, 4.1, 3.7, 3.9, 4.4, 4.3, 3.9, 3.7, 3.7, 4.2, 4.3, 4.0, 4.1, 3.9, 4.5, 3.9, 4.1, 4.3, 4.4, 4.1, 4.0, 3.9, 3.9, 4.0, 4.1, 4.2, 3.8, 4.0, 3.9, 4.2, 3.7, 3.9, 4.2, 4.3, 4.3, 4.6, 4.3, 4.6, 4.2, 4.6, 4.5, 4.6, 3.9, 4.2, 4.4, 4.2, 4.3, 4.6, 4.3, 4.5, 4.0, 4.0, 4.5, 4.5, 4.0, 4.0, 4.2, 4.4, 4.6, null, 4.6, 4.1, 4.6, 4.4, 4.6, 4.9, 4.5, 4.6, 4.7, 4.3, null, null, 4.2, 4.3, 5.0, 4.4, 5.0, 4.5, null, null, null, 4.5, 4.8, 4.4, 5.0, null, 3.7, null, 4.1, null, 4.8, null, null, 4.6, 4.4, 4.4, 3.6, 3.7, 3.8, 4.2, 4.2, 4.2, 3.3, 3.4, 4.3, 4.2, 4.7, 4.1, 4.7, 4.0, 3.6, 4.0, 3.6, 4.3, 4.2, 4.2, 4.1, 4.0, 4.1, 4.4, 4.7, 4.5, 4.3, 4.6, 4.3, 4.0, 4.5, 4.5, 3.6, 4.2, 4.1, 3.5, 4.4, 4.0, 4.5, 4.2, 4.6, 4.2, 4.8, 4.5, 4.2, 4.3, 4.2, 4.4, 4.4, 4.6, 4.2, 4.6, 4.6, 4.4, 4.3, 4.2, 4.2, 3.8, 4.5, 4.6, 4.6, 4.7, 4.6, 4.6, 4.7, 3.8, 4.3, 4.3, 4.5, 4.6, 4.6, 4.7, 4.5, 4.4, 3.9, 4.5, 4.6, 4.1, 4.5, 4.4, 4.5, 4.6, 4.2, 4.4, 4.1, 3.9, 4.6, 4.5, 3.7, 4.1, 4.4, 4.6, 4.5, 4.3, 4.3, 4.3, 4.4, 4.3, 4.4, 4.3, 4.4, 4.1, 4.4, 4.2, 4.3, 4.4, 4.3, 4.3, 3.9, 4.1, 4.1, 4.2, 4.5, 4.2, 4.7, 4.4, 4.6, 4.6, 4.4, 4.6, 4.3, 4.0, 4.4, 4.6, 4.2, 4.1, 3.6, null, 4.1, 4.6, null, 4.7, 4.7, 4.7, 4.7, 4.1, 3.4, 3.8, 3.7, 4.2, 3.1, 3.5, 4.7, 4.5, 4.2, 4.3, 4.0, 4.5, 4.6, 4.7, 4.1, 4.3, 3.8, 4.4, 4.3, 4.2, 4.3, 3.8, 4.3, 3.7, 4.5, 3.6, 4.8, 3.3, 4.7, 4.6, 4.6, 3.4, 4.6, 4.0, 4.1, 4.5, 4.4, 4.5, 4.0, 4.1, 4.5, 4.6, 4.1, 4.5, 4.6, 4.5, 4.3, 3.6, 4.4, 4.6, 4.1, 4.3, 3.9, 4.5, 4.1, 3.6, 4.7, 4.3, 4.7, 4.6, 4.4, 4.2, 4.5, 4.3, 4.2, 4.5, 4.5, 4.3, 4.0, 4.3, 4.8, 4.0, 4.9, 4.8, 4.9, 4.8, 4.4, 3.3, 4.7, 4.6, 4.8, 4.8, 4.8, 4.5, 4.4, 4.5, 4.5, 4.5, 4.8, 3.9, 4.6, 4.5, 4.5, 4.7, 4.7, 4.4, 4.2, 3.9, 4.2, 4.4, 4.6, 4.6, 4.2, 4.5, 4.7, 4.5, 4.5, 3.7, 4.5, 4.6, 4.6, 4.7, 4.5, 4.5, 4.6, 4.0, 4.3, 4.4, 4.5, 4.2, 4.6, 4.9, 4.5, 4.5, 4.6, 4.5, 4.6, 4.6, 4.5, 4.5, 4.4, 3.9, 4.5, 4.4, 4.6, 4.4, 4.5, 4.5, 4.6, 4.5, 4.4, 4.4, 4.4, 4.2, 4.5, 4.5, 4.4, 4.3, 4.6, 4.6, 4.9, 4.4, 4.3, 4.1, 4.6, 4.8, 4.5, 4.7, 4.6, 4.3, 4.4, 4.4, 4.6, 4.3, 4.6, 4.6, 4.5, 4.6, 4.6, 4.5, 4.1, 4.5, 4.6, 4.5, 4.8, 4.8, 4.6, 4.5, 4.1, 4.4, 4.2, 4.5, 4.3, 4.6, 4.0, 4.6, 4.5, 4.4, 4.5, 4.6, 4.4, 4.7, 4.4, 4.2, 4.5, 4.2, 4.4, 4.5, 4.6, 4.6, 4.6, 4.5, 4.5, 4.4, 4.4, 4.5, 4.5, 4.0, 4.6, 4.1, 4.0, 4.4, 4.4, 4.1, 3.5, 4.3, 4.5, 4.2, 4.6, 4.4, 4.5, 4.0, 4.5, 4.6, 4.4, 4.4, 4.1, 4.0, 4.1, 4.1, 4.2, 4.5, 3.5, 4.3, 4.2, 4.6, 4.4, 4.5, 4.4, 3.7, 4.3, 4.5, 4.6, 4.7, 4.6, 4.6, 4.0, 4.4, 4.4, 4.8, 4.6, 4.2, 4.6, 4.1, 4.4, 4.5, 4.3, 4.7, 4.6, 4.4, 4.5, 4.8, 4.2, 4.5, 4.1, 4.1, 4.0, 4.3, 4.5, null, 4.6, 3.7, 3.7, 4.2, 4.5, 4.3, 3.9, 4.6, 4.3, 4.4, 4.6, 4.5, 3.8, null, 4.4, 4.7, 3.4, 4.3, 4.3, 4.0, 4.0, 3.8, null, 4.3, 3.6, 3.8, 4.5, 4.6, null, 4.5, 4.7, 4.3, 3.7, null, 4.2, 3.4, 3.9, 4.0, 4.0, 4.0, 4.6, 4.0, 4.1, 3.9, 4.4, 4.4, 4.3, 4.6, 4.5, 4.5, 4.5, 4.5, 4.3, 4.2, 4.4, 4.3, 4.6, 4.1, 3.9, 4.4, 4.6, null, 4.1, null, null, 3.8, 4.6, 3.5, 4.7, 4.3, 4.5, 4.4, 3.4, 4.3, null, 4.3, 4.6, 4.6, null, 4.2, null, null, 4.6, null, null, 4.4, 3.9, 4.5, 3.8, 4.3, 3.7, 5.0, 3.2, 4.5, 4.7, 4.0, null, 4.1, 3.8, 4.7, 4.5, null, 4.2, null, 4.1, 3.1, 4.1, 4.1, 4.3, 4.0, 4.6, 4.4, 4.4, 4.3, 4.6, 3.2, 4.5, 4.6, 4.6, 4.3, 3.0, 4.4, 4.4, 4.3, 3.5, 4.3, 4.5, 3.7, 4.5, 4.2, 4.3, 4.6, 4.5, 3.9, 4.3, 3.3, 4.7, 4.2, 3.2, 4.4, 3.5, 3.7, 3.8, 3.8, 3.7, 4.6, 4.0, 3.6, 3.8, 4.1, 4.7, 3.9, 4.1, 4.6, 4.2, 3.6, 4.6, 4.2, 4.4, 4.6, 4.7, 4.1, 3.9, 4.0, 4.1, 4.6, 4.1, 4.1, 4.1, 4.4, 3.8, 4.3, 4.1, 4.1, 4.1, 4.4, 3.8, 4.3, 4.4, 4.2, 4.4, 4.3, 4.1, 4.0, 4.2, 4.1, 3.9, 4.4, 4.6, 4.5, 4.5, 4.8, 4.4, 4.5, 4.5, 4.6, 4.5, 4.5, 4.5, 4.4, 4.7, 4.5, 4.2, 4.4, 4.6, 4.3, 4.3, 4.2, 4.6, 4.4, 4.4, 4.5, 4.4, 4.3, 4.6, 4.3, 4.2, 4.2, 4.5, 4.5, 4.5, 4.7, 4.7, 4.5, 4.4, 4.3, 3.8, 4.6, 4.6, 4.4, 4.3, 4.1, 4.3, 4.4, 4.6, 4.3, 4.4, 4.7, 4.5, 4.4, 4.6, 4.5, 4.4, 4.6, 4.5, 4.5, 4.3, 4.5, 4.6, 4.4, 4.4, 4.5, 4.7, 4.6, 4.5, 4.5, 4.7, 4.5, 4.8, 4.7, 4.4, 4.6, 4.5, 4.6, 4.7, 4.6, 4.5, 4.6, 4.5, 4.6, 4.4, 4.7, 4.3, 4.3, 4.4, 4.3, 4.5, 4.4, 4.5, 4.4, 4.5, 4.6, 4.7, 4.6, 4.4, 4.4, 4.5, 4.6, 4.3, 4.5, 4.5, 4.4, 4.5, 4.2, 4.5, 4.4, 4.7, 4.2, 4.5, 4.5, 4.6, 4.4, 4.5, 4.3, 4.3, 4.5, 4.7, 4.7, 4.1, 4.8, 4.4, 4.2, 4.4, 4.7, 4.3, 4.7, 4.2, 4.3, 4.4, 4.1, 4.1, 4.2, 4.5, 4.7, 4.6, 4.5, 3.1, 4.1, 3.4, 4.4, 4.3, 4.6, 4.4, 4.3, 4.6, 4.2, 4.2, 4.5, 4.4, 4.2, 4.5, 4.8, 4.4, 4.6, 4.5, 4.3, 4.6, 4.4, 4.4, 4.5, 4.6, 4.6, 4.6, 4.1, 4.5, 4.6, 4.4, 4.7, 4.6, 4.3, 4.5, 4.6, 4.2, 4.5, 4.8, 4.1, 4.3, 4.4, 4.0, 4.2, 4.0, 4.2, 4.5, 4.7, 4.2, 4.4, 4.6, 4.9, 4.4, 4.5, 4.6, 4.2, 4.5, 4.6, 4.6, 4.5, 4.4, 4.6, 4.5, 4.6, 4.4, 4.4, 4.3, 4.3, 4.6, 4.3, 4.3, 4.6, 4.5, 4.5, 4.2, 4.7, 4.3, 4.0, 4.4, 4.3, 4.6, 4.7, 4.4, 4.7, 4.4, 4.3, 4.2, 4.4, 4.5, 4.5, 4.5, 4.4, 4.3, 4.5, 4.7, 4.7, 4.6, 4.6, 4.4, 4.4, 4.7, 4.6, 4.5, 4.3, 4.3, 4.3, 4.6, 4.8, 4.5, 4.4, 4.5, 4.5, 4.6, 4.6, 4.6, 4.6, 4.7, 4.5, 4.5, 4.5, 4.6, 4.5, 4.4, 4.4, 4.6, 4.7, 4.5, 4.4, 4.6, 4.7, 4.6, 4.5, 4.4, 4.5, 4.3, 4.5, 4.2, 4.5, 4.3, 4.4, 4.7, 4.6, 4.7, 4.6, 4.4, 4.6, 4.5, 4.3, 4.5, 4.5, 4.6, 4.6, 4.3, 4.6, 4.5, 4.7, 4.5, 4.7, 4.7, 4.6, 4.4, 4.3, 4.5, 4.3, 4.4, 4.2, 4.3, 4.5, 4.4, 4.7, 4.2, 4.1, 4.5, 4.5, 4.5, 4.1, 4.3, 4.5, 4.4, 4.5, 4.6, 4.0, 4.3, 4.5, 4.4, 4.4, 4.6, 4.2, 4.5, 4.6, 4.5, 4.7, 4.5, 4.5, 4.5, 4.4, 4.6, 4.3, 4.4, 4.3, 4.7, 4.7, 4.4, 4.3, 4.4, 4.5, 4.5, 4.4, 4.4, 4.6, 4.6, 4.4, 4.6, 4.2, 4.4, 4.6, 4.6, 4.7, 4.5, 4.2, 4.6, 4.7, 4.6, 4.3, 4.6, 4.4, 4.4, 4.5, 4.2, 4.4, 4.3, 4.7, 4.5, 4.4, 4.5, 4.4, 4.4, 4.5, 4.6, 4.5, 4.3, 4.7, 4.4, 4.5, 4.2, 4.5, 4.5, 4.7, 4.4, 4.3, 4.6, 3.9, 4.2, 4.5, 4.3, 4.5, 4.4, 4.4, 4.8, 4.4, 4.4, 4.3, 4.6, 4.1, 4.5, 4.5, 4.5, 4.0, 4.5, 4.6, 4.5, 4.5, 4.5, 4.4, 4.7, 4.5, 4.5, 4.2, 4.3, 4.5, 4.2, 4.3, 4.4, 4.6, 4.6, 4.5, 4.2, 4.5, 4.6, 4.6, 4.1, 4.5, 4.6, 4.6, 4.5, 4.3, 3.8, 4.5, 4.1, 4.8, 3.9, 4.5, 4.4, 4.3, 4.2, 3.0, 4.5, 4.4, 4.5, 4.7, 4.1, 4.5, 4.5, 4.5, 4.6, 4.3, 4.3, 4.5, 4.2, 4.2, 4.4, 4.5, 4.1, 4.2, 4.1, 4.7, 4.3, 4.4, 4.4, null, 4.3, 4.4, 4.3, 4.3, 4.2, 4.2, 4.3, 4.3, 4.1, 4.2, 4.5, 4.3, 4.3, 4.5, 4.1, 4.5, 4.2, 4.4, 4.0, 4.1, 4.3, 4.3, 4.4, 4.3, 4.1, 4.0, 4.3, 4.6, 4.3, 4.7, 4.3, 4.4, 4.2, 4.7, 3.9, 4.1, 4.1, 4.1, 4.2, 4.7, 4.4, 4.3, 4.5, 4.3, 4.3, 4.1, 4.1, 4.1, 4.6, 4.1, 4.4, 4.4, 4.3, 4.0, 4.8, 3.8, 4.7, 4.5, 4.8, 4.4, 4.8, 4.2, 4.2, 4.0, 4.7, 4.7, 3.9, 4.5, 4.1, 4.4, 3.9, 4.4, 4.4, 3.6, 4.4, 4.1, 3.6, 4.6, 4.3, 4.5, 4.4, 4.1, 4.4, 3.9, 4.4, 4.4, 3.6, 4.4, 4.1, 3.6, 4.6, 4.3, 4.5, 4.4, 4.5, 4.1, 4.5, 4.1, 3.9, 4.2, 4.1, 3.9, 4.1, 4.2, 4.7, 3.8, 4.3, 4.3, 4.3, 3.9, 4.3, 4.0, 4.0, 4.3, 4.2, 4.1, 4.0, 4.4, 4.3, 4.3, 4.4, 4.2, 4.1, 4.3, 4.2, 4.6, 4.1, 4.5, 4.4, 4.5, 4.3, 4.2, 4.4, 4.6, 4.5, 4.8, 4.5, 3.2, 4.6, 4.5, 4.1, 4.6, 4.5, 4.4, 4.4, 4.4, 3.8, 4.6, 2.5, 4.0, 5.0, 4.3, 3.4, null, 3.4, 4.3, 4.4, 4.4, 4.2, 5.0, 4.1, 3.9, 4.6, 4.2, 4.4, 4.2, 3.6, 4.5, null, 4.7, 4.6, 4.5, 4.2, 4.2, 4.3, 4.4, 4.1, 4.4, 4.6, 4.4, 4.2, 4.5, null, 2.6, 4.6, 4.8, 4.2, 4.7, 3.0, 3.5, 4.6, 4.8, 4.2, 4.6, 4.4, 4.8, 4.0, 3.7, 4.2, 4.8, 4.7, 3.5, 3.9, 4.2, 4.8, 2.7, 4.2, 4.7, 4.6, 4.5, 4.7, 4.7, 4.5, 4.7, 4.0, 3.4, 3.5, 3.0, 4.7, 4.6, 4.2, 4.8, 4.5, 4.2, 3.8, 3.0, 4.4, 4.5, 4.0, 3.6, 4.4, 4.7, 4.9, 3.6, 4.5, 4.1, 4.6, 4.7, 4.7, 2.8, 4.3, 4.6, 4.3, 3.4, null, 4.0, 4.8, 4.2, 3.0, 4.5, 3.7, 4.5, 4.5, 4.6, 4.2, 4.6, 3.6, 4.4, 4.4, 4.5, 4.5, 4.1, 4.6, 4.3, 4.3, 4.7, 4.5, 4.5, 4.5, 4.2, 4.4, 3.9, 4.2, 4.4, 4.1, 3.4, 4.1, 4.0, null, 4.1, 3.5, 4.2, 4.0, 4.5, 4.3, 4.3, 4.8, 4.6, 4.1, 4.6, 3.5, 2.3, 4.5, 4.3, 4.2, 4.2, 3.1, 4.4, 4.4, 2.9, 3.1, 3.7, 4.0, 3.8, 4.6, 4.4, 3.8, null, 4.8, 4.3, null, null, null, null, 3.7, 5.0, 3.0, 3.7, null, null, null, null, null, null, null, null, null, null, null, null, null, null, 3.7, 5.0, null, null, 5.0, null, 5.0, null, 5.0, null, 5.0, 5.0, null, 5.0, 5.0, 5.0, null, null, null, 4.3, 4.9, null, null, null, null, null, null, null, 5.0, null, null, 4.9, 4.6, 5.0, null, null, null, null, 4.0, null, 5.0, null, 4.0, 2.6, 4.7, 4.8, 4.3, 4.7, 2.5, 4.6, 4.5, 4.1, 4.5, 4.3, null, 3.8, 4.4, null, null, null, 4.5, 4.5, 3.8, 4.5, 4.0, 4.5, 3.7, 4.3, 3.7, null, 4.4, 3.8, null, 2.7, 5.0, 4.3, 3.8, 3.0, 5.0, 3.6, 4.0, 4.3, 4.7, 5.0, 4.7, null, 4.6, 3.1, 4.4, 5.0, 3.6, 2.8, 4.4, 4.2, 4.6, 4.2, null, 3.8, 3.5, 4.7, 4.1, 4.5, 4.3, 4.4, 4.4, 4.2, 4.0, 4.3, 4.6, 4.4, 4.2, 4.4, 4.4, 4.3, 4.6, 4.4, 4.5, 4.6, 4.6, 4.6, 4.4, 4.5, 4.5, 4.3, 4.4, 4.6, 4.3, 4.8, 4.2, 4.6, 4.0, 4.6, 4.3, 3.6, 4.0, 4.5, 4.4, 4.5, 4.2, 4.5, 4.3, 4.2, 4.2, 4.4, 4.3, 4.3, 4.1, 4.5, 4.3, 4.2, 4.1, 4.3, 4.2, 4.1, 4.1, 4.4, 3.7, 3.9, 3.7, 4.0, 4.5, 3.6, 4.1, 4.1, 4.0, 4.1, 4.0, 4.5, 4.6, 4.3, 4.3, 4.2, 4.5, 4.2, 4.3, 4.1, 3.8, 4.2, 4.4, 4.3, 4.2, 4.1, 4.0, 4.3, 4.3, 4.2, 4.2, 4.0, 4.4, 4.0, 4.2, 4.2, 4.4, 4.1, 4.1, 4.3, 4.0, 4.2, 4.2, 4.2, 4.1, 4.0, 4.3, 4.3, 4.4, 4.4, 4.2, 4.2, 4.0, 4.2, 4.0, 4.5, 4.6, 4.3, 4.2, 4.3, 4.6, 4.4, 4.4, 4.5, 4.3, 4.2, 4.2, 4.4, 4.6, 4.2, 3.6, 4.5, 4.4, 3.8, 4.7, 3.6, 4.2, 3.6, 4.3, 4.4, 4.5, 4.1, 4.3, 4.3, 4.7, 4.3, 4.2, 4.2, 4.3, 4.2, 4.3, 4.6, 4.4, 4.3, 3.8, 4.6, 4.5, 4.1, 4.4, 4.3, 3.8, 4.0, 3.3, 4.1, 4.1, 4.2, 4.1, 4.4, 4.1, 4.2, 4.5, 4.3, 4.5, 4.1, 4.5, 4.4, 4.6, 4.5, 4.6, 4.7, 4.3, 4.4, 4.4, 4.2, 4.1, 4.1, 4.5, 4.7, 4.1, 4.2, 4.5, 4.4, 4.6, 4.2, 4.6, 4.3, 4.1, 4.1, 4.4, 4.1, 4.6, 4.2, 4.2, 4.1, 4.2, 4.3, 4.2, 4.5, 4.7, 4.5, 4.3, 4.0, 4.4, 4.4, 4.0, 4.5, 4.6, 4.1, 4.5, 3.9, 4.5, 4.2, 4.3, 4.3, 4.4, 4.5, 4.6, 4.4, 4.3, 4.3, 4.1, 4.7, 4.4, 4.2, 4.4, 4.2, 4.2, 4.1, 4.0, 4.1, 4.5, 4.6, 4.3, 4.6, 4.4, 4.0, 4.5, 4.1, 4.4, 4.0, 4.6, 4.5, 4.4, 4.5, 4.1, 4.3, 4.5, 4.2, 3.8, 4.5, 4.7, 4.1, 4.6, 4.8, 4.0, 4.7, 4.7, 4.1, 4.5, 3.6, 4.5, 4.7, 4.7, 4.5, 4.2, 4.5, 4.4, 4.5, 4.5, 4.4, 3.7, 4.3, 4.5, 4.4, 3.3, 4.3, 4.4, 4.5, 4.4, 4.2, 4.5, 4.7, 4.5, 4.6, 4.6, 4.4, 4.3, 4.3, 4.6, 4.4, 4.5, 4.5, 4.2, 4.0, 4.4, 4.7, 4.3, 4.6, 4.4, 4.5, 4.3, 4.3, 4.4, 4.5, 4.4, 4.6, 4.3, 4.6, 4.3, 4.4, 4.2, 4.3, 4.4, 3.9, 4.3, 4.4, 4.2, 4.5, 4.3, 4.3, 4.3, 4.1, 4.4, 4.3, 4.0, 4.0, 4.0, 4.4, 4.3, 4.1, 4.2, 3.9, 4.4, 4.4, 4.5, 4.4, 4.6, 4.3, 4.6, 4.1, 4.0, 4.3, 4.2, 4.0, 4.1, 4.1, 4.0, 4.3, 4.3, 4.2, 4.5, 4.0, 4.4, 4.1, 4.4, 4.3, 4.3, 4.2, 4.3, 4.4, 4.4, 4.3, 4.4, 3.8, 4.4, 4.4, 4.3, 4.6, 4.0, 4.1, 4.2, 4.3, 4.6, 4.6, 4.3, 4.2, 4.1, 4.2, 4.6, 4.6, 4.4, 4.7, 4.4, 4.1, 4.3, 4.4, 4.2, 4.4, 4.5, 4.2, 3.8, 4.3, 4.4, 4.6, 4.4, 4.5, 4.2, 4.5, 4.5, 4.3, 4.4, 4.2, 4.1, 4.3, 4.0, 4.6, 4.3, 4.4, 4.5, 4.2, 4.3, 4.4, 4.2, 4.1, 4.4, 4.7, 4.6, 4.2, 4.3, 4.3, 4.5, 4.6, 4.5, 4.4, 4.7, 4.2, 4.3, 4.2, 3.9, 3.9, 4.2, 4.3, 4.6, 4.3, 4.0, 4.0, 4.0, 4.6, 4.3, 4.2, 4.3, 4.4, 4.0, 4.6, 4.7, 4.3, 4.0, 4.5, 4.7, 4.4, 4.8, 3.3, 4.3, 3.9, 4.4, 3.9, 4.4, 4.3, 4.4, 4.2, 4.2, 4.1, 4.4, 4.0, 4.4, 4.3, 4.1, 4.0, 4.2, 4.2, 4.3, 3.1, 4.1, 2.9, 4.0, 4.5, 4.3, 4.1, 4.3, 4.5, 4.6, 4.4, 4.2, 4.3, 3.4, 4.6, 4.2, 4.4, 4.0, 4.1, 4.0, 4.6, 4.2, 4.5, 4.4, 4.0, 3.5, 4.0, 4.2, 4.0, 4.4, 4.8, 4.1, 4.6, 4.3, 4.4, 4.3, 4.6, 4.5, 4.3, 4.2, 4.4, 4.2, 4.4, 4.3, 4.5, 4.5, 4.1, 4.0, 4.7, 4.6, 4.2, 4.2, 4.1, 4.1, 3.5, 4.5, 3.9, 4.6, 4.0, 4.4, 4.2, 4.2, 4.6, 4.5, 4.4, 4.5, 4.4, 4.3, 4.2, 4.3, 4.5, 4.0, 4.2, 4.1, 3.9, 4.2, 4.0, 3.5, 4.0, 4.0, 4.5, 4.1, 4.2, 4.4, 4.4, 4.1, 4.3, 4.5, 4.5, 4.4, 4.5, 4.7, 4.4, 4.1, 4.4, 4.4, 4.3, 4.2, 4.0, 4.7, 4.3, 4.6, 3.9, 3.6, 4.0, 4.1, 4.2, 3.9, 4.1, 4.3, 3.1, 3.7, 3.4, 4.4, 3.6, 4.4, 3.3, 3.7, 3.0, 3.6, 4.8, 3.9, 3.8, 4.3, 4.5, 3.4, 3.7, 4.5, 4.4, 4.1, 4.5, 4.0, 3.9, 4.4, 4.8, 4.7, 4.3, 3.7, 4.2, 3.5, 4.3, 4.7, 4.3, 4.1, 3.1, 4.3, 4.1, 4.2, 4.3, 4.4, 4.3, 4.3, 4.4, 3.5, 4.1, 4.6, 4.4, 4.2, 3.9, 4.2, 4.4, 4.4, 4.4, 4.4, 3.7, 4.4, 4.5, 3.7, 4.4, 3.7, 4.4, 4.5, 3.6, 4.4, 4.0, 4.1, 4.4, 4.4, 4.3, 4.4, 4.2, 4.2, 4.1, 4.3, 4.5, 4.4, 4.5, 4.3, 4.2, 4.5, 4.7, 4.4, 4.4, 4.4, 4.4, 4.1, 4.6, 4.4, 4.1, 4.5, 4.5, 4.4, 4.3, 4.5, 4.2, 4.2, 4.2, 4.5, 4.7, 4.0, 4.2, 4.2, 4.1, 4.4, 4.4, 4.2, 4.2, 4.1, 4.5, 4.6, 4.1, 4.3, 4.2, 4.1, 4.0, 4.6, 3.1, 4.6, 4.5, 3.2, 4.3, null, 4.6, 4.4, 4.6, 4.5, 4.6, null, 4.4, 4.2, 4.4, 3.1, 3.6, 4.1, 4.2, 3.5, 3.9, 3.0, 3.9, 4.5, 3.4, 4.4, 3.4, 4.3, 3.7, 3.5, 3.8, 3.6, 3.1, 3.8, 4.2, 4.0, 4.3, 4.3, 4.5, 4.5, 4.5, 4.4, 4.4, 4.3, 4.2, 4.7, 4.4, 4.3, 4.4, 4.3, 4.5, 4.7, 4.5, 4.6, 4.7, 4.6, 4.8, 3.9, 4.5, 4.6, 4.5, 4.4, 4.5, 4.0, 4.3, 4.0, 4.4, 4.1, 4.3, 4.1, 4.3, 4.2, 4.2, 4.2, 4.2, 4.3, 4.5, 4.4, 4.5, 4.2, 4.1, 4.4, 4.5, 4.3, 4.4, 4.1, 4.4, 4.2, 4.1, 4.6, 4.5, 4.3, 4.1, 4.1, 4.2, 4.1, 4.6, 4.5, 4.0, 3.5, 4.4, 4.4, 4.4, 4.1, 4.2, 4.6, 4.4, 4.6, 4.6, 4.5, 4.7, 4.4, 4.5, 4.6, 4.6, 4.0, 4.6, 4.5, 4.7, 4.7, 4.4, 4.3, 4.7, 4.1, 4.7, 4.4, 4.6, 4.5, 4.4, 4.4, 4.3, 4.3, 4.6, 4.7, 4.3, 4.5, 4.6, 4.4, 4.5, 4.7, 4.3, 3.7, 4.7, 4.5, 4.4, 4.3, 4.8, 4.6, 4.1, 4.7, 4.1, 4.6, 4.2, 4.3, 4.2, 4.0, 4.2, 3.9, 4.3, 4.1, 4.2, 4.4, 4.3, 4.3, 4.4, 4.3, 4.1, 4.2, 4.1, 4.1, 4.2, 4.1, 4.4, 4.1, 4.3, 4.6, 4.1, 4.6, 4.6, 4.2, 4.1, 4.2, 4.5, 4.3, 4.2, 4.0, 4.2, 4.2, 4.6, 4.3, 4.4, 4.4, 4.4, 4.3, 4.3, 4.6, 4.5, 4.1, 4.3, 4.4, 4.2, 4.2, 4.1, 4.5, 4.7, 4.3, 4.4, 4.4, 3.8, 4.4, 4.3, 4.2, 4.5, 3.2, 4.5, 4.2, 4.4, 4.7, 4.4, 4.0, 4.4, 4.0, 4.6, 4.5, 4.2, 4.0, 4.4, 4.5, 3.9, 4.2, 4.3, 4.2, 4.2, 4.4, 4.7, 4.6, 3.1, 4.4, 4.1, 4.5, 4.6, 4.3, 3.9, 4.5, 4.3, 3.7, 4.5, 4.4, 4.0, 4.0, 4.4, 4.7, 4.6, 4.2, 4.5, 4.6, 4.0, 4.5, 4.4, 4.3, 4.4, 4.5, 4.5, 4.6, 4.4, 4.6, 4.3, 4.6, 4.5, 4.3, 4.1, 4.2, 4.2, 4.6, 4.2, 4.5, 4.4, 4.3, 4.2, 4.3, 4.5, 4.3, 4.3, 4.5, 4.5, 4.4, 4.2, 4.2, 4.6, 4.4, 4.3, 4.6, 4.2, 4.2, 4.2, 4.0, 4.3, 4.6, 4.4, 4.6, 4.6, 4.5, 4.5, 4.4, 4.3, 4.0, 4.2, 4.2, 4.5, 4.0, 4.2, 4.4, 4.6, 4.3, 4.6, 4.2, 4.4, 4.6, 4.4, 4.6, 4.4, 4.1, 4.4, 4.4, 4.1, 4.3, 4.1, 4.1, 4.5, 3.9, null, 3.8, null, null, 4.6, 4.7, null, 4.0, null, 4.7, 4.1, 3.7, null, 4.1, 3.7, 4.6, 4.4, 4.6, 4.1, 4.4, 4.7, 4.4, null, 4.8, 4.0, 4.9, null, 4.8, 4.4, 4.7, 4.2, 4.6, 4.6, 4.5, 4.6, 4.1, 3.8, 4.8, 4.8, null, 4.5, 4.0, 4.4, 4.7, null, 3.9, 4.4, 4.4, 4.5, 4.4, 4.8, 4.4, 4.8, 4.5, 4.7, 4.5, 3.5, 4.4, 4.3, 4.4, 4.2, 4.6, 4.4, 4.4, 3.9, 4.3, 4.5, 4.2, 3.7, 4.2, 3.9, 3.6, 4.5, 4.3, 4.3, 4.2, 4.6, 4.5, 4.5, 4.2, 3.9, 4.8, 3.8, 4.5, 4.5, 4.2, 4.0, 4.2, 4.3, 4.3, 4.2, 4.3, 3.6, 3.9, 4.8, 3.9, 3.7, 4.6, 4.4, 4.4, 4.2, 4.1, 3.8, 4.4, 4.5, 4.6, 4.7, 4.3, 4.5, 4.3, 3.7, 3.9, 3.6, 4.5, 4.4, 3.8, 4.6, 4.2, 4.3, 3.8, 4.4, 3.1, 4.6, 4.1, 4.5, 4.0, 4.5, 4.3, null, 3.7, 3.9, 3.5, 3.3, 4.3, 4.5, 4.1, 4.4, 4.4, 4.5, 4.4, 4.3, 4.5, 4.3, 4.6, 4.1, 4.2, 3.5, 4.0, 3.8, 4.3, 4.3, 4.1, 4.3, 4.5, 4.4, 4.0, 4.1, 4.6, 4.3, 3.9, 4.5, 4.7, 4.3, 4.5, 3.1, 4.7, 3.8, 4.0, 4.2, 4.0, 4.2, 3.4, 4.6, 4.5, 4.0, 4.4, 4.2, 4.1, 4.4, 4.0, 3.7, 4.6, 4.5, 4.6, 4.5, 3.9, 4.3, 4.4, 3.9, 4.3, 4.4, 4.4, 3.6, 4.5, 3.6, 4.1, 4.4, 4.1, 4.2, 4.7, 3.9, 3.9, 4.4, 4.3, 4.6, 4.0, 4.3, 4.2, 4.5, 4.3, 4.0, 4.1, 4.6, 4.1, 4.5, 4.0, 4.2, 4.3, 4.2, 4.3, 4.2, 4.0, 4.2, 4.3, 4.0, 4.5, 4.3, 4.3, 3.9, 4.0, 4.1, 4.1, 4.1, 4.0, 4.0, 4.5, 4.1, 3.9, 4.2, 3.9, 4.5, 4.3, 4.4, 4.6, 4.2, 4.1, 4.4, 4.4, 4.2, 4.5, 4.2, 4.4, 4.4, 4.0, 4.3, 4.4, 4.2, 4.3, 4.1, 4.4, 4.3, 4.4, 4.2, 4.7, 4.3, 4.5, 3.7, 4.3, 4.2, 4.1, 4.5, 4.8, 4.3, 4.7, 4.3, 4.2, 3.7, 4.6, 4.5, 4.3, 4.5, 4.2, 4.2, 4.3, 4.3, 4.4, 3.7, 4.4, 4.4, 4.2, 3.5, 4.2, 4.2, 4.0, 4.5, 4.2, 3.9, 4.3, 3.7, 4.3, 4.3, 4.6, 4.3, 4.2, 4.6, 3.9, 4.4, 4.6, 4.1, 4.8, 4.3, 4.5, 4.4, 4.4, 3.3, 4.2, 3.8, 4.5, 4.3, 4.5, 3.7, 4.5, 4.1, 4.4, 3.7, 4.1, 4.8, 4.4, 4.3, 4.1, 4.4, 4.1, 4.5, 4.5, 4.5, 4.5, 4.2, 4.4, 4.5, 4.3, 3.8, 4.5, 3.7, 4.5, 4.5, 4.3, 4.6, 4.3, 4.4, 4.3, 4.3, 4.3, 4.3, 4.3, 4.4, 4.2, 4.9, 4.5, 4.6, 4.6, 4.6, 3.4, 3.8, 4.4, 4.7, 4.6, 4.1, 3.8, 4.4, 4.4, 3.9, 4.1, 4.5, 3.7, 4.4, 4.5, 4.5, 3.8, 3.1, 4.5, 5.0, 4.4, null, 4.3, 2.9, 3.1, 3.3, 4.1, 4.6, 4.4, 4.5, 4.3, 4.3, 4.5, 4.5, 2.2, 4.5, 4.2, 4.5, 4.6, 3.9, 4.1, 3.3, 4.5, 4.1, 4.8, 4.1, 4.5, null, 4.6, 4.6, 4.3, 4.1, 4.5, 4.3, 4.4, 4.7, 4.4, 4.4, 4.3, 4.2, 4.2, 4.6, 4.5, 4.6, 4.7, 4.8, 4.7, 4.7, 1.7, 4.5, 4.0, 3.6, 2.0, 4.7, 4.1, 4.3, 4.3, 4.5, 4.4, 4.4, 4.6, 3.7, 4.5, 4.0, 4.8, 4.0, 4.7, 4.8, 4.6, 4.3, 4.2, 4.8, 4.2, 4.6, 4.2, 4.5, 4.6, 4.5, 4.5, 4.3, 4.8, 4.6, 4.5, 4.3, 4.2, 4.4, 4.5, 4.2, 4.6, 4.6, 4.4, 4.5, 4.5, 4.6, 4.5, 4.4, 4.1, 4.4, 4.6, 4.6, 4.5, 4.5, 4.3, 4.3, 3.3, 3.7, 4.5, 4.4, 3.1, 4.0, 4.4, 4.2, 3.9, 4.4, 4.6, 4.8, 4.4, 3.9, 4.5, 3.6, 3.4, 4.7, 4.4, 4.4, 4.5, 4.2, 4.6, 4.3, 4.3, 4.3, 4.6, 4.4, 4.5, 4.5, 4.0, 4.3, 4.5, 4.1, 4.3, 4.0, 4.3, 4.6, 4.2, 4.4, 4.5, 4.3, 4.0, 4.3, 4.4, 4.6, 4.4, 4.3, 4.2, 4.3, 4.3, 4.6, 3.6, 4.3, 4.2, 4.2, 4.4, 4.3, 4.9, 4.5, 4.2, 4.3, 4.2, 3.8, 4.2, 1.0, 4.4, 4.0, null, 4.4, 4.4, 4.5, null, 3.4, 3.8, null, 3.7, null, 4.1, 4.6, 4.4, 4.2, 4.2, 4.4, 4.5, 4.2, 4.5, 4.3, 4.4, 4.2, 3.6, 4.0, 4.4, 4.6, 4.5, 4.4, 4.2, 4.3, 4.6, 1.8, 3.8, 4.4, 3.0, 3.4, 4.6, 3.7, 3.0, 4.6, 4.4, 3.1, 4.3, 4.3, 3.8, 4.5, 3.6, null, 4.2, 4.5, 4.2, 3.3, 4.2, 4.3, 4.2, 3.7, 3.8, 2.9, 4.5, 4.3, 4.9, 4.4, 4.4, 4.4, 2.9, 4.2, 4.0, 4.3, 4.3, 3.9, 4.3, null, 4.0, 4.6, 3.7, 4.0, 4.6, 4.4, 4.5, 3.0, 3.1, 4.3, 4.5, 4.5, 4.5, 4.1, 4.6, 4.2, null, 3.9, 3.9, 3.9, 4.3, 4.2, 4.2, 3.7, 2.8, 4.4, 4.1, 4.4, 2.7, 4.7, 4.2, 4.2, 4.1, 4.5, 4.4, 4.0, 4.2, 4.1, 4.0, 4.4, 4.7, 4.3, 4.7, 4.4, 4.0, 4.3, 4.2, 4.4, 4.6, 3.3, 4.5, 2.3, 4.2, 4.1, null, 4.4, 3.2, 3.5, 4.6, 4.3, 4.1, 4.1, 4.1, null, 4.7, 3.5, 3.9, null, null, 4.1, 4.7, null, 4.6, 4.5, 4.7, 4.9, null, 4.3, 4.1, 4.4, 4.2, 4.1, 4.6, 4.3, 4.4, 4.4, 4.5, 4.6, 4.8, 4.3, 4.8, 4.8, 3.7, 4.1, 3.7, 4.2, 4.5, 4.6, 4.5, 4.7, 4.3, null, 4.9, 4.4, 4.6, null, null, 4.0, 4.8, 4.3, 4.4, 4.2, 4.6, null, 4.8, 4.0, 4.3, 4.7, 4.5, 4.6, 4.5, 4.3, 4.0, 4.2, 4.0, 4.5, 4.0, 4.1, 4.6, 3.1, 4.9, 4.5, 4.0, 4.0, 3.6, 4.5, 4.2, 4.3, 3.9, 4.3, 4.3, 4.4, 4.3, 4.4, 4.3, 4.5, 4.4, 3.5, 4.4, 4.4, 4.5, 4.4, 4.4, 4.0, 3.9, 3.9, 4.3, 4.9, 3.7, 3.3, 3.8, 3.5, 4.2, 4.5, 3.5, 3.6, 4.6, 3.9, 4.2, 4.2, 4.0, 3.2, 4.6, 2.4, 4.5, 4.1, 4.2, 3.7, 4.3, 4.2, 4.1, 3.9, 3.8, 4.4, 3.4, 4.0, 4.4, 3.3, 4.8, 4.5, 3.4, 4.3, 4.3, 4.1, 4.0, 4.4, 3.8, 4.4, 3.8, 4.2, 3.8, 4.8, 4.7, 4.3, 3.5, 3.9, 4.2, 4.6, 4.7, 4.5, 3.8, 4.5, 3.7, 3.5, 4.1, 3.9, 4.1, 4.6, 4.4, 4.5, 4.4, 4.6, 4.0, 4.4, 4.4, 4.4, 4.0, 3.8, 3.9, null, 3.7, 4.2, 4.1, 4.3, 4.3, 4.1, 4.4, 3.8, 4.3, 4.4, 3.8, 4.5, 3.8, 3.9, 4.0, 4.3, 4.5, 4.4, 4.6, null, 5.0, 4.4, 4.4, 4.2, 4.0, null, 4.2, null, 4.6, 4.1, null, 3.9, 4.6, null, 4.4, 3.9, 4.6, 4.5, 3.0, null, 3.6, 4.4, 4.6, null, 4.3, 5.0, 4.5, 4.1, 4.1, 4.5, null, 4.8, 4.5, null, 4.0, 4.8, 3.7, null, 4.5, 4.7, 2.7, 2.9, 4.2, 4.4, 4.2, 3.4, 2.6, 4.1, 4.3, 4.5, 4.2, 4.4, null, 4.0, 4.4, 4.1, 4.8, 2.2, 3.8, 3.1, 3.1, 3.8, 3.8, 4.3, 3.6, 4.0, 4.4, 4.6, null, 4.5, 1.8, 4.7, 3.9, 4.4, 3.6, 4.5, 4.4, 3.9, 3.9, 3.8, null, 4.2, 4.1, 4.4, 4.4, null, null, 5.0, 4.1, 4.5, 4.3, null, 3.9, 3.5, null, 3.2, null, null, null, null, 3.3, 4.8, 4.5, 3.7, 4.8, 4.7, 4.3, 3.8, 4.1, 4.7, null, 4.2, null, null, 4.6, 4.2, 4.6, 4.6, 4.2, 4.1, 3.5, 4.1, 4.4, 4.5, 4.1, 4.5, 4.3, 4.4, 4.3, 4.3, 3.8, 3.9, 4.1, 4.8, 4.4, 4.0, 4.7, 4.6, 4.3, 4.0, 4.4, 3.7, 3.7, 3.3, 4.1, 3.0, 4.1, 3.0, 3.8, 4.0, 4.5, 4.6, 4.1, 3.6, 4.7, 3.5, 3.1, 3.9, 3.7, 4.2, 4.4, 4.4, 3.3, 4.8, 4.2, 4.5, 3.8, 4.1, 4.2, 4.2, 4.0, 4.2, 3.8, 4.5, 3.7, 4.3, 4.5, 4.1, 4.2, 4.5, 4.0, 4.4, 4.2, 4.3, 4.7, 4.1, 3.2, 3.9, 4.1, 3.4, 3.0, 4.6, 4.6, 4.1, 3.1, 3.4, 4.2, 4.2, 3.0, 2.4, 4.1, 2.9, 4.0, 4.0, 3.8, 2.4, 4.4, 3.7, 4.3, 4.6, 4.2, 4.8, 3.6, 3.2, 4.0, 3.5, 4.4, 2.5, 3.9, 4.4, 4.2, 4.2, 4.3, 4.1, 4.3, 4.2, 4.2, 3.9, 3.9, 4.4, 3.8, 4.5, 4.2, 3.7, 4.3, 4.3, 4.6, 3.3, 3.6, 4.1, 3.8, 3.3, 4.5, 4.8, 4.6, null, 4.3, 4.5, 4.2, 3.8, 4.7, 4.2, 4.3, 4.7, 4.7, 3.6, 4.2, 4.0, 4.3, 4.7, 4.2, 4.6, 4.8, 4.6, 3.8, 4.6, 4.3, 4.2, 4.5, 3.2, 4.3, 4.3, 4.5, 4.4, 1.9, 4.4, 2.5, 4.2, 4.3, 4.0, 4.5, 4.8, 4.2, 4.7, 4.4, 4.4, 4.4, 4.6, 4.6, 4.2, 4.5, 4.0, 4.4, 4.2, 4.5, 4.6, 4.4, 4.7, 4.2, 4.4, 3.2, 4.1, 4.0, 4.7, 4.6, 4.6, 4.7, 4.8, 4.6, 4.2, 4.3, 3.3, 4.7, 4.5, 4.0, 4.5, 4.2, 4.6, 4.2, 4.7, 4.7, 4.2, 4.3, 4.3, null, 4.5, 4.4, 4.5, 4.6, 4.3, 3.8, 4.5, 4.5, 3.9, 4.0, 2.7, 4.5, 4.0, 2.9, 4.6, 4.4, 4.5, 4.6, 4.4, 4.3, 4.4, 4.2, 4.8, 4.3, 4.3, 4.6, 4.6, 4.2, 4.2, 4.1, 4.4, 4.5, 4.4, 4.4, 4.2, 4.5, 4.6, 4.5, 4.6, 4.0, 4.5, 4.2, 3.9, 4.7, 4.4, 4.5, 4.3, 4.4, 4.2, 3.9, 4.1, 2.2, 4.2, 4.2, 2.8, 3.9, 4.3, 4.8, 4.3, 4.1, 4.2, 4.4, 4.1, 4.6, 4.3, 4.3, 3.8, 4.8, null, 3.8, 3.9, null, 4.3, 4.3, 4.3, 4.1, 4.2, 4.9, 4.5, 4.6, 3.8, 4.7, 4.5, 4.7, 4.5, 4.8, 4.6, 4.6, 4.3, 4.8, 3.4, 4.6, 4.4, 4.5, 4.4, 4.4, 4.6, 4.2, 4.3, 4.3, 3.8, 3.9, 4.3, 4.8, 4.2, 4.5, 4.8, null, 4.6, 4.2, 4.2, 4.0, null, 4.3, 4.8, 4.1, 4.7, null, 4.8, 4.0, 3.5, 3.8, 3.5, 3.3, 3.7, 3.3, 3.4, 1.8, 1.6, 1.9, 3.6, 3.4, 3.2, 2.5, 4.7, 2.6, 2.8, 3.9, 4.2, 3.9, 4.0, 3.5, 3.1, 3.7, 3.6, 3.4, 4.0, 3.7, 1.7, 2.4, 4.3, 4.2, 3.3, 4.1, 4.1, 3.4, 3.0, 3.0, 2.2, 3.7, 3.7, 4.8, 3.7, 3.6, 3.7, 4.4, 3.8, 3.7, 3.7, 4.8, 4.2, 4.1, 4.6, 4.1, 4.3, 3.9, 3.8, 4.0, 4.5, 4.6, 4.1, 4.4, 3.7, 3.9, 3.9, 4.5, 4.5, 4.4, 4.3, 4.5, 4.7, 4.7, 4.1, 3.3, 4.2, 4.1, 3.4, 4.3, 4.9, 4.5, 4.1, 4.4, 4.3, 4.4, 3.4, 4.1, 4.1, 3.5, 3.8, 4.6, 4.6, 5.0, 4.6, 4.2, 4.0, 3.9, 3.7, 4.3, 1.9, 4.2, 4.2, 4.0, 4.4, 4.2, 4.5, 4.3, 4.4, 4.0, 4.2, 4.3, 4.0, 4.3, 3.9, 4.0, 3.7, 4.1, 3.9, 4.2, 4.4, 4.5, 3.9, 3.9, 4.2, 4.5, 4.1, 4.7, null, 4.4, 4.7, 4.7, 4.0, 3.9, null, 3.8, 3.9, 4.4, 4.5, null, 3.8, 3.5, 4.2, 4.7, 2.0, 4.3, 2.8, 4.0, 3.9, 4.2, 3.4, 4.5, 4.7, 2.0, 4.4, null, null, null, 4.7, 3.3, 4.1, null, 4.2, 4.4, null, 3.7, null, 4.3, 3.9, 5.0, 4.1, 4.8, 4.0, null, 4.1, 3.8, 4.6, null, 4.3, 4.1, 4.6, 4.1, 4.4, 4.2, 4.1, 4.3, 4.3, 4.0, 4.5, 4.1, 3.8, null, 4.5, null, 4.1, null, 3.9, 3.7, null, 4.5, 4.4, null, 3.4, null, null, null, null, 2.3, 4.7, 3.4, 4.7, null, null, 5.0, null, null, null, null, null, null, null, null, 3.6, 5.0, null, null, 4.3, null, null, null, 5.0, null, null, 4.1, 4.1, 4.5, null, null, 3.4, null, null, null, 2.9, 4.6, 5.0, null, null, null, 3.9, 3.9, 5.0, 4.1, null, 5.0, 3.0, 4.0, 1.0, null, 4.0, null, null, 4.0, null, 3.8, null, null, null, null, null, null, null, null, 3.5, null, null, null, null, null, 2.6, null, 3.4, null, null, 4.5, 3.4, 3.8, 3.0, 4.4, 4.0, 3.9, 4.6, 3.8, 3.8, 4.0, 4.6, 3.6, 4.4, 3.1, 4.2, 4.6, 4.0, 5.0, 3.3, 4.1, 3.6, 3.2, 4.4, 4.0, 4.4, 4.5, 4.3, 4.7, 4.4, null, 4.4, 4.4, 3.7, 3.3, null, 3.7, 3.0, 2.6, null, null, 3.5, 3.9, 4.6, 3.8, 4.6, 4.4, 4.5, 4.5, 4.7, 4.4, null, 5.0, null, null, 2.8, null, 4.6, 2.8, 5.0, 5.0, 2.8, null, 3.8, 4.1, null, 4.8, 5.0, 5.0, null, 4.4, null, null, 5.0, 4.1, null, 4.8, null, null, 4.8, 4.0, null, 5.0, 4.6, null, 5.0, null, null, null, 4.5, 5.0, null, null, null, 4.4, 4.0, null, 3.9, 4.1, 4.8, 4.3, 3.9, 4.5, null, 3.7, 4.3, 4.2, 3.7, 3.8, 4.6, null, null, null, 3.3, 3.0, 3.9, 4.2, 3.9, null, 4.1, null, 4.6, null, null, null, null, 4.4, 3.8, 4.4, null, 4.9, 3.6, 4.3, 3.6, 4.1, 3.4, 4.5, 4.7, 4.5, 4.4, 4.3, 4.6, 4.2, 4.8, 4.6, 4.8, 4.6, 4.6, 4.6, 4.1, 4.7, 4.7, 4.8, 3.6, 4.7, 4.6, 4.5, 4.7, 4.5, 4.3, 4.5, 4.8, 4.7, 4.7, 4.7, 4.7, 4.7, 4.7, 4.7, 4.6, 4.7, 4.7, 4.6, 3.8, 3.9, 4.0, 4.0, 3.8, 4.1, 2.9, 3.8, 3.5, 4.2, 4.6, 4.4, 4.4, 4.1, 3.9, 3.6, 4.0, 3.8, 4.3, 4.6, 3.6, 3.9, 4.0, 4.2, 4.2, 4.2, 4.5, 4.7, 3.5, 4.5, 4.0, 4.6, 4.2, 4.3, 4.1, 4.5, 4.2, 4.5, 4.4, 3.7, 4.4, 4.3, 4.3, 4.3, 4.5, 4.5, 3.8, 4.5, 4.5, 4.4, 4.7, 3.5, 4.9, 4.0, 4.1, 4.2, null, 4.4, 4.1, 4.6, 4.6, 4.7, 4.5, null, 4.6, 4.4, 4.4, 4.2, 4.4, 4.0, 4.2, 4.2, 4.2, 4.8, 3.7, 3.4, 4.3, 4.3, 4.6, 4.2, 4.6, 4.1, 4.4, 4.6, 4.3, 4.4, 4.7, 4.2, 3.8, 4.3, 3.7, 4.3, 2.9, 4.3, 4.3, 4.0, 3.3, 4.5, 4.1, 5.0, 3.9, 4.6, 4.0, 3.6, 4.0, 4.5, null, 2.9, 4.2, 4.5, null, 4.6, 4.7, 4.2, 4.7, 4.7, 3.9, 4.7, 3.7, 4.8, 4.0, 4.6, 4.4, 4.3, 4.7, 3.6, 4.4, 4.6, 2.9, null, 4.5, 5.0, 3.7, null, 3.7, null, 4.2, 3.0, 5.0, 4.4, 4.7, 4.3, 3.9, null, 4.4, 4.3, null, null, null, null, 4.6, 4.5, 3.9, 4.7, 4.3, 5.0, 5.0, null, 5.0, null, null, 4.4, null, 2.7, 4.6, 4.4, 4.4, 4.1, 3.8, 4.4, 4.6, 4.1, 4.5, 4.2, 4.7, 4.3, 4.3, 4.2, 3.8, 4.0, 4.3, 4.6, 4.3, 4.3, 4.3, 4.7, 4.6, 4.4, 3.8, 4.6, 4.6, 4.5, 4.5, 3.9, 4.4, 3.8, 4.3, 4.3, 3.7, 3.2, 4.0, 3.8, 4.4, 3.8, 3.4, 2.9, 4.5, 3.7, 3.8, 4.1, 4.1, 3.7, 3.6, null, 3.0, 4.1, 3.8, 4.2, 4.4, 4.5, 3.6, 3.6, 3.7, 3.9, null, 4.2, 4.1, 4.5, 2.8, 2.6, 4.3, 4.4, 4.1, 4.0, 4.3, 3.9, 3.5, 3.7, 4.3, 4.3, 4.1, 4.2, 4.3, 4.2, 4.6, 4.3, 4.1, 4.4, 4.4, 4.1, 4.2, 4.4, 4.3, 2.4, 4.5, 4.3, 4.5, 4.5, 4.3, 4.4, 4.3, 4.4, 4.6, 3.4, 3.9, 4.3, 4.4, 4.5, 4.4, 4.2, 4.0, 4.3, 4.4, 4.2, 4.0, 4.4, 4.6, 4.0, 4.4, 3.5, 4.6, 4.0, 4.0, 4.1, 4.1, 3.3, 3.9, 4.1, 4.2, 4.0, 4.5, 3.8, 3.5, 4.3, 4.6, 4.7, 3.8, 4.7, 4.8, 3.2, 4.5, 3.9, 3.6, 3.7, 4.4, 4.1, 4.0, 3.1, 4.0, 2.8, 3.7, 2.7, 3.9, 3.8, 3.6, 4.5, 3.5, 4.0, null, 3.8, 3.6, 4.2, 4.4, 4.0, 4.7, null, null, 4.1, 4.0, null, 4.7, null, null, 3.8, 5.0, 4.4, null, null, 4.0, null, 3.8, 4.1, 4.3, null, 4.5, 4.4, 3.4, 4.1, 4.1, 3.8, 4.3, 4.4, 4.4, 4.8, 3.3, 3.3, 4.4, 3.7, 3.4, 2.3, 3.3, 2.7, null, 4.6, 3.5, 3.4, 4.3, 4.1, 4.7, 4.4, 3.8, 3.0, 4.4, 4.2, 4.5, 3.5, 4.5, 4.3, 4.5, null, 4.5, 4.0, 4.8, null, 4.3, 1.7, 4.3, 4.2, null, 4.2, 4.3, null, 4.0, 4.2, 4.6, 4.1, 4.6, 4.1, 4.0, null, 3.3, 4.1, null, null, 4.0, null, null, 4.4, 4.2, 3.8, 3.1, null, 5.0, 4.2, 4.7, 4.4, 4.6, 4.4, 2.9, 2.7, null, 4.6, 4.0, 3.8, 4.8, 5.0, 3.9, 4.2, 4.1, 4.7, 4.2, 4.2, 3.7, 4.1, 4.1, 3.8, 4.6, null, 4.4, 4.2, 4.4, null, null, 4.6, 5.0, null, 4.5, null, 3.5, null, 3.9, 4.4, 3.0, null, 3.1, 4.4, null, 3.0, null, null, 3.7, null, 3.7, 3.9, 4.8, null, null, 4.6, 4.6, 4.5, 4.3, 5.0, 4.3, null, 4.7, 4.0, 3.8, 5.0, 4.8, 4.5, 4.3, null, null, null, null, 3.7, null, null, null, null, null, 4.3, null, 3.8, null, null, 4.5, 4.6, 4.1, 4.2, null, 5.0, null, null, null, 4.3, null, 3.3, 3.6, 4.0, 4.0, 4.0, 4.3, 4.2, 4.3, 4.2, 4.5, 4.3, 4.6, 4.4, 4.2, 4.2, 4.2, 3.4, 3.2, 4.0, 4.6, 3.2, 4.4, 4.0, 4.7, null, 3.7, 3.9, 4.2, 4.1, 3.5, 4.8, 4.3, 3.9, null, 3.5, 4.3, 4.4, 4.8, 3.9, 3.8, 4.2, 4.0, 4.0, 4.4, 4.7, 4.5, 4.3, 3.3, 4.3, 4.1, 2.1, 3.7, 4.2, 4.4, 4.2, 2.1, 2.4, 4.1, 3.1, 5.0, null, 3.5, 4.2, null, 4.7, null, null, null, 4.8, null, 4.5, 4.6, 4.6, 4.9, 4.8, 4.0, 3.9, 4.1, 4.1, 4.5, 4.2, 4.0, 4.4, 1.9, null, null, 3.7, null, 4.2, 4.0, 4.3, 2.5, 4.4, null, 3.7, 4.7, 4.6, 4.4, 4.3, 4.4, 2.6, 3.6, 3.8, 4.4, 4.4, 3.0, 4.2, 3.7, 5.0, null, 4.2, 4.8, 4.4, 4.1, 4.7, 4.7, 3.3, 4.0, null, null, 1.0, 4.4, 4.2, 4.4, 4.6, 4.3, 4.4, null, 3.7, 2.9, 4.0, 4.4, 3.3, null, null, 4.2, 4.5, 2.3, 5.0, 3.6, null, 3.9, 4.4, 4.2, 4.8, 4.3, 4.2, 4.4, 4.3, 4.0, 1.4, 3.3, 4.3, null, 4.6, 4.7, 4.2, 3.9, 3.4, 4.3, 4.8, 4.8, 4.5, 3.3, 4.2, 4.9, 4.2, 4.6, 4.1, 4.6, 4.0, 4.2, 5.0, 4.1, 3.7, 4.1, 3.8, 4.7, 3.5, 4.0, 4.2, 3.3, 3.7, 3.4, 3.7, 5.0, 4.4, 5.0, 4.8, 4.4, 4.9, 4.0, 4.4, 4.5, 4.9, 4.4, 4.4, 5.0, 4.8, 4.6, 4.3, 3.8, 4.3, 4.3, 4.1, 4.5, 4.2, 3.8, 4.3, 4.4, 4.2, 4.2, 3.8, 4.2, 4.0, 4.2, 4.3, 4.3, 4.4, 4.7, 4.1, 4.5, 4.2, 4.3, 4.4, 4.5, 4.3, null, 4.2, 4.0, 3.4, 4.4, 3.8, 3.0, 4.1, 4.4, 4.1, 4.1, 4.1, 4.5, 4.1, 2.2, 3.9, 4.0, 4.3, 3.9, 4.0, 4.2, 4.2, 3.6, 4.3, null, null, 4.4, 2.6, 4.1, null, 3.5, 4.2, null, null, 3.7, 4.5, 2.4, null, 2.9, 4.2, 4.2, 4.0, 2.6, 4.4, 4.8, 4.7, 4.4, 4.6, 2.7, 3.8, 1.7, 4.6, 3.3, null, null, 4.6, 2.3, 4.5, null, 4.8, null, 5.0, null, 4.1, null, null, null, null, null, null, 4.9, 3.0, null, null, 4.8, 4.5, 3.4, null, null, null, null, 4.0, 3.7, 2.2, 4.8, null, 5.0, null, null, null, 4.5, null, 4.3, 3.8, null, 4.5, 4.5, null, 4.8, 4.5, 4.4, null, 3.9, 4.3, 4.3, null, 4.0, null, 4.1, 4.6, 3.7, 3.4, 4.5, 4.4, null, 4.4, 2.4, 4.1, 4.6, 4.6, 4.3, 4.3, 4.7, null, 4.2, 4.3, 4.3, 3.9, 4.7, 4.2, 4.1, 4.6, 4.7, 4.3, 4.5, 4.6, 2.9, 4.0, 3.0, 3.9, null, 4.8, 3.9, 4.0, null, null, null, 5.0, null, null, null, 4.0, null, 5.0, null, null, 4.5, 4.8, null, 4.6, 4.2, null, 3.4, 2.6, 2.4, null, 4.5, 4.6, 3.3, 4.1, 4.6, 3.9, null, null, null, null, null, 4.0, 3.4, 4.5, 4.0, 5.0, 3.6, 3.5, 4.6, 4.9, 3.7, 5.0, 4.0, 3.9, 5.0, 4.0, null, null, 4.9, 4.4, 3.6, 4.7, 4.3, 3.9, 4.5, 4.2, 4.6, 4.1, 4.3, 4.6, null, null, 4.2, 4.6, 4.5, 4.4, 4.2, 4.5, 4.0, 4.2, 4.7, 4.1, 4.4, 4.3, 4.6, 4.2, 4.0, 2.3, 4.5, 3.6, 4.4, 3.9, 3.9, 4.8, 4.2, 3.7, 4.0, null, 1.0, null, 4.4, 4.2, 4.7, 3.6, null, 4.1, 3.3, null, null, 5.0, 4.3, 4.7, null, null, null, null, null, 4.0, null, 4.4, 4.6, 5.0, 4.3, 4.3, null, 3.8, 4.1, 4.6, 4.0, 4.7, 3.6, 4.5, 4.0, 4.1, 4.0, 3.8, null, 4.5, 2.8, null, 4.2, 4.8, 5.0, 5.0, null, null, null, 4.3, 4.3, 4.5, 4.5, 5.0, 3.8, 4.4, 5.0, 4.7, null, 4.7, 2.2, 4.6, 4.6, 4.7, 4.6, 4.4, 3.8, 3.6, 4.9, 4.8, null, 4.4, 5.0, 4.8, null, null, 4.6, 5.0, 4.6, 5.0, null, 4.0, 4.3, 4.5, 4.0, 3.2, 4.6, 4.2, 4.8, 3.0, 4.3, 3.9, 3.2, 3.9, 4.8, 3.5, 4.4, 4.1, 4.2, 4.7, 4.0, 4.4, 4.2, 5.0, 3.5, 3.8, null, 4.5, 4.1, null, 4.3, null, 4.3, 4.4, null, null, null, null, null, 4.0, 4.3, 4.0, 4.9, 4.7, null, null, null, 4.3, 4.2, 4.1, 4.3, 4.7, 3.2, 3.9, 4.2, 4.1, 4.9, null, 3.7, 3.5, 4.9, null, 3.3, 4.9, 3.4, null, 4.5, 4.3, 5.0, 3.5, null, null, 4.4, 3.7, null, 4.8, null, 4.3, 4.9, null, null, null, null, null, null, 5.0, 4.3, 4.3, null, null, 4.4, 1.0, 4.5, null, 4.0, 5.0, 4.9, 4.7, 4.5, 3.9, null, 3.2, 3.5, null, 3.7, 3.0, 4.2, 4.0, 4.1, null, 4.7, 4.0, 3.1, 4.4, 3.2, 3.9, 4.2, 4.7, 4.0, null, null, 4.0, 3.7, 4.1, 4.4, 4.0, 3.9, 3.6, null, null, 4.6, null, 4.4, 1.9, 4.3, 4.5, 4.1, 3.8, 4.1, 4.6, 3.7, 3.9, 4.4, null, 4.5, null, null, 4.3, 4.4, 3.5, 4.3, 4.5, 4.5, 4.4, 4.2, 4.3, null, 3.6, 4.0, 3.8, null, null, 4.4, 3.8, 3.9, 4.1, 4.3, 3.5, null, 4.3, null, 4.7, 4.5, 3.8, 4.5, 4.2, 4.3, 4.1, 4.6, 4.6, 4.5, 4.5, 3.0, 2.6, 3.4, 4.4, 4.2, 4.0, 4.7, 3.4, 3.7, 3.7, 4.5, 3.9, 5.0, 4.3, 4.2, null, 4.0, null, 4.5, 4.0, 4.4, 1.8, 4.3, 5.0, 5.0, null, 3.2, 4.2, 4.6, 3.8, 3.9, 4.2, null, 4.0, 3.8, 4.1, 3.9, 4.4, 2.1, 1.8, 4.2, 2.0, null, null, 3.4, 4.3, 3.6, 3.7, 4.7, 4.5, 4.6, 3.6, null, null, 4.4, 4.6, null, null, null, 2.3, null, null, 3.8, null, 3.0, 5.0, 4.5, 4.4, 4.5, 4.8, 4.3, 3.8, null, 4.3, 3.7, 4.5, null, 4.3, null, 4.4, 3.4, 4.5, 1.6, null, null, 4.5, null, null, null, null, null, null, 4.4, 3.8, 4.3, 4.3, 3.0, 4.0, 4.2, 4.8, 4.0, 4.5, null, 4.7, 1.9, 4.9, 4.4, 4.7, null, 4.9, 4.8, null, null, 4.5, null, null, 4.6, 4.5, null, 5.0, null, 3.9, null, null, 4.3, null, 4.8, 4.3, 4.6, null, null, 4.1, 4.5, 4.3, 3.8, 2.4, 4.3, 2.8, 4.5, 4.6, 4.1, 4.2, 4.6, 4.3, 4.6, 5.0, 5.0, 3.9, 4.2, 3.9, 4.2, null, null, null, 3.5, null, 4.0, null, 3.7, 3.8, 4.3, null, null, 4.5, 4.6, null, 4.5, 4.3, 4.4, null, null, 4.6, null, 3.9, null, 3.9, 3.1, 3.9, 4.4, 4.4, 4.4, 4.6, 3.9, 4.6, 2.5, 4.6, 2.8, 4.0, 3.4, 3.8, 4.5, 4.8, 3.3, 3.9, 3.5, 4.5, 4.0, null, 3.6, null, 4.7, 3.9, 5.0, 4.6, 3.9, 4.9, 3.6, 3.7, 3.9, 2.7, 3.8, 2.8, 3.5, 4.1, null, 4.7, 4.3, 4.5, 4.1, null, null, 4.8, null, null, null, 3.4, 5.0, null, null, 4.3, 4.4, 1.8, 4.2, 3.3, null, 5.0, null, null, null, 4.8, null, 4.5, 5.0, 4.5, 4.7, null, 4.6, null, null, 4.5, null, null, 3.5, null, null, 3.5, 2.9, null, null, 5.0, null, null, null, null, 4.3, null, 4.8, 4.7, 4.3, 4.1, 5.0, 5.0, null, null, null, 4.0, null, 4.3, null, 4.1, 5.0, null, 5.0, null, null, null, 4.0, null, null, 3.5, null, null, null, 4.1, null, null, 4.6, null, null, null, 4.1, 4.2, 4.2, 2.2, 4.3, 4.7, 3.8, null, 4.1, null, 3.1, 4.2, null, 3.0, 4.8, 3.7, 3.1, 4.6, 2.9, 4.2, 4.7, 4.5, 2.8, null, 4.4, 4.4, 4.1, 4.6, 3.0, 4.1, 4.2, null, 4.4, 3.9, null, null, null, null, 4.3, 4.5, 4.5, 3.6, 2.0, 4.0, 4.5, 4.0, 4.3, null, 4.5, 4.8, 4.5, null, null, 4.2, 4.5, 4.6, null, null, 3.9, null, null, 4.3, 3.9, 4.3, 3.7, 4.7, 4.3, 1.7, 4.5, null, 4.7, null, 5.0, null, null, null, 4.6, 2.9, null, 4.8, 2.3, null, 3.8, 4.2, null, 4.4, null, 4.0, 4.1, 3.4, 4.3, 4.0, 4.2, 4.1, 4.7, 4.2, 3.9, 3.8, 4.1, 4.2, 3.8, 4.7, 3.7, 4.3, 4.0, 4.2, 4.6, 4.7, 4.7, 4.3, 4.2, 3.5, 4.7, 4.7, 4.5, 4.5, 4.7, 4.6, 4.6, 4.9, 4.2, 4.3, 4.4, 4.4, 4.5, 4.3, 4.4, 4.4, 3.0, 4.8, 4.7, 4.6, 4.0, 3.7, 3.5, 2.7, 4.7, 4.1, 4.5, 4.6, 4.5, 4.4, 4.3, 4.4, 4.5, 4.6, 4.7, 4.6, 3.1, 3.9, 4.7, 4.6, 4.7, null, 5.0, 4.4, 4.8, null, 4.1, null, 4.3, 4.4, 4.7, 4.0, 3.4, 4.6, null, 2.8, null, 3.1, null, 3.9, null, 4.2, 4.5, null, 4.1, null, 4.2, null, null, 3.3, 4.4, null, 4.4, 4.6, 4.4, 4.5, 4.1, 2.2, 4.2, 4.8, null, null, 3.2, 4.3, 4.0, 4.6, 4.4, 4.5, null, 3.4, null, null, 3.3, 4.2, null, 2.4, 3.2, 3.1, 3.8, null, 4.8, 3.7, 4.2, 3.7, 3.0, 3.9, 4.0, 5.0, null, 4.0, 2.7, 3.1, 4.1, 4.5, 4.0, 3.8, 3.8, 4.3, 3.5, 4.5, 3.9, null, 4.5, null, null, 3.3, 4.1, null, null, 5.0, null, 3.7, 4.8, 1.5, 5.0, 4.6, null, null, 5.0, 4.7, null, 4.7, null, 5.0, 4.5, null, 5.0, null, null, 5.0, 4.2, 1.0, 4.5, 4.2, 5.0, 4.2, 4.4, 3.9, 4.6, 3.8, null, null, 4.0, null, null, null, 4.6, null, null, 3.4, null, 5.0, 4.6, null, null, null, null, 5.0, null, null, null, null, 3.0, null, 3.8, 4.2, 4.3, null, null, null, null, null, null, 4.4, 3.2, null, null, null, 3.5, 4.4, 4.5, 3.7, 5.0, 4.5, 4.5, 4.1, null, 3.4, 4.1, null, null, 5.0, 4.2, 4.1, 4.1, null, 4.2, 4.3, null, 5.0, 4.4, null, 4.3, 4.5, null, 4.8, 4.4, null, null, null, 4.4, null, null, null, null, null, 4.7, null, null, null, null, null, 4.3, 4.4, 4.6, 2.8, 5.0, 4.4, 4.4, 2.0, 5.0, 4.4, 5.0, null, 3.4, 4.4, null, 3.4, null, null, 3.3, 1.5, null, null, null, 5.0, null, 4.3, 4.3, null, null, null, null, 2.2, 4.6, null, null, 5.0, null, null, 4.7, null, null, null, null, null, null, 4.7, 3.5, 4.3, 3.6, 4.3, 3.6, 2.6, 4.7, 4.5, 4.0, 4.6, 5.0, 4.2, null, null, 4.2, null, 4.7, 4.5, 3.6, 3.8, 4.2, 3.8, 3.5, 4.1, null, null, 5.0, null, 4.2, 4.1, null, null, 3.6, 4.3, 4.1, 4.4, null, null, 4.0, 5.0, 5.0, null, 3.8, 4.3, 4.7, 4.5, 4.4, 4.7, 4.4, 3.7, 4.3, null, 4.0, 3.9, null, 4.9, 3.5, 3.5, null, 4.4, 4.2, null, null, null, 4.3, null, 4.7, 4.5, 4.4, 4.2, 4.4, 3.3, 4.4, 4.9, 4.5, 4.7, 4.7, 3.9, 4.7, 4.7, null, 4.4, 4.8, 4.8, 4.0, 3.7, 5.0, 3.0, 3.9, null, null, 4.6, 4.6, 4.3, 4.2, null, 5.0, null, 4.5, null, 4.2, null, 1.0, null, 4.6, null, null, null, null, null, null, 4.1, 4.7, null, null, null, 4.4, 4.8, 4.2, null, null, 5.0, 4.6, 4.5, 5.0, 2.9, null, 4.4, null, null, 3.0, 4.5, 2.4, 4.3, 3.9, 1.9, 4.4, 5.0, 4.0, 4.7, 3.9, 5.0, 4.2, 4.2, 2.8, 4.2, 1.0, 3.9, 4.1, 4.1, 3.2, null, 5.0, null, 5.0, 4.3, 4.1, 3.8, 4.0, null, 4.2, 5.0, 4.1, 5.0, null, 3.7, null, null, 4.1, 3.5, 3.9, 4.2, 3.8, 3.7, 4.7, 2.8, 4.7, 4.3, 4.1, null, 4.7, 4.2, 4.0, 3.2, 4.6, 5.0, 4.4, 4.5, 4.0, 4.6, 4.7, null, 4.1, 4.5, 4.3, null, 5.0, 5.0, 4.2, 4.0, null, 5.0, 2.7, 4.1, null, null, 4.4, null, 4.3, 4.1, 4.7, 4.4, null, null, 3.6, 4.0, 4.1, 4.0, 4.1, 4.0, 4.6, null, null, null, null, 5.0, 3.6, 4.1, 4.3, 4.1, 2.6, 2.7, 3.8, 5.0, 4.2, null, 5.0, 2.6, 4.4, 4.3, null, null, 4.7, 2.8, 4.1, null, 3.6, null, null, 4.0, null, null, 5.0, 5.0, 4.7, 4.7, 4.6, 4.7, 4.6, 4.6, 4.6, 4.6, 4.6, 4.4, 3.8, 4.1, 3.4, 4.5, 4.5, 4.5, 4.0, 4.7, 4.4, 4.4, 4.7, 4.7, 4.2, 4.2, 4.0, 3.6, 4.7, 4.4, 4.3, 4.4, 4.4, 4.4, 4.3, 3.3, 3.6, 4.5, 4.5, 4.6, 4.3, 3.6, 4.3, 4.4, 4.1, 4.2, 4.8, 4.2, null, 4.0, 3.7, 4.5, 4.1, 4.6, 4.5, 4.7, 4.3, 4.3, 4.6, 4.1, 4.2, 4.3, 4.2, 4.3, 3.6, 4.2, 4.2, 4.0, 4.6, 4.3, 4.4, 4.5, 4.3, 3.7, 4.2, 4.7, 4.6, 4.5, 4.1, 4.5, 4.3, 3.4, 4.2, 3.9, 4.4, 4.1, 4.3, 3.9, 4.0, null, 5.0, 4.2, 4.3, 4.5, 4.5, 3.9, null, 4.5, 3.5, 3.6, 1.9, 4.3, 3.2, 1.6, 4.2, 4.9, 4.4, 3.6, 3.4, null, 4.7, 2.9, 4.3, 4.4, 4.3, 4.6, 4.6, 4.2, 3.5, null, 2.9, 4.4, 4.7, 4.5, 4.4, 2.0, 4.7, 4.4, 4.4, 4.4, null, 4.5, 3.5, 4.2, 3.7, 4.4, 3.4, 4.3, 3.6, 4.6, 4.6, 4.2, 4.3, 3.8, 1.4, 4.4, null, 4.0, null, 4.6, 3.9, 3.8, 4.7, 4.2, 4.3, 4.1, 4.3, 4.2, null, 3.6, 4.6, null, 4.3, 5.0, 5.0, 5.0, 4.5, 3.8, 3.9, null, null, 4.8, 4.1, 4.0, 4.8, 4.8, 4.4, null, 4.1, null, null, null, 4.4, 4.3, 3.7, 4.3, null, null, 4.3, 2.7, 4.4, null, 4.5, null, 4.2, null, 3.7, null, 5.0, null, 4.2, 3.9, null, 4.5, null, 3.5, 4.7, 4.2, 4.4, 4.7, 4.6, 4.0, null, 2.5, null, null, 3.8, 4.7, 4.5, 4.6, 4.6, 5.0, 3.9, 5.0, null, 2.3, null, 3.6, 4.0, 3.7, 4.2, 4.1, 4.4, 4.6, 4.2, 4.4, 4.3, 4.0, 4.5, 3.9, 3.7, 4.6, null, 3.8, 4.7, null, 3.4, 4.5, 4.1, 4.3, 4.6, 4.3, 4.3, 4.0, null, 3.5, 2.3, null, 3.9, 4.1, 4.5, 4.6, 4.4, 3.1, 4.3, 3.3, 5.0, null, 4.2, 3.8, 3.3, null, 5.0, 1.0, 4.5, 4.6, 4.3, 4.4, 4.1, 4.5, 4.2, 3.7, 4.1, 3.9, 4.5, 3.6, 3.2, 3.5, 3.7, 4.6, 4.8, 4.1, 4.4, 4.3, null, 4.0, 3.1, 4.2, 4.1, null, 3.5, 4.3, 3.8, 4.3, 4.8, 2.3, 4.3, 4.4, 3.6, 5.0, null, 4.3, 4.2, 4.3, 4.7, 3.9, 4.4, 4.4, 4.3, 2.6, 4.3, null, 3.8, 4.2, 4.2, 4.1, 4.0, 4.4, 4.7, null, 2.6, 4.3, 5.0, 3.7, 4.3, 4.1, 4.3, 3.8, 4.5, 5.0, null, null, 3.9, 3.8, 4.6, null, 4.6, 4.7, 5.0, null, 4.5, null, 4.3, 3.5, 3.3, null, 4.8, 3.9, null, 4.5, null, 3.4, 5.0, 5.0, null, null, 4.8, 3.6, null, 4.3, 4.0, 4.5, 4.6, 4.7, 3.8, 3.4, 4.7, 4.0, 4.6, 2.0, 4.3, 2.0, 3.6, 4.7, 3.5, 4.0, 3.5, 4.3, 4.1, 4.6, 3.8, 4.3, 3.8, 1.0, 3.8, 3.3, 4.8, 3.0, 4.0, 3.6, 3.8, 4.3, 3.9, 4.2, 4.6, 4.0, 4.5, 4.6, 4.6, 4.5, 3.7, 4.4, 4.6, 3.9, 4.4, 4.5, 4.5, 4.3, 3.7, 3.9, 3.9, 4.3, 4.1, 4.1, 4.4, 4.4, 4.2, 4.5, 4.6, 4.4, 4.4, 4.4, 3.8, 2.6, 4.2, 4.4, 4.2, 4.0, 4.2, 4.0, 4.4, 4.5, 3.2, 4.3, 3.4, 2.3, 4.4, 4.3, null, 4.3, 3.6, 4.6, 4.2, 4.0, 4.4, 4.5, 3.2, 1.7, 2.2, 3.8, 4.8, null, 4.4, 4.5, 4.8, 4.6, 3.7, 4.4, 3.5, 3.8, 3.8, 4.3, null, 4.6, null, 4.5, null, 3.7, null, 4.8, 4.3, 5.0, 3.9, 3.0, null, 5.0, null, 4.4, 4.6, 3.9, 3.3, 4.1, 3.0, 4.2, 4.2, 4.2, 4.0, 4.0, 3.2, 4.6, 3.2, 4.1, 3.3, 4.4, 4.0, 4.2, 4.1, 4.3, 3.3, 4.7, 4.4, 3.1, 3.1, 3.3, 3.9, 3.4, 3.9, 4.4, 3.9, 3.7, 4.5, 4.7, null, 4.6, null, 5.0, 3.0, null, 3.9, null, 5.0, 3.9, null, null, null, null, null, null, 3.8, null, 3.6, 3.9, 3.8, null, 4.8, null, null, null, null, 4.4, 4.5, 4.0, 4.7, 4.8, 4.7, 4.7, 4.5, 4.0, null, 3.2, null, null, 4.7, 4.5, null, 4.5, 4.9, 4.2, 5.0, 5.0, null, 5.0, null, null, 4.2, 4.7, null, null, 4.5, null, null, null, 4.5, 4.5, 3.8, 4.5, null, 4.3, 3.9, 3.9, 4.2, 4.5, 4.1, 4.4, 4.1, 4.6, 3.3, 4.5, 2.2, 4.4, 3.9, 4.5, 2.8, 3.3, null, 4.5, null, null, 3.1, 3.2, 4.4, 4.1, null, 5.0, null, null, 3.8, null, null, 4.3, 4.6, null, null, 3.7, 4.9, 4.3, 5.0, null, null, 2.9, 4.4, 4.4, null, 4.6, 4.5, 4.0, null, 3.5, 4.8, 4.8, 3.5, 4.7, 4.6, 4.4, 4.3, 4.7, 4.4, 4.0, 3.5, 4.6, 3.9, 3.5, 4.6, 4.2, 4.4, 4.6, 4.0, 4.2, 3.8, 4.1, 4.3, 4.4, 4.5, 4.1, 4.2, 4.0, 3.6, 3.3, 4.7, 4.6, 4.5, 3.9, 4.3, null, 3.9, 4.3, null, null, 3.1, 4.4, 3.7, 4.6, 4.6, 2.7, null, null, 4.1, 4.2, 1.9, 4.6, null, 4.2, null, 4.4, 4.2, 3.9, 2.4, 5.0, 3.9, null, 3.7, 5.0, 4.0, 3.0, 4.1, 4.8, 4.5, 3.5, null, null, null, 4.5, 4.5, 4.2, 4.3, 4.4, 4.4, 4.3, 4.2, 4.5, 4.3, 4.3, 4.2, 4.9, 4.1, 1.4, 4.0, 5.0, 4.3, null, 4.2, 4.3, 3.8, 4.1, 4.2, 4.3, 4.1, 4.3, 3.6, 4.3, 4.6, 4.4, 5.0, 4.4, 4.5, null, 4.7, null, 5.0, null, null, 3.4, 3.1, 4.5, 5.0, 4.3, 4.4, 4.3, 4.2, 4.0, 4.5, 4.0, 4.1, 3.8, 4.3, 4.6, 4.1, 4.3, 4.3, 4.2, 4.3, 4.4, 4.4, 3.9, 4.3, 4.5, 4.3, 3.5, 4.2, 4.1, 4.1, 4.7, 4.5, 3.3, 4.2, null, null, 4.2, 4.6, null, 4.3, 4.3, 4.0, 4.7, 5.0, null, null, null, null, null, null, null, 5.0, 4.9, null, null, null, null, null, null, 4.3, null, null, null, 4.0, null, null, 4.5, null, 4.1, 4.3, null, null, null, 4.5, null, null, 3.9, 3.7, 4.2, 3.6, 3.6, 2.1, 4.7, 3.2, 3.0, 4.3, 3.0, 4.3, 3.9, 3.3, 4.3, 4.0, 3.7, 2.8, 4.4, 5.0, 3.9, 4.2, 4.8, 4.0, null, 3.0, 4.5, 2.6, 5.0, null, null, 5.0, 4.1, null, 4.5, 5.0, 4.7, 4.5, 4.4, 4.4, 4.3, 4.2, 3.0, 4.1, 4.2, 4.2, 4.0, 4.3, 4.1, 3.6, 4.3, 5.0, 4.2, 3.9, null, 4.1, 3.8, 5.0, 3.7, 4.3, 4.2, 4.3, 2.5, 4.3, 4.4, null, 4.3, 4.2, 4.6, 4.0, 2.9, null, 4.5, 4.7, 3.8, null, 4.7, 3.9, 4.5, 4.7, 4.5, 4.2, 4.3, 4.4, 4.8, 4.2, 4.1, 4.5, 4.5, 4.6, 4.4, 4.1, 4.3, 4.7, 4.4, 4.2, 4.3, 4.5, 4.3, 4.8, 4.5, 4.6, 4.7, 4.4, 4.1, 4.3, 4.2, 4.2, 3.6, 2.8, 3.9, 3.8, 4.4, 3.7, 2.7, 3.8, 3.2, 3.9, 2.3, 4.1, 4.3, 3.1, 4.6, 4.1, 4.4, 3.2, 4.5, 3.7, null, null, null, 4.4, 4.5, 5.0, 4.8, null, 4.6, 4.0, 4.1, null, 4.1, null, null, 4.8, null, null, null, 4.3, 2.8, null, null, 4.7, 4.5, 4.2, 4.3, 3.8, 3.8, 4.2, 3.8, 4.0, 4.0, 4.6, 4.0, 4.3, 4.3, 3.9, 5.0, 4.0, 4.1, 3.9, 4.2, 4.3, 4.5, 4.4, 4.1, 4.2, 4.5, 4.6, 4.1, 3.9, 4.7, 3.9, 4.3, 2.9, 4.4, 3.7, 4.4, 4.1, null, 2.8, 4.9, 3.4, 2.8, 2.5, 4.7, 3.1, null, 3.2, 4.3, 3.9, 3.6, 3.2, null, 3.5, 3.3, null, null, null, null, 2.4, 4.4, 2.8, 5.0, null, 4.4, null, null, null, null, null, null, null, 5.0, null, 3.3, 2.9, 4.1, 4.6, null, 2.2, 4.3, 5.0, 2.5, null, 3.0, 3.7, 5.0, null, null, null, null, 5.0, null, null, 4.1, null, null, null, 4.1, 2.6, 4.6, 4.5, null, 4.5, null, 3.3, null, 4.4, 4.7, 4.7, 4.0, 4.5, 4.3, 4.6, 4.7, 4.4, 4.0, 4.2, 4.3, 4.1, 4.5, 4.3, 4.3, 4.7, 4.1, 4.3, 4.4, 3.1, 4.0, 4.5, 4.5, 4.4, 4.2, 4.6, 4.4, 4.6, 4.0, 4.6, 4.3, 4.3, 3.9, 4.5, 4.7, 4.3, 4.6, 4.6, 4.2, 4.3, 4.6, 4.2, 4.1, 4.6, 4.4, 3.7, 4.4, 3.9, 4.3, 4.3, 4.3, 4.5, 4.5, 4.5, 4.5, 4.7, 4.3, 4.4, 4.5, 4.3, 4.3, 4.2, 4.2, 4.3, 4.2, 4.7, 4.1, 4.3, 4.1, 3.8, 4.5, 4.1, null, 4.3, 4.5, 4.1, 4.4, 4.3, 4.4, 4.3, null, 4.1, 4.6, 4.7, 4.2, 3.7, 4.7, 4.4, 4.7, 4.2, 4.6, 4.5, 4.8, 3.7, 4.3, 4.2, 3.6, 4.1, 2.3, 4.3, 4.6, 4.5, 4.0, 4.2, 4.6, 4.2, 4.5, 4.3, 4.4, 3.6, 4.0, null, 2.8, 3.8, 4.1, 3.8, 3.4, 4.5, 4.3, 3.1, 4.6, 3.3, 3.9, 4.2, 4.9, 3.9, 3.4, 3.7, 4.2, 3.8, 4.6, 4.4, 4.0, 4.2, null, 4.2, 4.5, 4.6, 4.4, 4.6, 4.5, 3.7, 4.1, 4.2, 4.0, 4.5, 4.6, 4.5, 4.4, 3.3, 4.2, 4.2, 4.0, 4.0, 4.0, 3.5, 4.5, 3.9, 3.9, 4.1, 4.4, 4.2, 4.4, 4.3, 4.1, 4.0, 4.3, 4.4, 4.5, 4.6, 3.7, 3.8, 3.4, 4.3, 3.8, 4.7, 4.4, 4.4, 4.1, 4.4, 4.0, 3.9, 4.3, 4.2, 3.3, 4.0, 4.6, 4.1, 4.1, 3.4, 3.4, 4.1, 4.0, 3.4, 3.2, 3.8, 3.8, 3.9, 3.6, 3.8, 3.9, 3.2, 1.0, 4.6, null, 3.6, 4.9, null, 2.6, 3.9, null, 3.5, 3.2, null, 3.3, null, null, 3.8, 3.9, 4.6, 1.8, null, 4.3, 3.9, null, 4.8, 3.7, 4.0, 4.1, 4.6, 4.0, null, 4.8, null, 4.0, 3.5, null, 3.0, 4.6, 1.6, 3.8, 1.7, 4.6, 5.0, 4.6, 4.4, 4.5, 3.8, 4.0, 4.1, null, 5.0, null, null, null, null, 5.0, 1.0, null, null, 4.4, 4.7, 4.6, 2.4, null, 4.5, null, null, 4.4, 4.3, 5.0, 4.1, 3.8, 3.9, 3.1, 4.7, 4.5, 3.5, 4.5, 4.6, 4.5, 4.5, 4.4, 4.3, 4.4, 4.2, 4.6, 4.5, 3.8, 4.3, 4.6, 4.3, 3.6, 4.2, 4.7, 4.3, 4.7, 4.8, 3.1, 4.5, 4.4, 4.5, 4.5, null, 4.7, 4.1, 4.4, 4.3, 4.6, 3.4, null, 4.7, 3.6, 3.7, 2.1, 2.0, 3.5, 4.3, 2.4, 4.5, 2.8, null, 4.5, null, 2.8, 3.9, 3.2, 3.1, 2.4, 4.6, 2.9, 4.0, 3.7, 2.3, 2.9, 4.6, 4.3, 5.0, 4.2, 4.6, 4.5, 4.2, 4.8, 3.5, 4.6, 3.5, 3.6, null, 5.0, 3.0, null, null, 2.9, 3.7, 4.6, null, 4.2, 3.2, 2.5, 4.4, 4.3, 2.7, 4.0, 4.5, 3.4, 4.3, 4.3, null, 4.3, null, null, 4.0, 4.9, 3.4, 4.9, 4.3, 4.7, 4.8, 4.3, 4.3, 4.0, null, 3.5, null, 5.0, 4.7, null, 4.2, 4.4, 4.2, 5.0, null, 5.0, 2.0, null, 3.7, null, null, null, 3.9, 4.5, null, null, null, 3.1, 4.5, 4.7, null, 4.4, 3.8, 4.2, 4.5, null, 4.5, 4.6, 4.2, 4.5, 4.2, 4.2, 4.1, 4.3, 5.0, 4.6, 4.0, 4.4, null, 4.5, 3.6, 4.6, null, 4.0, 4.6, 4.5, 4.5, null, null, null, 4.8, 5.0, 4.4, null, 4.0, 3.5, 5.0, 4.0, 4.2, 4.0, 3.9, 4.5, 3.6, 4.2, 3.0, 3.0, 4.0, 3.4, 4.9, null, null, null, null, 4.0, 4.4, 4.1, 4.4, 4.0, null, 4.5, 4.2, 3.9, null, 3.6, 5.0, 4.4, 3.6, 4.7, 4.2, 4.5, 4.7, null, null, 4.3, 4.2, 4.4, null, 4.7, 4.4, null, 4.1, 4.5, 4.1, 4.0, null, null, 4.3, 4.2, null, 4.2, null, 4.1, 4.2, null, 5.0, 4.0, 4.0, 4.5, null, 4.1, null, 4.7, 4.4, 4.9, 3.6, 4.2, null, 4.4, null, 4.5, 4.2, null, null, 4.2, null, 4.5, 4.4, 4.4, 4.5, 4.5, 3.9, 4.3, 4.4, null, 4.5, 4.0, 4.5, 4.0, 4.4, 4.3, 2.5, 4.4, 3.8, 4.4, 4.2, 4.1, 4.2, 3.9, 4.5, 4.1, 4.4, 4.3, 4.5, 3.4, 3.4, 4.4, 4.2, 4.4, 3.5, 4.1, 4.6, 1.7, 3.3, 5.0, 4.8, null, 4.6, 3.3, null, 4.2, null, 3.5, 3.7, 5.0, null, null, 4.6, 4.1, 3.5, 5.0, null, 3.7, 4.0, null, null, 4.2, null, 4.5, 3.8, 2.5, 4.0, null, 4.0, 4.1, null, null, 3.4, 3.6, 3.4, 3.9, 4.6, 4.3, 4.7, 5.0, 3.9, 3.9, 4.2, 4.3, 3.5, null, 4.1, 4.2, 4.4, 4.5, 3.8, 3.4, null, 3.9, 4.5, null, null, 3.0, null, 4.1, 4.6, null, 3.9, 4.7, 4.5, 3.4, 5.0, 5.0, 5.0, 4.0, null, null, 4.0, null, 4.9, 5.0, null, 4.6, null, 4.8, 4.1, 4.1, null, null, 4.7, null, 5.0, 4.4, 3.3, 4.0, 3.5, 2.8, null, 3.6, 3.2, 3.6, 3.7, 3.3, 3.1, 4.1, 3.1, 3.5, 3.6, 5.0, 2.3, null, 3.1, 2.9, 3.0, 2.9, 3.9, 5.0, null, 3.4, 5.0, null, 4.8, null, 4.2, null, null, null, 5.0, null, 4.3, 4.6, 4.7, null, 4.4, 4.8, null, null, 4.1, null, 4.6, 4.3, 4.6, 4.0, 2.9, 4.1, null, null, null, null, 4.2, null, 4.3, 4.4, 2.4, 4.2, null, null, null, 3.1, null, 3.0, 4.7, 3.4, null, 4.7, 4.7, 4.2, 5.0, 4.5, 4.3, 3.3, 4.4, null, 4.2, 4.2, 4.7, 4.3, 4.8, 4.2, 4.0, 4.2, 4.1, 4.6, 4.6, 3.8, 4.5, 4.4, 4.1, 4.0, 3.9, 3.5, 5.0, 4.6, null, 3.6, 4.2, null, null, 3.8, null, 3.4, 3.8, 4.2, 4.2, 3.7, 4.0, 4.4, 4.5, 3.7, 4.2, 3.9, 4.0, 3.7, 4.2, 4.0, 3.9, 4.1, 4.3, 4.5, 4.5, 3.3, 4.4, 4.2, 4.2, 4.1, 4.1, 4.4, 4.1, 3.9, 3.9, 4.4, 3.8, 3.0, 3.4, 4.3, null, null, 5.0, null, 4.1, null, 2.4, 3.9, null, null, null, 4.0, null, 3.0, null, 4.4, 3.4, 2.9, 5.0, 4.5, 3.7, 3.0, null, 4.0, 3.2, 3.6, 3.2, 3.7, 4.7, 4.4, 3.9, 4.4, 4.3, 4.9, 2.6, 5.0, 4.1, 4.0, 4.1, null, 3.3, 4.2, 4.0, 4.3, null, 4.4, 5.0, 4.3, 4.4, null, null, null, 3.9, 4.3, 4.0, 3.8, 4.5, null, 3.8, 4.4, 4.3, 4.7, 3.9, 4.2, 3.8, 4.3, 3.8, 4.2, 4.5, 4.2, 3.6, 4.0, null, 3.5, 4.4, 3.5, 4.1, 4.8, 4.4, 4.3, 4.0, 4.2, 4.4, 3.5, 4.3, 4.4, 4.7, 5.0, 3.8, 5.0, 4.8, 4.9, 4.3, null, 5.0, null, 4.9, 4.9, 4.9, 4.5, null, 4.5, 5.0, 5.0, 3.0, null, null, 4.9, 5.0, 5.0, null, 4.1, null, 4.1, 4.3, 4.3, 4.1, 4.7, null, 4.9, 4.0, 5.0, 5.0, null, 4.6, 4.2, 3.7, 5.0, 4.3, 4.0, 4.3, 4.0, 4.0, 3.1, 3.4, 4.2, 4.2, 4.1, 3.4, null, 4.0, null, 3.9, 4.8, 4.1, 4.3, 4.3, 4.4, null, 4.4, 4.5, 4.5, 4.8, 4.4, 4.5, 4.6, 4.6, 4.5, null, 4.2, 4.4, 4.2, 4.7, 4.5, 4.2, 4.5, 4.2, 4.7, 4.1, 4.1, 4.6, 4.4, 4.5, 3.8, 3.9, 3.5, 3.8, 4.2, 4.6, 3.7, 4.4, 3.6, 3.4, 4.0, 4.3, 4.3, 4.5, 4.4, 4.5, 4.1, 4.4, 4.3, 4.5, 4.5, 4.2, 4.5, 4.3, 4.1, 4.6, 4.3, 4.0, 4.4, 4.4, null, 4.6, 4.6, 4.3, 4.3, 4.2, 4.5, 4.0, 4.6, 4.5, 3.8, 4.3, 4.3, 4.9, 4.0, 4.5, 4.1, 4.5, 4.2, 4.4, 4.4, 4.0, 4.3, 4.3, 4.4, 4.4, 4.0, 4.7, 4.2, 4.5, 4.1, 4.4, 4.1, 4.3, 3.5, 4.7, null, 2.6, 4.2, null, null, null, null, null, null, null, null, 5.0, null, 4.3, null, null, null, null, null, 4.4, 4.3, null, null, 4.1, null, 4.3, 4.5, null, 4.6, 4.6, 4.7, null, 4.3, 4.2, 4.5, 4.3, 4.5, 3.5, 4.3, 4.6, 4.5, 4.3, 4.4, null, null, null, 3.4, 4.3, 3.8, 4.5, null, null, null, 5.0, 4.9, null, null, 5.0, null, null, 4.2, 4.3, 4.4, 2.3, 4.7, null, null, null, 4.4, 4.3, 4.4, null, 4.0, 3.6, null, 4.1, 4.6, 3.9, 4.4, null, 3.7, 3.9, null, 4.3, 4.1, 3.6, 3.5, 3.9, 3.9, 3.8, 4.0, null, 4.5, 3.6, 3.9, 4.3, 4.0, 4.2, 3.7, 3.9, 4.2, 3.5, 4.0, 3.8, 4.1, 4.2, 4.1, 4.4, 3.7, null, 4.7, 3.8, 4.0, 4.2, 3.8, 3.9, 4.0, 3.1, 5.0, 3.5, 4.1, 4.5, 4.7, 4.1, null, 3.9, 4.0, 4.3, 3.1, null, 4.2, 4.1, 4.4, 3.2, null, 3.3, 4.3, 4.7, 4.3, 4.2, 4.7, 4.3, 4.2, 4.2, 4.2, 4.1, 4.2, 4.3, 4.4, 4.3, 3.5, 4.3, 1.8, 4.2, 4.2, 4.6, 4.0, 4.3, 5.0, 3.8, 4.3, 3.0, 5.0, 4.7, 4.6, 4.4, 4.7, 5.0, 4.8, 3.0, 4.6, 4.6, null, 4.1, 4.6, 4.5, 4.3, 4.2, 3.9, 4.7, 4.9, 4.3, 4.4, 3.6, 4.6, 4.5, null, 3.9, 4.3, 4.8, 3.7, 4.4, 4.2, 4.3, 4.6, 4.5, 3.9, 4.3, 4.4, 4.0, 4.7, 4.3, 4.5, 4.2, 4.2, 4.8, 4.6, 4.5, 4.0, 4.2, 4.1, 4.7, 4.2, 4.6, 4.5, 3.9, 3.6, 4.6, null, 3.4, 4.2, 3.4, 3.6, 4.2, 3.5, 4.3, null, 3.9, 4.3, 3.6, null, 3.9, 4.3, 3.7, null, 3.8, null, 4.1, 4.1, 4.7, 4.1, null, 1.9, 3.6, 3.8, null, 4.5, 2.7, null, 4.5, null, 5.0, 4.0, 4.2, null, null, 4.4, null, 4.0, null, 3.1, null, null, 5.0, null, null, null, null, null, null, null, null, null, 4.7, 3.7, 3.9, null, null, 3.0, null, null, null, null, null, 4.2, 3.0, null, null, 4.2, null, null, 4.2, 3.7, 4.6, 4.5, 4.6, 4.7, 4.3, 2.3, 2.8, 2.8, 3.6, 3.0, 3.2, 3.5, 3.8, 3.5, 4.2, null, 4.5, 3.4, 3.0, 4.4, 4.0, null, 4.3, null, 4.1, 3.6, 3.7, 4.2, 3.7, 4.3, null, null, 3.3, 4.4, 4.8, 3.5, 4.0, 4.9, 4.0, null, 4.6, 4.3, 3.6, 3.9, 3.9, 4.0, 4.2, 4.4, null, null, 4.3, null, null, null, null, 3.7, null, 4.3, null, null, 3.4, null, 3.5, null, 4.2, 4.2, null, 3.6, null, 3.9, 3.8, 3.8, 4.0, 4.5, 3.8, 4.9, 3.8, 4.1, 3.5, 3.0, 4.5, 4.7, 3.8, 3.3, 4.0, 4.1, 3.7, 3.9, 3.5, 4.4, 4.0, 4.0, 4.6, 4.4, 4.5, 4.3, 4.4, 4.3, 4.1, 4.2, 2.7, 4.2, 2.3, 3.9, 4.1, 2.9, 3.3, 4.2, 4.3, 2.9, 3.5, 2.8, null, 4.3, 3.5, 4.6, 4.2, 4.2, 3.7, 4.7, 3.9, 4.3, 4.4, 4.0, 4.4, 3.7, 4.3, 3.5, null, 4.3, 4.0, 4.5, 4.2, 4.3, 4.1, 2.5, 2.7, null, null, null, null, 1.2, null, null, null, 4.7, 4.9, 4.7, null, null, 4.4, 4.7, 4.0, null, 4.7, 4.3, null, 4.7, null, 4.4, null, null, null, null, null, null, 4.6, null, null, null, 4.4, 4.4, 4.4, 4.6, 3.1, 4.3, 3.7, 4.6, null, 4.1, 4.2, 4.4, 4.1, 3.6, 4.4, 3.8, 4.0, 3.2, 2.8, 3.1, 2.9, 4.1, 3.3, 3.5, 4.2, 2.8, 2.1, 4.4, 4.4, 4.2, 4.1, 3.3, 3.5, 4.7, 3.1, 4.3, 4.1, 4.2, 2.5, 3.9, 3.0, 3.2, 4.3, 4.3, 4.2, 4.3, 2.2, 3.9, 2.8, 4.4, 4.6, 4.4, 3.9, 2.9, 4.1, 5.0, 4.6, 3.7, null, 4.4, 4.2, 4.4, 3.9, 3.6, 3.4, null, 4.3, 4.3, 4.4, null, 4.3, 4.3, null, null, null, 4.4, null, 4.0, 4.5, 4.6, 4.3, 4.1, 4.4, 3.5, 4.1, 3.8, 4.2, 4.3, 4.5, 4.0, 4.0, 4.3, 4.1, 3.4, 4.0, 4.3, 4.7, 4.5, 4.3, 4.1, 4.1, 4.4, 4.6, null, 3.8, 3.9, 4.2, 4.2, 3.7, 4.3, 4.2, 3.6, 4.3, 4.3, 4.3, 4.5, 4.3, 4.7, 3.8, 4.0, 4.1, null, 3.9, 4.3, 3.4, null, 4.2, 4.5, 4.4, 4.2, 4.7, 4.6, 4.4, 4.4, 4.8, 4.6, 4.3, 4.4, 4.4, 3.3, 4.5, 4.6, 4.3, 4.9, 4.3, null, 4.5, 4.9, 3.7, 4.5, 4.6, 4.5, 4.1, 4.8, null, 5.0, 3.4, 4.5, 4.8, 4.5, 4.5, 4.5, 4.5, 4.5, 4.1, 4.1, 3.6, 4.7, 4.6, 4.9, 4.6, 4.1, 4.5, 3.9, 3.9, 4.6, 3.8, 4.7, 3.9, 4.1, 3.9, 4.0, 4.3, 4.0, 4.4, 4.1, 5.0, 4.8, null, 4.6, 5.0, 4.2, 4.7, 4.0, 4.4, 4.9, 3.5, 4.1, 4.2, 4.4, null, 4.5, 3.1, null, 4.5, 4.6, 4.3, 4.4, 4.6, 4.3, 4.8, 2.8, 4.1, 1.0, 3.0, 5.0, 4.5, null, null, null, null, null, null, null, 5.0, 4.1, null, null, null, 4.4, 3.0, null, 3.8, null, 3.9, null, null, null, 5.0, null, null, null, 4.5, null, null, null, 5.0, null, null, 3.3, null, 4.5, 4.9, null, null, null, null, null, null, 4.3, 4.5, 4.1, 4.8, 3.8, 4.1, 3.9, null, 4.2, 4.2, 4.8, 4.1, 4.1, 4.0, 3.9, 4.1, 4.1, 4.2, 3.7, 3.9, 3.9, 3.6, 3.7, 3.6, 4.3, 3.9, 4.5, 2.6, 4.4, null, 1.0, null, null, null, null, 4.2, 4.8, 5.0, 4.3, 4.4, 4.5, null, 4.9, null, null, null, 5.0, null, null, 4.2, 4.2, null, null, 4.0, 2.1, null, 4.2, null, 2.5, 4.4, 4.4, 4.6, null, null, 4.4, 4.2, 4.5, 3.3, 3.9, null, 4.5, 4.1, 4.8, 4.6, 4.4, 3.8, 3.7, 4.2, 3.7, 4.3, 4.5, 3.5, 4.0, 4.5, 2.9, 3.9, 3.6, 4.6, 2.1, 4.7, 4.5, 4.1, 4.5, 3.7, 2.9, 4.0, 4.2, 3.7, 3.6, 3.9, 3.4, 3.5, 19.0, 4.2, 3.4, 3.9, 3.0, 3.6, 3.2, 4.1, 4.1, 4.2, 4.2, null, 4.7, null, 4.6, 4.5, null, 4.3, 4.5, 4.5, 4.4, 4.3, null, null, null, null, 4.2, null, 3.7, null, 4.1, 4.3, 4.0, 3.5, 4.2, 4.4, 4.2, 4.4, null, 3.8, 3.9, 4.0, 3.8, 3.6, 4.2, null, 3.8, null, 3.7, 4.0, 4.2, 4.4, null, null, 4.4, 4.9, null, 5.0, null, 4.8, null, null, null, null, null, null, null, null, 4.0, null, null, null, null, null, null, null, null, 4.0, null, null, 4.9, null, 3.8, null, 4.9, null, null, null, null, null, 1.5, null, 5.0, null, 4.8, null, 3.9, 3.7, 4.6, 4.7, 4.6, 4.3, 4.2, 4.6, 4.7, 4.6, 2.0, 3.6, 3.2, 3.8, 4.0, 3.8, 3.8, 4.4, 4.4, 4.4, 3.8, 4.3, 4.6, 1.0, 3.2, 4.7, 4.3, 4.5, 4.1, 4.9, 4.1, 4.2, 3.5, 4.2, 5.0, 3.8, 4.7, null, null, 4.5, null, 5.0, 3.3, 5.0, null, 4.0, 4.5, 3.2, 4.5, 4.2, null, 3.7, 3.8, 5.0, null, 4.1, 2.9, null, null, null, 4.7, 5.0, 3.2, null, 3.8, 3.8, 4.6, 4.6, 4.4, 4.8, 4.2, 3.3, 3.9, 4.5, 3.9, 4.3, 4.4, 3.9, 4.6, 3.9, 3.4, 4.6, null, null, 4.2, null, null, 4.8, 5.0, null, null, 5.0, null, null, null, 3.8, null, 2.9, 4.6, 3.8, null, null, null, 4.1, null, 4.5, null, 4.2, null, 2.5, 3.5, 4.6, 4.4, 4.6, 4.3, 4.2, 4.2, 4.1, 4.2, 4.3, 4.5, 4.4, 5.0, 4.6, null, null, null, null, null, 5.0, null, null, null, null, null, 3.4, null, null, 4.6, 4.5, null, null, 3.8, 4.1, 4.4, 4.4, 4.4, 3.0, 4.2, 4.2, 3.9, 4.2, 4.4, 5.0, 4.0, 4.3, 4.6, 3.6, 4.4, 4.1, 4.2, 4.3, 4.5, 3.9, 4.3, 3.5, null, null, null, 4.0, 3.8, 3.6, 4.3, 4.2, 5.0, 3.4, null, null, null, 3.5, null, 3.7, 4.2, null, 3.6, 4.5, 4.2, 4.3, 4.4, 2.7, 4.1, null, 4.4, null, null, 4.5, null, 3.4, 2.9, 4.8, 3.8, null, 4.0, 3.9, null, null, null, null, 5.0, 3.9, 4.0, 3.6, 4.1, 4.3, 3.8, 4.2, 4.3, 4.2, 4.2, 4.1, null, 4.0, 4.1, 4.0, 4.2, 4.4, null, 4.2, 4.7, 4.6, null, 4.7, 4.1, 4.9, 4.0, 4.3, 4.2, 4.3, null, null, null, 4.7, 4.8, null, 4.1, null, 4.0, 4.2, null, 4.0, null, 3.3, 5.0, null, null, null, null, null, 4.0, 4.2, 3.4, 4.6, 3.8, null, 3.8, 4.8, 4.0, null, 4.5, 5.0, null, 4.5, 4.5], \"y0\": \" \", \"yaxis\": \"y\"}],\n",
              "                        {\"boxmode\": \"group\", \"legend\": {\"tracegroupgap\": 0}, \"margin\": {\"t\": 60}, \"template\": {\"data\": {\"bar\": [{\"error_x\": {\"color\": \"#2a3f5f\"}, \"error_y\": {\"color\": \"#2a3f5f\"}, \"marker\": {\"line\": {\"color\": \"#E5ECF6\", \"width\": 0.5}}, \"type\": \"bar\"}], \"barpolar\": [{\"marker\": {\"line\": {\"color\": \"#E5ECF6\", \"width\": 0.5}}, \"type\": \"barpolar\"}], \"carpet\": [{\"aaxis\": {\"endlinecolor\": \"#2a3f5f\", \"gridcolor\": \"white\", \"linecolor\": \"white\", \"minorgridcolor\": \"white\", \"startlinecolor\": \"#2a3f5f\"}, \"baxis\": {\"endlinecolor\": \"#2a3f5f\", \"gridcolor\": \"white\", \"linecolor\": \"white\", \"minorgridcolor\": \"white\", \"startlinecolor\": \"#2a3f5f\"}, \"type\": \"carpet\"}], \"choropleth\": [{\"colorbar\": {\"outlinewidth\": 0, \"ticks\": \"\"}, \"type\": \"choropleth\"}], \"contour\": [{\"colorbar\": {\"outlinewidth\": 0, \"ticks\": \"\"}, \"colorscale\": [[0.0, \"#0d0887\"], [0.1111111111111111, \"#46039f\"], [0.2222222222222222, \"#7201a8\"], [0.3333333333333333, \"#9c179e\"], [0.4444444444444444, \"#bd3786\"], [0.5555555555555556, \"#d8576b\"], [0.6666666666666666, \"#ed7953\"], [0.7777777777777778, \"#fb9f3a\"], [0.8888888888888888, \"#fdca26\"], [1.0, \"#f0f921\"]], \"type\": \"contour\"}], \"contourcarpet\": [{\"colorbar\": {\"outlinewidth\": 0, \"ticks\": \"\"}, \"type\": \"contourcarpet\"}], \"heatmap\": [{\"colorbar\": {\"outlinewidth\": 0, \"ticks\": \"\"}, \"colorscale\": [[0.0, \"#0d0887\"], [0.1111111111111111, \"#46039f\"], [0.2222222222222222, \"#7201a8\"], [0.3333333333333333, \"#9c179e\"], [0.4444444444444444, \"#bd3786\"], [0.5555555555555556, \"#d8576b\"], [0.6666666666666666, \"#ed7953\"], [0.7777777777777778, \"#fb9f3a\"], [0.8888888888888888, \"#fdca26\"], [1.0, \"#f0f921\"]], \"type\": \"heatmap\"}], \"heatmapgl\": [{\"colorbar\": {\"outlinewidth\": 0, \"ticks\": \"\"}, \"colorscale\": [[0.0, \"#0d0887\"], [0.1111111111111111, \"#46039f\"], [0.2222222222222222, \"#7201a8\"], [0.3333333333333333, \"#9c179e\"], [0.4444444444444444, \"#bd3786\"], [0.5555555555555556, \"#d8576b\"], [0.6666666666666666, \"#ed7953\"], [0.7777777777777778, \"#fb9f3a\"], [0.8888888888888888, \"#fdca26\"], [1.0, \"#f0f921\"]], \"type\": \"heatmapgl\"}], \"histogram\": [{\"marker\": {\"colorbar\": {\"outlinewidth\": 0, \"ticks\": \"\"}}, \"type\": \"histogram\"}], \"histogram2d\": [{\"colorbar\": {\"outlinewidth\": 0, \"ticks\": \"\"}, \"colorscale\": [[0.0, \"#0d0887\"], [0.1111111111111111, \"#46039f\"], [0.2222222222222222, \"#7201a8\"], [0.3333333333333333, \"#9c179e\"], [0.4444444444444444, \"#bd3786\"], [0.5555555555555556, \"#d8576b\"], [0.6666666666666666, \"#ed7953\"], [0.7777777777777778, \"#fb9f3a\"], [0.8888888888888888, \"#fdca26\"], [1.0, \"#f0f921\"]], \"type\": \"histogram2d\"}], \"histogram2dcontour\": [{\"colorbar\": {\"outlinewidth\": 0, \"ticks\": \"\"}, \"colorscale\": [[0.0, \"#0d0887\"], [0.1111111111111111, \"#46039f\"], [0.2222222222222222, \"#7201a8\"], [0.3333333333333333, \"#9c179e\"], [0.4444444444444444, \"#bd3786\"], [0.5555555555555556, \"#d8576b\"], [0.6666666666666666, \"#ed7953\"], [0.7777777777777778, \"#fb9f3a\"], [0.8888888888888888, \"#fdca26\"], [1.0, \"#f0f921\"]], \"type\": \"histogram2dcontour\"}], \"mesh3d\": [{\"colorbar\": {\"outlinewidth\": 0, \"ticks\": \"\"}, \"type\": \"mesh3d\"}], \"parcoords\": [{\"line\": {\"colorbar\": {\"outlinewidth\": 0, \"ticks\": \"\"}}, \"type\": \"parcoords\"}], \"pie\": [{\"automargin\": true, \"type\": \"pie\"}], \"scatter\": [{\"marker\": {\"colorbar\": {\"outlinewidth\": 0, \"ticks\": \"\"}}, \"type\": \"scatter\"}], \"scatter3d\": [{\"line\": {\"colorbar\": {\"outlinewidth\": 0, \"ticks\": \"\"}}, \"marker\": {\"colorbar\": {\"outlinewidth\": 0, \"ticks\": \"\"}}, \"type\": \"scatter3d\"}], \"scattercarpet\": [{\"marker\": {\"colorbar\": {\"outlinewidth\": 0, \"ticks\": \"\"}}, \"type\": \"scattercarpet\"}], \"scattergeo\": [{\"marker\": {\"colorbar\": {\"outlinewidth\": 0, \"ticks\": \"\"}}, \"type\": \"scattergeo\"}], \"scattergl\": [{\"marker\": {\"colorbar\": {\"outlinewidth\": 0, \"ticks\": \"\"}}, \"type\": \"scattergl\"}], \"scattermapbox\": [{\"marker\": {\"colorbar\": {\"outlinewidth\": 0, \"ticks\": \"\"}}, \"type\": \"scattermapbox\"}], \"scatterpolar\": [{\"marker\": {\"colorbar\": {\"outlinewidth\": 0, \"ticks\": \"\"}}, \"type\": \"scatterpolar\"}], \"scatterpolargl\": [{\"marker\": {\"colorbar\": {\"outlinewidth\": 0, \"ticks\": \"\"}}, \"type\": \"scatterpolargl\"}], \"scatterternary\": [{\"marker\": {\"colorbar\": {\"outlinewidth\": 0, \"ticks\": \"\"}}, \"type\": \"scatterternary\"}], \"surface\": [{\"colorbar\": {\"outlinewidth\": 0, \"ticks\": \"\"}, \"colorscale\": [[0.0, \"#0d0887\"], [0.1111111111111111, \"#46039f\"], [0.2222222222222222, \"#7201a8\"], [0.3333333333333333, \"#9c179e\"], [0.4444444444444444, \"#bd3786\"], [0.5555555555555556, \"#d8576b\"], [0.6666666666666666, \"#ed7953\"], [0.7777777777777778, \"#fb9f3a\"], [0.8888888888888888, \"#fdca26\"], [1.0, \"#f0f921\"]], \"type\": \"surface\"}], \"table\": [{\"cells\": {\"fill\": {\"color\": \"#EBF0F8\"}, \"line\": {\"color\": \"white\"}}, \"header\": {\"fill\": {\"color\": \"#C8D4E3\"}, \"line\": {\"color\": \"white\"}}, \"type\": \"table\"}]}, \"layout\": {\"annotationdefaults\": {\"arrowcolor\": \"#2a3f5f\", \"arrowhead\": 0, \"arrowwidth\": 1}, \"coloraxis\": {\"colorbar\": {\"outlinewidth\": 0, \"ticks\": \"\"}}, \"colorscale\": {\"diverging\": [[0, \"#8e0152\"], [0.1, \"#c51b7d\"], [0.2, \"#de77ae\"], [0.3, \"#f1b6da\"], [0.4, \"#fde0ef\"], [0.5, \"#f7f7f7\"], [0.6, \"#e6f5d0\"], [0.7, \"#b8e186\"], [0.8, \"#7fbc41\"], [0.9, \"#4d9221\"], [1, \"#276419\"]], \"sequential\": [[0.0, \"#0d0887\"], [0.1111111111111111, \"#46039f\"], [0.2222222222222222, \"#7201a8\"], [0.3333333333333333, \"#9c179e\"], [0.4444444444444444, \"#bd3786\"], [0.5555555555555556, \"#d8576b\"], [0.6666666666666666, \"#ed7953\"], [0.7777777777777778, \"#fb9f3a\"], [0.8888888888888888, \"#fdca26\"], [1.0, \"#f0f921\"]], \"sequentialminus\": [[0.0, \"#0d0887\"], [0.1111111111111111, \"#46039f\"], [0.2222222222222222, \"#7201a8\"], [0.3333333333333333, \"#9c179e\"], [0.4444444444444444, \"#bd3786\"], [0.5555555555555556, \"#d8576b\"], [0.6666666666666666, \"#ed7953\"], [0.7777777777777778, \"#fb9f3a\"], [0.8888888888888888, \"#fdca26\"], [1.0, \"#f0f921\"]]}, \"colorway\": [\"#636efa\", \"#EF553B\", \"#00cc96\", \"#ab63fa\", \"#FFA15A\", \"#19d3f3\", \"#FF6692\", \"#B6E880\", \"#FF97FF\", \"#FECB52\"], \"font\": {\"color\": \"#2a3f5f\"}, \"geo\": {\"bgcolor\": \"white\", \"lakecolor\": \"white\", \"landcolor\": \"#E5ECF6\", \"showlakes\": true, \"showland\": true, \"subunitcolor\": \"white\"}, \"hoverlabel\": {\"align\": \"left\"}, \"hovermode\": \"closest\", \"mapbox\": {\"style\": \"light\"}, \"paper_bgcolor\": \"white\", \"plot_bgcolor\": \"#E5ECF6\", \"polar\": {\"angularaxis\": {\"gridcolor\": \"white\", \"linecolor\": \"white\", \"ticks\": \"\"}, \"bgcolor\": \"#E5ECF6\", \"radialaxis\": {\"gridcolor\": \"white\", \"linecolor\": \"white\", \"ticks\": \"\"}}, \"scene\": {\"xaxis\": {\"backgroundcolor\": \"#E5ECF6\", \"gridcolor\": \"white\", \"gridwidth\": 2, \"linecolor\": \"white\", \"showbackground\": true, \"ticks\": \"\", \"zerolinecolor\": \"white\"}, \"yaxis\": {\"backgroundcolor\": \"#E5ECF6\", \"gridcolor\": \"white\", \"gridwidth\": 2, \"linecolor\": \"white\", \"showbackground\": true, \"ticks\": \"\", \"zerolinecolor\": \"white\"}, \"zaxis\": {\"backgroundcolor\": \"#E5ECF6\", \"gridcolor\": \"white\", \"gridwidth\": 2, \"linecolor\": \"white\", \"showbackground\": true, \"ticks\": \"\", \"zerolinecolor\": \"white\"}}, \"shapedefaults\": {\"line\": {\"color\": \"#2a3f5f\"}}, \"ternary\": {\"aaxis\": {\"gridcolor\": \"white\", \"linecolor\": \"white\", \"ticks\": \"\"}, \"baxis\": {\"gridcolor\": \"white\", \"linecolor\": \"white\", \"ticks\": \"\"}, \"bgcolor\": \"#E5ECF6\", \"caxis\": {\"gridcolor\": \"white\", \"linecolor\": \"white\", \"ticks\": \"\"}}, \"title\": {\"x\": 0.05}, \"xaxis\": {\"automargin\": true, \"gridcolor\": \"white\", \"linecolor\": \"white\", \"ticks\": \"\", \"title\": {\"standoff\": 15}, \"zerolinecolor\": \"white\", \"zerolinewidth\": 2}, \"yaxis\": {\"automargin\": true, \"gridcolor\": \"white\", \"linecolor\": \"white\", \"ticks\": \"\", \"title\": {\"standoff\": 15}, \"zerolinecolor\": \"white\", \"zerolinewidth\": 2}}}, \"xaxis\": {\"anchor\": \"y\", \"domain\": [0.0, 1.0]}, \"yaxis\": {\"anchor\": \"x\", \"domain\": [0.0, 1.0], \"title\": {\"text\": \"Rating\"}}},\n",
              "                        {\"responsive\": true}\n",
              "                    ).then(function(){\n",
              "                            \n",
              "var gd = document.getElementById('cfc36ac5-3574-40c7-a61a-42642be48777');\n",
              "var x = new MutationObserver(function (mutations, observer) {{\n",
              "        var display = window.getComputedStyle(gd).display;\n",
              "        if (!display || display === 'none') {{\n",
              "            console.log([gd, 'removed!']);\n",
              "            Plotly.purge(gd);\n",
              "            observer.disconnect();\n",
              "        }}\n",
              "}});\n",
              "\n",
              "// Listen for the removal of the full notebook cells\n",
              "var notebookContainer = gd.closest('#notebook-container');\n",
              "if (notebookContainer) {{\n",
              "    x.observe(notebookContainer, {childList: true});\n",
              "}}\n",
              "\n",
              "// Listen for the clearing of the current output cell\n",
              "var outputEl = gd.closest('.output');\n",
              "if (outputEl) {{\n",
              "    x.observe(outputEl, {childList: true});\n",
              "}}\n",
              "\n",
              "                        })\n",
              "                };\n",
              "                \n",
              "            </script>\n",
              "        </div>\n",
              "</body>\n",
              "</html>"
            ]
          },
          "metadata": {
            "tags": []
          }
        }
      ]
    },
    {
      "cell_type": "code",
      "metadata": {
        "colab": {
          "base_uri": "https://localhost:8080/",
          "height": 542
        },
        "id": "GeN-qO4rT_YB",
        "outputId": "0c2e49cd-89c3-4479-dac5-9bd2c7280b72"
      },
      "source": [
        "fig = px.histogram(data_df,x=\"Rating\")\n",
        "fig.show()    #The data is right skewed!"
      ],
      "execution_count": null,
      "outputs": [
        {
          "output_type": "display_data",
          "data": {
            "text/html": [
              "<html>\n",
              "<head><meta charset=\"utf-8\" /></head>\n",
              "<body>\n",
              "    <div>\n",
              "            <script src=\"https://cdnjs.cloudflare.com/ajax/libs/mathjax/2.7.5/MathJax.js?config=TeX-AMS-MML_SVG\"></script><script type=\"text/javascript\">if (window.MathJax) {MathJax.Hub.Config({SVG: {font: \"STIX-Web\"}});}</script>\n",
              "                <script type=\"text/javascript\">window.PlotlyConfig = {MathJaxConfig: 'local'};</script>\n",
              "        <script src=\"https://cdn.plot.ly/plotly-latest.min.js\"></script>    \n",
              "            <div id=\"3f5f68ef-d04e-480d-8ddc-b8e810f5d7bc\" class=\"plotly-graph-div\" style=\"height:525px; width:100%;\"></div>\n",
              "            <script type=\"text/javascript\">\n",
              "                \n",
              "                    window.PLOTLYENV=window.PLOTLYENV || {};\n",
              "                    \n",
              "                if (document.getElementById(\"3f5f68ef-d04e-480d-8ddc-b8e810f5d7bc\")) {\n",
              "                    Plotly.newPlot(\n",
              "                        '3f5f68ef-d04e-480d-8ddc-b8e810f5d7bc',\n",
              "                        [{\"alignmentgroup\": \"True\", \"bingroup\": \"x\", \"hoverlabel\": {\"namelength\": 0}, \"hovertemplate\": \"Rating=%{x}<br>count=%{y}\", \"legendgroup\": \"\", \"marker\": {\"color\": \"#636efa\"}, \"name\": \"\", \"offsetgroup\": \"\", \"orientation\": \"v\", \"showlegend\": false, \"type\": \"histogram\", \"x\": [4.1, 3.9, 4.7, 4.5, 4.3, 4.4, 3.8, 4.1, 4.4, 4.7, 4.4, 4.4, 4.2, 4.6, 4.4, 3.2, 4.7, 4.5, 4.3, 4.6, 4.0, 4.1, 4.7, null, 4.7, 4.8, 4.7, 4.1, 3.9, 4.1, 4.2, 4.1, 4.5, 4.2, 4.7, 3.8, 4.7, 4.1, 4.7, 4.0, 4.2, 4.5, 4.4, 3.8, 4.2, 4.7, 4.6, 4.2, 4.3, 4.2, 4.0, 3.8, 4.6, 3.9, 4.3, 4.9, 4.4, 4.2, 4.0, 3.9, 4.6, 4.9, 4.3, 4.6, 4.9, 3.9, 4.0, 4.3, 3.9, 4.2, 4.8, 3.6, 4.2, 4.8, 4.8, 4.6, 4.5, 4.3, 4.5, 4.9, 3.9, 4.4, 4.0, 4.3, 3.7, 4.4, 4.3, 3.2, 4.6, 4.6, 4.5, 3.7, 4.6, 4.6, 4.6, 4.0, 4.4, 4.0, 4.7, 4.9, 4.7, 3.9, 3.9, 4.2, 4.6, 4.3, 4.7, 4.7, 4.8, 4.2, 4.3, 4.5, 4.1, null, 4.2, 4.5, 4.4, 4.0, 4.1, 4.1, 4.4, 4.6, 4.5, null, 3.9, 4.4, null, 4.6, 3.8, null, null, 4.0, 4.3, 4.5, null, 4.1, 3.7, 4.7, 4.2, 4.6, 4.5, 4.6, 4.4, 4.2, 4.5, 4.5, 4.5, 4.5, 4.4, 4.5, 4.6, 4.8, 3.9, 4.6, 4.2, 4.1, 4.7, 4.2, 4.3, 3.3, 4.6, 4.8, 4.7, null, 4.1, 4.6, 4.1, 4.6, 4.7, 4.5, 3.9, 4.4, 4.3, 4.2, 4.5, 4.4, 3.4, 4.9, 4.6, 4.4, null, 4.4, 4.4, 4.4, 3.5, null, 4.4, 4.1, 4.3, 4.4, 4.3, 4.3, 4.1, 4.4, 4.3, 3.9, 4.8, 4.5, 4.4, 4.0, 4.3, 4.0, 4.2, 4.5, 4.2, 4.2, 4.6, 4.1, 4.6, 3.1, 3.9, 4.3, 4.1, 4.4, 4.1, 4.1, 4.5, 4.4, 4.4, 4.3, 4.4, 4.6, 4.2, 4.4, 4.7, 3.8, 3.9, null, 4.3, 4.2, 4.4, 4.7, 4.5, 4.2, 4.7, 4.8, 4.2, 4.2, 4.3, 4.4, 4.4, 4.1, 3.8, 4.3, 3.8, 3.5, 4.1, 4.6, 4.3, 4.5, 4.1, 4.5, 4.6, 4.0, 4.2, 4.4, 4.4, 4.0, 4.2, 4.2, 4.1, 4.0, 3.8, 3.9, 3.9, 4.2, 4.2, 4.3, 4.4, 4.4, 4.1, 3.8, 4.3, 3.8, 3.5, 4.1, 4.6, 4.3, 4.5, 4.1, 4.5, 4.6, 4.0, 4.2, 4.3, 4.2, 4.4, 4.7, 4.5, 4.2, 4.7, 4.8, 4.1, 4.3, 4.4, 4.5, 4.3, 4.5, 4.6, 4.7, 4.7, 4.8, 3.9, 4.1, 4.4, 4.6, 4.5, 4.7, 4.4, 4.5, 3.9, 3.2, 3.2, 4.1, 4.5, 4.2, 4.2, 3.7, 4.5, 4.6, 4.5, null, 4.7, 4.4, 3.5, 3.3, 4.5, 4.4, 4.2, 5.0, 4.4, 4.7, 4.4, 4.4, 4.6, 4.0, 4.4, 4.3, 4.3, 4.4, 4.3, 4.0, 4.3, 4.3, 4.4, 4.3, 4.3, 4.3, 4.3, 4.3, 4.0, 4.5, 4.3, 3.7, 4.5, 3.9, 4.4, 3.6, 4.4, 4.2, 4.4, 4.1, 4.4, 4.3, 4.2, 4.2, 4.4, 4.4, 3.9, 4.2, 4.4, 4.6, 4.3, 4.3, 4.4, 3.7, 4.3, 3.9, 4.5, 3.7, 4.3, 4.4, 4.0, 4.3, 4.0, 4.3, 4.0, 4.1, 4.2, 4.2, 4.2, 4.1, 4.4, 4.3, 4.2, 4.4, 4.2, 4.1, 4.3, 4.3, 4.5, 4.3, 4.2, 4.2, 4.5, 4.3, 4.3, 4.3, 4.4, 4.2, 4.3, 4.3, 4.4, 4.6, 4.3, 4.4, 4.2, 4.5, 4.5, 4.4, 4.5, 4.1, 4.2, 4.1, 4.3, 4.1, 4.2, 4.0, 4.2, 4.2, 4.2, 4.3, 4.3, 4.4, 4.2, 4.4, 4.1, 4.2, 4.8, 4.4, 4.4, 4.4, 4.0, 4.5, 4.4, 4.1, 4.2, 4.5, 4.3, 4.5, 4.0, 4.3, 4.3, 4.2, 4.5, 4.6, 4.1, 4.0, 4.2, 4.6, 4.1, 4.3, 4.2, 4.3, 4.0, 4.3, 4.2, 4.3, 4.1, 4.2, 4.1, 4.6, 4.3, 4.2, 4.2, 4.3, 4.2, 2.6, null, null, null, 3.5, 4.0, 4.1, 3.7, 4.1, 4.2, 4.5, 4.4, 4.2, 4.0, 4.1, 3.1, 4.4, 4.2, 4.1, 3.9, 4.3, 4.4, 3.5, 4.0, 3.3, 4.5, 4.4, 4.1, 3.9, 3.9, 3.6, 4.0, 3.6, 3.4, 4.2, 4.1, 3.4, 3.0, 4.6, 4.1, 3.9, 1.9, 3.5, 2.5, 3.9, 3.4, 3.5, 4.4, 3.8, 4.2, 2.5, 2.8, 4.1, 4.2, 3.5, 4.3, 3.3, 4.1, 4.2, 3.5, 4.2, 4.4, 4.1, 4.2, 4.3, 4.1, 4.0, 4.1, 4.2, 3.0, 4.4, 4.5, 2.5, 4.1, 4.2, 4.0, 4.1, 1.9, 3.3, 4.4, 4.1, 3.8, 4.1, 4.2, 4.0, 4.5, 3.7, 3.9, 3.5, 3.9, 4.0, 4.6, 4.0, 4.1, 4.2, 3.3, 4.4, 4.3, 4.2, 3.9, 4.3, 3.4, 4.2, 4.1, 4.0, 3.6, 4.2, 3.5, 4.0, 4.1, 4.1, 2.8, 4.4, 4.4, 4.2, 4.1, 4.2, 3.9, 4.1, 4.2, 3.9, 4.0, 4.2, 4.5, 3.9, 3.6, 4.4, 3.5, 4.4, 4.8, 4.6, 4.7, 4.8, null, 2.7, 5.0, null, 4.8, 5.0, 4.8, null, 4.9, 3.0, null, null, 4.7, null, null, 1.0, null, null, null, null, null, null, null, 5.0, 4.7, null, 5.0, null, null, null, 5.0, null, null, null, null, 3.0, 4.1, null, null, null, null, null, null, null, 5.0, 3.7, 4.5, 4.2, null, null, null, 4.3, 4.1, 1.9, 4.1, 4.4, null, 3.9, 3.9, null, 4.0, 4.4, 4.7, 3.8, 4.4, 4.4, 3.6, 4.4, 2.7, 4.3, 4.6, 2.8, 3.5, null, 3.4, 4.8, 4.7, 4.8, 4.8, 4.7, 4.1, 3.5, 4.7, 3.8, 2.9, 4.5, 3.3, 4.1, null, 4.7, 4.6, 4.7, 4.6, 4.7, null, 4.5, 4.7, 4.8, 4.6, 4.6, 4.6, 4.2, 4.9, 3.8, 4.2, 4.4, 4.4, 4.3, 4.5, 4.4, 4.6, 3.9, 4.4, 4.3, 4.4, 4.2, 4.4, 4.0, 4.2, 3.8, 4.5, 4.7, 4.5, 4.3, 4.2, 4.3, 4.7, 4.7, 4.6, 4.6, 4.6, 4.5, 4.4, 4.6, 4.5, 4.5, 4.2, 4.4, 4.4, 4.2, 4.5, 4.1, 4.0, 4.1, 4.3, 4.3, 4.3, 4.5, 4.6, 4.1, 4.6, 4.7, 4.7, 4.3, 4.7, 4.6, 4.6, 4.6, 4.3, 4.2, 4.0, 4.5, 4.2, 4.1, 4.4, 4.0, 4.5, 4.4, 4.0, 4.2, 4.3, 4.2, 4.6, 4.6, 4.7, 4.6, 4.4, 4.5, 4.3, 4.6, 4.5, 4.2, 4.2, 4.7, 4.5, 4.6, 4.3, 4.2, 4.7, 4.7, 4.4, 4.5, 4.4, 4.0, 4.6, 4.4, 4.7, 4.7, 4.3, 4.1, 4.2, 4.3, 4.3, 4.3, 4.0, 4.2, 4.0, 4.0, 3.8, 4.6, 4.1, 3.9, 4.1, 4.5, 4.2, 4.4, 4.7, 4.0, 4.4, 4.4, 4.0, 4.5, 4.7, 4.3, 4.5, 4.3, 4.1, 4.3, 4.5, 4.2, 4.6, 3.5, 4.2, 4.4, 4.4, 4.6, 4.3, 4.5, 4.8, 4.4, 4.1, 4.9, 4.7, 4.7, 4.7, 4.4, 4.0, 4.2, 4.3, 4.5, 3.5, 4.2, 3.1, 4.6, 4.2, 4.3, 4.3, 4.1, 3.8, 3.4, 4.3, 4.4, 4.4, 4.0, 3.7, 3.9, 4.5, 4.4, 4.3, 4.2, 4.2, 4.5, 4.7, 4.5, 4.5, 3.4, 4.2, 4.3, 4.2, 4.6, 4.1, 4.2, 4.2, 4.3, 4.4, 3.9, 4.1, 4.3, 4.5, 4.6, 3.6, 4.3, 4.3, 4.2, 4.4, 4.1, 4.1, 4.2, 3.9, 4.2, 3.7, 4.5, 3.7, 3.8, 4.3, 3.0, 4.1, 4.2, 4.1, 3.9, 4.0, 4.4, 4.2, 4.0, 3.9, 4.0, 4.2, 4.0, 4.3, 3.9, 4.2, 4.4, 4.3, 3.7, 4.3, 3.7, 3.8, 4.2, 4.0, 3.9, 4.4, 4.5, 4.1, 4.1, 3.9, 4.5, 4.0, 4.1, 3.6, 3.8, 4.0, 4.2, 3.7, 3.8, 3.7, 4.1, 3.7, 3.9, 4.4, 4.3, 3.9, 3.7, 3.7, 4.2, 4.3, 4.0, 4.1, 3.9, 4.5, 3.9, 4.1, 4.3, 4.4, 4.1, 4.0, 3.9, 3.9, 4.0, 4.1, 4.2, 3.8, 4.0, 3.9, 4.2, 3.7, 3.9, 4.2, 4.3, 4.3, 4.6, 4.3, 4.6, 4.2, 4.6, 4.5, 4.6, 3.9, 4.2, 4.4, 4.2, 4.3, 4.6, 4.3, 4.5, 4.0, 4.0, 4.5, 4.5, 4.0, 4.0, 4.2, 4.4, 4.6, null, 4.6, 4.1, 4.6, 4.4, 4.6, 4.9, 4.5, 4.6, 4.7, 4.3, null, null, 4.2, 4.3, 5.0, 4.4, 5.0, 4.5, null, null, null, 4.5, 4.8, 4.4, 5.0, null, 3.7, null, 4.1, null, 4.8, null, null, 4.6, 4.4, 4.4, 3.6, 3.7, 3.8, 4.2, 4.2, 4.2, 3.3, 3.4, 4.3, 4.2, 4.7, 4.1, 4.7, 4.0, 3.6, 4.0, 3.6, 4.3, 4.2, 4.2, 4.1, 4.0, 4.1, 4.4, 4.7, 4.5, 4.3, 4.6, 4.3, 4.0, 4.5, 4.5, 3.6, 4.2, 4.1, 3.5, 4.4, 4.0, 4.5, 4.2, 4.6, 4.2, 4.8, 4.5, 4.2, 4.3, 4.2, 4.4, 4.4, 4.6, 4.2, 4.6, 4.6, 4.4, 4.3, 4.2, 4.2, 3.8, 4.5, 4.6, 4.6, 4.7, 4.6, 4.6, 4.7, 3.8, 4.3, 4.3, 4.5, 4.6, 4.6, 4.7, 4.5, 4.4, 3.9, 4.5, 4.6, 4.1, 4.5, 4.4, 4.5, 4.6, 4.2, 4.4, 4.1, 3.9, 4.6, 4.5, 3.7, 4.1, 4.4, 4.6, 4.5, 4.3, 4.3, 4.3, 4.4, 4.3, 4.4, 4.3, 4.4, 4.1, 4.4, 4.2, 4.3, 4.4, 4.3, 4.3, 3.9, 4.1, 4.1, 4.2, 4.5, 4.2, 4.7, 4.4, 4.6, 4.6, 4.4, 4.6, 4.3, 4.0, 4.4, 4.6, 4.2, 4.1, 3.6, null, 4.1, 4.6, null, 4.7, 4.7, 4.7, 4.7, 4.1, 3.4, 3.8, 3.7, 4.2, 3.1, 3.5, 4.7, 4.5, 4.2, 4.3, 4.0, 4.5, 4.6, 4.7, 4.1, 4.3, 3.8, 4.4, 4.3, 4.2, 4.3, 3.8, 4.3, 3.7, 4.5, 3.6, 4.8, 3.3, 4.7, 4.6, 4.6, 3.4, 4.6, 4.0, 4.1, 4.5, 4.4, 4.5, 4.0, 4.1, 4.5, 4.6, 4.1, 4.5, 4.6, 4.5, 4.3, 3.6, 4.4, 4.6, 4.1, 4.3, 3.9, 4.5, 4.1, 3.6, 4.7, 4.3, 4.7, 4.6, 4.4, 4.2, 4.5, 4.3, 4.2, 4.5, 4.5, 4.3, 4.0, 4.3, 4.8, 4.0, 4.9, 4.8, 4.9, 4.8, 4.4, 3.3, 4.7, 4.6, 4.8, 4.8, 4.8, 4.5, 4.4, 4.5, 4.5, 4.5, 4.8, 3.9, 4.6, 4.5, 4.5, 4.7, 4.7, 4.4, 4.2, 3.9, 4.2, 4.4, 4.6, 4.6, 4.2, 4.5, 4.7, 4.5, 4.5, 3.7, 4.5, 4.6, 4.6, 4.7, 4.5, 4.5, 4.6, 4.0, 4.3, 4.4, 4.5, 4.2, 4.6, 4.9, 4.5, 4.5, 4.6, 4.5, 4.6, 4.6, 4.5, 4.5, 4.4, 3.9, 4.5, 4.4, 4.6, 4.4, 4.5, 4.5, 4.6, 4.5, 4.4, 4.4, 4.4, 4.2, 4.5, 4.5, 4.4, 4.3, 4.6, 4.6, 4.9, 4.4, 4.3, 4.1, 4.6, 4.8, 4.5, 4.7, 4.6, 4.3, 4.4, 4.4, 4.6, 4.3, 4.6, 4.6, 4.5, 4.6, 4.6, 4.5, 4.1, 4.5, 4.6, 4.5, 4.8, 4.8, 4.6, 4.5, 4.1, 4.4, 4.2, 4.5, 4.3, 4.6, 4.0, 4.6, 4.5, 4.4, 4.5, 4.6, 4.4, 4.7, 4.4, 4.2, 4.5, 4.2, 4.4, 4.5, 4.6, 4.6, 4.6, 4.5, 4.5, 4.4, 4.4, 4.5, 4.5, 4.0, 4.6, 4.1, 4.0, 4.4, 4.4, 4.1, 3.5, 4.3, 4.5, 4.2, 4.6, 4.4, 4.5, 4.0, 4.5, 4.6, 4.4, 4.4, 4.1, 4.0, 4.1, 4.1, 4.2, 4.5, 3.5, 4.3, 4.2, 4.6, 4.4, 4.5, 4.4, 3.7, 4.3, 4.5, 4.6, 4.7, 4.6, 4.6, 4.0, 4.4, 4.4, 4.8, 4.6, 4.2, 4.6, 4.1, 4.4, 4.5, 4.3, 4.7, 4.6, 4.4, 4.5, 4.8, 4.2, 4.5, 4.1, 4.1, 4.0, 4.3, 4.5, null, 4.6, 3.7, 3.7, 4.2, 4.5, 4.3, 3.9, 4.6, 4.3, 4.4, 4.6, 4.5, 3.8, null, 4.4, 4.7, 3.4, 4.3, 4.3, 4.0, 4.0, 3.8, null, 4.3, 3.6, 3.8, 4.5, 4.6, null, 4.5, 4.7, 4.3, 3.7, null, 4.2, 3.4, 3.9, 4.0, 4.0, 4.0, 4.6, 4.0, 4.1, 3.9, 4.4, 4.4, 4.3, 4.6, 4.5, 4.5, 4.5, 4.5, 4.3, 4.2, 4.4, 4.3, 4.6, 4.1, 3.9, 4.4, 4.6, null, 4.1, null, null, 3.8, 4.6, 3.5, 4.7, 4.3, 4.5, 4.4, 3.4, 4.3, null, 4.3, 4.6, 4.6, null, 4.2, null, null, 4.6, null, null, 4.4, 3.9, 4.5, 3.8, 4.3, 3.7, 5.0, 3.2, 4.5, 4.7, 4.0, null, 4.1, 3.8, 4.7, 4.5, null, 4.2, null, 4.1, 3.1, 4.1, 4.1, 4.3, 4.0, 4.6, 4.4, 4.4, 4.3, 4.6, 3.2, 4.5, 4.6, 4.6, 4.3, 3.0, 4.4, 4.4, 4.3, 3.5, 4.3, 4.5, 3.7, 4.5, 4.2, 4.3, 4.6, 4.5, 3.9, 4.3, 3.3, 4.7, 4.2, 3.2, 4.4, 3.5, 3.7, 3.8, 3.8, 3.7, 4.6, 4.0, 3.6, 3.8, 4.1, 4.7, 3.9, 4.1, 4.6, 4.2, 3.6, 4.6, 4.2, 4.4, 4.6, 4.7, 4.1, 3.9, 4.0, 4.1, 4.6, 4.1, 4.1, 4.1, 4.4, 3.8, 4.3, 4.1, 4.1, 4.1, 4.4, 3.8, 4.3, 4.4, 4.2, 4.4, 4.3, 4.1, 4.0, 4.2, 4.1, 3.9, 4.4, 4.6, 4.5, 4.5, 4.8, 4.4, 4.5, 4.5, 4.6, 4.5, 4.5, 4.5, 4.4, 4.7, 4.5, 4.2, 4.4, 4.6, 4.3, 4.3, 4.2, 4.6, 4.4, 4.4, 4.5, 4.4, 4.3, 4.6, 4.3, 4.2, 4.2, 4.5, 4.5, 4.5, 4.7, 4.7, 4.5, 4.4, 4.3, 3.8, 4.6, 4.6, 4.4, 4.3, 4.1, 4.3, 4.4, 4.6, 4.3, 4.4, 4.7, 4.5, 4.4, 4.6, 4.5, 4.4, 4.6, 4.5, 4.5, 4.3, 4.5, 4.6, 4.4, 4.4, 4.5, 4.7, 4.6, 4.5, 4.5, 4.7, 4.5, 4.8, 4.7, 4.4, 4.6, 4.5, 4.6, 4.7, 4.6, 4.5, 4.6, 4.5, 4.6, 4.4, 4.7, 4.3, 4.3, 4.4, 4.3, 4.5, 4.4, 4.5, 4.4, 4.5, 4.6, 4.7, 4.6, 4.4, 4.4, 4.5, 4.6, 4.3, 4.5, 4.5, 4.4, 4.5, 4.2, 4.5, 4.4, 4.7, 4.2, 4.5, 4.5, 4.6, 4.4, 4.5, 4.3, 4.3, 4.5, 4.7, 4.7, 4.1, 4.8, 4.4, 4.2, 4.4, 4.7, 4.3, 4.7, 4.2, 4.3, 4.4, 4.1, 4.1, 4.2, 4.5, 4.7, 4.6, 4.5, 3.1, 4.1, 3.4, 4.4, 4.3, 4.6, 4.4, 4.3, 4.6, 4.2, 4.2, 4.5, 4.4, 4.2, 4.5, 4.8, 4.4, 4.6, 4.5, 4.3, 4.6, 4.4, 4.4, 4.5, 4.6, 4.6, 4.6, 4.1, 4.5, 4.6, 4.4, 4.7, 4.6, 4.3, 4.5, 4.6, 4.2, 4.5, 4.8, 4.1, 4.3, 4.4, 4.0, 4.2, 4.0, 4.2, 4.5, 4.7, 4.2, 4.4, 4.6, 4.9, 4.4, 4.5, 4.6, 4.2, 4.5, 4.6, 4.6, 4.5, 4.4, 4.6, 4.5, 4.6, 4.4, 4.4, 4.3, 4.3, 4.6, 4.3, 4.3, 4.6, 4.5, 4.5, 4.2, 4.7, 4.3, 4.0, 4.4, 4.3, 4.6, 4.7, 4.4, 4.7, 4.4, 4.3, 4.2, 4.4, 4.5, 4.5, 4.5, 4.4, 4.3, 4.5, 4.7, 4.7, 4.6, 4.6, 4.4, 4.4, 4.7, 4.6, 4.5, 4.3, 4.3, 4.3, 4.6, 4.8, 4.5, 4.4, 4.5, 4.5, 4.6, 4.6, 4.6, 4.6, 4.7, 4.5, 4.5, 4.5, 4.6, 4.5, 4.4, 4.4, 4.6, 4.7, 4.5, 4.4, 4.6, 4.7, 4.6, 4.5, 4.4, 4.5, 4.3, 4.5, 4.2, 4.5, 4.3, 4.4, 4.7, 4.6, 4.7, 4.6, 4.4, 4.6, 4.5, 4.3, 4.5, 4.5, 4.6, 4.6, 4.3, 4.6, 4.5, 4.7, 4.5, 4.7, 4.7, 4.6, 4.4, 4.3, 4.5, 4.3, 4.4, 4.2, 4.3, 4.5, 4.4, 4.7, 4.2, 4.1, 4.5, 4.5, 4.5, 4.1, 4.3, 4.5, 4.4, 4.5, 4.6, 4.0, 4.3, 4.5, 4.4, 4.4, 4.6, 4.2, 4.5, 4.6, 4.5, 4.7, 4.5, 4.5, 4.5, 4.4, 4.6, 4.3, 4.4, 4.3, 4.7, 4.7, 4.4, 4.3, 4.4, 4.5, 4.5, 4.4, 4.4, 4.6, 4.6, 4.4, 4.6, 4.2, 4.4, 4.6, 4.6, 4.7, 4.5, 4.2, 4.6, 4.7, 4.6, 4.3, 4.6, 4.4, 4.4, 4.5, 4.2, 4.4, 4.3, 4.7, 4.5, 4.4, 4.5, 4.4, 4.4, 4.5, 4.6, 4.5, 4.3, 4.7, 4.4, 4.5, 4.2, 4.5, 4.5, 4.7, 4.4, 4.3, 4.6, 3.9, 4.2, 4.5, 4.3, 4.5, 4.4, 4.4, 4.8, 4.4, 4.4, 4.3, 4.6, 4.1, 4.5, 4.5, 4.5, 4.0, 4.5, 4.6, 4.5, 4.5, 4.5, 4.4, 4.7, 4.5, 4.5, 4.2, 4.3, 4.5, 4.2, 4.3, 4.4, 4.6, 4.6, 4.5, 4.2, 4.5, 4.6, 4.6, 4.1, 4.5, 4.6, 4.6, 4.5, 4.3, 3.8, 4.5, 4.1, 4.8, 3.9, 4.5, 4.4, 4.3, 4.2, 3.0, 4.5, 4.4, 4.5, 4.7, 4.1, 4.5, 4.5, 4.5, 4.6, 4.3, 4.3, 4.5, 4.2, 4.2, 4.4, 4.5, 4.1, 4.2, 4.1, 4.7, 4.3, 4.4, 4.4, null, 4.3, 4.4, 4.3, 4.3, 4.2, 4.2, 4.3, 4.3, 4.1, 4.2, 4.5, 4.3, 4.3, 4.5, 4.1, 4.5, 4.2, 4.4, 4.0, 4.1, 4.3, 4.3, 4.4, 4.3, 4.1, 4.0, 4.3, 4.6, 4.3, 4.7, 4.3, 4.4, 4.2, 4.7, 3.9, 4.1, 4.1, 4.1, 4.2, 4.7, 4.4, 4.3, 4.5, 4.3, 4.3, 4.1, 4.1, 4.1, 4.6, 4.1, 4.4, 4.4, 4.3, 4.0, 4.8, 3.8, 4.7, 4.5, 4.8, 4.4, 4.8, 4.2, 4.2, 4.0, 4.7, 4.7, 3.9, 4.5, 4.1, 4.4, 3.9, 4.4, 4.4, 3.6, 4.4, 4.1, 3.6, 4.6, 4.3, 4.5, 4.4, 4.1, 4.4, 3.9, 4.4, 4.4, 3.6, 4.4, 4.1, 3.6, 4.6, 4.3, 4.5, 4.4, 4.5, 4.1, 4.5, 4.1, 3.9, 4.2, 4.1, 3.9, 4.1, 4.2, 4.7, 3.8, 4.3, 4.3, 4.3, 3.9, 4.3, 4.0, 4.0, 4.3, 4.2, 4.1, 4.0, 4.4, 4.3, 4.3, 4.4, 4.2, 4.1, 4.3, 4.2, 4.6, 4.1, 4.5, 4.4, 4.5, 4.3, 4.2, 4.4, 4.6, 4.5, 4.8, 4.5, 3.2, 4.6, 4.5, 4.1, 4.6, 4.5, 4.4, 4.4, 4.4, 3.8, 4.6, 2.5, 4.0, 5.0, 4.3, 3.4, null, 3.4, 4.3, 4.4, 4.4, 4.2, 5.0, 4.1, 3.9, 4.6, 4.2, 4.4, 4.2, 3.6, 4.5, null, 4.7, 4.6, 4.5, 4.2, 4.2, 4.3, 4.4, 4.1, 4.4, 4.6, 4.4, 4.2, 4.5, null, 2.6, 4.6, 4.8, 4.2, 4.7, 3.0, 3.5, 4.6, 4.8, 4.2, 4.6, 4.4, 4.8, 4.0, 3.7, 4.2, 4.8, 4.7, 3.5, 3.9, 4.2, 4.8, 2.7, 4.2, 4.7, 4.6, 4.5, 4.7, 4.7, 4.5, 4.7, 4.0, 3.4, 3.5, 3.0, 4.7, 4.6, 4.2, 4.8, 4.5, 4.2, 3.8, 3.0, 4.4, 4.5, 4.0, 3.6, 4.4, 4.7, 4.9, 3.6, 4.5, 4.1, 4.6, 4.7, 4.7, 2.8, 4.3, 4.6, 4.3, 3.4, null, 4.0, 4.8, 4.2, 3.0, 4.5, 3.7, 4.5, 4.5, 4.6, 4.2, 4.6, 3.6, 4.4, 4.4, 4.5, 4.5, 4.1, 4.6, 4.3, 4.3, 4.7, 4.5, 4.5, 4.5, 4.2, 4.4, 3.9, 4.2, 4.4, 4.1, 3.4, 4.1, 4.0, null, 4.1, 3.5, 4.2, 4.0, 4.5, 4.3, 4.3, 4.8, 4.6, 4.1, 4.6, 3.5, 2.3, 4.5, 4.3, 4.2, 4.2, 3.1, 4.4, 4.4, 2.9, 3.1, 3.7, 4.0, 3.8, 4.6, 4.4, 3.8, null, 4.8, 4.3, null, null, null, null, 3.7, 5.0, 3.0, 3.7, null, null, null, null, null, null, null, null, null, null, null, null, null, null, 3.7, 5.0, null, null, 5.0, null, 5.0, null, 5.0, null, 5.0, 5.0, null, 5.0, 5.0, 5.0, null, null, null, 4.3, 4.9, null, null, null, null, null, null, null, 5.0, null, null, 4.9, 4.6, 5.0, null, null, null, null, 4.0, null, 5.0, null, 4.0, 2.6, 4.7, 4.8, 4.3, 4.7, 2.5, 4.6, 4.5, 4.1, 4.5, 4.3, null, 3.8, 4.4, null, null, null, 4.5, 4.5, 3.8, 4.5, 4.0, 4.5, 3.7, 4.3, 3.7, null, 4.4, 3.8, null, 2.7, 5.0, 4.3, 3.8, 3.0, 5.0, 3.6, 4.0, 4.3, 4.7, 5.0, 4.7, null, 4.6, 3.1, 4.4, 5.0, 3.6, 2.8, 4.4, 4.2, 4.6, 4.2, null, 3.8, 3.5, 4.7, 4.1, 4.5, 4.3, 4.4, 4.4, 4.2, 4.0, 4.3, 4.6, 4.4, 4.2, 4.4, 4.4, 4.3, 4.6, 4.4, 4.5, 4.6, 4.6, 4.6, 4.4, 4.5, 4.5, 4.3, 4.4, 4.6, 4.3, 4.8, 4.2, 4.6, 4.0, 4.6, 4.3, 3.6, 4.0, 4.5, 4.4, 4.5, 4.2, 4.5, 4.3, 4.2, 4.2, 4.4, 4.3, 4.3, 4.1, 4.5, 4.3, 4.2, 4.1, 4.3, 4.2, 4.1, 4.1, 4.4, 3.7, 3.9, 3.7, 4.0, 4.5, 3.6, 4.1, 4.1, 4.0, 4.1, 4.0, 4.5, 4.6, 4.3, 4.3, 4.2, 4.5, 4.2, 4.3, 4.1, 3.8, 4.2, 4.4, 4.3, 4.2, 4.1, 4.0, 4.3, 4.3, 4.2, 4.2, 4.0, 4.4, 4.0, 4.2, 4.2, 4.4, 4.1, 4.1, 4.3, 4.0, 4.2, 4.2, 4.2, 4.1, 4.0, 4.3, 4.3, 4.4, 4.4, 4.2, 4.2, 4.0, 4.2, 4.0, 4.5, 4.6, 4.3, 4.2, 4.3, 4.6, 4.4, 4.4, 4.5, 4.3, 4.2, 4.2, 4.4, 4.6, 4.2, 3.6, 4.5, 4.4, 3.8, 4.7, 3.6, 4.2, 3.6, 4.3, 4.4, 4.5, 4.1, 4.3, 4.3, 4.7, 4.3, 4.2, 4.2, 4.3, 4.2, 4.3, 4.6, 4.4, 4.3, 3.8, 4.6, 4.5, 4.1, 4.4, 4.3, 3.8, 4.0, 3.3, 4.1, 4.1, 4.2, 4.1, 4.4, 4.1, 4.2, 4.5, 4.3, 4.5, 4.1, 4.5, 4.4, 4.6, 4.5, 4.6, 4.7, 4.3, 4.4, 4.4, 4.2, 4.1, 4.1, 4.5, 4.7, 4.1, 4.2, 4.5, 4.4, 4.6, 4.2, 4.6, 4.3, 4.1, 4.1, 4.4, 4.1, 4.6, 4.2, 4.2, 4.1, 4.2, 4.3, 4.2, 4.5, 4.7, 4.5, 4.3, 4.0, 4.4, 4.4, 4.0, 4.5, 4.6, 4.1, 4.5, 3.9, 4.5, 4.2, 4.3, 4.3, 4.4, 4.5, 4.6, 4.4, 4.3, 4.3, 4.1, 4.7, 4.4, 4.2, 4.4, 4.2, 4.2, 4.1, 4.0, 4.1, 4.5, 4.6, 4.3, 4.6, 4.4, 4.0, 4.5, 4.1, 4.4, 4.0, 4.6, 4.5, 4.4, 4.5, 4.1, 4.3, 4.5, 4.2, 3.8, 4.5, 4.7, 4.1, 4.6, 4.8, 4.0, 4.7, 4.7, 4.1, 4.5, 3.6, 4.5, 4.7, 4.7, 4.5, 4.2, 4.5, 4.4, 4.5, 4.5, 4.4, 3.7, 4.3, 4.5, 4.4, 3.3, 4.3, 4.4, 4.5, 4.4, 4.2, 4.5, 4.7, 4.5, 4.6, 4.6, 4.4, 4.3, 4.3, 4.6, 4.4, 4.5, 4.5, 4.2, 4.0, 4.4, 4.7, 4.3, 4.6, 4.4, 4.5, 4.3, 4.3, 4.4, 4.5, 4.4, 4.6, 4.3, 4.6, 4.3, 4.4, 4.2, 4.3, 4.4, 3.9, 4.3, 4.4, 4.2, 4.5, 4.3, 4.3, 4.3, 4.1, 4.4, 4.3, 4.0, 4.0, 4.0, 4.4, 4.3, 4.1, 4.2, 3.9, 4.4, 4.4, 4.5, 4.4, 4.6, 4.3, 4.6, 4.1, 4.0, 4.3, 4.2, 4.0, 4.1, 4.1, 4.0, 4.3, 4.3, 4.2, 4.5, 4.0, 4.4, 4.1, 4.4, 4.3, 4.3, 4.2, 4.3, 4.4, 4.4, 4.3, 4.4, 3.8, 4.4, 4.4, 4.3, 4.6, 4.0, 4.1, 4.2, 4.3, 4.6, 4.6, 4.3, 4.2, 4.1, 4.2, 4.6, 4.6, 4.4, 4.7, 4.4, 4.1, 4.3, 4.4, 4.2, 4.4, 4.5, 4.2, 3.8, 4.3, 4.4, 4.6, 4.4, 4.5, 4.2, 4.5, 4.5, 4.3, 4.4, 4.2, 4.1, 4.3, 4.0, 4.6, 4.3, 4.4, 4.5, 4.2, 4.3, 4.4, 4.2, 4.1, 4.4, 4.7, 4.6, 4.2, 4.3, 4.3, 4.5, 4.6, 4.5, 4.4, 4.7, 4.2, 4.3, 4.2, 3.9, 3.9, 4.2, 4.3, 4.6, 4.3, 4.0, 4.0, 4.0, 4.6, 4.3, 4.2, 4.3, 4.4, 4.0, 4.6, 4.7, 4.3, 4.0, 4.5, 4.7, 4.4, 4.8, 3.3, 4.3, 3.9, 4.4, 3.9, 4.4, 4.3, 4.4, 4.2, 4.2, 4.1, 4.4, 4.0, 4.4, 4.3, 4.1, 4.0, 4.2, 4.2, 4.3, 3.1, 4.1, 2.9, 4.0, 4.5, 4.3, 4.1, 4.3, 4.5, 4.6, 4.4, 4.2, 4.3, 3.4, 4.6, 4.2, 4.4, 4.0, 4.1, 4.0, 4.6, 4.2, 4.5, 4.4, 4.0, 3.5, 4.0, 4.2, 4.0, 4.4, 4.8, 4.1, 4.6, 4.3, 4.4, 4.3, 4.6, 4.5, 4.3, 4.2, 4.4, 4.2, 4.4, 4.3, 4.5, 4.5, 4.1, 4.0, 4.7, 4.6, 4.2, 4.2, 4.1, 4.1, 3.5, 4.5, 3.9, 4.6, 4.0, 4.4, 4.2, 4.2, 4.6, 4.5, 4.4, 4.5, 4.4, 4.3, 4.2, 4.3, 4.5, 4.0, 4.2, 4.1, 3.9, 4.2, 4.0, 3.5, 4.0, 4.0, 4.5, 4.1, 4.2, 4.4, 4.4, 4.1, 4.3, 4.5, 4.5, 4.4, 4.5, 4.7, 4.4, 4.1, 4.4, 4.4, 4.3, 4.2, 4.0, 4.7, 4.3, 4.6, 3.9, 3.6, 4.0, 4.1, 4.2, 3.9, 4.1, 4.3, 3.1, 3.7, 3.4, 4.4, 3.6, 4.4, 3.3, 3.7, 3.0, 3.6, 4.8, 3.9, 3.8, 4.3, 4.5, 3.4, 3.7, 4.5, 4.4, 4.1, 4.5, 4.0, 3.9, 4.4, 4.8, 4.7, 4.3, 3.7, 4.2, 3.5, 4.3, 4.7, 4.3, 4.1, 3.1, 4.3, 4.1, 4.2, 4.3, 4.4, 4.3, 4.3, 4.4, 3.5, 4.1, 4.6, 4.4, 4.2, 3.9, 4.2, 4.4, 4.4, 4.4, 4.4, 3.7, 4.4, 4.5, 3.7, 4.4, 3.7, 4.4, 4.5, 3.6, 4.4, 4.0, 4.1, 4.4, 4.4, 4.3, 4.4, 4.2, 4.2, 4.1, 4.3, 4.5, 4.4, 4.5, 4.3, 4.2, 4.5, 4.7, 4.4, 4.4, 4.4, 4.4, 4.1, 4.6, 4.4, 4.1, 4.5, 4.5, 4.4, 4.3, 4.5, 4.2, 4.2, 4.2, 4.5, 4.7, 4.0, 4.2, 4.2, 4.1, 4.4, 4.4, 4.2, 4.2, 4.1, 4.5, 4.6, 4.1, 4.3, 4.2, 4.1, 4.0, 4.6, 3.1, 4.6, 4.5, 3.2, 4.3, null, 4.6, 4.4, 4.6, 4.5, 4.6, null, 4.4, 4.2, 4.4, 3.1, 3.6, 4.1, 4.2, 3.5, 3.9, 3.0, 3.9, 4.5, 3.4, 4.4, 3.4, 4.3, 3.7, 3.5, 3.8, 3.6, 3.1, 3.8, 4.2, 4.0, 4.3, 4.3, 4.5, 4.5, 4.5, 4.4, 4.4, 4.3, 4.2, 4.7, 4.4, 4.3, 4.4, 4.3, 4.5, 4.7, 4.5, 4.6, 4.7, 4.6, 4.8, 3.9, 4.5, 4.6, 4.5, 4.4, 4.5, 4.0, 4.3, 4.0, 4.4, 4.1, 4.3, 4.1, 4.3, 4.2, 4.2, 4.2, 4.2, 4.3, 4.5, 4.4, 4.5, 4.2, 4.1, 4.4, 4.5, 4.3, 4.4, 4.1, 4.4, 4.2, 4.1, 4.6, 4.5, 4.3, 4.1, 4.1, 4.2, 4.1, 4.6, 4.5, 4.0, 3.5, 4.4, 4.4, 4.4, 4.1, 4.2, 4.6, 4.4, 4.6, 4.6, 4.5, 4.7, 4.4, 4.5, 4.6, 4.6, 4.0, 4.6, 4.5, 4.7, 4.7, 4.4, 4.3, 4.7, 4.1, 4.7, 4.4, 4.6, 4.5, 4.4, 4.4, 4.3, 4.3, 4.6, 4.7, 4.3, 4.5, 4.6, 4.4, 4.5, 4.7, 4.3, 3.7, 4.7, 4.5, 4.4, 4.3, 4.8, 4.6, 4.1, 4.7, 4.1, 4.6, 4.2, 4.3, 4.2, 4.0, 4.2, 3.9, 4.3, 4.1, 4.2, 4.4, 4.3, 4.3, 4.4, 4.3, 4.1, 4.2, 4.1, 4.1, 4.2, 4.1, 4.4, 4.1, 4.3, 4.6, 4.1, 4.6, 4.6, 4.2, 4.1, 4.2, 4.5, 4.3, 4.2, 4.0, 4.2, 4.2, 4.6, 4.3, 4.4, 4.4, 4.4, 4.3, 4.3, 4.6, 4.5, 4.1, 4.3, 4.4, 4.2, 4.2, 4.1, 4.5, 4.7, 4.3, 4.4, 4.4, 3.8, 4.4, 4.3, 4.2, 4.5, 3.2, 4.5, 4.2, 4.4, 4.7, 4.4, 4.0, 4.4, 4.0, 4.6, 4.5, 4.2, 4.0, 4.4, 4.5, 3.9, 4.2, 4.3, 4.2, 4.2, 4.4, 4.7, 4.6, 3.1, 4.4, 4.1, 4.5, 4.6, 4.3, 3.9, 4.5, 4.3, 3.7, 4.5, 4.4, 4.0, 4.0, 4.4, 4.7, 4.6, 4.2, 4.5, 4.6, 4.0, 4.5, 4.4, 4.3, 4.4, 4.5, 4.5, 4.6, 4.4, 4.6, 4.3, 4.6, 4.5, 4.3, 4.1, 4.2, 4.2, 4.6, 4.2, 4.5, 4.4, 4.3, 4.2, 4.3, 4.5, 4.3, 4.3, 4.5, 4.5, 4.4, 4.2, 4.2, 4.6, 4.4, 4.3, 4.6, 4.2, 4.2, 4.2, 4.0, 4.3, 4.6, 4.4, 4.6, 4.6, 4.5, 4.5, 4.4, 4.3, 4.0, 4.2, 4.2, 4.5, 4.0, 4.2, 4.4, 4.6, 4.3, 4.6, 4.2, 4.4, 4.6, 4.4, 4.6, 4.4, 4.1, 4.4, 4.4, 4.1, 4.3, 4.1, 4.1, 4.5, 3.9, null, 3.8, null, null, 4.6, 4.7, null, 4.0, null, 4.7, 4.1, 3.7, null, 4.1, 3.7, 4.6, 4.4, 4.6, 4.1, 4.4, 4.7, 4.4, null, 4.8, 4.0, 4.9, null, 4.8, 4.4, 4.7, 4.2, 4.6, 4.6, 4.5, 4.6, 4.1, 3.8, 4.8, 4.8, null, 4.5, 4.0, 4.4, 4.7, null, 3.9, 4.4, 4.4, 4.5, 4.4, 4.8, 4.4, 4.8, 4.5, 4.7, 4.5, 3.5, 4.4, 4.3, 4.4, 4.2, 4.6, 4.4, 4.4, 3.9, 4.3, 4.5, 4.2, 3.7, 4.2, 3.9, 3.6, 4.5, 4.3, 4.3, 4.2, 4.6, 4.5, 4.5, 4.2, 3.9, 4.8, 3.8, 4.5, 4.5, 4.2, 4.0, 4.2, 4.3, 4.3, 4.2, 4.3, 3.6, 3.9, 4.8, 3.9, 3.7, 4.6, 4.4, 4.4, 4.2, 4.1, 3.8, 4.4, 4.5, 4.6, 4.7, 4.3, 4.5, 4.3, 3.7, 3.9, 3.6, 4.5, 4.4, 3.8, 4.6, 4.2, 4.3, 3.8, 4.4, 3.1, 4.6, 4.1, 4.5, 4.0, 4.5, 4.3, null, 3.7, 3.9, 3.5, 3.3, 4.3, 4.5, 4.1, 4.4, 4.4, 4.5, 4.4, 4.3, 4.5, 4.3, 4.6, 4.1, 4.2, 3.5, 4.0, 3.8, 4.3, 4.3, 4.1, 4.3, 4.5, 4.4, 4.0, 4.1, 4.6, 4.3, 3.9, 4.5, 4.7, 4.3, 4.5, 3.1, 4.7, 3.8, 4.0, 4.2, 4.0, 4.2, 3.4, 4.6, 4.5, 4.0, 4.4, 4.2, 4.1, 4.4, 4.0, 3.7, 4.6, 4.5, 4.6, 4.5, 3.9, 4.3, 4.4, 3.9, 4.3, 4.4, 4.4, 3.6, 4.5, 3.6, 4.1, 4.4, 4.1, 4.2, 4.7, 3.9, 3.9, 4.4, 4.3, 4.6, 4.0, 4.3, 4.2, 4.5, 4.3, 4.0, 4.1, 4.6, 4.1, 4.5, 4.0, 4.2, 4.3, 4.2, 4.3, 4.2, 4.0, 4.2, 4.3, 4.0, 4.5, 4.3, 4.3, 3.9, 4.0, 4.1, 4.1, 4.1, 4.0, 4.0, 4.5, 4.1, 3.9, 4.2, 3.9, 4.5, 4.3, 4.4, 4.6, 4.2, 4.1, 4.4, 4.4, 4.2, 4.5, 4.2, 4.4, 4.4, 4.0, 4.3, 4.4, 4.2, 4.3, 4.1, 4.4, 4.3, 4.4, 4.2, 4.7, 4.3, 4.5, 3.7, 4.3, 4.2, 4.1, 4.5, 4.8, 4.3, 4.7, 4.3, 4.2, 3.7, 4.6, 4.5, 4.3, 4.5, 4.2, 4.2, 4.3, 4.3, 4.4, 3.7, 4.4, 4.4, 4.2, 3.5, 4.2, 4.2, 4.0, 4.5, 4.2, 3.9, 4.3, 3.7, 4.3, 4.3, 4.6, 4.3, 4.2, 4.6, 3.9, 4.4, 4.6, 4.1, 4.8, 4.3, 4.5, 4.4, 4.4, 3.3, 4.2, 3.8, 4.5, 4.3, 4.5, 3.7, 4.5, 4.1, 4.4, 3.7, 4.1, 4.8, 4.4, 4.3, 4.1, 4.4, 4.1, 4.5, 4.5, 4.5, 4.5, 4.2, 4.4, 4.5, 4.3, 3.8, 4.5, 3.7, 4.5, 4.5, 4.3, 4.6, 4.3, 4.4, 4.3, 4.3, 4.3, 4.3, 4.3, 4.4, 4.2, 4.9, 4.5, 4.6, 4.6, 4.6, 3.4, 3.8, 4.4, 4.7, 4.6, 4.1, 3.8, 4.4, 4.4, 3.9, 4.1, 4.5, 3.7, 4.4, 4.5, 4.5, 3.8, 3.1, 4.5, 5.0, 4.4, null, 4.3, 2.9, 3.1, 3.3, 4.1, 4.6, 4.4, 4.5, 4.3, 4.3, 4.5, 4.5, 2.2, 4.5, 4.2, 4.5, 4.6, 3.9, 4.1, 3.3, 4.5, 4.1, 4.8, 4.1, 4.5, null, 4.6, 4.6, 4.3, 4.1, 4.5, 4.3, 4.4, 4.7, 4.4, 4.4, 4.3, 4.2, 4.2, 4.6, 4.5, 4.6, 4.7, 4.8, 4.7, 4.7, 1.7, 4.5, 4.0, 3.6, 2.0, 4.7, 4.1, 4.3, 4.3, 4.5, 4.4, 4.4, 4.6, 3.7, 4.5, 4.0, 4.8, 4.0, 4.7, 4.8, 4.6, 4.3, 4.2, 4.8, 4.2, 4.6, 4.2, 4.5, 4.6, 4.5, 4.5, 4.3, 4.8, 4.6, 4.5, 4.3, 4.2, 4.4, 4.5, 4.2, 4.6, 4.6, 4.4, 4.5, 4.5, 4.6, 4.5, 4.4, 4.1, 4.4, 4.6, 4.6, 4.5, 4.5, 4.3, 4.3, 3.3, 3.7, 4.5, 4.4, 3.1, 4.0, 4.4, 4.2, 3.9, 4.4, 4.6, 4.8, 4.4, 3.9, 4.5, 3.6, 3.4, 4.7, 4.4, 4.4, 4.5, 4.2, 4.6, 4.3, 4.3, 4.3, 4.6, 4.4, 4.5, 4.5, 4.0, 4.3, 4.5, 4.1, 4.3, 4.0, 4.3, 4.6, 4.2, 4.4, 4.5, 4.3, 4.0, 4.3, 4.4, 4.6, 4.4, 4.3, 4.2, 4.3, 4.3, 4.6, 3.6, 4.3, 4.2, 4.2, 4.4, 4.3, 4.9, 4.5, 4.2, 4.3, 4.2, 3.8, 4.2, 1.0, 4.4, 4.0, null, 4.4, 4.4, 4.5, null, 3.4, 3.8, null, 3.7, null, 4.1, 4.6, 4.4, 4.2, 4.2, 4.4, 4.5, 4.2, 4.5, 4.3, 4.4, 4.2, 3.6, 4.0, 4.4, 4.6, 4.5, 4.4, 4.2, 4.3, 4.6, 1.8, 3.8, 4.4, 3.0, 3.4, 4.6, 3.7, 3.0, 4.6, 4.4, 3.1, 4.3, 4.3, 3.8, 4.5, 3.6, null, 4.2, 4.5, 4.2, 3.3, 4.2, 4.3, 4.2, 3.7, 3.8, 2.9, 4.5, 4.3, 4.9, 4.4, 4.4, 4.4, 2.9, 4.2, 4.0, 4.3, 4.3, 3.9, 4.3, null, 4.0, 4.6, 3.7, 4.0, 4.6, 4.4, 4.5, 3.0, 3.1, 4.3, 4.5, 4.5, 4.5, 4.1, 4.6, 4.2, null, 3.9, 3.9, 3.9, 4.3, 4.2, 4.2, 3.7, 2.8, 4.4, 4.1, 4.4, 2.7, 4.7, 4.2, 4.2, 4.1, 4.5, 4.4, 4.0, 4.2, 4.1, 4.0, 4.4, 4.7, 4.3, 4.7, 4.4, 4.0, 4.3, 4.2, 4.4, 4.6, 3.3, 4.5, 2.3, 4.2, 4.1, null, 4.4, 3.2, 3.5, 4.6, 4.3, 4.1, 4.1, 4.1, null, 4.7, 3.5, 3.9, null, null, 4.1, 4.7, null, 4.6, 4.5, 4.7, 4.9, null, 4.3, 4.1, 4.4, 4.2, 4.1, 4.6, 4.3, 4.4, 4.4, 4.5, 4.6, 4.8, 4.3, 4.8, 4.8, 3.7, 4.1, 3.7, 4.2, 4.5, 4.6, 4.5, 4.7, 4.3, null, 4.9, 4.4, 4.6, null, null, 4.0, 4.8, 4.3, 4.4, 4.2, 4.6, null, 4.8, 4.0, 4.3, 4.7, 4.5, 4.6, 4.5, 4.3, 4.0, 4.2, 4.0, 4.5, 4.0, 4.1, 4.6, 3.1, 4.9, 4.5, 4.0, 4.0, 3.6, 4.5, 4.2, 4.3, 3.9, 4.3, 4.3, 4.4, 4.3, 4.4, 4.3, 4.5, 4.4, 3.5, 4.4, 4.4, 4.5, 4.4, 4.4, 4.0, 3.9, 3.9, 4.3, 4.9, 3.7, 3.3, 3.8, 3.5, 4.2, 4.5, 3.5, 3.6, 4.6, 3.9, 4.2, 4.2, 4.0, 3.2, 4.6, 2.4, 4.5, 4.1, 4.2, 3.7, 4.3, 4.2, 4.1, 3.9, 3.8, 4.4, 3.4, 4.0, 4.4, 3.3, 4.8, 4.5, 3.4, 4.3, 4.3, 4.1, 4.0, 4.4, 3.8, 4.4, 3.8, 4.2, 3.8, 4.8, 4.7, 4.3, 3.5, 3.9, 4.2, 4.6, 4.7, 4.5, 3.8, 4.5, 3.7, 3.5, 4.1, 3.9, 4.1, 4.6, 4.4, 4.5, 4.4, 4.6, 4.0, 4.4, 4.4, 4.4, 4.0, 3.8, 3.9, null, 3.7, 4.2, 4.1, 4.3, 4.3, 4.1, 4.4, 3.8, 4.3, 4.4, 3.8, 4.5, 3.8, 3.9, 4.0, 4.3, 4.5, 4.4, 4.6, null, 5.0, 4.4, 4.4, 4.2, 4.0, null, 4.2, null, 4.6, 4.1, null, 3.9, 4.6, null, 4.4, 3.9, 4.6, 4.5, 3.0, null, 3.6, 4.4, 4.6, null, 4.3, 5.0, 4.5, 4.1, 4.1, 4.5, null, 4.8, 4.5, null, 4.0, 4.8, 3.7, null, 4.5, 4.7, 2.7, 2.9, 4.2, 4.4, 4.2, 3.4, 2.6, 4.1, 4.3, 4.5, 4.2, 4.4, null, 4.0, 4.4, 4.1, 4.8, 2.2, 3.8, 3.1, 3.1, 3.8, 3.8, 4.3, 3.6, 4.0, 4.4, 4.6, null, 4.5, 1.8, 4.7, 3.9, 4.4, 3.6, 4.5, 4.4, 3.9, 3.9, 3.8, null, 4.2, 4.1, 4.4, 4.4, null, null, 5.0, 4.1, 4.5, 4.3, null, 3.9, 3.5, null, 3.2, null, null, null, null, 3.3, 4.8, 4.5, 3.7, 4.8, 4.7, 4.3, 3.8, 4.1, 4.7, null, 4.2, null, null, 4.6, 4.2, 4.6, 4.6, 4.2, 4.1, 3.5, 4.1, 4.4, 4.5, 4.1, 4.5, 4.3, 4.4, 4.3, 4.3, 3.8, 3.9, 4.1, 4.8, 4.4, 4.0, 4.7, 4.6, 4.3, 4.0, 4.4, 3.7, 3.7, 3.3, 4.1, 3.0, 4.1, 3.0, 3.8, 4.0, 4.5, 4.6, 4.1, 3.6, 4.7, 3.5, 3.1, 3.9, 3.7, 4.2, 4.4, 4.4, 3.3, 4.8, 4.2, 4.5, 3.8, 4.1, 4.2, 4.2, 4.0, 4.2, 3.8, 4.5, 3.7, 4.3, 4.5, 4.1, 4.2, 4.5, 4.0, 4.4, 4.2, 4.3, 4.7, 4.1, 3.2, 3.9, 4.1, 3.4, 3.0, 4.6, 4.6, 4.1, 3.1, 3.4, 4.2, 4.2, 3.0, 2.4, 4.1, 2.9, 4.0, 4.0, 3.8, 2.4, 4.4, 3.7, 4.3, 4.6, 4.2, 4.8, 3.6, 3.2, 4.0, 3.5, 4.4, 2.5, 3.9, 4.4, 4.2, 4.2, 4.3, 4.1, 4.3, 4.2, 4.2, 3.9, 3.9, 4.4, 3.8, 4.5, 4.2, 3.7, 4.3, 4.3, 4.6, 3.3, 3.6, 4.1, 3.8, 3.3, 4.5, 4.8, 4.6, null, 4.3, 4.5, 4.2, 3.8, 4.7, 4.2, 4.3, 4.7, 4.7, 3.6, 4.2, 4.0, 4.3, 4.7, 4.2, 4.6, 4.8, 4.6, 3.8, 4.6, 4.3, 4.2, 4.5, 3.2, 4.3, 4.3, 4.5, 4.4, 1.9, 4.4, 2.5, 4.2, 4.3, 4.0, 4.5, 4.8, 4.2, 4.7, 4.4, 4.4, 4.4, 4.6, 4.6, 4.2, 4.5, 4.0, 4.4, 4.2, 4.5, 4.6, 4.4, 4.7, 4.2, 4.4, 3.2, 4.1, 4.0, 4.7, 4.6, 4.6, 4.7, 4.8, 4.6, 4.2, 4.3, 3.3, 4.7, 4.5, 4.0, 4.5, 4.2, 4.6, 4.2, 4.7, 4.7, 4.2, 4.3, 4.3, null, 4.5, 4.4, 4.5, 4.6, 4.3, 3.8, 4.5, 4.5, 3.9, 4.0, 2.7, 4.5, 4.0, 2.9, 4.6, 4.4, 4.5, 4.6, 4.4, 4.3, 4.4, 4.2, 4.8, 4.3, 4.3, 4.6, 4.6, 4.2, 4.2, 4.1, 4.4, 4.5, 4.4, 4.4, 4.2, 4.5, 4.6, 4.5, 4.6, 4.0, 4.5, 4.2, 3.9, 4.7, 4.4, 4.5, 4.3, 4.4, 4.2, 3.9, 4.1, 2.2, 4.2, 4.2, 2.8, 3.9, 4.3, 4.8, 4.3, 4.1, 4.2, 4.4, 4.1, 4.6, 4.3, 4.3, 3.8, 4.8, null, 3.8, 3.9, null, 4.3, 4.3, 4.3, 4.1, 4.2, 4.9, 4.5, 4.6, 3.8, 4.7, 4.5, 4.7, 4.5, 4.8, 4.6, 4.6, 4.3, 4.8, 3.4, 4.6, 4.4, 4.5, 4.4, 4.4, 4.6, 4.2, 4.3, 4.3, 3.8, 3.9, 4.3, 4.8, 4.2, 4.5, 4.8, null, 4.6, 4.2, 4.2, 4.0, null, 4.3, 4.8, 4.1, 4.7, null, 4.8, 4.0, 3.5, 3.8, 3.5, 3.3, 3.7, 3.3, 3.4, 1.8, 1.6, 1.9, 3.6, 3.4, 3.2, 2.5, 4.7, 2.6, 2.8, 3.9, 4.2, 3.9, 4.0, 3.5, 3.1, 3.7, 3.6, 3.4, 4.0, 3.7, 1.7, 2.4, 4.3, 4.2, 3.3, 4.1, 4.1, 3.4, 3.0, 3.0, 2.2, 3.7, 3.7, 4.8, 3.7, 3.6, 3.7, 4.4, 3.8, 3.7, 3.7, 4.8, 4.2, 4.1, 4.6, 4.1, 4.3, 3.9, 3.8, 4.0, 4.5, 4.6, 4.1, 4.4, 3.7, 3.9, 3.9, 4.5, 4.5, 4.4, 4.3, 4.5, 4.7, 4.7, 4.1, 3.3, 4.2, 4.1, 3.4, 4.3, 4.9, 4.5, 4.1, 4.4, 4.3, 4.4, 3.4, 4.1, 4.1, 3.5, 3.8, 4.6, 4.6, 5.0, 4.6, 4.2, 4.0, 3.9, 3.7, 4.3, 1.9, 4.2, 4.2, 4.0, 4.4, 4.2, 4.5, 4.3, 4.4, 4.0, 4.2, 4.3, 4.0, 4.3, 3.9, 4.0, 3.7, 4.1, 3.9, 4.2, 4.4, 4.5, 3.9, 3.9, 4.2, 4.5, 4.1, 4.7, null, 4.4, 4.7, 4.7, 4.0, 3.9, null, 3.8, 3.9, 4.4, 4.5, null, 3.8, 3.5, 4.2, 4.7, 2.0, 4.3, 2.8, 4.0, 3.9, 4.2, 3.4, 4.5, 4.7, 2.0, 4.4, null, null, null, 4.7, 3.3, 4.1, null, 4.2, 4.4, null, 3.7, null, 4.3, 3.9, 5.0, 4.1, 4.8, 4.0, null, 4.1, 3.8, 4.6, null, 4.3, 4.1, 4.6, 4.1, 4.4, 4.2, 4.1, 4.3, 4.3, 4.0, 4.5, 4.1, 3.8, null, 4.5, null, 4.1, null, 3.9, 3.7, null, 4.5, 4.4, null, 3.4, null, null, null, null, 2.3, 4.7, 3.4, 4.7, null, null, 5.0, null, null, null, null, null, null, null, null, 3.6, 5.0, null, null, 4.3, null, null, null, 5.0, null, null, 4.1, 4.1, 4.5, null, null, 3.4, null, null, null, 2.9, 4.6, 5.0, null, null, null, 3.9, 3.9, 5.0, 4.1, null, 5.0, 3.0, 4.0, 1.0, null, 4.0, null, null, 4.0, null, 3.8, null, null, null, null, null, null, null, null, 3.5, null, null, null, null, null, 2.6, null, 3.4, null, null, 4.5, 3.4, 3.8, 3.0, 4.4, 4.0, 3.9, 4.6, 3.8, 3.8, 4.0, 4.6, 3.6, 4.4, 3.1, 4.2, 4.6, 4.0, 5.0, 3.3, 4.1, 3.6, 3.2, 4.4, 4.0, 4.4, 4.5, 4.3, 4.7, 4.4, null, 4.4, 4.4, 3.7, 3.3, null, 3.7, 3.0, 2.6, null, null, 3.5, 3.9, 4.6, 3.8, 4.6, 4.4, 4.5, 4.5, 4.7, 4.4, null, 5.0, null, null, 2.8, null, 4.6, 2.8, 5.0, 5.0, 2.8, null, 3.8, 4.1, null, 4.8, 5.0, 5.0, null, 4.4, null, null, 5.0, 4.1, null, 4.8, null, null, 4.8, 4.0, null, 5.0, 4.6, null, 5.0, null, null, null, 4.5, 5.0, null, null, null, 4.4, 4.0, null, 3.9, 4.1, 4.8, 4.3, 3.9, 4.5, null, 3.7, 4.3, 4.2, 3.7, 3.8, 4.6, null, null, null, 3.3, 3.0, 3.9, 4.2, 3.9, null, 4.1, null, 4.6, null, null, null, null, 4.4, 3.8, 4.4, null, 4.9, 3.6, 4.3, 3.6, 4.1, 3.4, 4.5, 4.7, 4.5, 4.4, 4.3, 4.6, 4.2, 4.8, 4.6, 4.8, 4.6, 4.6, 4.6, 4.1, 4.7, 4.7, 4.8, 3.6, 4.7, 4.6, 4.5, 4.7, 4.5, 4.3, 4.5, 4.8, 4.7, 4.7, 4.7, 4.7, 4.7, 4.7, 4.7, 4.6, 4.7, 4.7, 4.6, 3.8, 3.9, 4.0, 4.0, 3.8, 4.1, 2.9, 3.8, 3.5, 4.2, 4.6, 4.4, 4.4, 4.1, 3.9, 3.6, 4.0, 3.8, 4.3, 4.6, 3.6, 3.9, 4.0, 4.2, 4.2, 4.2, 4.5, 4.7, 3.5, 4.5, 4.0, 4.6, 4.2, 4.3, 4.1, 4.5, 4.2, 4.5, 4.4, 3.7, 4.4, 4.3, 4.3, 4.3, 4.5, 4.5, 3.8, 4.5, 4.5, 4.4, 4.7, 3.5, 4.9, 4.0, 4.1, 4.2, null, 4.4, 4.1, 4.6, 4.6, 4.7, 4.5, null, 4.6, 4.4, 4.4, 4.2, 4.4, 4.0, 4.2, 4.2, 4.2, 4.8, 3.7, 3.4, 4.3, 4.3, 4.6, 4.2, 4.6, 4.1, 4.4, 4.6, 4.3, 4.4, 4.7, 4.2, 3.8, 4.3, 3.7, 4.3, 2.9, 4.3, 4.3, 4.0, 3.3, 4.5, 4.1, 5.0, 3.9, 4.6, 4.0, 3.6, 4.0, 4.5, null, 2.9, 4.2, 4.5, null, 4.6, 4.7, 4.2, 4.7, 4.7, 3.9, 4.7, 3.7, 4.8, 4.0, 4.6, 4.4, 4.3, 4.7, 3.6, 4.4, 4.6, 2.9, null, 4.5, 5.0, 3.7, null, 3.7, null, 4.2, 3.0, 5.0, 4.4, 4.7, 4.3, 3.9, null, 4.4, 4.3, null, null, null, null, 4.6, 4.5, 3.9, 4.7, 4.3, 5.0, 5.0, null, 5.0, null, null, 4.4, null, 2.7, 4.6, 4.4, 4.4, 4.1, 3.8, 4.4, 4.6, 4.1, 4.5, 4.2, 4.7, 4.3, 4.3, 4.2, 3.8, 4.0, 4.3, 4.6, 4.3, 4.3, 4.3, 4.7, 4.6, 4.4, 3.8, 4.6, 4.6, 4.5, 4.5, 3.9, 4.4, 3.8, 4.3, 4.3, 3.7, 3.2, 4.0, 3.8, 4.4, 3.8, 3.4, 2.9, 4.5, 3.7, 3.8, 4.1, 4.1, 3.7, 3.6, null, 3.0, 4.1, 3.8, 4.2, 4.4, 4.5, 3.6, 3.6, 3.7, 3.9, null, 4.2, 4.1, 4.5, 2.8, 2.6, 4.3, 4.4, 4.1, 4.0, 4.3, 3.9, 3.5, 3.7, 4.3, 4.3, 4.1, 4.2, 4.3, 4.2, 4.6, 4.3, 4.1, 4.4, 4.4, 4.1, 4.2, 4.4, 4.3, 2.4, 4.5, 4.3, 4.5, 4.5, 4.3, 4.4, 4.3, 4.4, 4.6, 3.4, 3.9, 4.3, 4.4, 4.5, 4.4, 4.2, 4.0, 4.3, 4.4, 4.2, 4.0, 4.4, 4.6, 4.0, 4.4, 3.5, 4.6, 4.0, 4.0, 4.1, 4.1, 3.3, 3.9, 4.1, 4.2, 4.0, 4.5, 3.8, 3.5, 4.3, 4.6, 4.7, 3.8, 4.7, 4.8, 3.2, 4.5, 3.9, 3.6, 3.7, 4.4, 4.1, 4.0, 3.1, 4.0, 2.8, 3.7, 2.7, 3.9, 3.8, 3.6, 4.5, 3.5, 4.0, null, 3.8, 3.6, 4.2, 4.4, 4.0, 4.7, null, null, 4.1, 4.0, null, 4.7, null, null, 3.8, 5.0, 4.4, null, null, 4.0, null, 3.8, 4.1, 4.3, null, 4.5, 4.4, 3.4, 4.1, 4.1, 3.8, 4.3, 4.4, 4.4, 4.8, 3.3, 3.3, 4.4, 3.7, 3.4, 2.3, 3.3, 2.7, null, 4.6, 3.5, 3.4, 4.3, 4.1, 4.7, 4.4, 3.8, 3.0, 4.4, 4.2, 4.5, 3.5, 4.5, 4.3, 4.5, null, 4.5, 4.0, 4.8, null, 4.3, 1.7, 4.3, 4.2, null, 4.2, 4.3, null, 4.0, 4.2, 4.6, 4.1, 4.6, 4.1, 4.0, null, 3.3, 4.1, null, null, 4.0, null, null, 4.4, 4.2, 3.8, 3.1, null, 5.0, 4.2, 4.7, 4.4, 4.6, 4.4, 2.9, 2.7, null, 4.6, 4.0, 3.8, 4.8, 5.0, 3.9, 4.2, 4.1, 4.7, 4.2, 4.2, 3.7, 4.1, 4.1, 3.8, 4.6, null, 4.4, 4.2, 4.4, null, null, 4.6, 5.0, null, 4.5, null, 3.5, null, 3.9, 4.4, 3.0, null, 3.1, 4.4, null, 3.0, null, null, 3.7, null, 3.7, 3.9, 4.8, null, null, 4.6, 4.6, 4.5, 4.3, 5.0, 4.3, null, 4.7, 4.0, 3.8, 5.0, 4.8, 4.5, 4.3, null, null, null, null, 3.7, null, null, null, null, null, 4.3, null, 3.8, null, null, 4.5, 4.6, 4.1, 4.2, null, 5.0, null, null, null, 4.3, null, 3.3, 3.6, 4.0, 4.0, 4.0, 4.3, 4.2, 4.3, 4.2, 4.5, 4.3, 4.6, 4.4, 4.2, 4.2, 4.2, 3.4, 3.2, 4.0, 4.6, 3.2, 4.4, 4.0, 4.7, null, 3.7, 3.9, 4.2, 4.1, 3.5, 4.8, 4.3, 3.9, null, 3.5, 4.3, 4.4, 4.8, 3.9, 3.8, 4.2, 4.0, 4.0, 4.4, 4.7, 4.5, 4.3, 3.3, 4.3, 4.1, 2.1, 3.7, 4.2, 4.4, 4.2, 2.1, 2.4, 4.1, 3.1, 5.0, null, 3.5, 4.2, null, 4.7, null, null, null, 4.8, null, 4.5, 4.6, 4.6, 4.9, 4.8, 4.0, 3.9, 4.1, 4.1, 4.5, 4.2, 4.0, 4.4, 1.9, null, null, 3.7, null, 4.2, 4.0, 4.3, 2.5, 4.4, null, 3.7, 4.7, 4.6, 4.4, 4.3, 4.4, 2.6, 3.6, 3.8, 4.4, 4.4, 3.0, 4.2, 3.7, 5.0, null, 4.2, 4.8, 4.4, 4.1, 4.7, 4.7, 3.3, 4.0, null, null, 1.0, 4.4, 4.2, 4.4, 4.6, 4.3, 4.4, null, 3.7, 2.9, 4.0, 4.4, 3.3, null, null, 4.2, 4.5, 2.3, 5.0, 3.6, null, 3.9, 4.4, 4.2, 4.8, 4.3, 4.2, 4.4, 4.3, 4.0, 1.4, 3.3, 4.3, null, 4.6, 4.7, 4.2, 3.9, 3.4, 4.3, 4.8, 4.8, 4.5, 3.3, 4.2, 4.9, 4.2, 4.6, 4.1, 4.6, 4.0, 4.2, 5.0, 4.1, 3.7, 4.1, 3.8, 4.7, 3.5, 4.0, 4.2, 3.3, 3.7, 3.4, 3.7, 5.0, 4.4, 5.0, 4.8, 4.4, 4.9, 4.0, 4.4, 4.5, 4.9, 4.4, 4.4, 5.0, 4.8, 4.6, 4.3, 3.8, 4.3, 4.3, 4.1, 4.5, 4.2, 3.8, 4.3, 4.4, 4.2, 4.2, 3.8, 4.2, 4.0, 4.2, 4.3, 4.3, 4.4, 4.7, 4.1, 4.5, 4.2, 4.3, 4.4, 4.5, 4.3, null, 4.2, 4.0, 3.4, 4.4, 3.8, 3.0, 4.1, 4.4, 4.1, 4.1, 4.1, 4.5, 4.1, 2.2, 3.9, 4.0, 4.3, 3.9, 4.0, 4.2, 4.2, 3.6, 4.3, null, null, 4.4, 2.6, 4.1, null, 3.5, 4.2, null, null, 3.7, 4.5, 2.4, null, 2.9, 4.2, 4.2, 4.0, 2.6, 4.4, 4.8, 4.7, 4.4, 4.6, 2.7, 3.8, 1.7, 4.6, 3.3, null, null, 4.6, 2.3, 4.5, null, 4.8, null, 5.0, null, 4.1, null, null, null, null, null, null, 4.9, 3.0, null, null, 4.8, 4.5, 3.4, null, null, null, null, 4.0, 3.7, 2.2, 4.8, null, 5.0, null, null, null, 4.5, null, 4.3, 3.8, null, 4.5, 4.5, null, 4.8, 4.5, 4.4, null, 3.9, 4.3, 4.3, null, 4.0, null, 4.1, 4.6, 3.7, 3.4, 4.5, 4.4, null, 4.4, 2.4, 4.1, 4.6, 4.6, 4.3, 4.3, 4.7, null, 4.2, 4.3, 4.3, 3.9, 4.7, 4.2, 4.1, 4.6, 4.7, 4.3, 4.5, 4.6, 2.9, 4.0, 3.0, 3.9, null, 4.8, 3.9, 4.0, null, null, null, 5.0, null, null, null, 4.0, null, 5.0, null, null, 4.5, 4.8, null, 4.6, 4.2, null, 3.4, 2.6, 2.4, null, 4.5, 4.6, 3.3, 4.1, 4.6, 3.9, null, null, null, null, null, 4.0, 3.4, 4.5, 4.0, 5.0, 3.6, 3.5, 4.6, 4.9, 3.7, 5.0, 4.0, 3.9, 5.0, 4.0, null, null, 4.9, 4.4, 3.6, 4.7, 4.3, 3.9, 4.5, 4.2, 4.6, 4.1, 4.3, 4.6, null, null, 4.2, 4.6, 4.5, 4.4, 4.2, 4.5, 4.0, 4.2, 4.7, 4.1, 4.4, 4.3, 4.6, 4.2, 4.0, 2.3, 4.5, 3.6, 4.4, 3.9, 3.9, 4.8, 4.2, 3.7, 4.0, null, 1.0, null, 4.4, 4.2, 4.7, 3.6, null, 4.1, 3.3, null, null, 5.0, 4.3, 4.7, null, null, null, null, null, 4.0, null, 4.4, 4.6, 5.0, 4.3, 4.3, null, 3.8, 4.1, 4.6, 4.0, 4.7, 3.6, 4.5, 4.0, 4.1, 4.0, 3.8, null, 4.5, 2.8, null, 4.2, 4.8, 5.0, 5.0, null, null, null, 4.3, 4.3, 4.5, 4.5, 5.0, 3.8, 4.4, 5.0, 4.7, null, 4.7, 2.2, 4.6, 4.6, 4.7, 4.6, 4.4, 3.8, 3.6, 4.9, 4.8, null, 4.4, 5.0, 4.8, null, null, 4.6, 5.0, 4.6, 5.0, null, 4.0, 4.3, 4.5, 4.0, 3.2, 4.6, 4.2, 4.8, 3.0, 4.3, 3.9, 3.2, 3.9, 4.8, 3.5, 4.4, 4.1, 4.2, 4.7, 4.0, 4.4, 4.2, 5.0, 3.5, 3.8, null, 4.5, 4.1, null, 4.3, null, 4.3, 4.4, null, null, null, null, null, 4.0, 4.3, 4.0, 4.9, 4.7, null, null, null, 4.3, 4.2, 4.1, 4.3, 4.7, 3.2, 3.9, 4.2, 4.1, 4.9, null, 3.7, 3.5, 4.9, null, 3.3, 4.9, 3.4, null, 4.5, 4.3, 5.0, 3.5, null, null, 4.4, 3.7, null, 4.8, null, 4.3, 4.9, null, null, null, null, null, null, 5.0, 4.3, 4.3, null, null, 4.4, 1.0, 4.5, null, 4.0, 5.0, 4.9, 4.7, 4.5, 3.9, null, 3.2, 3.5, null, 3.7, 3.0, 4.2, 4.0, 4.1, null, 4.7, 4.0, 3.1, 4.4, 3.2, 3.9, 4.2, 4.7, 4.0, null, null, 4.0, 3.7, 4.1, 4.4, 4.0, 3.9, 3.6, null, null, 4.6, null, 4.4, 1.9, 4.3, 4.5, 4.1, 3.8, 4.1, 4.6, 3.7, 3.9, 4.4, null, 4.5, null, null, 4.3, 4.4, 3.5, 4.3, 4.5, 4.5, 4.4, 4.2, 4.3, null, 3.6, 4.0, 3.8, null, null, 4.4, 3.8, 3.9, 4.1, 4.3, 3.5, null, 4.3, null, 4.7, 4.5, 3.8, 4.5, 4.2, 4.3, 4.1, 4.6, 4.6, 4.5, 4.5, 3.0, 2.6, 3.4, 4.4, 4.2, 4.0, 4.7, 3.4, 3.7, 3.7, 4.5, 3.9, 5.0, 4.3, 4.2, null, 4.0, null, 4.5, 4.0, 4.4, 1.8, 4.3, 5.0, 5.0, null, 3.2, 4.2, 4.6, 3.8, 3.9, 4.2, null, 4.0, 3.8, 4.1, 3.9, 4.4, 2.1, 1.8, 4.2, 2.0, null, null, 3.4, 4.3, 3.6, 3.7, 4.7, 4.5, 4.6, 3.6, null, null, 4.4, 4.6, null, null, null, 2.3, null, null, 3.8, null, 3.0, 5.0, 4.5, 4.4, 4.5, 4.8, 4.3, 3.8, null, 4.3, 3.7, 4.5, null, 4.3, null, 4.4, 3.4, 4.5, 1.6, null, null, 4.5, null, null, null, null, null, null, 4.4, 3.8, 4.3, 4.3, 3.0, 4.0, 4.2, 4.8, 4.0, 4.5, null, 4.7, 1.9, 4.9, 4.4, 4.7, null, 4.9, 4.8, null, null, 4.5, null, null, 4.6, 4.5, null, 5.0, null, 3.9, null, null, 4.3, null, 4.8, 4.3, 4.6, null, null, 4.1, 4.5, 4.3, 3.8, 2.4, 4.3, 2.8, 4.5, 4.6, 4.1, 4.2, 4.6, 4.3, 4.6, 5.0, 5.0, 3.9, 4.2, 3.9, 4.2, null, null, null, 3.5, null, 4.0, null, 3.7, 3.8, 4.3, null, null, 4.5, 4.6, null, 4.5, 4.3, 4.4, null, null, 4.6, null, 3.9, null, 3.9, 3.1, 3.9, 4.4, 4.4, 4.4, 4.6, 3.9, 4.6, 2.5, 4.6, 2.8, 4.0, 3.4, 3.8, 4.5, 4.8, 3.3, 3.9, 3.5, 4.5, 4.0, null, 3.6, null, 4.7, 3.9, 5.0, 4.6, 3.9, 4.9, 3.6, 3.7, 3.9, 2.7, 3.8, 2.8, 3.5, 4.1, null, 4.7, 4.3, 4.5, 4.1, null, null, 4.8, null, null, null, 3.4, 5.0, null, null, 4.3, 4.4, 1.8, 4.2, 3.3, null, 5.0, null, null, null, 4.8, null, 4.5, 5.0, 4.5, 4.7, null, 4.6, null, null, 4.5, null, null, 3.5, null, null, 3.5, 2.9, null, null, 5.0, null, null, null, null, 4.3, null, 4.8, 4.7, 4.3, 4.1, 5.0, 5.0, null, null, null, 4.0, null, 4.3, null, 4.1, 5.0, null, 5.0, null, null, null, 4.0, null, null, 3.5, null, null, null, 4.1, null, null, 4.6, null, null, null, 4.1, 4.2, 4.2, 2.2, 4.3, 4.7, 3.8, null, 4.1, null, 3.1, 4.2, null, 3.0, 4.8, 3.7, 3.1, 4.6, 2.9, 4.2, 4.7, 4.5, 2.8, null, 4.4, 4.4, 4.1, 4.6, 3.0, 4.1, 4.2, null, 4.4, 3.9, null, null, null, null, 4.3, 4.5, 4.5, 3.6, 2.0, 4.0, 4.5, 4.0, 4.3, null, 4.5, 4.8, 4.5, null, null, 4.2, 4.5, 4.6, null, null, 3.9, null, null, 4.3, 3.9, 4.3, 3.7, 4.7, 4.3, 1.7, 4.5, null, 4.7, null, 5.0, null, null, null, 4.6, 2.9, null, 4.8, 2.3, null, 3.8, 4.2, null, 4.4, null, 4.0, 4.1, 3.4, 4.3, 4.0, 4.2, 4.1, 4.7, 4.2, 3.9, 3.8, 4.1, 4.2, 3.8, 4.7, 3.7, 4.3, 4.0, 4.2, 4.6, 4.7, 4.7, 4.3, 4.2, 3.5, 4.7, 4.7, 4.5, 4.5, 4.7, 4.6, 4.6, 4.9, 4.2, 4.3, 4.4, 4.4, 4.5, 4.3, 4.4, 4.4, 3.0, 4.8, 4.7, 4.6, 4.0, 3.7, 3.5, 2.7, 4.7, 4.1, 4.5, 4.6, 4.5, 4.4, 4.3, 4.4, 4.5, 4.6, 4.7, 4.6, 3.1, 3.9, 4.7, 4.6, 4.7, null, 5.0, 4.4, 4.8, null, 4.1, null, 4.3, 4.4, 4.7, 4.0, 3.4, 4.6, null, 2.8, null, 3.1, null, 3.9, null, 4.2, 4.5, null, 4.1, null, 4.2, null, null, 3.3, 4.4, null, 4.4, 4.6, 4.4, 4.5, 4.1, 2.2, 4.2, 4.8, null, null, 3.2, 4.3, 4.0, 4.6, 4.4, 4.5, null, 3.4, null, null, 3.3, 4.2, null, 2.4, 3.2, 3.1, 3.8, null, 4.8, 3.7, 4.2, 3.7, 3.0, 3.9, 4.0, 5.0, null, 4.0, 2.7, 3.1, 4.1, 4.5, 4.0, 3.8, 3.8, 4.3, 3.5, 4.5, 3.9, null, 4.5, null, null, 3.3, 4.1, null, null, 5.0, null, 3.7, 4.8, 1.5, 5.0, 4.6, null, null, 5.0, 4.7, null, 4.7, null, 5.0, 4.5, null, 5.0, null, null, 5.0, 4.2, 1.0, 4.5, 4.2, 5.0, 4.2, 4.4, 3.9, 4.6, 3.8, null, null, 4.0, null, null, null, 4.6, null, null, 3.4, null, 5.0, 4.6, null, null, null, null, 5.0, null, null, null, null, 3.0, null, 3.8, 4.2, 4.3, null, null, null, null, null, null, 4.4, 3.2, null, null, null, 3.5, 4.4, 4.5, 3.7, 5.0, 4.5, 4.5, 4.1, null, 3.4, 4.1, null, null, 5.0, 4.2, 4.1, 4.1, null, 4.2, 4.3, null, 5.0, 4.4, null, 4.3, 4.5, null, 4.8, 4.4, null, null, null, 4.4, null, null, null, null, null, 4.7, null, null, null, null, null, 4.3, 4.4, 4.6, 2.8, 5.0, 4.4, 4.4, 2.0, 5.0, 4.4, 5.0, null, 3.4, 4.4, null, 3.4, null, null, 3.3, 1.5, null, null, null, 5.0, null, 4.3, 4.3, null, null, null, null, 2.2, 4.6, null, null, 5.0, null, null, 4.7, null, null, null, null, null, null, 4.7, 3.5, 4.3, 3.6, 4.3, 3.6, 2.6, 4.7, 4.5, 4.0, 4.6, 5.0, 4.2, null, null, 4.2, null, 4.7, 4.5, 3.6, 3.8, 4.2, 3.8, 3.5, 4.1, null, null, 5.0, null, 4.2, 4.1, null, null, 3.6, 4.3, 4.1, 4.4, null, null, 4.0, 5.0, 5.0, null, 3.8, 4.3, 4.7, 4.5, 4.4, 4.7, 4.4, 3.7, 4.3, null, 4.0, 3.9, null, 4.9, 3.5, 3.5, null, 4.4, 4.2, null, null, null, 4.3, null, 4.7, 4.5, 4.4, 4.2, 4.4, 3.3, 4.4, 4.9, 4.5, 4.7, 4.7, 3.9, 4.7, 4.7, null, 4.4, 4.8, 4.8, 4.0, 3.7, 5.0, 3.0, 3.9, null, null, 4.6, 4.6, 4.3, 4.2, null, 5.0, null, 4.5, null, 4.2, null, 1.0, null, 4.6, null, null, null, null, null, null, 4.1, 4.7, null, null, null, 4.4, 4.8, 4.2, null, null, 5.0, 4.6, 4.5, 5.0, 2.9, null, 4.4, null, null, 3.0, 4.5, 2.4, 4.3, 3.9, 1.9, 4.4, 5.0, 4.0, 4.7, 3.9, 5.0, 4.2, 4.2, 2.8, 4.2, 1.0, 3.9, 4.1, 4.1, 3.2, null, 5.0, null, 5.0, 4.3, 4.1, 3.8, 4.0, null, 4.2, 5.0, 4.1, 5.0, null, 3.7, null, null, 4.1, 3.5, 3.9, 4.2, 3.8, 3.7, 4.7, 2.8, 4.7, 4.3, 4.1, null, 4.7, 4.2, 4.0, 3.2, 4.6, 5.0, 4.4, 4.5, 4.0, 4.6, 4.7, null, 4.1, 4.5, 4.3, null, 5.0, 5.0, 4.2, 4.0, null, 5.0, 2.7, 4.1, null, null, 4.4, null, 4.3, 4.1, 4.7, 4.4, null, null, 3.6, 4.0, 4.1, 4.0, 4.1, 4.0, 4.6, null, null, null, null, 5.0, 3.6, 4.1, 4.3, 4.1, 2.6, 2.7, 3.8, 5.0, 4.2, null, 5.0, 2.6, 4.4, 4.3, null, null, 4.7, 2.8, 4.1, null, 3.6, null, null, 4.0, null, null, 5.0, 5.0, 4.7, 4.7, 4.6, 4.7, 4.6, 4.6, 4.6, 4.6, 4.6, 4.4, 3.8, 4.1, 3.4, 4.5, 4.5, 4.5, 4.0, 4.7, 4.4, 4.4, 4.7, 4.7, 4.2, 4.2, 4.0, 3.6, 4.7, 4.4, 4.3, 4.4, 4.4, 4.4, 4.3, 3.3, 3.6, 4.5, 4.5, 4.6, 4.3, 3.6, 4.3, 4.4, 4.1, 4.2, 4.8, 4.2, null, 4.0, 3.7, 4.5, 4.1, 4.6, 4.5, 4.7, 4.3, 4.3, 4.6, 4.1, 4.2, 4.3, 4.2, 4.3, 3.6, 4.2, 4.2, 4.0, 4.6, 4.3, 4.4, 4.5, 4.3, 3.7, 4.2, 4.7, 4.6, 4.5, 4.1, 4.5, 4.3, 3.4, 4.2, 3.9, 4.4, 4.1, 4.3, 3.9, 4.0, null, 5.0, 4.2, 4.3, 4.5, 4.5, 3.9, null, 4.5, 3.5, 3.6, 1.9, 4.3, 3.2, 1.6, 4.2, 4.9, 4.4, 3.6, 3.4, null, 4.7, 2.9, 4.3, 4.4, 4.3, 4.6, 4.6, 4.2, 3.5, null, 2.9, 4.4, 4.7, 4.5, 4.4, 2.0, 4.7, 4.4, 4.4, 4.4, null, 4.5, 3.5, 4.2, 3.7, 4.4, 3.4, 4.3, 3.6, 4.6, 4.6, 4.2, 4.3, 3.8, 1.4, 4.4, null, 4.0, null, 4.6, 3.9, 3.8, 4.7, 4.2, 4.3, 4.1, 4.3, 4.2, null, 3.6, 4.6, null, 4.3, 5.0, 5.0, 5.0, 4.5, 3.8, 3.9, null, null, 4.8, 4.1, 4.0, 4.8, 4.8, 4.4, null, 4.1, null, null, null, 4.4, 4.3, 3.7, 4.3, null, null, 4.3, 2.7, 4.4, null, 4.5, null, 4.2, null, 3.7, null, 5.0, null, 4.2, 3.9, null, 4.5, null, 3.5, 4.7, 4.2, 4.4, 4.7, 4.6, 4.0, null, 2.5, null, null, 3.8, 4.7, 4.5, 4.6, 4.6, 5.0, 3.9, 5.0, null, 2.3, null, 3.6, 4.0, 3.7, 4.2, 4.1, 4.4, 4.6, 4.2, 4.4, 4.3, 4.0, 4.5, 3.9, 3.7, 4.6, null, 3.8, 4.7, null, 3.4, 4.5, 4.1, 4.3, 4.6, 4.3, 4.3, 4.0, null, 3.5, 2.3, null, 3.9, 4.1, 4.5, 4.6, 4.4, 3.1, 4.3, 3.3, 5.0, null, 4.2, 3.8, 3.3, null, 5.0, 1.0, 4.5, 4.6, 4.3, 4.4, 4.1, 4.5, 4.2, 3.7, 4.1, 3.9, 4.5, 3.6, 3.2, 3.5, 3.7, 4.6, 4.8, 4.1, 4.4, 4.3, null, 4.0, 3.1, 4.2, 4.1, null, 3.5, 4.3, 3.8, 4.3, 4.8, 2.3, 4.3, 4.4, 3.6, 5.0, null, 4.3, 4.2, 4.3, 4.7, 3.9, 4.4, 4.4, 4.3, 2.6, 4.3, null, 3.8, 4.2, 4.2, 4.1, 4.0, 4.4, 4.7, null, 2.6, 4.3, 5.0, 3.7, 4.3, 4.1, 4.3, 3.8, 4.5, 5.0, null, null, 3.9, 3.8, 4.6, null, 4.6, 4.7, 5.0, null, 4.5, null, 4.3, 3.5, 3.3, null, 4.8, 3.9, null, 4.5, null, 3.4, 5.0, 5.0, null, null, 4.8, 3.6, null, 4.3, 4.0, 4.5, 4.6, 4.7, 3.8, 3.4, 4.7, 4.0, 4.6, 2.0, 4.3, 2.0, 3.6, 4.7, 3.5, 4.0, 3.5, 4.3, 4.1, 4.6, 3.8, 4.3, 3.8, 1.0, 3.8, 3.3, 4.8, 3.0, 4.0, 3.6, 3.8, 4.3, 3.9, 4.2, 4.6, 4.0, 4.5, 4.6, 4.6, 4.5, 3.7, 4.4, 4.6, 3.9, 4.4, 4.5, 4.5, 4.3, 3.7, 3.9, 3.9, 4.3, 4.1, 4.1, 4.4, 4.4, 4.2, 4.5, 4.6, 4.4, 4.4, 4.4, 3.8, 2.6, 4.2, 4.4, 4.2, 4.0, 4.2, 4.0, 4.4, 4.5, 3.2, 4.3, 3.4, 2.3, 4.4, 4.3, null, 4.3, 3.6, 4.6, 4.2, 4.0, 4.4, 4.5, 3.2, 1.7, 2.2, 3.8, 4.8, null, 4.4, 4.5, 4.8, 4.6, 3.7, 4.4, 3.5, 3.8, 3.8, 4.3, null, 4.6, null, 4.5, null, 3.7, null, 4.8, 4.3, 5.0, 3.9, 3.0, null, 5.0, null, 4.4, 4.6, 3.9, 3.3, 4.1, 3.0, 4.2, 4.2, 4.2, 4.0, 4.0, 3.2, 4.6, 3.2, 4.1, 3.3, 4.4, 4.0, 4.2, 4.1, 4.3, 3.3, 4.7, 4.4, 3.1, 3.1, 3.3, 3.9, 3.4, 3.9, 4.4, 3.9, 3.7, 4.5, 4.7, null, 4.6, null, 5.0, 3.0, null, 3.9, null, 5.0, 3.9, null, null, null, null, null, null, 3.8, null, 3.6, 3.9, 3.8, null, 4.8, null, null, null, null, 4.4, 4.5, 4.0, 4.7, 4.8, 4.7, 4.7, 4.5, 4.0, null, 3.2, null, null, 4.7, 4.5, null, 4.5, 4.9, 4.2, 5.0, 5.0, null, 5.0, null, null, 4.2, 4.7, null, null, 4.5, null, null, null, 4.5, 4.5, 3.8, 4.5, null, 4.3, 3.9, 3.9, 4.2, 4.5, 4.1, 4.4, 4.1, 4.6, 3.3, 4.5, 2.2, 4.4, 3.9, 4.5, 2.8, 3.3, null, 4.5, null, null, 3.1, 3.2, 4.4, 4.1, null, 5.0, null, null, 3.8, null, null, 4.3, 4.6, null, null, 3.7, 4.9, 4.3, 5.0, null, null, 2.9, 4.4, 4.4, null, 4.6, 4.5, 4.0, null, 3.5, 4.8, 4.8, 3.5, 4.7, 4.6, 4.4, 4.3, 4.7, 4.4, 4.0, 3.5, 4.6, 3.9, 3.5, 4.6, 4.2, 4.4, 4.6, 4.0, 4.2, 3.8, 4.1, 4.3, 4.4, 4.5, 4.1, 4.2, 4.0, 3.6, 3.3, 4.7, 4.6, 4.5, 3.9, 4.3, null, 3.9, 4.3, null, null, 3.1, 4.4, 3.7, 4.6, 4.6, 2.7, null, null, 4.1, 4.2, 1.9, 4.6, null, 4.2, null, 4.4, 4.2, 3.9, 2.4, 5.0, 3.9, null, 3.7, 5.0, 4.0, 3.0, 4.1, 4.8, 4.5, 3.5, null, null, null, 4.5, 4.5, 4.2, 4.3, 4.4, 4.4, 4.3, 4.2, 4.5, 4.3, 4.3, 4.2, 4.9, 4.1, 1.4, 4.0, 5.0, 4.3, null, 4.2, 4.3, 3.8, 4.1, 4.2, 4.3, 4.1, 4.3, 3.6, 4.3, 4.6, 4.4, 5.0, 4.4, 4.5, null, 4.7, null, 5.0, null, null, 3.4, 3.1, 4.5, 5.0, 4.3, 4.4, 4.3, 4.2, 4.0, 4.5, 4.0, 4.1, 3.8, 4.3, 4.6, 4.1, 4.3, 4.3, 4.2, 4.3, 4.4, 4.4, 3.9, 4.3, 4.5, 4.3, 3.5, 4.2, 4.1, 4.1, 4.7, 4.5, 3.3, 4.2, null, null, 4.2, 4.6, null, 4.3, 4.3, 4.0, 4.7, 5.0, null, null, null, null, null, null, null, 5.0, 4.9, null, null, null, null, null, null, 4.3, null, null, null, 4.0, null, null, 4.5, null, 4.1, 4.3, null, null, null, 4.5, null, null, 3.9, 3.7, 4.2, 3.6, 3.6, 2.1, 4.7, 3.2, 3.0, 4.3, 3.0, 4.3, 3.9, 3.3, 4.3, 4.0, 3.7, 2.8, 4.4, 5.0, 3.9, 4.2, 4.8, 4.0, null, 3.0, 4.5, 2.6, 5.0, null, null, 5.0, 4.1, null, 4.5, 5.0, 4.7, 4.5, 4.4, 4.4, 4.3, 4.2, 3.0, 4.1, 4.2, 4.2, 4.0, 4.3, 4.1, 3.6, 4.3, 5.0, 4.2, 3.9, null, 4.1, 3.8, 5.0, 3.7, 4.3, 4.2, 4.3, 2.5, 4.3, 4.4, null, 4.3, 4.2, 4.6, 4.0, 2.9, null, 4.5, 4.7, 3.8, null, 4.7, 3.9, 4.5, 4.7, 4.5, 4.2, 4.3, 4.4, 4.8, 4.2, 4.1, 4.5, 4.5, 4.6, 4.4, 4.1, 4.3, 4.7, 4.4, 4.2, 4.3, 4.5, 4.3, 4.8, 4.5, 4.6, 4.7, 4.4, 4.1, 4.3, 4.2, 4.2, 3.6, 2.8, 3.9, 3.8, 4.4, 3.7, 2.7, 3.8, 3.2, 3.9, 2.3, 4.1, 4.3, 3.1, 4.6, 4.1, 4.4, 3.2, 4.5, 3.7, null, null, null, 4.4, 4.5, 5.0, 4.8, null, 4.6, 4.0, 4.1, null, 4.1, null, null, 4.8, null, null, null, 4.3, 2.8, null, null, 4.7, 4.5, 4.2, 4.3, 3.8, 3.8, 4.2, 3.8, 4.0, 4.0, 4.6, 4.0, 4.3, 4.3, 3.9, 5.0, 4.0, 4.1, 3.9, 4.2, 4.3, 4.5, 4.4, 4.1, 4.2, 4.5, 4.6, 4.1, 3.9, 4.7, 3.9, 4.3, 2.9, 4.4, 3.7, 4.4, 4.1, null, 2.8, 4.9, 3.4, 2.8, 2.5, 4.7, 3.1, null, 3.2, 4.3, 3.9, 3.6, 3.2, null, 3.5, 3.3, null, null, null, null, 2.4, 4.4, 2.8, 5.0, null, 4.4, null, null, null, null, null, null, null, 5.0, null, 3.3, 2.9, 4.1, 4.6, null, 2.2, 4.3, 5.0, 2.5, null, 3.0, 3.7, 5.0, null, null, null, null, 5.0, null, null, 4.1, null, null, null, 4.1, 2.6, 4.6, 4.5, null, 4.5, null, 3.3, null, 4.4, 4.7, 4.7, 4.0, 4.5, 4.3, 4.6, 4.7, 4.4, 4.0, 4.2, 4.3, 4.1, 4.5, 4.3, 4.3, 4.7, 4.1, 4.3, 4.4, 3.1, 4.0, 4.5, 4.5, 4.4, 4.2, 4.6, 4.4, 4.6, 4.0, 4.6, 4.3, 4.3, 3.9, 4.5, 4.7, 4.3, 4.6, 4.6, 4.2, 4.3, 4.6, 4.2, 4.1, 4.6, 4.4, 3.7, 4.4, 3.9, 4.3, 4.3, 4.3, 4.5, 4.5, 4.5, 4.5, 4.7, 4.3, 4.4, 4.5, 4.3, 4.3, 4.2, 4.2, 4.3, 4.2, 4.7, 4.1, 4.3, 4.1, 3.8, 4.5, 4.1, null, 4.3, 4.5, 4.1, 4.4, 4.3, 4.4, 4.3, null, 4.1, 4.6, 4.7, 4.2, 3.7, 4.7, 4.4, 4.7, 4.2, 4.6, 4.5, 4.8, 3.7, 4.3, 4.2, 3.6, 4.1, 2.3, 4.3, 4.6, 4.5, 4.0, 4.2, 4.6, 4.2, 4.5, 4.3, 4.4, 3.6, 4.0, null, 2.8, 3.8, 4.1, 3.8, 3.4, 4.5, 4.3, 3.1, 4.6, 3.3, 3.9, 4.2, 4.9, 3.9, 3.4, 3.7, 4.2, 3.8, 4.6, 4.4, 4.0, 4.2, null, 4.2, 4.5, 4.6, 4.4, 4.6, 4.5, 3.7, 4.1, 4.2, 4.0, 4.5, 4.6, 4.5, 4.4, 3.3, 4.2, 4.2, 4.0, 4.0, 4.0, 3.5, 4.5, 3.9, 3.9, 4.1, 4.4, 4.2, 4.4, 4.3, 4.1, 4.0, 4.3, 4.4, 4.5, 4.6, 3.7, 3.8, 3.4, 4.3, 3.8, 4.7, 4.4, 4.4, 4.1, 4.4, 4.0, 3.9, 4.3, 4.2, 3.3, 4.0, 4.6, 4.1, 4.1, 3.4, 3.4, 4.1, 4.0, 3.4, 3.2, 3.8, 3.8, 3.9, 3.6, 3.8, 3.9, 3.2, 1.0, 4.6, null, 3.6, 4.9, null, 2.6, 3.9, null, 3.5, 3.2, null, 3.3, null, null, 3.8, 3.9, 4.6, 1.8, null, 4.3, 3.9, null, 4.8, 3.7, 4.0, 4.1, 4.6, 4.0, null, 4.8, null, 4.0, 3.5, null, 3.0, 4.6, 1.6, 3.8, 1.7, 4.6, 5.0, 4.6, 4.4, 4.5, 3.8, 4.0, 4.1, null, 5.0, null, null, null, null, 5.0, 1.0, null, null, 4.4, 4.7, 4.6, 2.4, null, 4.5, null, null, 4.4, 4.3, 5.0, 4.1, 3.8, 3.9, 3.1, 4.7, 4.5, 3.5, 4.5, 4.6, 4.5, 4.5, 4.4, 4.3, 4.4, 4.2, 4.6, 4.5, 3.8, 4.3, 4.6, 4.3, 3.6, 4.2, 4.7, 4.3, 4.7, 4.8, 3.1, 4.5, 4.4, 4.5, 4.5, null, 4.7, 4.1, 4.4, 4.3, 4.6, 3.4, null, 4.7, 3.6, 3.7, 2.1, 2.0, 3.5, 4.3, 2.4, 4.5, 2.8, null, 4.5, null, 2.8, 3.9, 3.2, 3.1, 2.4, 4.6, 2.9, 4.0, 3.7, 2.3, 2.9, 4.6, 4.3, 5.0, 4.2, 4.6, 4.5, 4.2, 4.8, 3.5, 4.6, 3.5, 3.6, null, 5.0, 3.0, null, null, 2.9, 3.7, 4.6, null, 4.2, 3.2, 2.5, 4.4, 4.3, 2.7, 4.0, 4.5, 3.4, 4.3, 4.3, null, 4.3, null, null, 4.0, 4.9, 3.4, 4.9, 4.3, 4.7, 4.8, 4.3, 4.3, 4.0, null, 3.5, null, 5.0, 4.7, null, 4.2, 4.4, 4.2, 5.0, null, 5.0, 2.0, null, 3.7, null, null, null, 3.9, 4.5, null, null, null, 3.1, 4.5, 4.7, null, 4.4, 3.8, 4.2, 4.5, null, 4.5, 4.6, 4.2, 4.5, 4.2, 4.2, 4.1, 4.3, 5.0, 4.6, 4.0, 4.4, null, 4.5, 3.6, 4.6, null, 4.0, 4.6, 4.5, 4.5, null, null, null, 4.8, 5.0, 4.4, null, 4.0, 3.5, 5.0, 4.0, 4.2, 4.0, 3.9, 4.5, 3.6, 4.2, 3.0, 3.0, 4.0, 3.4, 4.9, null, null, null, null, 4.0, 4.4, 4.1, 4.4, 4.0, null, 4.5, 4.2, 3.9, null, 3.6, 5.0, 4.4, 3.6, 4.7, 4.2, 4.5, 4.7, null, null, 4.3, 4.2, 4.4, null, 4.7, 4.4, null, 4.1, 4.5, 4.1, 4.0, null, null, 4.3, 4.2, null, 4.2, null, 4.1, 4.2, null, 5.0, 4.0, 4.0, 4.5, null, 4.1, null, 4.7, 4.4, 4.9, 3.6, 4.2, null, 4.4, null, 4.5, 4.2, null, null, 4.2, null, 4.5, 4.4, 4.4, 4.5, 4.5, 3.9, 4.3, 4.4, null, 4.5, 4.0, 4.5, 4.0, 4.4, 4.3, 2.5, 4.4, 3.8, 4.4, 4.2, 4.1, 4.2, 3.9, 4.5, 4.1, 4.4, 4.3, 4.5, 3.4, 3.4, 4.4, 4.2, 4.4, 3.5, 4.1, 4.6, 1.7, 3.3, 5.0, 4.8, null, 4.6, 3.3, null, 4.2, null, 3.5, 3.7, 5.0, null, null, 4.6, 4.1, 3.5, 5.0, null, 3.7, 4.0, null, null, 4.2, null, 4.5, 3.8, 2.5, 4.0, null, 4.0, 4.1, null, null, 3.4, 3.6, 3.4, 3.9, 4.6, 4.3, 4.7, 5.0, 3.9, 3.9, 4.2, 4.3, 3.5, null, 4.1, 4.2, 4.4, 4.5, 3.8, 3.4, null, 3.9, 4.5, null, null, 3.0, null, 4.1, 4.6, null, 3.9, 4.7, 4.5, 3.4, 5.0, 5.0, 5.0, 4.0, null, null, 4.0, null, 4.9, 5.0, null, 4.6, null, 4.8, 4.1, 4.1, null, null, 4.7, null, 5.0, 4.4, 3.3, 4.0, 3.5, 2.8, null, 3.6, 3.2, 3.6, 3.7, 3.3, 3.1, 4.1, 3.1, 3.5, 3.6, 5.0, 2.3, null, 3.1, 2.9, 3.0, 2.9, 3.9, 5.0, null, 3.4, 5.0, null, 4.8, null, 4.2, null, null, null, 5.0, null, 4.3, 4.6, 4.7, null, 4.4, 4.8, null, null, 4.1, null, 4.6, 4.3, 4.6, 4.0, 2.9, 4.1, null, null, null, null, 4.2, null, 4.3, 4.4, 2.4, 4.2, null, null, null, 3.1, null, 3.0, 4.7, 3.4, null, 4.7, 4.7, 4.2, 5.0, 4.5, 4.3, 3.3, 4.4, null, 4.2, 4.2, 4.7, 4.3, 4.8, 4.2, 4.0, 4.2, 4.1, 4.6, 4.6, 3.8, 4.5, 4.4, 4.1, 4.0, 3.9, 3.5, 5.0, 4.6, null, 3.6, 4.2, null, null, 3.8, null, 3.4, 3.8, 4.2, 4.2, 3.7, 4.0, 4.4, 4.5, 3.7, 4.2, 3.9, 4.0, 3.7, 4.2, 4.0, 3.9, 4.1, 4.3, 4.5, 4.5, 3.3, 4.4, 4.2, 4.2, 4.1, 4.1, 4.4, 4.1, 3.9, 3.9, 4.4, 3.8, 3.0, 3.4, 4.3, null, null, 5.0, null, 4.1, null, 2.4, 3.9, null, null, null, 4.0, null, 3.0, null, 4.4, 3.4, 2.9, 5.0, 4.5, 3.7, 3.0, null, 4.0, 3.2, 3.6, 3.2, 3.7, 4.7, 4.4, 3.9, 4.4, 4.3, 4.9, 2.6, 5.0, 4.1, 4.0, 4.1, null, 3.3, 4.2, 4.0, 4.3, null, 4.4, 5.0, 4.3, 4.4, null, null, null, 3.9, 4.3, 4.0, 3.8, 4.5, null, 3.8, 4.4, 4.3, 4.7, 3.9, 4.2, 3.8, 4.3, 3.8, 4.2, 4.5, 4.2, 3.6, 4.0, null, 3.5, 4.4, 3.5, 4.1, 4.8, 4.4, 4.3, 4.0, 4.2, 4.4, 3.5, 4.3, 4.4, 4.7, 5.0, 3.8, 5.0, 4.8, 4.9, 4.3, null, 5.0, null, 4.9, 4.9, 4.9, 4.5, null, 4.5, 5.0, 5.0, 3.0, null, null, 4.9, 5.0, 5.0, null, 4.1, null, 4.1, 4.3, 4.3, 4.1, 4.7, null, 4.9, 4.0, 5.0, 5.0, null, 4.6, 4.2, 3.7, 5.0, 4.3, 4.0, 4.3, 4.0, 4.0, 3.1, 3.4, 4.2, 4.2, 4.1, 3.4, null, 4.0, null, 3.9, 4.8, 4.1, 4.3, 4.3, 4.4, null, 4.4, 4.5, 4.5, 4.8, 4.4, 4.5, 4.6, 4.6, 4.5, null, 4.2, 4.4, 4.2, 4.7, 4.5, 4.2, 4.5, 4.2, 4.7, 4.1, 4.1, 4.6, 4.4, 4.5, 3.8, 3.9, 3.5, 3.8, 4.2, 4.6, 3.7, 4.4, 3.6, 3.4, 4.0, 4.3, 4.3, 4.5, 4.4, 4.5, 4.1, 4.4, 4.3, 4.5, 4.5, 4.2, 4.5, 4.3, 4.1, 4.6, 4.3, 4.0, 4.4, 4.4, null, 4.6, 4.6, 4.3, 4.3, 4.2, 4.5, 4.0, 4.6, 4.5, 3.8, 4.3, 4.3, 4.9, 4.0, 4.5, 4.1, 4.5, 4.2, 4.4, 4.4, 4.0, 4.3, 4.3, 4.4, 4.4, 4.0, 4.7, 4.2, 4.5, 4.1, 4.4, 4.1, 4.3, 3.5, 4.7, null, 2.6, 4.2, null, null, null, null, null, null, null, null, 5.0, null, 4.3, null, null, null, null, null, 4.4, 4.3, null, null, 4.1, null, 4.3, 4.5, null, 4.6, 4.6, 4.7, null, 4.3, 4.2, 4.5, 4.3, 4.5, 3.5, 4.3, 4.6, 4.5, 4.3, 4.4, null, null, null, 3.4, 4.3, 3.8, 4.5, null, null, null, 5.0, 4.9, null, null, 5.0, null, null, 4.2, 4.3, 4.4, 2.3, 4.7, null, null, null, 4.4, 4.3, 4.4, null, 4.0, 3.6, null, 4.1, 4.6, 3.9, 4.4, null, 3.7, 3.9, null, 4.3, 4.1, 3.6, 3.5, 3.9, 3.9, 3.8, 4.0, null, 4.5, 3.6, 3.9, 4.3, 4.0, 4.2, 3.7, 3.9, 4.2, 3.5, 4.0, 3.8, 4.1, 4.2, 4.1, 4.4, 3.7, null, 4.7, 3.8, 4.0, 4.2, 3.8, 3.9, 4.0, 3.1, 5.0, 3.5, 4.1, 4.5, 4.7, 4.1, null, 3.9, 4.0, 4.3, 3.1, null, 4.2, 4.1, 4.4, 3.2, null, 3.3, 4.3, 4.7, 4.3, 4.2, 4.7, 4.3, 4.2, 4.2, 4.2, 4.1, 4.2, 4.3, 4.4, 4.3, 3.5, 4.3, 1.8, 4.2, 4.2, 4.6, 4.0, 4.3, 5.0, 3.8, 4.3, 3.0, 5.0, 4.7, 4.6, 4.4, 4.7, 5.0, 4.8, 3.0, 4.6, 4.6, null, 4.1, 4.6, 4.5, 4.3, 4.2, 3.9, 4.7, 4.9, 4.3, 4.4, 3.6, 4.6, 4.5, null, 3.9, 4.3, 4.8, 3.7, 4.4, 4.2, 4.3, 4.6, 4.5, 3.9, 4.3, 4.4, 4.0, 4.7, 4.3, 4.5, 4.2, 4.2, 4.8, 4.6, 4.5, 4.0, 4.2, 4.1, 4.7, 4.2, 4.6, 4.5, 3.9, 3.6, 4.6, null, 3.4, 4.2, 3.4, 3.6, 4.2, 3.5, 4.3, null, 3.9, 4.3, 3.6, null, 3.9, 4.3, 3.7, null, 3.8, null, 4.1, 4.1, 4.7, 4.1, null, 1.9, 3.6, 3.8, null, 4.5, 2.7, null, 4.5, null, 5.0, 4.0, 4.2, null, null, 4.4, null, 4.0, null, 3.1, null, null, 5.0, null, null, null, null, null, null, null, null, null, 4.7, 3.7, 3.9, null, null, 3.0, null, null, null, null, null, 4.2, 3.0, null, null, 4.2, null, null, 4.2, 3.7, 4.6, 4.5, 4.6, 4.7, 4.3, 2.3, 2.8, 2.8, 3.6, 3.0, 3.2, 3.5, 3.8, 3.5, 4.2, null, 4.5, 3.4, 3.0, 4.4, 4.0, null, 4.3, null, 4.1, 3.6, 3.7, 4.2, 3.7, 4.3, null, null, 3.3, 4.4, 4.8, 3.5, 4.0, 4.9, 4.0, null, 4.6, 4.3, 3.6, 3.9, 3.9, 4.0, 4.2, 4.4, null, null, 4.3, null, null, null, null, 3.7, null, 4.3, null, null, 3.4, null, 3.5, null, 4.2, 4.2, null, 3.6, null, 3.9, 3.8, 3.8, 4.0, 4.5, 3.8, 4.9, 3.8, 4.1, 3.5, 3.0, 4.5, 4.7, 3.8, 3.3, 4.0, 4.1, 3.7, 3.9, 3.5, 4.4, 4.0, 4.0, 4.6, 4.4, 4.5, 4.3, 4.4, 4.3, 4.1, 4.2, 2.7, 4.2, 2.3, 3.9, 4.1, 2.9, 3.3, 4.2, 4.3, 2.9, 3.5, 2.8, null, 4.3, 3.5, 4.6, 4.2, 4.2, 3.7, 4.7, 3.9, 4.3, 4.4, 4.0, 4.4, 3.7, 4.3, 3.5, null, 4.3, 4.0, 4.5, 4.2, 4.3, 4.1, 2.5, 2.7, null, null, null, null, 1.2, null, null, null, 4.7, 4.9, 4.7, null, null, 4.4, 4.7, 4.0, null, 4.7, 4.3, null, 4.7, null, 4.4, null, null, null, null, null, null, 4.6, null, null, null, 4.4, 4.4, 4.4, 4.6, 3.1, 4.3, 3.7, 4.6, null, 4.1, 4.2, 4.4, 4.1, 3.6, 4.4, 3.8, 4.0, 3.2, 2.8, 3.1, 2.9, 4.1, 3.3, 3.5, 4.2, 2.8, 2.1, 4.4, 4.4, 4.2, 4.1, 3.3, 3.5, 4.7, 3.1, 4.3, 4.1, 4.2, 2.5, 3.9, 3.0, 3.2, 4.3, 4.3, 4.2, 4.3, 2.2, 3.9, 2.8, 4.4, 4.6, 4.4, 3.9, 2.9, 4.1, 5.0, 4.6, 3.7, null, 4.4, 4.2, 4.4, 3.9, 3.6, 3.4, null, 4.3, 4.3, 4.4, null, 4.3, 4.3, null, null, null, 4.4, null, 4.0, 4.5, 4.6, 4.3, 4.1, 4.4, 3.5, 4.1, 3.8, 4.2, 4.3, 4.5, 4.0, 4.0, 4.3, 4.1, 3.4, 4.0, 4.3, 4.7, 4.5, 4.3, 4.1, 4.1, 4.4, 4.6, null, 3.8, 3.9, 4.2, 4.2, 3.7, 4.3, 4.2, 3.6, 4.3, 4.3, 4.3, 4.5, 4.3, 4.7, 3.8, 4.0, 4.1, null, 3.9, 4.3, 3.4, null, 4.2, 4.5, 4.4, 4.2, 4.7, 4.6, 4.4, 4.4, 4.8, 4.6, 4.3, 4.4, 4.4, 3.3, 4.5, 4.6, 4.3, 4.9, 4.3, null, 4.5, 4.9, 3.7, 4.5, 4.6, 4.5, 4.1, 4.8, null, 5.0, 3.4, 4.5, 4.8, 4.5, 4.5, 4.5, 4.5, 4.5, 4.1, 4.1, 3.6, 4.7, 4.6, 4.9, 4.6, 4.1, 4.5, 3.9, 3.9, 4.6, 3.8, 4.7, 3.9, 4.1, 3.9, 4.0, 4.3, 4.0, 4.4, 4.1, 5.0, 4.8, null, 4.6, 5.0, 4.2, 4.7, 4.0, 4.4, 4.9, 3.5, 4.1, 4.2, 4.4, null, 4.5, 3.1, null, 4.5, 4.6, 4.3, 4.4, 4.6, 4.3, 4.8, 2.8, 4.1, 1.0, 3.0, 5.0, 4.5, null, null, null, null, null, null, null, 5.0, 4.1, null, null, null, 4.4, 3.0, null, 3.8, null, 3.9, null, null, null, 5.0, null, null, null, 4.5, null, null, null, 5.0, null, null, 3.3, null, 4.5, 4.9, null, null, null, null, null, null, 4.3, 4.5, 4.1, 4.8, 3.8, 4.1, 3.9, null, 4.2, 4.2, 4.8, 4.1, 4.1, 4.0, 3.9, 4.1, 4.1, 4.2, 3.7, 3.9, 3.9, 3.6, 3.7, 3.6, 4.3, 3.9, 4.5, 2.6, 4.4, null, 1.0, null, null, null, null, 4.2, 4.8, 5.0, 4.3, 4.4, 4.5, null, 4.9, null, null, null, 5.0, null, null, 4.2, 4.2, null, null, 4.0, 2.1, null, 4.2, null, 2.5, 4.4, 4.4, 4.6, null, null, 4.4, 4.2, 4.5, 3.3, 3.9, null, 4.5, 4.1, 4.8, 4.6, 4.4, 3.8, 3.7, 4.2, 3.7, 4.3, 4.5, 3.5, 4.0, 4.5, 2.9, 3.9, 3.6, 4.6, 2.1, 4.7, 4.5, 4.1, 4.5, 3.7, 2.9, 4.0, 4.2, 3.7, 3.6, 3.9, 3.4, 3.5, 19.0, 4.2, 3.4, 3.9, 3.0, 3.6, 3.2, 4.1, 4.1, 4.2, 4.2, null, 4.7, null, 4.6, 4.5, null, 4.3, 4.5, 4.5, 4.4, 4.3, null, null, null, null, 4.2, null, 3.7, null, 4.1, 4.3, 4.0, 3.5, 4.2, 4.4, 4.2, 4.4, null, 3.8, 3.9, 4.0, 3.8, 3.6, 4.2, null, 3.8, null, 3.7, 4.0, 4.2, 4.4, null, null, 4.4, 4.9, null, 5.0, null, 4.8, null, null, null, null, null, null, null, null, 4.0, null, null, null, null, null, null, null, null, 4.0, null, null, 4.9, null, 3.8, null, 4.9, null, null, null, null, null, 1.5, null, 5.0, null, 4.8, null, 3.9, 3.7, 4.6, 4.7, 4.6, 4.3, 4.2, 4.6, 4.7, 4.6, 2.0, 3.6, 3.2, 3.8, 4.0, 3.8, 3.8, 4.4, 4.4, 4.4, 3.8, 4.3, 4.6, 1.0, 3.2, 4.7, 4.3, 4.5, 4.1, 4.9, 4.1, 4.2, 3.5, 4.2, 5.0, 3.8, 4.7, null, null, 4.5, null, 5.0, 3.3, 5.0, null, 4.0, 4.5, 3.2, 4.5, 4.2, null, 3.7, 3.8, 5.0, null, 4.1, 2.9, null, null, null, 4.7, 5.0, 3.2, null, 3.8, 3.8, 4.6, 4.6, 4.4, 4.8, 4.2, 3.3, 3.9, 4.5, 3.9, 4.3, 4.4, 3.9, 4.6, 3.9, 3.4, 4.6, null, null, 4.2, null, null, 4.8, 5.0, null, null, 5.0, null, null, null, 3.8, null, 2.9, 4.6, 3.8, null, null, null, 4.1, null, 4.5, null, 4.2, null, 2.5, 3.5, 4.6, 4.4, 4.6, 4.3, 4.2, 4.2, 4.1, 4.2, 4.3, 4.5, 4.4, 5.0, 4.6, null, null, null, null, null, 5.0, null, null, null, null, null, 3.4, null, null, 4.6, 4.5, null, null, 3.8, 4.1, 4.4, 4.4, 4.4, 3.0, 4.2, 4.2, 3.9, 4.2, 4.4, 5.0, 4.0, 4.3, 4.6, 3.6, 4.4, 4.1, 4.2, 4.3, 4.5, 3.9, 4.3, 3.5, null, null, null, 4.0, 3.8, 3.6, 4.3, 4.2, 5.0, 3.4, null, null, null, 3.5, null, 3.7, 4.2, null, 3.6, 4.5, 4.2, 4.3, 4.4, 2.7, 4.1, null, 4.4, null, null, 4.5, null, 3.4, 2.9, 4.8, 3.8, null, 4.0, 3.9, null, null, null, null, 5.0, 3.9, 4.0, 3.6, 4.1, 4.3, 3.8, 4.2, 4.3, 4.2, 4.2, 4.1, null, 4.0, 4.1, 4.0, 4.2, 4.4, null, 4.2, 4.7, 4.6, null, 4.7, 4.1, 4.9, 4.0, 4.3, 4.2, 4.3, null, null, null, 4.7, 4.8, null, 4.1, null, 4.0, 4.2, null, 4.0, null, 3.3, 5.0, null, null, null, null, null, 4.0, 4.2, 3.4, 4.6, 3.8, null, 3.8, 4.8, 4.0, null, 4.5, 5.0, null, 4.5, 4.5], \"xaxis\": \"x\", \"yaxis\": \"y\"}],\n",
              "                        {\"barmode\": \"relative\", \"legend\": {\"tracegroupgap\": 0}, \"margin\": {\"t\": 60}, \"template\": {\"data\": {\"bar\": [{\"error_x\": {\"color\": \"#2a3f5f\"}, \"error_y\": {\"color\": \"#2a3f5f\"}, \"marker\": {\"line\": {\"color\": \"#E5ECF6\", \"width\": 0.5}}, \"type\": \"bar\"}], \"barpolar\": [{\"marker\": {\"line\": {\"color\": \"#E5ECF6\", \"width\": 0.5}}, \"type\": \"barpolar\"}], \"carpet\": [{\"aaxis\": {\"endlinecolor\": \"#2a3f5f\", \"gridcolor\": \"white\", \"linecolor\": \"white\", \"minorgridcolor\": \"white\", \"startlinecolor\": \"#2a3f5f\"}, \"baxis\": {\"endlinecolor\": \"#2a3f5f\", \"gridcolor\": \"white\", \"linecolor\": \"white\", \"minorgridcolor\": \"white\", \"startlinecolor\": \"#2a3f5f\"}, \"type\": \"carpet\"}], \"choropleth\": [{\"colorbar\": {\"outlinewidth\": 0, \"ticks\": \"\"}, \"type\": \"choropleth\"}], \"contour\": [{\"colorbar\": {\"outlinewidth\": 0, \"ticks\": \"\"}, \"colorscale\": [[0.0, \"#0d0887\"], [0.1111111111111111, \"#46039f\"], [0.2222222222222222, \"#7201a8\"], [0.3333333333333333, \"#9c179e\"], [0.4444444444444444, \"#bd3786\"], [0.5555555555555556, \"#d8576b\"], [0.6666666666666666, \"#ed7953\"], [0.7777777777777778, \"#fb9f3a\"], [0.8888888888888888, \"#fdca26\"], [1.0, \"#f0f921\"]], \"type\": \"contour\"}], \"contourcarpet\": [{\"colorbar\": {\"outlinewidth\": 0, \"ticks\": \"\"}, \"type\": \"contourcarpet\"}], \"heatmap\": [{\"colorbar\": {\"outlinewidth\": 0, \"ticks\": \"\"}, \"colorscale\": [[0.0, \"#0d0887\"], [0.1111111111111111, \"#46039f\"], [0.2222222222222222, \"#7201a8\"], [0.3333333333333333, \"#9c179e\"], [0.4444444444444444, \"#bd3786\"], [0.5555555555555556, \"#d8576b\"], [0.6666666666666666, \"#ed7953\"], [0.7777777777777778, \"#fb9f3a\"], [0.8888888888888888, \"#fdca26\"], [1.0, \"#f0f921\"]], \"type\": \"heatmap\"}], \"heatmapgl\": [{\"colorbar\": {\"outlinewidth\": 0, \"ticks\": \"\"}, \"colorscale\": [[0.0, \"#0d0887\"], [0.1111111111111111, \"#46039f\"], [0.2222222222222222, \"#7201a8\"], [0.3333333333333333, \"#9c179e\"], [0.4444444444444444, \"#bd3786\"], [0.5555555555555556, \"#d8576b\"], [0.6666666666666666, \"#ed7953\"], [0.7777777777777778, \"#fb9f3a\"], [0.8888888888888888, \"#fdca26\"], [1.0, \"#f0f921\"]], \"type\": \"heatmapgl\"}], \"histogram\": [{\"marker\": {\"colorbar\": {\"outlinewidth\": 0, \"ticks\": \"\"}}, \"type\": \"histogram\"}], \"histogram2d\": [{\"colorbar\": {\"outlinewidth\": 0, \"ticks\": \"\"}, \"colorscale\": [[0.0, \"#0d0887\"], [0.1111111111111111, \"#46039f\"], [0.2222222222222222, \"#7201a8\"], [0.3333333333333333, \"#9c179e\"], [0.4444444444444444, \"#bd3786\"], [0.5555555555555556, \"#d8576b\"], [0.6666666666666666, \"#ed7953\"], [0.7777777777777778, \"#fb9f3a\"], [0.8888888888888888, \"#fdca26\"], [1.0, \"#f0f921\"]], \"type\": \"histogram2d\"}], \"histogram2dcontour\": [{\"colorbar\": {\"outlinewidth\": 0, \"ticks\": \"\"}, \"colorscale\": [[0.0, \"#0d0887\"], [0.1111111111111111, \"#46039f\"], [0.2222222222222222, \"#7201a8\"], [0.3333333333333333, \"#9c179e\"], [0.4444444444444444, \"#bd3786\"], [0.5555555555555556, \"#d8576b\"], [0.6666666666666666, \"#ed7953\"], [0.7777777777777778, \"#fb9f3a\"], [0.8888888888888888, \"#fdca26\"], [1.0, \"#f0f921\"]], \"type\": \"histogram2dcontour\"}], \"mesh3d\": [{\"colorbar\": {\"outlinewidth\": 0, \"ticks\": \"\"}, \"type\": \"mesh3d\"}], \"parcoords\": [{\"line\": {\"colorbar\": {\"outlinewidth\": 0, \"ticks\": \"\"}}, \"type\": \"parcoords\"}], \"pie\": [{\"automargin\": true, \"type\": \"pie\"}], \"scatter\": [{\"marker\": {\"colorbar\": {\"outlinewidth\": 0, \"ticks\": \"\"}}, \"type\": \"scatter\"}], \"scatter3d\": [{\"line\": {\"colorbar\": {\"outlinewidth\": 0, \"ticks\": \"\"}}, \"marker\": {\"colorbar\": {\"outlinewidth\": 0, \"ticks\": \"\"}}, \"type\": \"scatter3d\"}], \"scattercarpet\": [{\"marker\": {\"colorbar\": {\"outlinewidth\": 0, \"ticks\": \"\"}}, \"type\": \"scattercarpet\"}], \"scattergeo\": [{\"marker\": {\"colorbar\": {\"outlinewidth\": 0, \"ticks\": \"\"}}, \"type\": \"scattergeo\"}], \"scattergl\": [{\"marker\": {\"colorbar\": {\"outlinewidth\": 0, \"ticks\": \"\"}}, \"type\": \"scattergl\"}], \"scattermapbox\": [{\"marker\": {\"colorbar\": {\"outlinewidth\": 0, \"ticks\": \"\"}}, \"type\": \"scattermapbox\"}], \"scatterpolar\": [{\"marker\": {\"colorbar\": {\"outlinewidth\": 0, \"ticks\": \"\"}}, \"type\": \"scatterpolar\"}], \"scatterpolargl\": [{\"marker\": {\"colorbar\": {\"outlinewidth\": 0, \"ticks\": \"\"}}, \"type\": \"scatterpolargl\"}], \"scatterternary\": [{\"marker\": {\"colorbar\": {\"outlinewidth\": 0, \"ticks\": \"\"}}, \"type\": \"scatterternary\"}], \"surface\": [{\"colorbar\": {\"outlinewidth\": 0, \"ticks\": \"\"}, \"colorscale\": [[0.0, \"#0d0887\"], [0.1111111111111111, \"#46039f\"], [0.2222222222222222, \"#7201a8\"], [0.3333333333333333, \"#9c179e\"], [0.4444444444444444, \"#bd3786\"], [0.5555555555555556, \"#d8576b\"], [0.6666666666666666, \"#ed7953\"], [0.7777777777777778, \"#fb9f3a\"], [0.8888888888888888, \"#fdca26\"], [1.0, \"#f0f921\"]], \"type\": \"surface\"}], \"table\": [{\"cells\": {\"fill\": {\"color\": \"#EBF0F8\"}, \"line\": {\"color\": \"white\"}}, \"header\": {\"fill\": {\"color\": \"#C8D4E3\"}, \"line\": {\"color\": \"white\"}}, \"type\": \"table\"}]}, \"layout\": {\"annotationdefaults\": {\"arrowcolor\": \"#2a3f5f\", \"arrowhead\": 0, \"arrowwidth\": 1}, \"coloraxis\": {\"colorbar\": {\"outlinewidth\": 0, \"ticks\": \"\"}}, \"colorscale\": {\"diverging\": [[0, \"#8e0152\"], [0.1, \"#c51b7d\"], [0.2, \"#de77ae\"], [0.3, \"#f1b6da\"], [0.4, \"#fde0ef\"], [0.5, \"#f7f7f7\"], [0.6, \"#e6f5d0\"], [0.7, \"#b8e186\"], [0.8, \"#7fbc41\"], [0.9, \"#4d9221\"], [1, \"#276419\"]], \"sequential\": [[0.0, \"#0d0887\"], [0.1111111111111111, \"#46039f\"], [0.2222222222222222, \"#7201a8\"], [0.3333333333333333, \"#9c179e\"], [0.4444444444444444, \"#bd3786\"], [0.5555555555555556, \"#d8576b\"], [0.6666666666666666, \"#ed7953\"], [0.7777777777777778, \"#fb9f3a\"], [0.8888888888888888, \"#fdca26\"], [1.0, \"#f0f921\"]], \"sequentialminus\": [[0.0, \"#0d0887\"], [0.1111111111111111, \"#46039f\"], [0.2222222222222222, \"#7201a8\"], [0.3333333333333333, \"#9c179e\"], [0.4444444444444444, \"#bd3786\"], [0.5555555555555556, \"#d8576b\"], [0.6666666666666666, \"#ed7953\"], [0.7777777777777778, \"#fb9f3a\"], [0.8888888888888888, \"#fdca26\"], [1.0, \"#f0f921\"]]}, \"colorway\": [\"#636efa\", \"#EF553B\", \"#00cc96\", \"#ab63fa\", \"#FFA15A\", \"#19d3f3\", \"#FF6692\", \"#B6E880\", \"#FF97FF\", \"#FECB52\"], \"font\": {\"color\": \"#2a3f5f\"}, \"geo\": {\"bgcolor\": \"white\", \"lakecolor\": \"white\", \"landcolor\": \"#E5ECF6\", \"showlakes\": true, \"showland\": true, \"subunitcolor\": \"white\"}, \"hoverlabel\": {\"align\": \"left\"}, \"hovermode\": \"closest\", \"mapbox\": {\"style\": \"light\"}, \"paper_bgcolor\": \"white\", \"plot_bgcolor\": \"#E5ECF6\", \"polar\": {\"angularaxis\": {\"gridcolor\": \"white\", \"linecolor\": \"white\", \"ticks\": \"\"}, \"bgcolor\": \"#E5ECF6\", \"radialaxis\": {\"gridcolor\": \"white\", \"linecolor\": \"white\", \"ticks\": \"\"}}, \"scene\": {\"xaxis\": {\"backgroundcolor\": \"#E5ECF6\", \"gridcolor\": \"white\", \"gridwidth\": 2, \"linecolor\": \"white\", \"showbackground\": true, \"ticks\": \"\", \"zerolinecolor\": \"white\"}, \"yaxis\": {\"backgroundcolor\": \"#E5ECF6\", \"gridcolor\": \"white\", \"gridwidth\": 2, \"linecolor\": \"white\", \"showbackground\": true, \"ticks\": \"\", \"zerolinecolor\": \"white\"}, \"zaxis\": {\"backgroundcolor\": \"#E5ECF6\", \"gridcolor\": \"white\", \"gridwidth\": 2, \"linecolor\": \"white\", \"showbackground\": true, \"ticks\": \"\", \"zerolinecolor\": \"white\"}}, \"shapedefaults\": {\"line\": {\"color\": \"#2a3f5f\"}}, \"ternary\": {\"aaxis\": {\"gridcolor\": \"white\", \"linecolor\": \"white\", \"ticks\": \"\"}, \"baxis\": {\"gridcolor\": \"white\", \"linecolor\": \"white\", \"ticks\": \"\"}, \"bgcolor\": \"#E5ECF6\", \"caxis\": {\"gridcolor\": \"white\", \"linecolor\": \"white\", \"ticks\": \"\"}}, \"title\": {\"x\": 0.05}, \"xaxis\": {\"automargin\": true, \"gridcolor\": \"white\", \"linecolor\": \"white\", \"ticks\": \"\", \"title\": {\"standoff\": 15}, \"zerolinecolor\": \"white\", \"zerolinewidth\": 2}, \"yaxis\": {\"automargin\": true, \"gridcolor\": \"white\", \"linecolor\": \"white\", \"ticks\": \"\", \"title\": {\"standoff\": 15}, \"zerolinecolor\": \"white\", \"zerolinewidth\": 2}}}, \"xaxis\": {\"anchor\": \"y\", \"domain\": [0.0, 1.0], \"title\": {\"text\": \"Rating\"}}, \"yaxis\": {\"anchor\": \"x\", \"domain\": [0.0, 1.0], \"title\": {\"text\": \"count\"}}},\n",
              "                        {\"responsive\": true}\n",
              "                    ).then(function(){\n",
              "                            \n",
              "var gd = document.getElementById('3f5f68ef-d04e-480d-8ddc-b8e810f5d7bc');\n",
              "var x = new MutationObserver(function (mutations, observer) {{\n",
              "        var display = window.getComputedStyle(gd).display;\n",
              "        if (!display || display === 'none') {{\n",
              "            console.log([gd, 'removed!']);\n",
              "            Plotly.purge(gd);\n",
              "            observer.disconnect();\n",
              "        }}\n",
              "}});\n",
              "\n",
              "// Listen for the removal of the full notebook cells\n",
              "var notebookContainer = gd.closest('#notebook-container');\n",
              "if (notebookContainer) {{\n",
              "    x.observe(notebookContainer, {childList: true});\n",
              "}}\n",
              "\n",
              "// Listen for the clearing of the current output cell\n",
              "var outputEl = gd.closest('.output');\n",
              "if (outputEl) {{\n",
              "    x.observe(outputEl, {childList: true});\n",
              "}}\n",
              "\n",
              "                        })\n",
              "                };\n",
              "                \n",
              "            </script>\n",
              "        </div>\n",
              "</body>\n",
              "</html>"
            ]
          },
          "metadata": {
            "tags": []
          }
        }
      ]
    },
    {
      "cell_type": "code",
      "metadata": {
        "id": "mezjUCF0UeB8",
        "colab": {
          "base_uri": "https://localhost:8080/"
        },
        "outputId": "b437336f-6ef9-48a5-d839-7f428ddf9ada"
      },
      "source": [
        "data_df.info()"
      ],
      "execution_count": null,
      "outputs": [
        {
          "output_type": "stream",
          "text": [
            "<class 'pandas.core.frame.DataFrame'>\n",
            "RangeIndex: 10841 entries, 0 to 10840\n",
            "Data columns (total 13 columns):\n",
            " #   Column          Non-Null Count  Dtype  \n",
            "---  ------          --------------  -----  \n",
            " 0   App             10841 non-null  object \n",
            " 1   Category        10841 non-null  object \n",
            " 2   Rating          9367 non-null   float64\n",
            " 3   Reviews         10841 non-null  object \n",
            " 4   Size            10841 non-null  object \n",
            " 5   Installs        10841 non-null  object \n",
            " 6   Type            10840 non-null  object \n",
            " 7   Price           10841 non-null  object \n",
            " 8   Content Rating  10840 non-null  object \n",
            " 9   Genres          10841 non-null  object \n",
            " 10  Last Updated    10841 non-null  object \n",
            " 11  Current Ver     10833 non-null  object \n",
            " 12  Android Ver     10838 non-null  object \n",
            "dtypes: float64(1), object(12)\n",
            "memory usage: 1.1+ MB\n"
          ],
          "name": "stdout"
        }
      ]
    },
    {
      "cell_type": "code",
      "metadata": {
        "colab": {
          "base_uri": "https://localhost:8080/"
        },
        "id": "ZskQSvQ_mEux",
        "outputId": "ef8e7bb5-e56c-484f-b60e-5087664c0f0c"
      },
      "source": [
        "data_df.isnull().sum()"
      ],
      "execution_count": null,
      "outputs": [
        {
          "output_type": "execute_result",
          "data": {
            "text/plain": [
              "App                  0\n",
              "Category             0\n",
              "Rating            1474\n",
              "Reviews              0\n",
              "Size                 0\n",
              "Installs             0\n",
              "Type                 1\n",
              "Price                0\n",
              "Content Rating       1\n",
              "Genres               0\n",
              "Last Updated         0\n",
              "Current Ver          8\n",
              "Android Ver          3\n",
              "dtype: int64"
            ]
          },
          "metadata": {
            "tags": []
          },
          "execution_count": 13
        }
      ]
    },
    {
      "cell_type": "code",
      "metadata": {
        "colab": {
          "base_uri": "https://localhost:8080/",
          "height": 181
        },
        "id": "b6Kk-Zi9mVSG",
        "outputId": "6712d420-b278-45d8-de5e-97a7891958e2"
      },
      "source": [
        "data_df[data_df.Rating > 5]"
      ],
      "execution_count": null,
      "outputs": [
        {
          "output_type": "execute_result",
          "data": {
            "text/html": [
              "<div>\n",
              "<style scoped>\n",
              "    .dataframe tbody tr th:only-of-type {\n",
              "        vertical-align: middle;\n",
              "    }\n",
              "\n",
              "    .dataframe tbody tr th {\n",
              "        vertical-align: top;\n",
              "    }\n",
              "\n",
              "    .dataframe thead th {\n",
              "        text-align: right;\n",
              "    }\n",
              "</style>\n",
              "<table border=\"1\" class=\"dataframe\">\n",
              "  <thead>\n",
              "    <tr style=\"text-align: right;\">\n",
              "      <th></th>\n",
              "      <th>App</th>\n",
              "      <th>Category</th>\n",
              "      <th>Rating</th>\n",
              "      <th>Reviews</th>\n",
              "      <th>Size</th>\n",
              "      <th>Installs</th>\n",
              "      <th>Type</th>\n",
              "      <th>Price</th>\n",
              "      <th>Content Rating</th>\n",
              "      <th>Genres</th>\n",
              "      <th>Last Updated</th>\n",
              "      <th>Current Ver</th>\n",
              "      <th>Android Ver</th>\n",
              "    </tr>\n",
              "  </thead>\n",
              "  <tbody>\n",
              "    <tr>\n",
              "      <th>10472</th>\n",
              "      <td>Life Made WI-Fi Touchscreen Photo Frame</td>\n",
              "      <td>1.9</td>\n",
              "      <td>19.0</td>\n",
              "      <td>3.0M</td>\n",
              "      <td>1,000+</td>\n",
              "      <td>Free</td>\n",
              "      <td>0</td>\n",
              "      <td>Everyone</td>\n",
              "      <td>NaN</td>\n",
              "      <td>February 11, 2018</td>\n",
              "      <td>1.0.19</td>\n",
              "      <td>4.0 and up</td>\n",
              "      <td>NaN</td>\n",
              "    </tr>\n",
              "  </tbody>\n",
              "</table>\n",
              "</div>"
            ],
            "text/plain": [
              "                                           App Category  ...  Current Ver Android Ver\n",
              "10472  Life Made WI-Fi Touchscreen Photo Frame      1.9  ...   4.0 and up         NaN\n",
              "\n",
              "[1 rows x 13 columns]"
            ]
          },
          "metadata": {
            "tags": []
          },
          "execution_count": 14
        }
      ]
    },
    {
      "cell_type": "code",
      "metadata": {
        "id": "q7nWseZhmtKT"
      },
      "source": [
        "data_df.drop([10472],inplace=True)"
      ],
      "execution_count": null,
      "outputs": []
    },
    {
      "cell_type": "code",
      "metadata": {
        "colab": {
          "base_uri": "https://localhost:8080/",
          "height": 350
        },
        "id": "5phq0rSanY2j",
        "outputId": "1cfb4058-5d29-4bda-db08-dec4748259a9"
      },
      "source": [
        "data_df[10470:10475]"
      ],
      "execution_count": null,
      "outputs": [
        {
          "output_type": "execute_result",
          "data": {
            "text/html": [
              "<div>\n",
              "<style scoped>\n",
              "    .dataframe tbody tr th:only-of-type {\n",
              "        vertical-align: middle;\n",
              "    }\n",
              "\n",
              "    .dataframe tbody tr th {\n",
              "        vertical-align: top;\n",
              "    }\n",
              "\n",
              "    .dataframe thead th {\n",
              "        text-align: right;\n",
              "    }\n",
              "</style>\n",
              "<table border=\"1\" class=\"dataframe\">\n",
              "  <thead>\n",
              "    <tr style=\"text-align: right;\">\n",
              "      <th></th>\n",
              "      <th>App</th>\n",
              "      <th>Category</th>\n",
              "      <th>Rating</th>\n",
              "      <th>Reviews</th>\n",
              "      <th>Size</th>\n",
              "      <th>Installs</th>\n",
              "      <th>Type</th>\n",
              "      <th>Price</th>\n",
              "      <th>Content Rating</th>\n",
              "      <th>Genres</th>\n",
              "      <th>Last Updated</th>\n",
              "      <th>Current Ver</th>\n",
              "      <th>Android Ver</th>\n",
              "    </tr>\n",
              "  </thead>\n",
              "  <tbody>\n",
              "    <tr>\n",
              "      <th>10470</th>\n",
              "      <td>Jazz Wi-Fi</td>\n",
              "      <td>COMMUNICATION</td>\n",
              "      <td>3.4</td>\n",
              "      <td>49</td>\n",
              "      <td>4.0M</td>\n",
              "      <td>10,000+</td>\n",
              "      <td>Free</td>\n",
              "      <td>0</td>\n",
              "      <td>Everyone</td>\n",
              "      <td>Communication</td>\n",
              "      <td>February 10, 2017</td>\n",
              "      <td>0.1</td>\n",
              "      <td>2.3 and up</td>\n",
              "    </tr>\n",
              "    <tr>\n",
              "      <th>10471</th>\n",
              "      <td>Xposed Wi-Fi-Pwd</td>\n",
              "      <td>PERSONALIZATION</td>\n",
              "      <td>3.5</td>\n",
              "      <td>1042</td>\n",
              "      <td>404k</td>\n",
              "      <td>100,000+</td>\n",
              "      <td>Free</td>\n",
              "      <td>0</td>\n",
              "      <td>Everyone</td>\n",
              "      <td>Personalization</td>\n",
              "      <td>August 5, 2014</td>\n",
              "      <td>3.0.0</td>\n",
              "      <td>4.0.3 and up</td>\n",
              "    </tr>\n",
              "    <tr>\n",
              "      <th>10473</th>\n",
              "      <td>osmino Wi-Fi: free WiFi</td>\n",
              "      <td>TOOLS</td>\n",
              "      <td>4.2</td>\n",
              "      <td>134203</td>\n",
              "      <td>4.1M</td>\n",
              "      <td>10,000,000+</td>\n",
              "      <td>Free</td>\n",
              "      <td>0</td>\n",
              "      <td>Everyone</td>\n",
              "      <td>Tools</td>\n",
              "      <td>August 7, 2018</td>\n",
              "      <td>6.06.14</td>\n",
              "      <td>4.4 and up</td>\n",
              "    </tr>\n",
              "    <tr>\n",
              "      <th>10474</th>\n",
              "      <td>Sat-Fi Voice</td>\n",
              "      <td>COMMUNICATION</td>\n",
              "      <td>3.4</td>\n",
              "      <td>37</td>\n",
              "      <td>14M</td>\n",
              "      <td>1,000+</td>\n",
              "      <td>Free</td>\n",
              "      <td>0</td>\n",
              "      <td>Everyone</td>\n",
              "      <td>Communication</td>\n",
              "      <td>November 21, 2014</td>\n",
              "      <td>2.2.1.5</td>\n",
              "      <td>2.2 and up</td>\n",
              "    </tr>\n",
              "    <tr>\n",
              "      <th>10475</th>\n",
              "      <td>Wi-Fi Visualizer</td>\n",
              "      <td>TOOLS</td>\n",
              "      <td>3.9</td>\n",
              "      <td>132</td>\n",
              "      <td>2.6M</td>\n",
              "      <td>50,000+</td>\n",
              "      <td>Free</td>\n",
              "      <td>0</td>\n",
              "      <td>Everyone</td>\n",
              "      <td>Tools</td>\n",
              "      <td>May 17, 2017</td>\n",
              "      <td>0.0.9</td>\n",
              "      <td>2.3 and up</td>\n",
              "    </tr>\n",
              "  </tbody>\n",
              "</table>\n",
              "</div>"
            ],
            "text/plain": [
              "                           App         Category  ...  Current Ver   Android Ver\n",
              "10470               Jazz Wi-Fi    COMMUNICATION  ...          0.1    2.3 and up\n",
              "10471         Xposed Wi-Fi-Pwd  PERSONALIZATION  ...        3.0.0  4.0.3 and up\n",
              "10473  osmino Wi-Fi: free WiFi            TOOLS  ...      6.06.14    4.4 and up\n",
              "10474             Sat-Fi Voice    COMMUNICATION  ...      2.2.1.5    2.2 and up\n",
              "10475         Wi-Fi Visualizer            TOOLS  ...        0.0.9    2.3 and up\n",
              "\n",
              "[5 rows x 13 columns]"
            ]
          },
          "metadata": {
            "tags": []
          },
          "execution_count": 16
        }
      ]
    },
    {
      "cell_type": "code",
      "metadata": {
        "colab": {
          "base_uri": "https://localhost:8080/",
          "height": 542
        },
        "id": "j2IB9HUHne48",
        "outputId": "ddf00006-e30a-4eb0-db72-00d4f9e72644"
      },
      "source": [
        "fig = px.box(data_df,y=\"Rating\")\n",
        "fig.show()"
      ],
      "execution_count": null,
      "outputs": [
        {
          "output_type": "display_data",
          "data": {
            "text/html": [
              "<html>\n",
              "<head><meta charset=\"utf-8\" /></head>\n",
              "<body>\n",
              "    <div>\n",
              "            <script src=\"https://cdnjs.cloudflare.com/ajax/libs/mathjax/2.7.5/MathJax.js?config=TeX-AMS-MML_SVG\"></script><script type=\"text/javascript\">if (window.MathJax) {MathJax.Hub.Config({SVG: {font: \"STIX-Web\"}});}</script>\n",
              "                <script type=\"text/javascript\">window.PlotlyConfig = {MathJaxConfig: 'local'};</script>\n",
              "        <script src=\"https://cdn.plot.ly/plotly-latest.min.js\"></script>    \n",
              "            <div id=\"4c9b6838-7084-427c-af9a-4a0c5176591b\" class=\"plotly-graph-div\" style=\"height:525px; width:100%;\"></div>\n",
              "            <script type=\"text/javascript\">\n",
              "                \n",
              "                    window.PLOTLYENV=window.PLOTLYENV || {};\n",
              "                    \n",
              "                if (document.getElementById(\"4c9b6838-7084-427c-af9a-4a0c5176591b\")) {\n",
              "                    Plotly.newPlot(\n",
              "                        '4c9b6838-7084-427c-af9a-4a0c5176591b',\n",
              "                        [{\"alignmentgroup\": \"True\", \"hoverlabel\": {\"namelength\": 0}, \"hovertemplate\": \"Rating=%{y}\", \"legendgroup\": \"\", \"marker\": {\"color\": \"#636efa\"}, \"name\": \"\", \"notched\": false, \"offsetgroup\": \"\", \"orientation\": \"v\", \"showlegend\": false, \"type\": \"box\", \"x0\": \" \", \"xaxis\": \"x\", \"y\": [4.1, 3.9, 4.7, 4.5, 4.3, 4.4, 3.8, 4.1, 4.4, 4.7, 4.4, 4.4, 4.2, 4.6, 4.4, 3.2, 4.7, 4.5, 4.3, 4.6, 4.0, 4.1, 4.7, null, 4.7, 4.8, 4.7, 4.1, 3.9, 4.1, 4.2, 4.1, 4.5, 4.2, 4.7, 3.8, 4.7, 4.1, 4.7, 4.0, 4.2, 4.5, 4.4, 3.8, 4.2, 4.7, 4.6, 4.2, 4.3, 4.2, 4.0, 3.8, 4.6, 3.9, 4.3, 4.9, 4.4, 4.2, 4.0, 3.9, 4.6, 4.9, 4.3, 4.6, 4.9, 3.9, 4.0, 4.3, 3.9, 4.2, 4.8, 3.6, 4.2, 4.8, 4.8, 4.6, 4.5, 4.3, 4.5, 4.9, 3.9, 4.4, 4.0, 4.3, 3.7, 4.4, 4.3, 3.2, 4.6, 4.6, 4.5, 3.7, 4.6, 4.6, 4.6, 4.0, 4.4, 4.0, 4.7, 4.9, 4.7, 3.9, 3.9, 4.2, 4.6, 4.3, 4.7, 4.7, 4.8, 4.2, 4.3, 4.5, 4.1, null, 4.2, 4.5, 4.4, 4.0, 4.1, 4.1, 4.4, 4.6, 4.5, null, 3.9, 4.4, null, 4.6, 3.8, null, null, 4.0, 4.3, 4.5, null, 4.1, 3.7, 4.7, 4.2, 4.6, 4.5, 4.6, 4.4, 4.2, 4.5, 4.5, 4.5, 4.5, 4.4, 4.5, 4.6, 4.8, 3.9, 4.6, 4.2, 4.1, 4.7, 4.2, 4.3, 3.3, 4.6, 4.8, 4.7, null, 4.1, 4.6, 4.1, 4.6, 4.7, 4.5, 3.9, 4.4, 4.3, 4.2, 4.5, 4.4, 3.4, 4.9, 4.6, 4.4, null, 4.4, 4.4, 4.4, 3.5, null, 4.4, 4.1, 4.3, 4.4, 4.3, 4.3, 4.1, 4.4, 4.3, 3.9, 4.8, 4.5, 4.4, 4.0, 4.3, 4.0, 4.2, 4.5, 4.2, 4.2, 4.6, 4.1, 4.6, 3.1, 3.9, 4.3, 4.1, 4.4, 4.1, 4.1, 4.5, 4.4, 4.4, 4.3, 4.4, 4.6, 4.2, 4.4, 4.7, 3.8, 3.9, null, 4.3, 4.2, 4.4, 4.7, 4.5, 4.2, 4.7, 4.8, 4.2, 4.2, 4.3, 4.4, 4.4, 4.1, 3.8, 4.3, 3.8, 3.5, 4.1, 4.6, 4.3, 4.5, 4.1, 4.5, 4.6, 4.0, 4.2, 4.4, 4.4, 4.0, 4.2, 4.2, 4.1, 4.0, 3.8, 3.9, 3.9, 4.2, 4.2, 4.3, 4.4, 4.4, 4.1, 3.8, 4.3, 3.8, 3.5, 4.1, 4.6, 4.3, 4.5, 4.1, 4.5, 4.6, 4.0, 4.2, 4.3, 4.2, 4.4, 4.7, 4.5, 4.2, 4.7, 4.8, 4.1, 4.3, 4.4, 4.5, 4.3, 4.5, 4.6, 4.7, 4.7, 4.8, 3.9, 4.1, 4.4, 4.6, 4.5, 4.7, 4.4, 4.5, 3.9, 3.2, 3.2, 4.1, 4.5, 4.2, 4.2, 3.7, 4.5, 4.6, 4.5, null, 4.7, 4.4, 3.5, 3.3, 4.5, 4.4, 4.2, 5.0, 4.4, 4.7, 4.4, 4.4, 4.6, 4.0, 4.4, 4.3, 4.3, 4.4, 4.3, 4.0, 4.3, 4.3, 4.4, 4.3, 4.3, 4.3, 4.3, 4.3, 4.0, 4.5, 4.3, 3.7, 4.5, 3.9, 4.4, 3.6, 4.4, 4.2, 4.4, 4.1, 4.4, 4.3, 4.2, 4.2, 4.4, 4.4, 3.9, 4.2, 4.4, 4.6, 4.3, 4.3, 4.4, 3.7, 4.3, 3.9, 4.5, 3.7, 4.3, 4.4, 4.0, 4.3, 4.0, 4.3, 4.0, 4.1, 4.2, 4.2, 4.2, 4.1, 4.4, 4.3, 4.2, 4.4, 4.2, 4.1, 4.3, 4.3, 4.5, 4.3, 4.2, 4.2, 4.5, 4.3, 4.3, 4.3, 4.4, 4.2, 4.3, 4.3, 4.4, 4.6, 4.3, 4.4, 4.2, 4.5, 4.5, 4.4, 4.5, 4.1, 4.2, 4.1, 4.3, 4.1, 4.2, 4.0, 4.2, 4.2, 4.2, 4.3, 4.3, 4.4, 4.2, 4.4, 4.1, 4.2, 4.8, 4.4, 4.4, 4.4, 4.0, 4.5, 4.4, 4.1, 4.2, 4.5, 4.3, 4.5, 4.0, 4.3, 4.3, 4.2, 4.5, 4.6, 4.1, 4.0, 4.2, 4.6, 4.1, 4.3, 4.2, 4.3, 4.0, 4.3, 4.2, 4.3, 4.1, 4.2, 4.1, 4.6, 4.3, 4.2, 4.2, 4.3, 4.2, 2.6, null, null, null, 3.5, 4.0, 4.1, 3.7, 4.1, 4.2, 4.5, 4.4, 4.2, 4.0, 4.1, 3.1, 4.4, 4.2, 4.1, 3.9, 4.3, 4.4, 3.5, 4.0, 3.3, 4.5, 4.4, 4.1, 3.9, 3.9, 3.6, 4.0, 3.6, 3.4, 4.2, 4.1, 3.4, 3.0, 4.6, 4.1, 3.9, 1.9, 3.5, 2.5, 3.9, 3.4, 3.5, 4.4, 3.8, 4.2, 2.5, 2.8, 4.1, 4.2, 3.5, 4.3, 3.3, 4.1, 4.2, 3.5, 4.2, 4.4, 4.1, 4.2, 4.3, 4.1, 4.0, 4.1, 4.2, 3.0, 4.4, 4.5, 2.5, 4.1, 4.2, 4.0, 4.1, 1.9, 3.3, 4.4, 4.1, 3.8, 4.1, 4.2, 4.0, 4.5, 3.7, 3.9, 3.5, 3.9, 4.0, 4.6, 4.0, 4.1, 4.2, 3.3, 4.4, 4.3, 4.2, 3.9, 4.3, 3.4, 4.2, 4.1, 4.0, 3.6, 4.2, 3.5, 4.0, 4.1, 4.1, 2.8, 4.4, 4.4, 4.2, 4.1, 4.2, 3.9, 4.1, 4.2, 3.9, 4.0, 4.2, 4.5, 3.9, 3.6, 4.4, 3.5, 4.4, 4.8, 4.6, 4.7, 4.8, null, 2.7, 5.0, null, 4.8, 5.0, 4.8, null, 4.9, 3.0, null, null, 4.7, null, null, 1.0, null, null, null, null, null, null, null, 5.0, 4.7, null, 5.0, null, null, null, 5.0, null, null, null, null, 3.0, 4.1, null, null, null, null, null, null, null, 5.0, 3.7, 4.5, 4.2, null, null, null, 4.3, 4.1, 1.9, 4.1, 4.4, null, 3.9, 3.9, null, 4.0, 4.4, 4.7, 3.8, 4.4, 4.4, 3.6, 4.4, 2.7, 4.3, 4.6, 2.8, 3.5, null, 3.4, 4.8, 4.7, 4.8, 4.8, 4.7, 4.1, 3.5, 4.7, 3.8, 2.9, 4.5, 3.3, 4.1, null, 4.7, 4.6, 4.7, 4.6, 4.7, null, 4.5, 4.7, 4.8, 4.6, 4.6, 4.6, 4.2, 4.9, 3.8, 4.2, 4.4, 4.4, 4.3, 4.5, 4.4, 4.6, 3.9, 4.4, 4.3, 4.4, 4.2, 4.4, 4.0, 4.2, 3.8, 4.5, 4.7, 4.5, 4.3, 4.2, 4.3, 4.7, 4.7, 4.6, 4.6, 4.6, 4.5, 4.4, 4.6, 4.5, 4.5, 4.2, 4.4, 4.4, 4.2, 4.5, 4.1, 4.0, 4.1, 4.3, 4.3, 4.3, 4.5, 4.6, 4.1, 4.6, 4.7, 4.7, 4.3, 4.7, 4.6, 4.6, 4.6, 4.3, 4.2, 4.0, 4.5, 4.2, 4.1, 4.4, 4.0, 4.5, 4.4, 4.0, 4.2, 4.3, 4.2, 4.6, 4.6, 4.7, 4.6, 4.4, 4.5, 4.3, 4.6, 4.5, 4.2, 4.2, 4.7, 4.5, 4.6, 4.3, 4.2, 4.7, 4.7, 4.4, 4.5, 4.4, 4.0, 4.6, 4.4, 4.7, 4.7, 4.3, 4.1, 4.2, 4.3, 4.3, 4.3, 4.0, 4.2, 4.0, 4.0, 3.8, 4.6, 4.1, 3.9, 4.1, 4.5, 4.2, 4.4, 4.7, 4.0, 4.4, 4.4, 4.0, 4.5, 4.7, 4.3, 4.5, 4.3, 4.1, 4.3, 4.5, 4.2, 4.6, 3.5, 4.2, 4.4, 4.4, 4.6, 4.3, 4.5, 4.8, 4.4, 4.1, 4.9, 4.7, 4.7, 4.7, 4.4, 4.0, 4.2, 4.3, 4.5, 3.5, 4.2, 3.1, 4.6, 4.2, 4.3, 4.3, 4.1, 3.8, 3.4, 4.3, 4.4, 4.4, 4.0, 3.7, 3.9, 4.5, 4.4, 4.3, 4.2, 4.2, 4.5, 4.7, 4.5, 4.5, 3.4, 4.2, 4.3, 4.2, 4.6, 4.1, 4.2, 4.2, 4.3, 4.4, 3.9, 4.1, 4.3, 4.5, 4.6, 3.6, 4.3, 4.3, 4.2, 4.4, 4.1, 4.1, 4.2, 3.9, 4.2, 3.7, 4.5, 3.7, 3.8, 4.3, 3.0, 4.1, 4.2, 4.1, 3.9, 4.0, 4.4, 4.2, 4.0, 3.9, 4.0, 4.2, 4.0, 4.3, 3.9, 4.2, 4.4, 4.3, 3.7, 4.3, 3.7, 3.8, 4.2, 4.0, 3.9, 4.4, 4.5, 4.1, 4.1, 3.9, 4.5, 4.0, 4.1, 3.6, 3.8, 4.0, 4.2, 3.7, 3.8, 3.7, 4.1, 3.7, 3.9, 4.4, 4.3, 3.9, 3.7, 3.7, 4.2, 4.3, 4.0, 4.1, 3.9, 4.5, 3.9, 4.1, 4.3, 4.4, 4.1, 4.0, 3.9, 3.9, 4.0, 4.1, 4.2, 3.8, 4.0, 3.9, 4.2, 3.7, 3.9, 4.2, 4.3, 4.3, 4.6, 4.3, 4.6, 4.2, 4.6, 4.5, 4.6, 3.9, 4.2, 4.4, 4.2, 4.3, 4.6, 4.3, 4.5, 4.0, 4.0, 4.5, 4.5, 4.0, 4.0, 4.2, 4.4, 4.6, null, 4.6, 4.1, 4.6, 4.4, 4.6, 4.9, 4.5, 4.6, 4.7, 4.3, null, null, 4.2, 4.3, 5.0, 4.4, 5.0, 4.5, null, null, null, 4.5, 4.8, 4.4, 5.0, null, 3.7, null, 4.1, null, 4.8, null, null, 4.6, 4.4, 4.4, 3.6, 3.7, 3.8, 4.2, 4.2, 4.2, 3.3, 3.4, 4.3, 4.2, 4.7, 4.1, 4.7, 4.0, 3.6, 4.0, 3.6, 4.3, 4.2, 4.2, 4.1, 4.0, 4.1, 4.4, 4.7, 4.5, 4.3, 4.6, 4.3, 4.0, 4.5, 4.5, 3.6, 4.2, 4.1, 3.5, 4.4, 4.0, 4.5, 4.2, 4.6, 4.2, 4.8, 4.5, 4.2, 4.3, 4.2, 4.4, 4.4, 4.6, 4.2, 4.6, 4.6, 4.4, 4.3, 4.2, 4.2, 3.8, 4.5, 4.6, 4.6, 4.7, 4.6, 4.6, 4.7, 3.8, 4.3, 4.3, 4.5, 4.6, 4.6, 4.7, 4.5, 4.4, 3.9, 4.5, 4.6, 4.1, 4.5, 4.4, 4.5, 4.6, 4.2, 4.4, 4.1, 3.9, 4.6, 4.5, 3.7, 4.1, 4.4, 4.6, 4.5, 4.3, 4.3, 4.3, 4.4, 4.3, 4.4, 4.3, 4.4, 4.1, 4.4, 4.2, 4.3, 4.4, 4.3, 4.3, 3.9, 4.1, 4.1, 4.2, 4.5, 4.2, 4.7, 4.4, 4.6, 4.6, 4.4, 4.6, 4.3, 4.0, 4.4, 4.6, 4.2, 4.1, 3.6, null, 4.1, 4.6, null, 4.7, 4.7, 4.7, 4.7, 4.1, 3.4, 3.8, 3.7, 4.2, 3.1, 3.5, 4.7, 4.5, 4.2, 4.3, 4.0, 4.5, 4.6, 4.7, 4.1, 4.3, 3.8, 4.4, 4.3, 4.2, 4.3, 3.8, 4.3, 3.7, 4.5, 3.6, 4.8, 3.3, 4.7, 4.6, 4.6, 3.4, 4.6, 4.0, 4.1, 4.5, 4.4, 4.5, 4.0, 4.1, 4.5, 4.6, 4.1, 4.5, 4.6, 4.5, 4.3, 3.6, 4.4, 4.6, 4.1, 4.3, 3.9, 4.5, 4.1, 3.6, 4.7, 4.3, 4.7, 4.6, 4.4, 4.2, 4.5, 4.3, 4.2, 4.5, 4.5, 4.3, 4.0, 4.3, 4.8, 4.0, 4.9, 4.8, 4.9, 4.8, 4.4, 3.3, 4.7, 4.6, 4.8, 4.8, 4.8, 4.5, 4.4, 4.5, 4.5, 4.5, 4.8, 3.9, 4.6, 4.5, 4.5, 4.7, 4.7, 4.4, 4.2, 3.9, 4.2, 4.4, 4.6, 4.6, 4.2, 4.5, 4.7, 4.5, 4.5, 3.7, 4.5, 4.6, 4.6, 4.7, 4.5, 4.5, 4.6, 4.0, 4.3, 4.4, 4.5, 4.2, 4.6, 4.9, 4.5, 4.5, 4.6, 4.5, 4.6, 4.6, 4.5, 4.5, 4.4, 3.9, 4.5, 4.4, 4.6, 4.4, 4.5, 4.5, 4.6, 4.5, 4.4, 4.4, 4.4, 4.2, 4.5, 4.5, 4.4, 4.3, 4.6, 4.6, 4.9, 4.4, 4.3, 4.1, 4.6, 4.8, 4.5, 4.7, 4.6, 4.3, 4.4, 4.4, 4.6, 4.3, 4.6, 4.6, 4.5, 4.6, 4.6, 4.5, 4.1, 4.5, 4.6, 4.5, 4.8, 4.8, 4.6, 4.5, 4.1, 4.4, 4.2, 4.5, 4.3, 4.6, 4.0, 4.6, 4.5, 4.4, 4.5, 4.6, 4.4, 4.7, 4.4, 4.2, 4.5, 4.2, 4.4, 4.5, 4.6, 4.6, 4.6, 4.5, 4.5, 4.4, 4.4, 4.5, 4.5, 4.0, 4.6, 4.1, 4.0, 4.4, 4.4, 4.1, 3.5, 4.3, 4.5, 4.2, 4.6, 4.4, 4.5, 4.0, 4.5, 4.6, 4.4, 4.4, 4.1, 4.0, 4.1, 4.1, 4.2, 4.5, 3.5, 4.3, 4.2, 4.6, 4.4, 4.5, 4.4, 3.7, 4.3, 4.5, 4.6, 4.7, 4.6, 4.6, 4.0, 4.4, 4.4, 4.8, 4.6, 4.2, 4.6, 4.1, 4.4, 4.5, 4.3, 4.7, 4.6, 4.4, 4.5, 4.8, 4.2, 4.5, 4.1, 4.1, 4.0, 4.3, 4.5, null, 4.6, 3.7, 3.7, 4.2, 4.5, 4.3, 3.9, 4.6, 4.3, 4.4, 4.6, 4.5, 3.8, null, 4.4, 4.7, 3.4, 4.3, 4.3, 4.0, 4.0, 3.8, null, 4.3, 3.6, 3.8, 4.5, 4.6, null, 4.5, 4.7, 4.3, 3.7, null, 4.2, 3.4, 3.9, 4.0, 4.0, 4.0, 4.6, 4.0, 4.1, 3.9, 4.4, 4.4, 4.3, 4.6, 4.5, 4.5, 4.5, 4.5, 4.3, 4.2, 4.4, 4.3, 4.6, 4.1, 3.9, 4.4, 4.6, null, 4.1, null, null, 3.8, 4.6, 3.5, 4.7, 4.3, 4.5, 4.4, 3.4, 4.3, null, 4.3, 4.6, 4.6, null, 4.2, null, null, 4.6, null, null, 4.4, 3.9, 4.5, 3.8, 4.3, 3.7, 5.0, 3.2, 4.5, 4.7, 4.0, null, 4.1, 3.8, 4.7, 4.5, null, 4.2, null, 4.1, 3.1, 4.1, 4.1, 4.3, 4.0, 4.6, 4.4, 4.4, 4.3, 4.6, 3.2, 4.5, 4.6, 4.6, 4.3, 3.0, 4.4, 4.4, 4.3, 3.5, 4.3, 4.5, 3.7, 4.5, 4.2, 4.3, 4.6, 4.5, 3.9, 4.3, 3.3, 4.7, 4.2, 3.2, 4.4, 3.5, 3.7, 3.8, 3.8, 3.7, 4.6, 4.0, 3.6, 3.8, 4.1, 4.7, 3.9, 4.1, 4.6, 4.2, 3.6, 4.6, 4.2, 4.4, 4.6, 4.7, 4.1, 3.9, 4.0, 4.1, 4.6, 4.1, 4.1, 4.1, 4.4, 3.8, 4.3, 4.1, 4.1, 4.1, 4.4, 3.8, 4.3, 4.4, 4.2, 4.4, 4.3, 4.1, 4.0, 4.2, 4.1, 3.9, 4.4, 4.6, 4.5, 4.5, 4.8, 4.4, 4.5, 4.5, 4.6, 4.5, 4.5, 4.5, 4.4, 4.7, 4.5, 4.2, 4.4, 4.6, 4.3, 4.3, 4.2, 4.6, 4.4, 4.4, 4.5, 4.4, 4.3, 4.6, 4.3, 4.2, 4.2, 4.5, 4.5, 4.5, 4.7, 4.7, 4.5, 4.4, 4.3, 3.8, 4.6, 4.6, 4.4, 4.3, 4.1, 4.3, 4.4, 4.6, 4.3, 4.4, 4.7, 4.5, 4.4, 4.6, 4.5, 4.4, 4.6, 4.5, 4.5, 4.3, 4.5, 4.6, 4.4, 4.4, 4.5, 4.7, 4.6, 4.5, 4.5, 4.7, 4.5, 4.8, 4.7, 4.4, 4.6, 4.5, 4.6, 4.7, 4.6, 4.5, 4.6, 4.5, 4.6, 4.4, 4.7, 4.3, 4.3, 4.4, 4.3, 4.5, 4.4, 4.5, 4.4, 4.5, 4.6, 4.7, 4.6, 4.4, 4.4, 4.5, 4.6, 4.3, 4.5, 4.5, 4.4, 4.5, 4.2, 4.5, 4.4, 4.7, 4.2, 4.5, 4.5, 4.6, 4.4, 4.5, 4.3, 4.3, 4.5, 4.7, 4.7, 4.1, 4.8, 4.4, 4.2, 4.4, 4.7, 4.3, 4.7, 4.2, 4.3, 4.4, 4.1, 4.1, 4.2, 4.5, 4.7, 4.6, 4.5, 3.1, 4.1, 3.4, 4.4, 4.3, 4.6, 4.4, 4.3, 4.6, 4.2, 4.2, 4.5, 4.4, 4.2, 4.5, 4.8, 4.4, 4.6, 4.5, 4.3, 4.6, 4.4, 4.4, 4.5, 4.6, 4.6, 4.6, 4.1, 4.5, 4.6, 4.4, 4.7, 4.6, 4.3, 4.5, 4.6, 4.2, 4.5, 4.8, 4.1, 4.3, 4.4, 4.0, 4.2, 4.0, 4.2, 4.5, 4.7, 4.2, 4.4, 4.6, 4.9, 4.4, 4.5, 4.6, 4.2, 4.5, 4.6, 4.6, 4.5, 4.4, 4.6, 4.5, 4.6, 4.4, 4.4, 4.3, 4.3, 4.6, 4.3, 4.3, 4.6, 4.5, 4.5, 4.2, 4.7, 4.3, 4.0, 4.4, 4.3, 4.6, 4.7, 4.4, 4.7, 4.4, 4.3, 4.2, 4.4, 4.5, 4.5, 4.5, 4.4, 4.3, 4.5, 4.7, 4.7, 4.6, 4.6, 4.4, 4.4, 4.7, 4.6, 4.5, 4.3, 4.3, 4.3, 4.6, 4.8, 4.5, 4.4, 4.5, 4.5, 4.6, 4.6, 4.6, 4.6, 4.7, 4.5, 4.5, 4.5, 4.6, 4.5, 4.4, 4.4, 4.6, 4.7, 4.5, 4.4, 4.6, 4.7, 4.6, 4.5, 4.4, 4.5, 4.3, 4.5, 4.2, 4.5, 4.3, 4.4, 4.7, 4.6, 4.7, 4.6, 4.4, 4.6, 4.5, 4.3, 4.5, 4.5, 4.6, 4.6, 4.3, 4.6, 4.5, 4.7, 4.5, 4.7, 4.7, 4.6, 4.4, 4.3, 4.5, 4.3, 4.4, 4.2, 4.3, 4.5, 4.4, 4.7, 4.2, 4.1, 4.5, 4.5, 4.5, 4.1, 4.3, 4.5, 4.4, 4.5, 4.6, 4.0, 4.3, 4.5, 4.4, 4.4, 4.6, 4.2, 4.5, 4.6, 4.5, 4.7, 4.5, 4.5, 4.5, 4.4, 4.6, 4.3, 4.4, 4.3, 4.7, 4.7, 4.4, 4.3, 4.4, 4.5, 4.5, 4.4, 4.4, 4.6, 4.6, 4.4, 4.6, 4.2, 4.4, 4.6, 4.6, 4.7, 4.5, 4.2, 4.6, 4.7, 4.6, 4.3, 4.6, 4.4, 4.4, 4.5, 4.2, 4.4, 4.3, 4.7, 4.5, 4.4, 4.5, 4.4, 4.4, 4.5, 4.6, 4.5, 4.3, 4.7, 4.4, 4.5, 4.2, 4.5, 4.5, 4.7, 4.4, 4.3, 4.6, 3.9, 4.2, 4.5, 4.3, 4.5, 4.4, 4.4, 4.8, 4.4, 4.4, 4.3, 4.6, 4.1, 4.5, 4.5, 4.5, 4.0, 4.5, 4.6, 4.5, 4.5, 4.5, 4.4, 4.7, 4.5, 4.5, 4.2, 4.3, 4.5, 4.2, 4.3, 4.4, 4.6, 4.6, 4.5, 4.2, 4.5, 4.6, 4.6, 4.1, 4.5, 4.6, 4.6, 4.5, 4.3, 3.8, 4.5, 4.1, 4.8, 3.9, 4.5, 4.4, 4.3, 4.2, 3.0, 4.5, 4.4, 4.5, 4.7, 4.1, 4.5, 4.5, 4.5, 4.6, 4.3, 4.3, 4.5, 4.2, 4.2, 4.4, 4.5, 4.1, 4.2, 4.1, 4.7, 4.3, 4.4, 4.4, null, 4.3, 4.4, 4.3, 4.3, 4.2, 4.2, 4.3, 4.3, 4.1, 4.2, 4.5, 4.3, 4.3, 4.5, 4.1, 4.5, 4.2, 4.4, 4.0, 4.1, 4.3, 4.3, 4.4, 4.3, 4.1, 4.0, 4.3, 4.6, 4.3, 4.7, 4.3, 4.4, 4.2, 4.7, 3.9, 4.1, 4.1, 4.1, 4.2, 4.7, 4.4, 4.3, 4.5, 4.3, 4.3, 4.1, 4.1, 4.1, 4.6, 4.1, 4.4, 4.4, 4.3, 4.0, 4.8, 3.8, 4.7, 4.5, 4.8, 4.4, 4.8, 4.2, 4.2, 4.0, 4.7, 4.7, 3.9, 4.5, 4.1, 4.4, 3.9, 4.4, 4.4, 3.6, 4.4, 4.1, 3.6, 4.6, 4.3, 4.5, 4.4, 4.1, 4.4, 3.9, 4.4, 4.4, 3.6, 4.4, 4.1, 3.6, 4.6, 4.3, 4.5, 4.4, 4.5, 4.1, 4.5, 4.1, 3.9, 4.2, 4.1, 3.9, 4.1, 4.2, 4.7, 3.8, 4.3, 4.3, 4.3, 3.9, 4.3, 4.0, 4.0, 4.3, 4.2, 4.1, 4.0, 4.4, 4.3, 4.3, 4.4, 4.2, 4.1, 4.3, 4.2, 4.6, 4.1, 4.5, 4.4, 4.5, 4.3, 4.2, 4.4, 4.6, 4.5, 4.8, 4.5, 3.2, 4.6, 4.5, 4.1, 4.6, 4.5, 4.4, 4.4, 4.4, 3.8, 4.6, 2.5, 4.0, 5.0, 4.3, 3.4, null, 3.4, 4.3, 4.4, 4.4, 4.2, 5.0, 4.1, 3.9, 4.6, 4.2, 4.4, 4.2, 3.6, 4.5, null, 4.7, 4.6, 4.5, 4.2, 4.2, 4.3, 4.4, 4.1, 4.4, 4.6, 4.4, 4.2, 4.5, null, 2.6, 4.6, 4.8, 4.2, 4.7, 3.0, 3.5, 4.6, 4.8, 4.2, 4.6, 4.4, 4.8, 4.0, 3.7, 4.2, 4.8, 4.7, 3.5, 3.9, 4.2, 4.8, 2.7, 4.2, 4.7, 4.6, 4.5, 4.7, 4.7, 4.5, 4.7, 4.0, 3.4, 3.5, 3.0, 4.7, 4.6, 4.2, 4.8, 4.5, 4.2, 3.8, 3.0, 4.4, 4.5, 4.0, 3.6, 4.4, 4.7, 4.9, 3.6, 4.5, 4.1, 4.6, 4.7, 4.7, 2.8, 4.3, 4.6, 4.3, 3.4, null, 4.0, 4.8, 4.2, 3.0, 4.5, 3.7, 4.5, 4.5, 4.6, 4.2, 4.6, 3.6, 4.4, 4.4, 4.5, 4.5, 4.1, 4.6, 4.3, 4.3, 4.7, 4.5, 4.5, 4.5, 4.2, 4.4, 3.9, 4.2, 4.4, 4.1, 3.4, 4.1, 4.0, null, 4.1, 3.5, 4.2, 4.0, 4.5, 4.3, 4.3, 4.8, 4.6, 4.1, 4.6, 3.5, 2.3, 4.5, 4.3, 4.2, 4.2, 3.1, 4.4, 4.4, 2.9, 3.1, 3.7, 4.0, 3.8, 4.6, 4.4, 3.8, null, 4.8, 4.3, null, null, null, null, 3.7, 5.0, 3.0, 3.7, null, null, null, null, null, null, null, null, null, null, null, null, null, null, 3.7, 5.0, null, null, 5.0, null, 5.0, null, 5.0, null, 5.0, 5.0, null, 5.0, 5.0, 5.0, null, null, null, 4.3, 4.9, null, null, null, null, null, null, null, 5.0, null, null, 4.9, 4.6, 5.0, null, null, null, null, 4.0, null, 5.0, null, 4.0, 2.6, 4.7, 4.8, 4.3, 4.7, 2.5, 4.6, 4.5, 4.1, 4.5, 4.3, null, 3.8, 4.4, null, null, null, 4.5, 4.5, 3.8, 4.5, 4.0, 4.5, 3.7, 4.3, 3.7, null, 4.4, 3.8, null, 2.7, 5.0, 4.3, 3.8, 3.0, 5.0, 3.6, 4.0, 4.3, 4.7, 5.0, 4.7, null, 4.6, 3.1, 4.4, 5.0, 3.6, 2.8, 4.4, 4.2, 4.6, 4.2, null, 3.8, 3.5, 4.7, 4.1, 4.5, 4.3, 4.4, 4.4, 4.2, 4.0, 4.3, 4.6, 4.4, 4.2, 4.4, 4.4, 4.3, 4.6, 4.4, 4.5, 4.6, 4.6, 4.6, 4.4, 4.5, 4.5, 4.3, 4.4, 4.6, 4.3, 4.8, 4.2, 4.6, 4.0, 4.6, 4.3, 3.6, 4.0, 4.5, 4.4, 4.5, 4.2, 4.5, 4.3, 4.2, 4.2, 4.4, 4.3, 4.3, 4.1, 4.5, 4.3, 4.2, 4.1, 4.3, 4.2, 4.1, 4.1, 4.4, 3.7, 3.9, 3.7, 4.0, 4.5, 3.6, 4.1, 4.1, 4.0, 4.1, 4.0, 4.5, 4.6, 4.3, 4.3, 4.2, 4.5, 4.2, 4.3, 4.1, 3.8, 4.2, 4.4, 4.3, 4.2, 4.1, 4.0, 4.3, 4.3, 4.2, 4.2, 4.0, 4.4, 4.0, 4.2, 4.2, 4.4, 4.1, 4.1, 4.3, 4.0, 4.2, 4.2, 4.2, 4.1, 4.0, 4.3, 4.3, 4.4, 4.4, 4.2, 4.2, 4.0, 4.2, 4.0, 4.5, 4.6, 4.3, 4.2, 4.3, 4.6, 4.4, 4.4, 4.5, 4.3, 4.2, 4.2, 4.4, 4.6, 4.2, 3.6, 4.5, 4.4, 3.8, 4.7, 3.6, 4.2, 3.6, 4.3, 4.4, 4.5, 4.1, 4.3, 4.3, 4.7, 4.3, 4.2, 4.2, 4.3, 4.2, 4.3, 4.6, 4.4, 4.3, 3.8, 4.6, 4.5, 4.1, 4.4, 4.3, 3.8, 4.0, 3.3, 4.1, 4.1, 4.2, 4.1, 4.4, 4.1, 4.2, 4.5, 4.3, 4.5, 4.1, 4.5, 4.4, 4.6, 4.5, 4.6, 4.7, 4.3, 4.4, 4.4, 4.2, 4.1, 4.1, 4.5, 4.7, 4.1, 4.2, 4.5, 4.4, 4.6, 4.2, 4.6, 4.3, 4.1, 4.1, 4.4, 4.1, 4.6, 4.2, 4.2, 4.1, 4.2, 4.3, 4.2, 4.5, 4.7, 4.5, 4.3, 4.0, 4.4, 4.4, 4.0, 4.5, 4.6, 4.1, 4.5, 3.9, 4.5, 4.2, 4.3, 4.3, 4.4, 4.5, 4.6, 4.4, 4.3, 4.3, 4.1, 4.7, 4.4, 4.2, 4.4, 4.2, 4.2, 4.1, 4.0, 4.1, 4.5, 4.6, 4.3, 4.6, 4.4, 4.0, 4.5, 4.1, 4.4, 4.0, 4.6, 4.5, 4.4, 4.5, 4.1, 4.3, 4.5, 4.2, 3.8, 4.5, 4.7, 4.1, 4.6, 4.8, 4.0, 4.7, 4.7, 4.1, 4.5, 3.6, 4.5, 4.7, 4.7, 4.5, 4.2, 4.5, 4.4, 4.5, 4.5, 4.4, 3.7, 4.3, 4.5, 4.4, 3.3, 4.3, 4.4, 4.5, 4.4, 4.2, 4.5, 4.7, 4.5, 4.6, 4.6, 4.4, 4.3, 4.3, 4.6, 4.4, 4.5, 4.5, 4.2, 4.0, 4.4, 4.7, 4.3, 4.6, 4.4, 4.5, 4.3, 4.3, 4.4, 4.5, 4.4, 4.6, 4.3, 4.6, 4.3, 4.4, 4.2, 4.3, 4.4, 3.9, 4.3, 4.4, 4.2, 4.5, 4.3, 4.3, 4.3, 4.1, 4.4, 4.3, 4.0, 4.0, 4.0, 4.4, 4.3, 4.1, 4.2, 3.9, 4.4, 4.4, 4.5, 4.4, 4.6, 4.3, 4.6, 4.1, 4.0, 4.3, 4.2, 4.0, 4.1, 4.1, 4.0, 4.3, 4.3, 4.2, 4.5, 4.0, 4.4, 4.1, 4.4, 4.3, 4.3, 4.2, 4.3, 4.4, 4.4, 4.3, 4.4, 3.8, 4.4, 4.4, 4.3, 4.6, 4.0, 4.1, 4.2, 4.3, 4.6, 4.6, 4.3, 4.2, 4.1, 4.2, 4.6, 4.6, 4.4, 4.7, 4.4, 4.1, 4.3, 4.4, 4.2, 4.4, 4.5, 4.2, 3.8, 4.3, 4.4, 4.6, 4.4, 4.5, 4.2, 4.5, 4.5, 4.3, 4.4, 4.2, 4.1, 4.3, 4.0, 4.6, 4.3, 4.4, 4.5, 4.2, 4.3, 4.4, 4.2, 4.1, 4.4, 4.7, 4.6, 4.2, 4.3, 4.3, 4.5, 4.6, 4.5, 4.4, 4.7, 4.2, 4.3, 4.2, 3.9, 3.9, 4.2, 4.3, 4.6, 4.3, 4.0, 4.0, 4.0, 4.6, 4.3, 4.2, 4.3, 4.4, 4.0, 4.6, 4.7, 4.3, 4.0, 4.5, 4.7, 4.4, 4.8, 3.3, 4.3, 3.9, 4.4, 3.9, 4.4, 4.3, 4.4, 4.2, 4.2, 4.1, 4.4, 4.0, 4.4, 4.3, 4.1, 4.0, 4.2, 4.2, 4.3, 3.1, 4.1, 2.9, 4.0, 4.5, 4.3, 4.1, 4.3, 4.5, 4.6, 4.4, 4.2, 4.3, 3.4, 4.6, 4.2, 4.4, 4.0, 4.1, 4.0, 4.6, 4.2, 4.5, 4.4, 4.0, 3.5, 4.0, 4.2, 4.0, 4.4, 4.8, 4.1, 4.6, 4.3, 4.4, 4.3, 4.6, 4.5, 4.3, 4.2, 4.4, 4.2, 4.4, 4.3, 4.5, 4.5, 4.1, 4.0, 4.7, 4.6, 4.2, 4.2, 4.1, 4.1, 3.5, 4.5, 3.9, 4.6, 4.0, 4.4, 4.2, 4.2, 4.6, 4.5, 4.4, 4.5, 4.4, 4.3, 4.2, 4.3, 4.5, 4.0, 4.2, 4.1, 3.9, 4.2, 4.0, 3.5, 4.0, 4.0, 4.5, 4.1, 4.2, 4.4, 4.4, 4.1, 4.3, 4.5, 4.5, 4.4, 4.5, 4.7, 4.4, 4.1, 4.4, 4.4, 4.3, 4.2, 4.0, 4.7, 4.3, 4.6, 3.9, 3.6, 4.0, 4.1, 4.2, 3.9, 4.1, 4.3, 3.1, 3.7, 3.4, 4.4, 3.6, 4.4, 3.3, 3.7, 3.0, 3.6, 4.8, 3.9, 3.8, 4.3, 4.5, 3.4, 3.7, 4.5, 4.4, 4.1, 4.5, 4.0, 3.9, 4.4, 4.8, 4.7, 4.3, 3.7, 4.2, 3.5, 4.3, 4.7, 4.3, 4.1, 3.1, 4.3, 4.1, 4.2, 4.3, 4.4, 4.3, 4.3, 4.4, 3.5, 4.1, 4.6, 4.4, 4.2, 3.9, 4.2, 4.4, 4.4, 4.4, 4.4, 3.7, 4.4, 4.5, 3.7, 4.4, 3.7, 4.4, 4.5, 3.6, 4.4, 4.0, 4.1, 4.4, 4.4, 4.3, 4.4, 4.2, 4.2, 4.1, 4.3, 4.5, 4.4, 4.5, 4.3, 4.2, 4.5, 4.7, 4.4, 4.4, 4.4, 4.4, 4.1, 4.6, 4.4, 4.1, 4.5, 4.5, 4.4, 4.3, 4.5, 4.2, 4.2, 4.2, 4.5, 4.7, 4.0, 4.2, 4.2, 4.1, 4.4, 4.4, 4.2, 4.2, 4.1, 4.5, 4.6, 4.1, 4.3, 4.2, 4.1, 4.0, 4.6, 3.1, 4.6, 4.5, 3.2, 4.3, null, 4.6, 4.4, 4.6, 4.5, 4.6, null, 4.4, 4.2, 4.4, 3.1, 3.6, 4.1, 4.2, 3.5, 3.9, 3.0, 3.9, 4.5, 3.4, 4.4, 3.4, 4.3, 3.7, 3.5, 3.8, 3.6, 3.1, 3.8, 4.2, 4.0, 4.3, 4.3, 4.5, 4.5, 4.5, 4.4, 4.4, 4.3, 4.2, 4.7, 4.4, 4.3, 4.4, 4.3, 4.5, 4.7, 4.5, 4.6, 4.7, 4.6, 4.8, 3.9, 4.5, 4.6, 4.5, 4.4, 4.5, 4.0, 4.3, 4.0, 4.4, 4.1, 4.3, 4.1, 4.3, 4.2, 4.2, 4.2, 4.2, 4.3, 4.5, 4.4, 4.5, 4.2, 4.1, 4.4, 4.5, 4.3, 4.4, 4.1, 4.4, 4.2, 4.1, 4.6, 4.5, 4.3, 4.1, 4.1, 4.2, 4.1, 4.6, 4.5, 4.0, 3.5, 4.4, 4.4, 4.4, 4.1, 4.2, 4.6, 4.4, 4.6, 4.6, 4.5, 4.7, 4.4, 4.5, 4.6, 4.6, 4.0, 4.6, 4.5, 4.7, 4.7, 4.4, 4.3, 4.7, 4.1, 4.7, 4.4, 4.6, 4.5, 4.4, 4.4, 4.3, 4.3, 4.6, 4.7, 4.3, 4.5, 4.6, 4.4, 4.5, 4.7, 4.3, 3.7, 4.7, 4.5, 4.4, 4.3, 4.8, 4.6, 4.1, 4.7, 4.1, 4.6, 4.2, 4.3, 4.2, 4.0, 4.2, 3.9, 4.3, 4.1, 4.2, 4.4, 4.3, 4.3, 4.4, 4.3, 4.1, 4.2, 4.1, 4.1, 4.2, 4.1, 4.4, 4.1, 4.3, 4.6, 4.1, 4.6, 4.6, 4.2, 4.1, 4.2, 4.5, 4.3, 4.2, 4.0, 4.2, 4.2, 4.6, 4.3, 4.4, 4.4, 4.4, 4.3, 4.3, 4.6, 4.5, 4.1, 4.3, 4.4, 4.2, 4.2, 4.1, 4.5, 4.7, 4.3, 4.4, 4.4, 3.8, 4.4, 4.3, 4.2, 4.5, 3.2, 4.5, 4.2, 4.4, 4.7, 4.4, 4.0, 4.4, 4.0, 4.6, 4.5, 4.2, 4.0, 4.4, 4.5, 3.9, 4.2, 4.3, 4.2, 4.2, 4.4, 4.7, 4.6, 3.1, 4.4, 4.1, 4.5, 4.6, 4.3, 3.9, 4.5, 4.3, 3.7, 4.5, 4.4, 4.0, 4.0, 4.4, 4.7, 4.6, 4.2, 4.5, 4.6, 4.0, 4.5, 4.4, 4.3, 4.4, 4.5, 4.5, 4.6, 4.4, 4.6, 4.3, 4.6, 4.5, 4.3, 4.1, 4.2, 4.2, 4.6, 4.2, 4.5, 4.4, 4.3, 4.2, 4.3, 4.5, 4.3, 4.3, 4.5, 4.5, 4.4, 4.2, 4.2, 4.6, 4.4, 4.3, 4.6, 4.2, 4.2, 4.2, 4.0, 4.3, 4.6, 4.4, 4.6, 4.6, 4.5, 4.5, 4.4, 4.3, 4.0, 4.2, 4.2, 4.5, 4.0, 4.2, 4.4, 4.6, 4.3, 4.6, 4.2, 4.4, 4.6, 4.4, 4.6, 4.4, 4.1, 4.4, 4.4, 4.1, 4.3, 4.1, 4.1, 4.5, 3.9, null, 3.8, null, null, 4.6, 4.7, null, 4.0, null, 4.7, 4.1, 3.7, null, 4.1, 3.7, 4.6, 4.4, 4.6, 4.1, 4.4, 4.7, 4.4, null, 4.8, 4.0, 4.9, null, 4.8, 4.4, 4.7, 4.2, 4.6, 4.6, 4.5, 4.6, 4.1, 3.8, 4.8, 4.8, null, 4.5, 4.0, 4.4, 4.7, null, 3.9, 4.4, 4.4, 4.5, 4.4, 4.8, 4.4, 4.8, 4.5, 4.7, 4.5, 3.5, 4.4, 4.3, 4.4, 4.2, 4.6, 4.4, 4.4, 3.9, 4.3, 4.5, 4.2, 3.7, 4.2, 3.9, 3.6, 4.5, 4.3, 4.3, 4.2, 4.6, 4.5, 4.5, 4.2, 3.9, 4.8, 3.8, 4.5, 4.5, 4.2, 4.0, 4.2, 4.3, 4.3, 4.2, 4.3, 3.6, 3.9, 4.8, 3.9, 3.7, 4.6, 4.4, 4.4, 4.2, 4.1, 3.8, 4.4, 4.5, 4.6, 4.7, 4.3, 4.5, 4.3, 3.7, 3.9, 3.6, 4.5, 4.4, 3.8, 4.6, 4.2, 4.3, 3.8, 4.4, 3.1, 4.6, 4.1, 4.5, 4.0, 4.5, 4.3, null, 3.7, 3.9, 3.5, 3.3, 4.3, 4.5, 4.1, 4.4, 4.4, 4.5, 4.4, 4.3, 4.5, 4.3, 4.6, 4.1, 4.2, 3.5, 4.0, 3.8, 4.3, 4.3, 4.1, 4.3, 4.5, 4.4, 4.0, 4.1, 4.6, 4.3, 3.9, 4.5, 4.7, 4.3, 4.5, 3.1, 4.7, 3.8, 4.0, 4.2, 4.0, 4.2, 3.4, 4.6, 4.5, 4.0, 4.4, 4.2, 4.1, 4.4, 4.0, 3.7, 4.6, 4.5, 4.6, 4.5, 3.9, 4.3, 4.4, 3.9, 4.3, 4.4, 4.4, 3.6, 4.5, 3.6, 4.1, 4.4, 4.1, 4.2, 4.7, 3.9, 3.9, 4.4, 4.3, 4.6, 4.0, 4.3, 4.2, 4.5, 4.3, 4.0, 4.1, 4.6, 4.1, 4.5, 4.0, 4.2, 4.3, 4.2, 4.3, 4.2, 4.0, 4.2, 4.3, 4.0, 4.5, 4.3, 4.3, 3.9, 4.0, 4.1, 4.1, 4.1, 4.0, 4.0, 4.5, 4.1, 3.9, 4.2, 3.9, 4.5, 4.3, 4.4, 4.6, 4.2, 4.1, 4.4, 4.4, 4.2, 4.5, 4.2, 4.4, 4.4, 4.0, 4.3, 4.4, 4.2, 4.3, 4.1, 4.4, 4.3, 4.4, 4.2, 4.7, 4.3, 4.5, 3.7, 4.3, 4.2, 4.1, 4.5, 4.8, 4.3, 4.7, 4.3, 4.2, 3.7, 4.6, 4.5, 4.3, 4.5, 4.2, 4.2, 4.3, 4.3, 4.4, 3.7, 4.4, 4.4, 4.2, 3.5, 4.2, 4.2, 4.0, 4.5, 4.2, 3.9, 4.3, 3.7, 4.3, 4.3, 4.6, 4.3, 4.2, 4.6, 3.9, 4.4, 4.6, 4.1, 4.8, 4.3, 4.5, 4.4, 4.4, 3.3, 4.2, 3.8, 4.5, 4.3, 4.5, 3.7, 4.5, 4.1, 4.4, 3.7, 4.1, 4.8, 4.4, 4.3, 4.1, 4.4, 4.1, 4.5, 4.5, 4.5, 4.5, 4.2, 4.4, 4.5, 4.3, 3.8, 4.5, 3.7, 4.5, 4.5, 4.3, 4.6, 4.3, 4.4, 4.3, 4.3, 4.3, 4.3, 4.3, 4.4, 4.2, 4.9, 4.5, 4.6, 4.6, 4.6, 3.4, 3.8, 4.4, 4.7, 4.6, 4.1, 3.8, 4.4, 4.4, 3.9, 4.1, 4.5, 3.7, 4.4, 4.5, 4.5, 3.8, 3.1, 4.5, 5.0, 4.4, null, 4.3, 2.9, 3.1, 3.3, 4.1, 4.6, 4.4, 4.5, 4.3, 4.3, 4.5, 4.5, 2.2, 4.5, 4.2, 4.5, 4.6, 3.9, 4.1, 3.3, 4.5, 4.1, 4.8, 4.1, 4.5, null, 4.6, 4.6, 4.3, 4.1, 4.5, 4.3, 4.4, 4.7, 4.4, 4.4, 4.3, 4.2, 4.2, 4.6, 4.5, 4.6, 4.7, 4.8, 4.7, 4.7, 1.7, 4.5, 4.0, 3.6, 2.0, 4.7, 4.1, 4.3, 4.3, 4.5, 4.4, 4.4, 4.6, 3.7, 4.5, 4.0, 4.8, 4.0, 4.7, 4.8, 4.6, 4.3, 4.2, 4.8, 4.2, 4.6, 4.2, 4.5, 4.6, 4.5, 4.5, 4.3, 4.8, 4.6, 4.5, 4.3, 4.2, 4.4, 4.5, 4.2, 4.6, 4.6, 4.4, 4.5, 4.5, 4.6, 4.5, 4.4, 4.1, 4.4, 4.6, 4.6, 4.5, 4.5, 4.3, 4.3, 3.3, 3.7, 4.5, 4.4, 3.1, 4.0, 4.4, 4.2, 3.9, 4.4, 4.6, 4.8, 4.4, 3.9, 4.5, 3.6, 3.4, 4.7, 4.4, 4.4, 4.5, 4.2, 4.6, 4.3, 4.3, 4.3, 4.6, 4.4, 4.5, 4.5, 4.0, 4.3, 4.5, 4.1, 4.3, 4.0, 4.3, 4.6, 4.2, 4.4, 4.5, 4.3, 4.0, 4.3, 4.4, 4.6, 4.4, 4.3, 4.2, 4.3, 4.3, 4.6, 3.6, 4.3, 4.2, 4.2, 4.4, 4.3, 4.9, 4.5, 4.2, 4.3, 4.2, 3.8, 4.2, 1.0, 4.4, 4.0, null, 4.4, 4.4, 4.5, null, 3.4, 3.8, null, 3.7, null, 4.1, 4.6, 4.4, 4.2, 4.2, 4.4, 4.5, 4.2, 4.5, 4.3, 4.4, 4.2, 3.6, 4.0, 4.4, 4.6, 4.5, 4.4, 4.2, 4.3, 4.6, 1.8, 3.8, 4.4, 3.0, 3.4, 4.6, 3.7, 3.0, 4.6, 4.4, 3.1, 4.3, 4.3, 3.8, 4.5, 3.6, null, 4.2, 4.5, 4.2, 3.3, 4.2, 4.3, 4.2, 3.7, 3.8, 2.9, 4.5, 4.3, 4.9, 4.4, 4.4, 4.4, 2.9, 4.2, 4.0, 4.3, 4.3, 3.9, 4.3, null, 4.0, 4.6, 3.7, 4.0, 4.6, 4.4, 4.5, 3.0, 3.1, 4.3, 4.5, 4.5, 4.5, 4.1, 4.6, 4.2, null, 3.9, 3.9, 3.9, 4.3, 4.2, 4.2, 3.7, 2.8, 4.4, 4.1, 4.4, 2.7, 4.7, 4.2, 4.2, 4.1, 4.5, 4.4, 4.0, 4.2, 4.1, 4.0, 4.4, 4.7, 4.3, 4.7, 4.4, 4.0, 4.3, 4.2, 4.4, 4.6, 3.3, 4.5, 2.3, 4.2, 4.1, null, 4.4, 3.2, 3.5, 4.6, 4.3, 4.1, 4.1, 4.1, null, 4.7, 3.5, 3.9, null, null, 4.1, 4.7, null, 4.6, 4.5, 4.7, 4.9, null, 4.3, 4.1, 4.4, 4.2, 4.1, 4.6, 4.3, 4.4, 4.4, 4.5, 4.6, 4.8, 4.3, 4.8, 4.8, 3.7, 4.1, 3.7, 4.2, 4.5, 4.6, 4.5, 4.7, 4.3, null, 4.9, 4.4, 4.6, null, null, 4.0, 4.8, 4.3, 4.4, 4.2, 4.6, null, 4.8, 4.0, 4.3, 4.7, 4.5, 4.6, 4.5, 4.3, 4.0, 4.2, 4.0, 4.5, 4.0, 4.1, 4.6, 3.1, 4.9, 4.5, 4.0, 4.0, 3.6, 4.5, 4.2, 4.3, 3.9, 4.3, 4.3, 4.4, 4.3, 4.4, 4.3, 4.5, 4.4, 3.5, 4.4, 4.4, 4.5, 4.4, 4.4, 4.0, 3.9, 3.9, 4.3, 4.9, 3.7, 3.3, 3.8, 3.5, 4.2, 4.5, 3.5, 3.6, 4.6, 3.9, 4.2, 4.2, 4.0, 3.2, 4.6, 2.4, 4.5, 4.1, 4.2, 3.7, 4.3, 4.2, 4.1, 3.9, 3.8, 4.4, 3.4, 4.0, 4.4, 3.3, 4.8, 4.5, 3.4, 4.3, 4.3, 4.1, 4.0, 4.4, 3.8, 4.4, 3.8, 4.2, 3.8, 4.8, 4.7, 4.3, 3.5, 3.9, 4.2, 4.6, 4.7, 4.5, 3.8, 4.5, 3.7, 3.5, 4.1, 3.9, 4.1, 4.6, 4.4, 4.5, 4.4, 4.6, 4.0, 4.4, 4.4, 4.4, 4.0, 3.8, 3.9, null, 3.7, 4.2, 4.1, 4.3, 4.3, 4.1, 4.4, 3.8, 4.3, 4.4, 3.8, 4.5, 3.8, 3.9, 4.0, 4.3, 4.5, 4.4, 4.6, null, 5.0, 4.4, 4.4, 4.2, 4.0, null, 4.2, null, 4.6, 4.1, null, 3.9, 4.6, null, 4.4, 3.9, 4.6, 4.5, 3.0, null, 3.6, 4.4, 4.6, null, 4.3, 5.0, 4.5, 4.1, 4.1, 4.5, null, 4.8, 4.5, null, 4.0, 4.8, 3.7, null, 4.5, 4.7, 2.7, 2.9, 4.2, 4.4, 4.2, 3.4, 2.6, 4.1, 4.3, 4.5, 4.2, 4.4, null, 4.0, 4.4, 4.1, 4.8, 2.2, 3.8, 3.1, 3.1, 3.8, 3.8, 4.3, 3.6, 4.0, 4.4, 4.6, null, 4.5, 1.8, 4.7, 3.9, 4.4, 3.6, 4.5, 4.4, 3.9, 3.9, 3.8, null, 4.2, 4.1, 4.4, 4.4, null, null, 5.0, 4.1, 4.5, 4.3, null, 3.9, 3.5, null, 3.2, null, null, null, null, 3.3, 4.8, 4.5, 3.7, 4.8, 4.7, 4.3, 3.8, 4.1, 4.7, null, 4.2, null, null, 4.6, 4.2, 4.6, 4.6, 4.2, 4.1, 3.5, 4.1, 4.4, 4.5, 4.1, 4.5, 4.3, 4.4, 4.3, 4.3, 3.8, 3.9, 4.1, 4.8, 4.4, 4.0, 4.7, 4.6, 4.3, 4.0, 4.4, 3.7, 3.7, 3.3, 4.1, 3.0, 4.1, 3.0, 3.8, 4.0, 4.5, 4.6, 4.1, 3.6, 4.7, 3.5, 3.1, 3.9, 3.7, 4.2, 4.4, 4.4, 3.3, 4.8, 4.2, 4.5, 3.8, 4.1, 4.2, 4.2, 4.0, 4.2, 3.8, 4.5, 3.7, 4.3, 4.5, 4.1, 4.2, 4.5, 4.0, 4.4, 4.2, 4.3, 4.7, 4.1, 3.2, 3.9, 4.1, 3.4, 3.0, 4.6, 4.6, 4.1, 3.1, 3.4, 4.2, 4.2, 3.0, 2.4, 4.1, 2.9, 4.0, 4.0, 3.8, 2.4, 4.4, 3.7, 4.3, 4.6, 4.2, 4.8, 3.6, 3.2, 4.0, 3.5, 4.4, 2.5, 3.9, 4.4, 4.2, 4.2, 4.3, 4.1, 4.3, 4.2, 4.2, 3.9, 3.9, 4.4, 3.8, 4.5, 4.2, 3.7, 4.3, 4.3, 4.6, 3.3, 3.6, 4.1, 3.8, 3.3, 4.5, 4.8, 4.6, null, 4.3, 4.5, 4.2, 3.8, 4.7, 4.2, 4.3, 4.7, 4.7, 3.6, 4.2, 4.0, 4.3, 4.7, 4.2, 4.6, 4.8, 4.6, 3.8, 4.6, 4.3, 4.2, 4.5, 3.2, 4.3, 4.3, 4.5, 4.4, 1.9, 4.4, 2.5, 4.2, 4.3, 4.0, 4.5, 4.8, 4.2, 4.7, 4.4, 4.4, 4.4, 4.6, 4.6, 4.2, 4.5, 4.0, 4.4, 4.2, 4.5, 4.6, 4.4, 4.7, 4.2, 4.4, 3.2, 4.1, 4.0, 4.7, 4.6, 4.6, 4.7, 4.8, 4.6, 4.2, 4.3, 3.3, 4.7, 4.5, 4.0, 4.5, 4.2, 4.6, 4.2, 4.7, 4.7, 4.2, 4.3, 4.3, null, 4.5, 4.4, 4.5, 4.6, 4.3, 3.8, 4.5, 4.5, 3.9, 4.0, 2.7, 4.5, 4.0, 2.9, 4.6, 4.4, 4.5, 4.6, 4.4, 4.3, 4.4, 4.2, 4.8, 4.3, 4.3, 4.6, 4.6, 4.2, 4.2, 4.1, 4.4, 4.5, 4.4, 4.4, 4.2, 4.5, 4.6, 4.5, 4.6, 4.0, 4.5, 4.2, 3.9, 4.7, 4.4, 4.5, 4.3, 4.4, 4.2, 3.9, 4.1, 2.2, 4.2, 4.2, 2.8, 3.9, 4.3, 4.8, 4.3, 4.1, 4.2, 4.4, 4.1, 4.6, 4.3, 4.3, 3.8, 4.8, null, 3.8, 3.9, null, 4.3, 4.3, 4.3, 4.1, 4.2, 4.9, 4.5, 4.6, 3.8, 4.7, 4.5, 4.7, 4.5, 4.8, 4.6, 4.6, 4.3, 4.8, 3.4, 4.6, 4.4, 4.5, 4.4, 4.4, 4.6, 4.2, 4.3, 4.3, 3.8, 3.9, 4.3, 4.8, 4.2, 4.5, 4.8, null, 4.6, 4.2, 4.2, 4.0, null, 4.3, 4.8, 4.1, 4.7, null, 4.8, 4.0, 3.5, 3.8, 3.5, 3.3, 3.7, 3.3, 3.4, 1.8, 1.6, 1.9, 3.6, 3.4, 3.2, 2.5, 4.7, 2.6, 2.8, 3.9, 4.2, 3.9, 4.0, 3.5, 3.1, 3.7, 3.6, 3.4, 4.0, 3.7, 1.7, 2.4, 4.3, 4.2, 3.3, 4.1, 4.1, 3.4, 3.0, 3.0, 2.2, 3.7, 3.7, 4.8, 3.7, 3.6, 3.7, 4.4, 3.8, 3.7, 3.7, 4.8, 4.2, 4.1, 4.6, 4.1, 4.3, 3.9, 3.8, 4.0, 4.5, 4.6, 4.1, 4.4, 3.7, 3.9, 3.9, 4.5, 4.5, 4.4, 4.3, 4.5, 4.7, 4.7, 4.1, 3.3, 4.2, 4.1, 3.4, 4.3, 4.9, 4.5, 4.1, 4.4, 4.3, 4.4, 3.4, 4.1, 4.1, 3.5, 3.8, 4.6, 4.6, 5.0, 4.6, 4.2, 4.0, 3.9, 3.7, 4.3, 1.9, 4.2, 4.2, 4.0, 4.4, 4.2, 4.5, 4.3, 4.4, 4.0, 4.2, 4.3, 4.0, 4.3, 3.9, 4.0, 3.7, 4.1, 3.9, 4.2, 4.4, 4.5, 3.9, 3.9, 4.2, 4.5, 4.1, 4.7, null, 4.4, 4.7, 4.7, 4.0, 3.9, null, 3.8, 3.9, 4.4, 4.5, null, 3.8, 3.5, 4.2, 4.7, 2.0, 4.3, 2.8, 4.0, 3.9, 4.2, 3.4, 4.5, 4.7, 2.0, 4.4, null, null, null, 4.7, 3.3, 4.1, null, 4.2, 4.4, null, 3.7, null, 4.3, 3.9, 5.0, 4.1, 4.8, 4.0, null, 4.1, 3.8, 4.6, null, 4.3, 4.1, 4.6, 4.1, 4.4, 4.2, 4.1, 4.3, 4.3, 4.0, 4.5, 4.1, 3.8, null, 4.5, null, 4.1, null, 3.9, 3.7, null, 4.5, 4.4, null, 3.4, null, null, null, null, 2.3, 4.7, 3.4, 4.7, null, null, 5.0, null, null, null, null, null, null, null, null, 3.6, 5.0, null, null, 4.3, null, null, null, 5.0, null, null, 4.1, 4.1, 4.5, null, null, 3.4, null, null, null, 2.9, 4.6, 5.0, null, null, null, 3.9, 3.9, 5.0, 4.1, null, 5.0, 3.0, 4.0, 1.0, null, 4.0, null, null, 4.0, null, 3.8, null, null, null, null, null, null, null, null, 3.5, null, null, null, null, null, 2.6, null, 3.4, null, null, 4.5, 3.4, 3.8, 3.0, 4.4, 4.0, 3.9, 4.6, 3.8, 3.8, 4.0, 4.6, 3.6, 4.4, 3.1, 4.2, 4.6, 4.0, 5.0, 3.3, 4.1, 3.6, 3.2, 4.4, 4.0, 4.4, 4.5, 4.3, 4.7, 4.4, null, 4.4, 4.4, 3.7, 3.3, null, 3.7, 3.0, 2.6, null, null, 3.5, 3.9, 4.6, 3.8, 4.6, 4.4, 4.5, 4.5, 4.7, 4.4, null, 5.0, null, null, 2.8, null, 4.6, 2.8, 5.0, 5.0, 2.8, null, 3.8, 4.1, null, 4.8, 5.0, 5.0, null, 4.4, null, null, 5.0, 4.1, null, 4.8, null, null, 4.8, 4.0, null, 5.0, 4.6, null, 5.0, null, null, null, 4.5, 5.0, null, null, null, 4.4, 4.0, null, 3.9, 4.1, 4.8, 4.3, 3.9, 4.5, null, 3.7, 4.3, 4.2, 3.7, 3.8, 4.6, null, null, null, 3.3, 3.0, 3.9, 4.2, 3.9, null, 4.1, null, 4.6, null, null, null, null, 4.4, 3.8, 4.4, null, 4.9, 3.6, 4.3, 3.6, 4.1, 3.4, 4.5, 4.7, 4.5, 4.4, 4.3, 4.6, 4.2, 4.8, 4.6, 4.8, 4.6, 4.6, 4.6, 4.1, 4.7, 4.7, 4.8, 3.6, 4.7, 4.6, 4.5, 4.7, 4.5, 4.3, 4.5, 4.8, 4.7, 4.7, 4.7, 4.7, 4.7, 4.7, 4.7, 4.6, 4.7, 4.7, 4.6, 3.8, 3.9, 4.0, 4.0, 3.8, 4.1, 2.9, 3.8, 3.5, 4.2, 4.6, 4.4, 4.4, 4.1, 3.9, 3.6, 4.0, 3.8, 4.3, 4.6, 3.6, 3.9, 4.0, 4.2, 4.2, 4.2, 4.5, 4.7, 3.5, 4.5, 4.0, 4.6, 4.2, 4.3, 4.1, 4.5, 4.2, 4.5, 4.4, 3.7, 4.4, 4.3, 4.3, 4.3, 4.5, 4.5, 3.8, 4.5, 4.5, 4.4, 4.7, 3.5, 4.9, 4.0, 4.1, 4.2, null, 4.4, 4.1, 4.6, 4.6, 4.7, 4.5, null, 4.6, 4.4, 4.4, 4.2, 4.4, 4.0, 4.2, 4.2, 4.2, 4.8, 3.7, 3.4, 4.3, 4.3, 4.6, 4.2, 4.6, 4.1, 4.4, 4.6, 4.3, 4.4, 4.7, 4.2, 3.8, 4.3, 3.7, 4.3, 2.9, 4.3, 4.3, 4.0, 3.3, 4.5, 4.1, 5.0, 3.9, 4.6, 4.0, 3.6, 4.0, 4.5, null, 2.9, 4.2, 4.5, null, 4.6, 4.7, 4.2, 4.7, 4.7, 3.9, 4.7, 3.7, 4.8, 4.0, 4.6, 4.4, 4.3, 4.7, 3.6, 4.4, 4.6, 2.9, null, 4.5, 5.0, 3.7, null, 3.7, null, 4.2, 3.0, 5.0, 4.4, 4.7, 4.3, 3.9, null, 4.4, 4.3, null, null, null, null, 4.6, 4.5, 3.9, 4.7, 4.3, 5.0, 5.0, null, 5.0, null, null, 4.4, null, 2.7, 4.6, 4.4, 4.4, 4.1, 3.8, 4.4, 4.6, 4.1, 4.5, 4.2, 4.7, 4.3, 4.3, 4.2, 3.8, 4.0, 4.3, 4.6, 4.3, 4.3, 4.3, 4.7, 4.6, 4.4, 3.8, 4.6, 4.6, 4.5, 4.5, 3.9, 4.4, 3.8, 4.3, 4.3, 3.7, 3.2, 4.0, 3.8, 4.4, 3.8, 3.4, 2.9, 4.5, 3.7, 3.8, 4.1, 4.1, 3.7, 3.6, null, 3.0, 4.1, 3.8, 4.2, 4.4, 4.5, 3.6, 3.6, 3.7, 3.9, null, 4.2, 4.1, 4.5, 2.8, 2.6, 4.3, 4.4, 4.1, 4.0, 4.3, 3.9, 3.5, 3.7, 4.3, 4.3, 4.1, 4.2, 4.3, 4.2, 4.6, 4.3, 4.1, 4.4, 4.4, 4.1, 4.2, 4.4, 4.3, 2.4, 4.5, 4.3, 4.5, 4.5, 4.3, 4.4, 4.3, 4.4, 4.6, 3.4, 3.9, 4.3, 4.4, 4.5, 4.4, 4.2, 4.0, 4.3, 4.4, 4.2, 4.0, 4.4, 4.6, 4.0, 4.4, 3.5, 4.6, 4.0, 4.0, 4.1, 4.1, 3.3, 3.9, 4.1, 4.2, 4.0, 4.5, 3.8, 3.5, 4.3, 4.6, 4.7, 3.8, 4.7, 4.8, 3.2, 4.5, 3.9, 3.6, 3.7, 4.4, 4.1, 4.0, 3.1, 4.0, 2.8, 3.7, 2.7, 3.9, 3.8, 3.6, 4.5, 3.5, 4.0, null, 3.8, 3.6, 4.2, 4.4, 4.0, 4.7, null, null, 4.1, 4.0, null, 4.7, null, null, 3.8, 5.0, 4.4, null, null, 4.0, null, 3.8, 4.1, 4.3, null, 4.5, 4.4, 3.4, 4.1, 4.1, 3.8, 4.3, 4.4, 4.4, 4.8, 3.3, 3.3, 4.4, 3.7, 3.4, 2.3, 3.3, 2.7, null, 4.6, 3.5, 3.4, 4.3, 4.1, 4.7, 4.4, 3.8, 3.0, 4.4, 4.2, 4.5, 3.5, 4.5, 4.3, 4.5, null, 4.5, 4.0, 4.8, null, 4.3, 1.7, 4.3, 4.2, null, 4.2, 4.3, null, 4.0, 4.2, 4.6, 4.1, 4.6, 4.1, 4.0, null, 3.3, 4.1, null, null, 4.0, null, null, 4.4, 4.2, 3.8, 3.1, null, 5.0, 4.2, 4.7, 4.4, 4.6, 4.4, 2.9, 2.7, null, 4.6, 4.0, 3.8, 4.8, 5.0, 3.9, 4.2, 4.1, 4.7, 4.2, 4.2, 3.7, 4.1, 4.1, 3.8, 4.6, null, 4.4, 4.2, 4.4, null, null, 4.6, 5.0, null, 4.5, null, 3.5, null, 3.9, 4.4, 3.0, null, 3.1, 4.4, null, 3.0, null, null, 3.7, null, 3.7, 3.9, 4.8, null, null, 4.6, 4.6, 4.5, 4.3, 5.0, 4.3, null, 4.7, 4.0, 3.8, 5.0, 4.8, 4.5, 4.3, null, null, null, null, 3.7, null, null, null, null, null, 4.3, null, 3.8, null, null, 4.5, 4.6, 4.1, 4.2, null, 5.0, null, null, null, 4.3, null, 3.3, 3.6, 4.0, 4.0, 4.0, 4.3, 4.2, 4.3, 4.2, 4.5, 4.3, 4.6, 4.4, 4.2, 4.2, 4.2, 3.4, 3.2, 4.0, 4.6, 3.2, 4.4, 4.0, 4.7, null, 3.7, 3.9, 4.2, 4.1, 3.5, 4.8, 4.3, 3.9, null, 3.5, 4.3, 4.4, 4.8, 3.9, 3.8, 4.2, 4.0, 4.0, 4.4, 4.7, 4.5, 4.3, 3.3, 4.3, 4.1, 2.1, 3.7, 4.2, 4.4, 4.2, 2.1, 2.4, 4.1, 3.1, 5.0, null, 3.5, 4.2, null, 4.7, null, null, null, 4.8, null, 4.5, 4.6, 4.6, 4.9, 4.8, 4.0, 3.9, 4.1, 4.1, 4.5, 4.2, 4.0, 4.4, 1.9, null, null, 3.7, null, 4.2, 4.0, 4.3, 2.5, 4.4, null, 3.7, 4.7, 4.6, 4.4, 4.3, 4.4, 2.6, 3.6, 3.8, 4.4, 4.4, 3.0, 4.2, 3.7, 5.0, null, 4.2, 4.8, 4.4, 4.1, 4.7, 4.7, 3.3, 4.0, null, null, 1.0, 4.4, 4.2, 4.4, 4.6, 4.3, 4.4, null, 3.7, 2.9, 4.0, 4.4, 3.3, null, null, 4.2, 4.5, 2.3, 5.0, 3.6, null, 3.9, 4.4, 4.2, 4.8, 4.3, 4.2, 4.4, 4.3, 4.0, 1.4, 3.3, 4.3, null, 4.6, 4.7, 4.2, 3.9, 3.4, 4.3, 4.8, 4.8, 4.5, 3.3, 4.2, 4.9, 4.2, 4.6, 4.1, 4.6, 4.0, 4.2, 5.0, 4.1, 3.7, 4.1, 3.8, 4.7, 3.5, 4.0, 4.2, 3.3, 3.7, 3.4, 3.7, 5.0, 4.4, 5.0, 4.8, 4.4, 4.9, 4.0, 4.4, 4.5, 4.9, 4.4, 4.4, 5.0, 4.8, 4.6, 4.3, 3.8, 4.3, 4.3, 4.1, 4.5, 4.2, 3.8, 4.3, 4.4, 4.2, 4.2, 3.8, 4.2, 4.0, 4.2, 4.3, 4.3, 4.4, 4.7, 4.1, 4.5, 4.2, 4.3, 4.4, 4.5, 4.3, null, 4.2, 4.0, 3.4, 4.4, 3.8, 3.0, 4.1, 4.4, 4.1, 4.1, 4.1, 4.5, 4.1, 2.2, 3.9, 4.0, 4.3, 3.9, 4.0, 4.2, 4.2, 3.6, 4.3, null, null, 4.4, 2.6, 4.1, null, 3.5, 4.2, null, null, 3.7, 4.5, 2.4, null, 2.9, 4.2, 4.2, 4.0, 2.6, 4.4, 4.8, 4.7, 4.4, 4.6, 2.7, 3.8, 1.7, 4.6, 3.3, null, null, 4.6, 2.3, 4.5, null, 4.8, null, 5.0, null, 4.1, null, null, null, null, null, null, 4.9, 3.0, null, null, 4.8, 4.5, 3.4, null, null, null, null, 4.0, 3.7, 2.2, 4.8, null, 5.0, null, null, null, 4.5, null, 4.3, 3.8, null, 4.5, 4.5, null, 4.8, 4.5, 4.4, null, 3.9, 4.3, 4.3, null, 4.0, null, 4.1, 4.6, 3.7, 3.4, 4.5, 4.4, null, 4.4, 2.4, 4.1, 4.6, 4.6, 4.3, 4.3, 4.7, null, 4.2, 4.3, 4.3, 3.9, 4.7, 4.2, 4.1, 4.6, 4.7, 4.3, 4.5, 4.6, 2.9, 4.0, 3.0, 3.9, null, 4.8, 3.9, 4.0, null, null, null, 5.0, null, null, null, 4.0, null, 5.0, null, null, 4.5, 4.8, null, 4.6, 4.2, null, 3.4, 2.6, 2.4, null, 4.5, 4.6, 3.3, 4.1, 4.6, 3.9, null, null, null, null, null, 4.0, 3.4, 4.5, 4.0, 5.0, 3.6, 3.5, 4.6, 4.9, 3.7, 5.0, 4.0, 3.9, 5.0, 4.0, null, null, 4.9, 4.4, 3.6, 4.7, 4.3, 3.9, 4.5, 4.2, 4.6, 4.1, 4.3, 4.6, null, null, 4.2, 4.6, 4.5, 4.4, 4.2, 4.5, 4.0, 4.2, 4.7, 4.1, 4.4, 4.3, 4.6, 4.2, 4.0, 2.3, 4.5, 3.6, 4.4, 3.9, 3.9, 4.8, 4.2, 3.7, 4.0, null, 1.0, null, 4.4, 4.2, 4.7, 3.6, null, 4.1, 3.3, null, null, 5.0, 4.3, 4.7, null, null, null, null, null, 4.0, null, 4.4, 4.6, 5.0, 4.3, 4.3, null, 3.8, 4.1, 4.6, 4.0, 4.7, 3.6, 4.5, 4.0, 4.1, 4.0, 3.8, null, 4.5, 2.8, null, 4.2, 4.8, 5.0, 5.0, null, null, null, 4.3, 4.3, 4.5, 4.5, 5.0, 3.8, 4.4, 5.0, 4.7, null, 4.7, 2.2, 4.6, 4.6, 4.7, 4.6, 4.4, 3.8, 3.6, 4.9, 4.8, null, 4.4, 5.0, 4.8, null, null, 4.6, 5.0, 4.6, 5.0, null, 4.0, 4.3, 4.5, 4.0, 3.2, 4.6, 4.2, 4.8, 3.0, 4.3, 3.9, 3.2, 3.9, 4.8, 3.5, 4.4, 4.1, 4.2, 4.7, 4.0, 4.4, 4.2, 5.0, 3.5, 3.8, null, 4.5, 4.1, null, 4.3, null, 4.3, 4.4, null, null, null, null, null, 4.0, 4.3, 4.0, 4.9, 4.7, null, null, null, 4.3, 4.2, 4.1, 4.3, 4.7, 3.2, 3.9, 4.2, 4.1, 4.9, null, 3.7, 3.5, 4.9, null, 3.3, 4.9, 3.4, null, 4.5, 4.3, 5.0, 3.5, null, null, 4.4, 3.7, null, 4.8, null, 4.3, 4.9, null, null, null, null, null, null, 5.0, 4.3, 4.3, null, null, 4.4, 1.0, 4.5, null, 4.0, 5.0, 4.9, 4.7, 4.5, 3.9, null, 3.2, 3.5, null, 3.7, 3.0, 4.2, 4.0, 4.1, null, 4.7, 4.0, 3.1, 4.4, 3.2, 3.9, 4.2, 4.7, 4.0, null, null, 4.0, 3.7, 4.1, 4.4, 4.0, 3.9, 3.6, null, null, 4.6, null, 4.4, 1.9, 4.3, 4.5, 4.1, 3.8, 4.1, 4.6, 3.7, 3.9, 4.4, null, 4.5, null, null, 4.3, 4.4, 3.5, 4.3, 4.5, 4.5, 4.4, 4.2, 4.3, null, 3.6, 4.0, 3.8, null, null, 4.4, 3.8, 3.9, 4.1, 4.3, 3.5, null, 4.3, null, 4.7, 4.5, 3.8, 4.5, 4.2, 4.3, 4.1, 4.6, 4.6, 4.5, 4.5, 3.0, 2.6, 3.4, 4.4, 4.2, 4.0, 4.7, 3.4, 3.7, 3.7, 4.5, 3.9, 5.0, 4.3, 4.2, null, 4.0, null, 4.5, 4.0, 4.4, 1.8, 4.3, 5.0, 5.0, null, 3.2, 4.2, 4.6, 3.8, 3.9, 4.2, null, 4.0, 3.8, 4.1, 3.9, 4.4, 2.1, 1.8, 4.2, 2.0, null, null, 3.4, 4.3, 3.6, 3.7, 4.7, 4.5, 4.6, 3.6, null, null, 4.4, 4.6, null, null, null, 2.3, null, null, 3.8, null, 3.0, 5.0, 4.5, 4.4, 4.5, 4.8, 4.3, 3.8, null, 4.3, 3.7, 4.5, null, 4.3, null, 4.4, 3.4, 4.5, 1.6, null, null, 4.5, null, null, null, null, null, null, 4.4, 3.8, 4.3, 4.3, 3.0, 4.0, 4.2, 4.8, 4.0, 4.5, null, 4.7, 1.9, 4.9, 4.4, 4.7, null, 4.9, 4.8, null, null, 4.5, null, null, 4.6, 4.5, null, 5.0, null, 3.9, null, null, 4.3, null, 4.8, 4.3, 4.6, null, null, 4.1, 4.5, 4.3, 3.8, 2.4, 4.3, 2.8, 4.5, 4.6, 4.1, 4.2, 4.6, 4.3, 4.6, 5.0, 5.0, 3.9, 4.2, 3.9, 4.2, null, null, null, 3.5, null, 4.0, null, 3.7, 3.8, 4.3, null, null, 4.5, 4.6, null, 4.5, 4.3, 4.4, null, null, 4.6, null, 3.9, null, 3.9, 3.1, 3.9, 4.4, 4.4, 4.4, 4.6, 3.9, 4.6, 2.5, 4.6, 2.8, 4.0, 3.4, 3.8, 4.5, 4.8, 3.3, 3.9, 3.5, 4.5, 4.0, null, 3.6, null, 4.7, 3.9, 5.0, 4.6, 3.9, 4.9, 3.6, 3.7, 3.9, 2.7, 3.8, 2.8, 3.5, 4.1, null, 4.7, 4.3, 4.5, 4.1, null, null, 4.8, null, null, null, 3.4, 5.0, null, null, 4.3, 4.4, 1.8, 4.2, 3.3, null, 5.0, null, null, null, 4.8, null, 4.5, 5.0, 4.5, 4.7, null, 4.6, null, null, 4.5, null, null, 3.5, null, null, 3.5, 2.9, null, null, 5.0, null, null, null, null, 4.3, null, 4.8, 4.7, 4.3, 4.1, 5.0, 5.0, null, null, null, 4.0, null, 4.3, null, 4.1, 5.0, null, 5.0, null, null, null, 4.0, null, null, 3.5, null, null, null, 4.1, null, null, 4.6, null, null, null, 4.1, 4.2, 4.2, 2.2, 4.3, 4.7, 3.8, null, 4.1, null, 3.1, 4.2, null, 3.0, 4.8, 3.7, 3.1, 4.6, 2.9, 4.2, 4.7, 4.5, 2.8, null, 4.4, 4.4, 4.1, 4.6, 3.0, 4.1, 4.2, null, 4.4, 3.9, null, null, null, null, 4.3, 4.5, 4.5, 3.6, 2.0, 4.0, 4.5, 4.0, 4.3, null, 4.5, 4.8, 4.5, null, null, 4.2, 4.5, 4.6, null, null, 3.9, null, null, 4.3, 3.9, 4.3, 3.7, 4.7, 4.3, 1.7, 4.5, null, 4.7, null, 5.0, null, null, null, 4.6, 2.9, null, 4.8, 2.3, null, 3.8, 4.2, null, 4.4, null, 4.0, 4.1, 3.4, 4.3, 4.0, 4.2, 4.1, 4.7, 4.2, 3.9, 3.8, 4.1, 4.2, 3.8, 4.7, 3.7, 4.3, 4.0, 4.2, 4.6, 4.7, 4.7, 4.3, 4.2, 3.5, 4.7, 4.7, 4.5, 4.5, 4.7, 4.6, 4.6, 4.9, 4.2, 4.3, 4.4, 4.4, 4.5, 4.3, 4.4, 4.4, 3.0, 4.8, 4.7, 4.6, 4.0, 3.7, 3.5, 2.7, 4.7, 4.1, 4.5, 4.6, 4.5, 4.4, 4.3, 4.4, 4.5, 4.6, 4.7, 4.6, 3.1, 3.9, 4.7, 4.6, 4.7, null, 5.0, 4.4, 4.8, null, 4.1, null, 4.3, 4.4, 4.7, 4.0, 3.4, 4.6, null, 2.8, null, 3.1, null, 3.9, null, 4.2, 4.5, null, 4.1, null, 4.2, null, null, 3.3, 4.4, null, 4.4, 4.6, 4.4, 4.5, 4.1, 2.2, 4.2, 4.8, null, null, 3.2, 4.3, 4.0, 4.6, 4.4, 4.5, null, 3.4, null, null, 3.3, 4.2, null, 2.4, 3.2, 3.1, 3.8, null, 4.8, 3.7, 4.2, 3.7, 3.0, 3.9, 4.0, 5.0, null, 4.0, 2.7, 3.1, 4.1, 4.5, 4.0, 3.8, 3.8, 4.3, 3.5, 4.5, 3.9, null, 4.5, null, null, 3.3, 4.1, null, null, 5.0, null, 3.7, 4.8, 1.5, 5.0, 4.6, null, null, 5.0, 4.7, null, 4.7, null, 5.0, 4.5, null, 5.0, null, null, 5.0, 4.2, 1.0, 4.5, 4.2, 5.0, 4.2, 4.4, 3.9, 4.6, 3.8, null, null, 4.0, null, null, null, 4.6, null, null, 3.4, null, 5.0, 4.6, null, null, null, null, 5.0, null, null, null, null, 3.0, null, 3.8, 4.2, 4.3, null, null, null, null, null, null, 4.4, 3.2, null, null, null, 3.5, 4.4, 4.5, 3.7, 5.0, 4.5, 4.5, 4.1, null, 3.4, 4.1, null, null, 5.0, 4.2, 4.1, 4.1, null, 4.2, 4.3, null, 5.0, 4.4, null, 4.3, 4.5, null, 4.8, 4.4, null, null, null, 4.4, null, null, null, null, null, 4.7, null, null, null, null, null, 4.3, 4.4, 4.6, 2.8, 5.0, 4.4, 4.4, 2.0, 5.0, 4.4, 5.0, null, 3.4, 4.4, null, 3.4, null, null, 3.3, 1.5, null, null, null, 5.0, null, 4.3, 4.3, null, null, null, null, 2.2, 4.6, null, null, 5.0, null, null, 4.7, null, null, null, null, null, null, 4.7, 3.5, 4.3, 3.6, 4.3, 3.6, 2.6, 4.7, 4.5, 4.0, 4.6, 5.0, 4.2, null, null, 4.2, null, 4.7, 4.5, 3.6, 3.8, 4.2, 3.8, 3.5, 4.1, null, null, 5.0, null, 4.2, 4.1, null, null, 3.6, 4.3, 4.1, 4.4, null, null, 4.0, 5.0, 5.0, null, 3.8, 4.3, 4.7, 4.5, 4.4, 4.7, 4.4, 3.7, 4.3, null, 4.0, 3.9, null, 4.9, 3.5, 3.5, null, 4.4, 4.2, null, null, null, 4.3, null, 4.7, 4.5, 4.4, 4.2, 4.4, 3.3, 4.4, 4.9, 4.5, 4.7, 4.7, 3.9, 4.7, 4.7, null, 4.4, 4.8, 4.8, 4.0, 3.7, 5.0, 3.0, 3.9, null, null, 4.6, 4.6, 4.3, 4.2, null, 5.0, null, 4.5, null, 4.2, null, 1.0, null, 4.6, null, null, null, null, null, null, 4.1, 4.7, null, null, null, 4.4, 4.8, 4.2, null, null, 5.0, 4.6, 4.5, 5.0, 2.9, null, 4.4, null, null, 3.0, 4.5, 2.4, 4.3, 3.9, 1.9, 4.4, 5.0, 4.0, 4.7, 3.9, 5.0, 4.2, 4.2, 2.8, 4.2, 1.0, 3.9, 4.1, 4.1, 3.2, null, 5.0, null, 5.0, 4.3, 4.1, 3.8, 4.0, null, 4.2, 5.0, 4.1, 5.0, null, 3.7, null, null, 4.1, 3.5, 3.9, 4.2, 3.8, 3.7, 4.7, 2.8, 4.7, 4.3, 4.1, null, 4.7, 4.2, 4.0, 3.2, 4.6, 5.0, 4.4, 4.5, 4.0, 4.6, 4.7, null, 4.1, 4.5, 4.3, null, 5.0, 5.0, 4.2, 4.0, null, 5.0, 2.7, 4.1, null, null, 4.4, null, 4.3, 4.1, 4.7, 4.4, null, null, 3.6, 4.0, 4.1, 4.0, 4.1, 4.0, 4.6, null, null, null, null, 5.0, 3.6, 4.1, 4.3, 4.1, 2.6, 2.7, 3.8, 5.0, 4.2, null, 5.0, 2.6, 4.4, 4.3, null, null, 4.7, 2.8, 4.1, null, 3.6, null, null, 4.0, null, null, 5.0, 5.0, 4.7, 4.7, 4.6, 4.7, 4.6, 4.6, 4.6, 4.6, 4.6, 4.4, 3.8, 4.1, 3.4, 4.5, 4.5, 4.5, 4.0, 4.7, 4.4, 4.4, 4.7, 4.7, 4.2, 4.2, 4.0, 3.6, 4.7, 4.4, 4.3, 4.4, 4.4, 4.4, 4.3, 3.3, 3.6, 4.5, 4.5, 4.6, 4.3, 3.6, 4.3, 4.4, 4.1, 4.2, 4.8, 4.2, null, 4.0, 3.7, 4.5, 4.1, 4.6, 4.5, 4.7, 4.3, 4.3, 4.6, 4.1, 4.2, 4.3, 4.2, 4.3, 3.6, 4.2, 4.2, 4.0, 4.6, 4.3, 4.4, 4.5, 4.3, 3.7, 4.2, 4.7, 4.6, 4.5, 4.1, 4.5, 4.3, 3.4, 4.2, 3.9, 4.4, 4.1, 4.3, 3.9, 4.0, null, 5.0, 4.2, 4.3, 4.5, 4.5, 3.9, null, 4.5, 3.5, 3.6, 1.9, 4.3, 3.2, 1.6, 4.2, 4.9, 4.4, 3.6, 3.4, null, 4.7, 2.9, 4.3, 4.4, 4.3, 4.6, 4.6, 4.2, 3.5, null, 2.9, 4.4, 4.7, 4.5, 4.4, 2.0, 4.7, 4.4, 4.4, 4.4, null, 4.5, 3.5, 4.2, 3.7, 4.4, 3.4, 4.3, 3.6, 4.6, 4.6, 4.2, 4.3, 3.8, 1.4, 4.4, null, 4.0, null, 4.6, 3.9, 3.8, 4.7, 4.2, 4.3, 4.1, 4.3, 4.2, null, 3.6, 4.6, null, 4.3, 5.0, 5.0, 5.0, 4.5, 3.8, 3.9, null, null, 4.8, 4.1, 4.0, 4.8, 4.8, 4.4, null, 4.1, null, null, null, 4.4, 4.3, 3.7, 4.3, null, null, 4.3, 2.7, 4.4, null, 4.5, null, 4.2, null, 3.7, null, 5.0, null, 4.2, 3.9, null, 4.5, null, 3.5, 4.7, 4.2, 4.4, 4.7, 4.6, 4.0, null, 2.5, null, null, 3.8, 4.7, 4.5, 4.6, 4.6, 5.0, 3.9, 5.0, null, 2.3, null, 3.6, 4.0, 3.7, 4.2, 4.1, 4.4, 4.6, 4.2, 4.4, 4.3, 4.0, 4.5, 3.9, 3.7, 4.6, null, 3.8, 4.7, null, 3.4, 4.5, 4.1, 4.3, 4.6, 4.3, 4.3, 4.0, null, 3.5, 2.3, null, 3.9, 4.1, 4.5, 4.6, 4.4, 3.1, 4.3, 3.3, 5.0, null, 4.2, 3.8, 3.3, null, 5.0, 1.0, 4.5, 4.6, 4.3, 4.4, 4.1, 4.5, 4.2, 3.7, 4.1, 3.9, 4.5, 3.6, 3.2, 3.5, 3.7, 4.6, 4.8, 4.1, 4.4, 4.3, null, 4.0, 3.1, 4.2, 4.1, null, 3.5, 4.3, 3.8, 4.3, 4.8, 2.3, 4.3, 4.4, 3.6, 5.0, null, 4.3, 4.2, 4.3, 4.7, 3.9, 4.4, 4.4, 4.3, 2.6, 4.3, null, 3.8, 4.2, 4.2, 4.1, 4.0, 4.4, 4.7, null, 2.6, 4.3, 5.0, 3.7, 4.3, 4.1, 4.3, 3.8, 4.5, 5.0, null, null, 3.9, 3.8, 4.6, null, 4.6, 4.7, 5.0, null, 4.5, null, 4.3, 3.5, 3.3, null, 4.8, 3.9, null, 4.5, null, 3.4, 5.0, 5.0, null, null, 4.8, 3.6, null, 4.3, 4.0, 4.5, 4.6, 4.7, 3.8, 3.4, 4.7, 4.0, 4.6, 2.0, 4.3, 2.0, 3.6, 4.7, 3.5, 4.0, 3.5, 4.3, 4.1, 4.6, 3.8, 4.3, 3.8, 1.0, 3.8, 3.3, 4.8, 3.0, 4.0, 3.6, 3.8, 4.3, 3.9, 4.2, 4.6, 4.0, 4.5, 4.6, 4.6, 4.5, 3.7, 4.4, 4.6, 3.9, 4.4, 4.5, 4.5, 4.3, 3.7, 3.9, 3.9, 4.3, 4.1, 4.1, 4.4, 4.4, 4.2, 4.5, 4.6, 4.4, 4.4, 4.4, 3.8, 2.6, 4.2, 4.4, 4.2, 4.0, 4.2, 4.0, 4.4, 4.5, 3.2, 4.3, 3.4, 2.3, 4.4, 4.3, null, 4.3, 3.6, 4.6, 4.2, 4.0, 4.4, 4.5, 3.2, 1.7, 2.2, 3.8, 4.8, null, 4.4, 4.5, 4.8, 4.6, 3.7, 4.4, 3.5, 3.8, 3.8, 4.3, null, 4.6, null, 4.5, null, 3.7, null, 4.8, 4.3, 5.0, 3.9, 3.0, null, 5.0, null, 4.4, 4.6, 3.9, 3.3, 4.1, 3.0, 4.2, 4.2, 4.2, 4.0, 4.0, 3.2, 4.6, 3.2, 4.1, 3.3, 4.4, 4.0, 4.2, 4.1, 4.3, 3.3, 4.7, 4.4, 3.1, 3.1, 3.3, 3.9, 3.4, 3.9, 4.4, 3.9, 3.7, 4.5, 4.7, null, 4.6, null, 5.0, 3.0, null, 3.9, null, 5.0, 3.9, null, null, null, null, null, null, 3.8, null, 3.6, 3.9, 3.8, null, 4.8, null, null, null, null, 4.4, 4.5, 4.0, 4.7, 4.8, 4.7, 4.7, 4.5, 4.0, null, 3.2, null, null, 4.7, 4.5, null, 4.5, 4.9, 4.2, 5.0, 5.0, null, 5.0, null, null, 4.2, 4.7, null, null, 4.5, null, null, null, 4.5, 4.5, 3.8, 4.5, null, 4.3, 3.9, 3.9, 4.2, 4.5, 4.1, 4.4, 4.1, 4.6, 3.3, 4.5, 2.2, 4.4, 3.9, 4.5, 2.8, 3.3, null, 4.5, null, null, 3.1, 3.2, 4.4, 4.1, null, 5.0, null, null, 3.8, null, null, 4.3, 4.6, null, null, 3.7, 4.9, 4.3, 5.0, null, null, 2.9, 4.4, 4.4, null, 4.6, 4.5, 4.0, null, 3.5, 4.8, 4.8, 3.5, 4.7, 4.6, 4.4, 4.3, 4.7, 4.4, 4.0, 3.5, 4.6, 3.9, 3.5, 4.6, 4.2, 4.4, 4.6, 4.0, 4.2, 3.8, 4.1, 4.3, 4.4, 4.5, 4.1, 4.2, 4.0, 3.6, 3.3, 4.7, 4.6, 4.5, 3.9, 4.3, null, 3.9, 4.3, null, null, 3.1, 4.4, 3.7, 4.6, 4.6, 2.7, null, null, 4.1, 4.2, 1.9, 4.6, null, 4.2, null, 4.4, 4.2, 3.9, 2.4, 5.0, 3.9, null, 3.7, 5.0, 4.0, 3.0, 4.1, 4.8, 4.5, 3.5, null, null, null, 4.5, 4.5, 4.2, 4.3, 4.4, 4.4, 4.3, 4.2, 4.5, 4.3, 4.3, 4.2, 4.9, 4.1, 1.4, 4.0, 5.0, 4.3, null, 4.2, 4.3, 3.8, 4.1, 4.2, 4.3, 4.1, 4.3, 3.6, 4.3, 4.6, 4.4, 5.0, 4.4, 4.5, null, 4.7, null, 5.0, null, null, 3.4, 3.1, 4.5, 5.0, 4.3, 4.4, 4.3, 4.2, 4.0, 4.5, 4.0, 4.1, 3.8, 4.3, 4.6, 4.1, 4.3, 4.3, 4.2, 4.3, 4.4, 4.4, 3.9, 4.3, 4.5, 4.3, 3.5, 4.2, 4.1, 4.1, 4.7, 4.5, 3.3, 4.2, null, null, 4.2, 4.6, null, 4.3, 4.3, 4.0, 4.7, 5.0, null, null, null, null, null, null, null, 5.0, 4.9, null, null, null, null, null, null, 4.3, null, null, null, 4.0, null, null, 4.5, null, 4.1, 4.3, null, null, null, 4.5, null, null, 3.9, 3.7, 4.2, 3.6, 3.6, 2.1, 4.7, 3.2, 3.0, 4.3, 3.0, 4.3, 3.9, 3.3, 4.3, 4.0, 3.7, 2.8, 4.4, 5.0, 3.9, 4.2, 4.8, 4.0, null, 3.0, 4.5, 2.6, 5.0, null, null, 5.0, 4.1, null, 4.5, 5.0, 4.7, 4.5, 4.4, 4.4, 4.3, 4.2, 3.0, 4.1, 4.2, 4.2, 4.0, 4.3, 4.1, 3.6, 4.3, 5.0, 4.2, 3.9, null, 4.1, 3.8, 5.0, 3.7, 4.3, 4.2, 4.3, 2.5, 4.3, 4.4, null, 4.3, 4.2, 4.6, 4.0, 2.9, null, 4.5, 4.7, 3.8, null, 4.7, 3.9, 4.5, 4.7, 4.5, 4.2, 4.3, 4.4, 4.8, 4.2, 4.1, 4.5, 4.5, 4.6, 4.4, 4.1, 4.3, 4.7, 4.4, 4.2, 4.3, 4.5, 4.3, 4.8, 4.5, 4.6, 4.7, 4.4, 4.1, 4.3, 4.2, 4.2, 3.6, 2.8, 3.9, 3.8, 4.4, 3.7, 2.7, 3.8, 3.2, 3.9, 2.3, 4.1, 4.3, 3.1, 4.6, 4.1, 4.4, 3.2, 4.5, 3.7, null, null, null, 4.4, 4.5, 5.0, 4.8, null, 4.6, 4.0, 4.1, null, 4.1, null, null, 4.8, null, null, null, 4.3, 2.8, null, null, 4.7, 4.5, 4.2, 4.3, 3.8, 3.8, 4.2, 3.8, 4.0, 4.0, 4.6, 4.0, 4.3, 4.3, 3.9, 5.0, 4.0, 4.1, 3.9, 4.2, 4.3, 4.5, 4.4, 4.1, 4.2, 4.5, 4.6, 4.1, 3.9, 4.7, 3.9, 4.3, 2.9, 4.4, 3.7, 4.4, 4.1, null, 2.8, 4.9, 3.4, 2.8, 2.5, 4.7, 3.1, null, 3.2, 4.3, 3.9, 3.6, 3.2, null, 3.5, 3.3, null, null, null, null, 2.4, 4.4, 2.8, 5.0, null, 4.4, null, null, null, null, null, null, null, 5.0, null, 3.3, 2.9, 4.1, 4.6, null, 2.2, 4.3, 5.0, 2.5, null, 3.0, 3.7, 5.0, null, null, null, null, 5.0, null, null, 4.1, null, null, null, 4.1, 2.6, 4.6, 4.5, null, 4.5, null, 3.3, null, 4.4, 4.7, 4.7, 4.0, 4.5, 4.3, 4.6, 4.7, 4.4, 4.0, 4.2, 4.3, 4.1, 4.5, 4.3, 4.3, 4.7, 4.1, 4.3, 4.4, 3.1, 4.0, 4.5, 4.5, 4.4, 4.2, 4.6, 4.4, 4.6, 4.0, 4.6, 4.3, 4.3, 3.9, 4.5, 4.7, 4.3, 4.6, 4.6, 4.2, 4.3, 4.6, 4.2, 4.1, 4.6, 4.4, 3.7, 4.4, 3.9, 4.3, 4.3, 4.3, 4.5, 4.5, 4.5, 4.5, 4.7, 4.3, 4.4, 4.5, 4.3, 4.3, 4.2, 4.2, 4.3, 4.2, 4.7, 4.1, 4.3, 4.1, 3.8, 4.5, 4.1, null, 4.3, 4.5, 4.1, 4.4, 4.3, 4.4, 4.3, null, 4.1, 4.6, 4.7, 4.2, 3.7, 4.7, 4.4, 4.7, 4.2, 4.6, 4.5, 4.8, 3.7, 4.3, 4.2, 3.6, 4.1, 2.3, 4.3, 4.6, 4.5, 4.0, 4.2, 4.6, 4.2, 4.5, 4.3, 4.4, 3.6, 4.0, null, 2.8, 3.8, 4.1, 3.8, 3.4, 4.5, 4.3, 3.1, 4.6, 3.3, 3.9, 4.2, 4.9, 3.9, 3.4, 3.7, 4.2, 3.8, 4.6, 4.4, 4.0, 4.2, null, 4.2, 4.5, 4.6, 4.4, 4.6, 4.5, 3.7, 4.1, 4.2, 4.0, 4.5, 4.6, 4.5, 4.4, 3.3, 4.2, 4.2, 4.0, 4.0, 4.0, 3.5, 4.5, 3.9, 3.9, 4.1, 4.4, 4.2, 4.4, 4.3, 4.1, 4.0, 4.3, 4.4, 4.5, 4.6, 3.7, 3.8, 3.4, 4.3, 3.8, 4.7, 4.4, 4.4, 4.1, 4.4, 4.0, 3.9, 4.3, 4.2, 3.3, 4.0, 4.6, 4.1, 4.1, 3.4, 3.4, 4.1, 4.0, 3.4, 3.2, 3.8, 3.8, 3.9, 3.6, 3.8, 3.9, 3.2, 1.0, 4.6, null, 3.6, 4.9, null, 2.6, 3.9, null, 3.5, 3.2, null, 3.3, null, null, 3.8, 3.9, 4.6, 1.8, null, 4.3, 3.9, null, 4.8, 3.7, 4.0, 4.1, 4.6, 4.0, null, 4.8, null, 4.0, 3.5, null, 3.0, 4.6, 1.6, 3.8, 1.7, 4.6, 5.0, 4.6, 4.4, 4.5, 3.8, 4.0, 4.1, null, 5.0, null, null, null, null, 5.0, 1.0, null, null, 4.4, 4.7, 4.6, 2.4, null, 4.5, null, null, 4.4, 4.3, 5.0, 4.1, 3.8, 3.9, 3.1, 4.7, 4.5, 3.5, 4.5, 4.6, 4.5, 4.5, 4.4, 4.3, 4.4, 4.2, 4.6, 4.5, 3.8, 4.3, 4.6, 4.3, 3.6, 4.2, 4.7, 4.3, 4.7, 4.8, 3.1, 4.5, 4.4, 4.5, 4.5, null, 4.7, 4.1, 4.4, 4.3, 4.6, 3.4, null, 4.7, 3.6, 3.7, 2.1, 2.0, 3.5, 4.3, 2.4, 4.5, 2.8, null, 4.5, null, 2.8, 3.9, 3.2, 3.1, 2.4, 4.6, 2.9, 4.0, 3.7, 2.3, 2.9, 4.6, 4.3, 5.0, 4.2, 4.6, 4.5, 4.2, 4.8, 3.5, 4.6, 3.5, 3.6, null, 5.0, 3.0, null, null, 2.9, 3.7, 4.6, null, 4.2, 3.2, 2.5, 4.4, 4.3, 2.7, 4.0, 4.5, 3.4, 4.3, 4.3, null, 4.3, null, null, 4.0, 4.9, 3.4, 4.9, 4.3, 4.7, 4.8, 4.3, 4.3, 4.0, null, 3.5, null, 5.0, 4.7, null, 4.2, 4.4, 4.2, 5.0, null, 5.0, 2.0, null, 3.7, null, null, null, 3.9, 4.5, null, null, null, 3.1, 4.5, 4.7, null, 4.4, 3.8, 4.2, 4.5, null, 4.5, 4.6, 4.2, 4.5, 4.2, 4.2, 4.1, 4.3, 5.0, 4.6, 4.0, 4.4, null, 4.5, 3.6, 4.6, null, 4.0, 4.6, 4.5, 4.5, null, null, null, 4.8, 5.0, 4.4, null, 4.0, 3.5, 5.0, 4.0, 4.2, 4.0, 3.9, 4.5, 3.6, 4.2, 3.0, 3.0, 4.0, 3.4, 4.9, null, null, null, null, 4.0, 4.4, 4.1, 4.4, 4.0, null, 4.5, 4.2, 3.9, null, 3.6, 5.0, 4.4, 3.6, 4.7, 4.2, 4.5, 4.7, null, null, 4.3, 4.2, 4.4, null, 4.7, 4.4, null, 4.1, 4.5, 4.1, 4.0, null, null, 4.3, 4.2, null, 4.2, null, 4.1, 4.2, null, 5.0, 4.0, 4.0, 4.5, null, 4.1, null, 4.7, 4.4, 4.9, 3.6, 4.2, null, 4.4, null, 4.5, 4.2, null, null, 4.2, null, 4.5, 4.4, 4.4, 4.5, 4.5, 3.9, 4.3, 4.4, null, 4.5, 4.0, 4.5, 4.0, 4.4, 4.3, 2.5, 4.4, 3.8, 4.4, 4.2, 4.1, 4.2, 3.9, 4.5, 4.1, 4.4, 4.3, 4.5, 3.4, 3.4, 4.4, 4.2, 4.4, 3.5, 4.1, 4.6, 1.7, 3.3, 5.0, 4.8, null, 4.6, 3.3, null, 4.2, null, 3.5, 3.7, 5.0, null, null, 4.6, 4.1, 3.5, 5.0, null, 3.7, 4.0, null, null, 4.2, null, 4.5, 3.8, 2.5, 4.0, null, 4.0, 4.1, null, null, 3.4, 3.6, 3.4, 3.9, 4.6, 4.3, 4.7, 5.0, 3.9, 3.9, 4.2, 4.3, 3.5, null, 4.1, 4.2, 4.4, 4.5, 3.8, 3.4, null, 3.9, 4.5, null, null, 3.0, null, 4.1, 4.6, null, 3.9, 4.7, 4.5, 3.4, 5.0, 5.0, 5.0, 4.0, null, null, 4.0, null, 4.9, 5.0, null, 4.6, null, 4.8, 4.1, 4.1, null, null, 4.7, null, 5.0, 4.4, 3.3, 4.0, 3.5, 2.8, null, 3.6, 3.2, 3.6, 3.7, 3.3, 3.1, 4.1, 3.1, 3.5, 3.6, 5.0, 2.3, null, 3.1, 2.9, 3.0, 2.9, 3.9, 5.0, null, 3.4, 5.0, null, 4.8, null, 4.2, null, null, null, 5.0, null, 4.3, 4.6, 4.7, null, 4.4, 4.8, null, null, 4.1, null, 4.6, 4.3, 4.6, 4.0, 2.9, 4.1, null, null, null, null, 4.2, null, 4.3, 4.4, 2.4, 4.2, null, null, null, 3.1, null, 3.0, 4.7, 3.4, null, 4.7, 4.7, 4.2, 5.0, 4.5, 4.3, 3.3, 4.4, null, 4.2, 4.2, 4.7, 4.3, 4.8, 4.2, 4.0, 4.2, 4.1, 4.6, 4.6, 3.8, 4.5, 4.4, 4.1, 4.0, 3.9, 3.5, 5.0, 4.6, null, 3.6, 4.2, null, null, 3.8, null, 3.4, 3.8, 4.2, 4.2, 3.7, 4.0, 4.4, 4.5, 3.7, 4.2, 3.9, 4.0, 3.7, 4.2, 4.0, 3.9, 4.1, 4.3, 4.5, 4.5, 3.3, 4.4, 4.2, 4.2, 4.1, 4.1, 4.4, 4.1, 3.9, 3.9, 4.4, 3.8, 3.0, 3.4, 4.3, null, null, 5.0, null, 4.1, null, 2.4, 3.9, null, null, null, 4.0, null, 3.0, null, 4.4, 3.4, 2.9, 5.0, 4.5, 3.7, 3.0, null, 4.0, 3.2, 3.6, 3.2, 3.7, 4.7, 4.4, 3.9, 4.4, 4.3, 4.9, 2.6, 5.0, 4.1, 4.0, 4.1, null, 3.3, 4.2, 4.0, 4.3, null, 4.4, 5.0, 4.3, 4.4, null, null, null, 3.9, 4.3, 4.0, 3.8, 4.5, null, 3.8, 4.4, 4.3, 4.7, 3.9, 4.2, 3.8, 4.3, 3.8, 4.2, 4.5, 4.2, 3.6, 4.0, null, 3.5, 4.4, 3.5, 4.1, 4.8, 4.4, 4.3, 4.0, 4.2, 4.4, 3.5, 4.3, 4.4, 4.7, 5.0, 3.8, 5.0, 4.8, 4.9, 4.3, null, 5.0, null, 4.9, 4.9, 4.9, 4.5, null, 4.5, 5.0, 5.0, 3.0, null, null, 4.9, 5.0, 5.0, null, 4.1, null, 4.1, 4.3, 4.3, 4.1, 4.7, null, 4.9, 4.0, 5.0, 5.0, null, 4.6, 4.2, 3.7, 5.0, 4.3, 4.0, 4.3, 4.0, 4.0, 3.1, 3.4, 4.2, 4.2, 4.1, 3.4, null, 4.0, null, 3.9, 4.8, 4.1, 4.3, 4.3, 4.4, null, 4.4, 4.5, 4.5, 4.8, 4.4, 4.5, 4.6, 4.6, 4.5, null, 4.2, 4.4, 4.2, 4.7, 4.5, 4.2, 4.5, 4.2, 4.7, 4.1, 4.1, 4.6, 4.4, 4.5, 3.8, 3.9, 3.5, 3.8, 4.2, 4.6, 3.7, 4.4, 3.6, 3.4, 4.0, 4.3, 4.3, 4.5, 4.4, 4.5, 4.1, 4.4, 4.3, 4.5, 4.5, 4.2, 4.5, 4.3, 4.1, 4.6, 4.3, 4.0, 4.4, 4.4, null, 4.6, 4.6, 4.3, 4.3, 4.2, 4.5, 4.0, 4.6, 4.5, 3.8, 4.3, 4.3, 4.9, 4.0, 4.5, 4.1, 4.5, 4.2, 4.4, 4.4, 4.0, 4.3, 4.3, 4.4, 4.4, 4.0, 4.7, 4.2, 4.5, 4.1, 4.4, 4.1, 4.3, 3.5, 4.7, null, 2.6, 4.2, null, null, null, null, null, null, null, null, 5.0, null, 4.3, null, null, null, null, null, 4.4, 4.3, null, null, 4.1, null, 4.3, 4.5, null, 4.6, 4.6, 4.7, null, 4.3, 4.2, 4.5, 4.3, 4.5, 3.5, 4.3, 4.6, 4.5, 4.3, 4.4, null, null, null, 3.4, 4.3, 3.8, 4.5, null, null, null, 5.0, 4.9, null, null, 5.0, null, null, 4.2, 4.3, 4.4, 2.3, 4.7, null, null, null, 4.4, 4.3, 4.4, null, 4.0, 3.6, null, 4.1, 4.6, 3.9, 4.4, null, 3.7, 3.9, null, 4.3, 4.1, 3.6, 3.5, 3.9, 3.9, 3.8, 4.0, null, 4.5, 3.6, 3.9, 4.3, 4.0, 4.2, 3.7, 3.9, 4.2, 3.5, 4.0, 3.8, 4.1, 4.2, 4.1, 4.4, 3.7, null, 4.7, 3.8, 4.0, 4.2, 3.8, 3.9, 4.0, 3.1, 5.0, 3.5, 4.1, 4.5, 4.7, 4.1, null, 3.9, 4.0, 4.3, 3.1, null, 4.2, 4.1, 4.4, 3.2, null, 3.3, 4.3, 4.7, 4.3, 4.2, 4.7, 4.3, 4.2, 4.2, 4.2, 4.1, 4.2, 4.3, 4.4, 4.3, 3.5, 4.3, 1.8, 4.2, 4.2, 4.6, 4.0, 4.3, 5.0, 3.8, 4.3, 3.0, 5.0, 4.7, 4.6, 4.4, 4.7, 5.0, 4.8, 3.0, 4.6, 4.6, null, 4.1, 4.6, 4.5, 4.3, 4.2, 3.9, 4.7, 4.9, 4.3, 4.4, 3.6, 4.6, 4.5, null, 3.9, 4.3, 4.8, 3.7, 4.4, 4.2, 4.3, 4.6, 4.5, 3.9, 4.3, 4.4, 4.0, 4.7, 4.3, 4.5, 4.2, 4.2, 4.8, 4.6, 4.5, 4.0, 4.2, 4.1, 4.7, 4.2, 4.6, 4.5, 3.9, 3.6, 4.6, null, 3.4, 4.2, 3.4, 3.6, 4.2, 3.5, 4.3, null, 3.9, 4.3, 3.6, null, 3.9, 4.3, 3.7, null, 3.8, null, 4.1, 4.1, 4.7, 4.1, null, 1.9, 3.6, 3.8, null, 4.5, 2.7, null, 4.5, null, 5.0, 4.0, 4.2, null, null, 4.4, null, 4.0, null, 3.1, null, null, 5.0, null, null, null, null, null, null, null, null, null, 4.7, 3.7, 3.9, null, null, 3.0, null, null, null, null, null, 4.2, 3.0, null, null, 4.2, null, null, 4.2, 3.7, 4.6, 4.5, 4.6, 4.7, 4.3, 2.3, 2.8, 2.8, 3.6, 3.0, 3.2, 3.5, 3.8, 3.5, 4.2, null, 4.5, 3.4, 3.0, 4.4, 4.0, null, 4.3, null, 4.1, 3.6, 3.7, 4.2, 3.7, 4.3, null, null, 3.3, 4.4, 4.8, 3.5, 4.0, 4.9, 4.0, null, 4.6, 4.3, 3.6, 3.9, 3.9, 4.0, 4.2, 4.4, null, null, 4.3, null, null, null, null, 3.7, null, 4.3, null, null, 3.4, null, 3.5, null, 4.2, 4.2, null, 3.6, null, 3.9, 3.8, 3.8, 4.0, 4.5, 3.8, 4.9, 3.8, 4.1, 3.5, 3.0, 4.5, 4.7, 3.8, 3.3, 4.0, 4.1, 3.7, 3.9, 3.5, 4.4, 4.0, 4.0, 4.6, 4.4, 4.5, 4.3, 4.4, 4.3, 4.1, 4.2, 2.7, 4.2, 2.3, 3.9, 4.1, 2.9, 3.3, 4.2, 4.3, 2.9, 3.5, 2.8, null, 4.3, 3.5, 4.6, 4.2, 4.2, 3.7, 4.7, 3.9, 4.3, 4.4, 4.0, 4.4, 3.7, 4.3, 3.5, null, 4.3, 4.0, 4.5, 4.2, 4.3, 4.1, 2.5, 2.7, null, null, null, null, 1.2, null, null, null, 4.7, 4.9, 4.7, null, null, 4.4, 4.7, 4.0, null, 4.7, 4.3, null, 4.7, null, 4.4, null, null, null, null, null, null, 4.6, null, null, null, 4.4, 4.4, 4.4, 4.6, 3.1, 4.3, 3.7, 4.6, null, 4.1, 4.2, 4.4, 4.1, 3.6, 4.4, 3.8, 4.0, 3.2, 2.8, 3.1, 2.9, 4.1, 3.3, 3.5, 4.2, 2.8, 2.1, 4.4, 4.4, 4.2, 4.1, 3.3, 3.5, 4.7, 3.1, 4.3, 4.1, 4.2, 2.5, 3.9, 3.0, 3.2, 4.3, 4.3, 4.2, 4.3, 2.2, 3.9, 2.8, 4.4, 4.6, 4.4, 3.9, 2.9, 4.1, 5.0, 4.6, 3.7, null, 4.4, 4.2, 4.4, 3.9, 3.6, 3.4, null, 4.3, 4.3, 4.4, null, 4.3, 4.3, null, null, null, 4.4, null, 4.0, 4.5, 4.6, 4.3, 4.1, 4.4, 3.5, 4.1, 3.8, 4.2, 4.3, 4.5, 4.0, 4.0, 4.3, 4.1, 3.4, 4.0, 4.3, 4.7, 4.5, 4.3, 4.1, 4.1, 4.4, 4.6, null, 3.8, 3.9, 4.2, 4.2, 3.7, 4.3, 4.2, 3.6, 4.3, 4.3, 4.3, 4.5, 4.3, 4.7, 3.8, 4.0, 4.1, null, 3.9, 4.3, 3.4, null, 4.2, 4.5, 4.4, 4.2, 4.7, 4.6, 4.4, 4.4, 4.8, 4.6, 4.3, 4.4, 4.4, 3.3, 4.5, 4.6, 4.3, 4.9, 4.3, null, 4.5, 4.9, 3.7, 4.5, 4.6, 4.5, 4.1, 4.8, null, 5.0, 3.4, 4.5, 4.8, 4.5, 4.5, 4.5, 4.5, 4.5, 4.1, 4.1, 3.6, 4.7, 4.6, 4.9, 4.6, 4.1, 4.5, 3.9, 3.9, 4.6, 3.8, 4.7, 3.9, 4.1, 3.9, 4.0, 4.3, 4.0, 4.4, 4.1, 5.0, 4.8, null, 4.6, 5.0, 4.2, 4.7, 4.0, 4.4, 4.9, 3.5, 4.1, 4.2, 4.4, null, 4.5, 3.1, null, 4.5, 4.6, 4.3, 4.4, 4.6, 4.3, 4.8, 2.8, 4.1, 1.0, 3.0, 5.0, 4.5, null, null, null, null, null, null, null, 5.0, 4.1, null, null, null, 4.4, 3.0, null, 3.8, null, 3.9, null, null, null, 5.0, null, null, null, 4.5, null, null, null, 5.0, null, null, 3.3, null, 4.5, 4.9, null, null, null, null, null, null, 4.3, 4.5, 4.1, 4.8, 3.8, 4.1, 3.9, null, 4.2, 4.2, 4.8, 4.1, 4.1, 4.0, 3.9, 4.1, 4.1, 4.2, 3.7, 3.9, 3.9, 3.6, 3.7, 3.6, 4.3, 3.9, 4.5, 2.6, 4.4, null, 1.0, null, null, null, null, 4.2, 4.8, 5.0, 4.3, 4.4, 4.5, null, 4.9, null, null, null, 5.0, null, null, 4.2, 4.2, null, null, 4.0, 2.1, null, 4.2, null, 2.5, 4.4, 4.4, 4.6, null, null, 4.4, 4.2, 4.5, 3.3, 3.9, null, 4.5, 4.1, 4.8, 4.6, 4.4, 3.8, 3.7, 4.2, 3.7, 4.3, 4.5, 3.5, 4.0, 4.5, 2.9, 3.9, 3.6, 4.6, 2.1, 4.7, 4.5, 4.1, 4.5, 3.7, 2.9, 4.0, 4.2, 3.7, 3.6, 3.9, 3.4, 3.5, 4.2, 3.4, 3.9, 3.0, 3.6, 3.2, 4.1, 4.1, 4.2, 4.2, null, 4.7, null, 4.6, 4.5, null, 4.3, 4.5, 4.5, 4.4, 4.3, null, null, null, null, 4.2, null, 3.7, null, 4.1, 4.3, 4.0, 3.5, 4.2, 4.4, 4.2, 4.4, null, 3.8, 3.9, 4.0, 3.8, 3.6, 4.2, null, 3.8, null, 3.7, 4.0, 4.2, 4.4, null, null, 4.4, 4.9, null, 5.0, null, 4.8, null, null, null, null, null, null, null, null, 4.0, null, null, null, null, null, null, null, null, 4.0, null, null, 4.9, null, 3.8, null, 4.9, null, null, null, null, null, 1.5, null, 5.0, null, 4.8, null, 3.9, 3.7, 4.6, 4.7, 4.6, 4.3, 4.2, 4.6, 4.7, 4.6, 2.0, 3.6, 3.2, 3.8, 4.0, 3.8, 3.8, 4.4, 4.4, 4.4, 3.8, 4.3, 4.6, 1.0, 3.2, 4.7, 4.3, 4.5, 4.1, 4.9, 4.1, 4.2, 3.5, 4.2, 5.0, 3.8, 4.7, null, null, 4.5, null, 5.0, 3.3, 5.0, null, 4.0, 4.5, 3.2, 4.5, 4.2, null, 3.7, 3.8, 5.0, null, 4.1, 2.9, null, null, null, 4.7, 5.0, 3.2, null, 3.8, 3.8, 4.6, 4.6, 4.4, 4.8, 4.2, 3.3, 3.9, 4.5, 3.9, 4.3, 4.4, 3.9, 4.6, 3.9, 3.4, 4.6, null, null, 4.2, null, null, 4.8, 5.0, null, null, 5.0, null, null, null, 3.8, null, 2.9, 4.6, 3.8, null, null, null, 4.1, null, 4.5, null, 4.2, null, 2.5, 3.5, 4.6, 4.4, 4.6, 4.3, 4.2, 4.2, 4.1, 4.2, 4.3, 4.5, 4.4, 5.0, 4.6, null, null, null, null, null, 5.0, null, null, null, null, null, 3.4, null, null, 4.6, 4.5, null, null, 3.8, 4.1, 4.4, 4.4, 4.4, 3.0, 4.2, 4.2, 3.9, 4.2, 4.4, 5.0, 4.0, 4.3, 4.6, 3.6, 4.4, 4.1, 4.2, 4.3, 4.5, 3.9, 4.3, 3.5, null, null, null, 4.0, 3.8, 3.6, 4.3, 4.2, 5.0, 3.4, null, null, null, 3.5, null, 3.7, 4.2, null, 3.6, 4.5, 4.2, 4.3, 4.4, 2.7, 4.1, null, 4.4, null, null, 4.5, null, 3.4, 2.9, 4.8, 3.8, null, 4.0, 3.9, null, null, null, null, 5.0, 3.9, 4.0, 3.6, 4.1, 4.3, 3.8, 4.2, 4.3, 4.2, 4.2, 4.1, null, 4.0, 4.1, 4.0, 4.2, 4.4, null, 4.2, 4.7, 4.6, null, 4.7, 4.1, 4.9, 4.0, 4.3, 4.2, 4.3, null, null, null, 4.7, 4.8, null, 4.1, null, 4.0, 4.2, null, 4.0, null, 3.3, 5.0, null, null, null, null, null, 4.0, 4.2, 3.4, 4.6, 3.8, null, 3.8, 4.8, 4.0, null, 4.5, 5.0, null, 4.5, 4.5], \"y0\": \" \", \"yaxis\": \"y\"}],\n",
              "                        {\"boxmode\": \"group\", \"legend\": {\"tracegroupgap\": 0}, \"margin\": {\"t\": 60}, \"template\": {\"data\": {\"bar\": [{\"error_x\": {\"color\": \"#2a3f5f\"}, \"error_y\": {\"color\": \"#2a3f5f\"}, \"marker\": {\"line\": {\"color\": \"#E5ECF6\", \"width\": 0.5}}, \"type\": \"bar\"}], \"barpolar\": [{\"marker\": {\"line\": {\"color\": \"#E5ECF6\", \"width\": 0.5}}, \"type\": \"barpolar\"}], \"carpet\": [{\"aaxis\": {\"endlinecolor\": \"#2a3f5f\", \"gridcolor\": \"white\", \"linecolor\": \"white\", \"minorgridcolor\": \"white\", \"startlinecolor\": \"#2a3f5f\"}, \"baxis\": {\"endlinecolor\": \"#2a3f5f\", \"gridcolor\": \"white\", \"linecolor\": \"white\", \"minorgridcolor\": \"white\", \"startlinecolor\": \"#2a3f5f\"}, \"type\": \"carpet\"}], \"choropleth\": [{\"colorbar\": {\"outlinewidth\": 0, \"ticks\": \"\"}, \"type\": \"choropleth\"}], \"contour\": [{\"colorbar\": {\"outlinewidth\": 0, \"ticks\": \"\"}, \"colorscale\": [[0.0, \"#0d0887\"], [0.1111111111111111, \"#46039f\"], [0.2222222222222222, \"#7201a8\"], [0.3333333333333333, \"#9c179e\"], [0.4444444444444444, \"#bd3786\"], [0.5555555555555556, \"#d8576b\"], [0.6666666666666666, \"#ed7953\"], [0.7777777777777778, \"#fb9f3a\"], [0.8888888888888888, \"#fdca26\"], [1.0, \"#f0f921\"]], \"type\": \"contour\"}], \"contourcarpet\": [{\"colorbar\": {\"outlinewidth\": 0, \"ticks\": \"\"}, \"type\": \"contourcarpet\"}], \"heatmap\": [{\"colorbar\": {\"outlinewidth\": 0, \"ticks\": \"\"}, \"colorscale\": [[0.0, \"#0d0887\"], [0.1111111111111111, \"#46039f\"], [0.2222222222222222, \"#7201a8\"], [0.3333333333333333, \"#9c179e\"], [0.4444444444444444, \"#bd3786\"], [0.5555555555555556, \"#d8576b\"], [0.6666666666666666, \"#ed7953\"], [0.7777777777777778, \"#fb9f3a\"], [0.8888888888888888, \"#fdca26\"], [1.0, \"#f0f921\"]], \"type\": \"heatmap\"}], \"heatmapgl\": [{\"colorbar\": {\"outlinewidth\": 0, \"ticks\": \"\"}, \"colorscale\": [[0.0, \"#0d0887\"], [0.1111111111111111, \"#46039f\"], [0.2222222222222222, \"#7201a8\"], [0.3333333333333333, \"#9c179e\"], [0.4444444444444444, \"#bd3786\"], [0.5555555555555556, \"#d8576b\"], [0.6666666666666666, \"#ed7953\"], [0.7777777777777778, \"#fb9f3a\"], [0.8888888888888888, \"#fdca26\"], [1.0, \"#f0f921\"]], \"type\": \"heatmapgl\"}], \"histogram\": [{\"marker\": {\"colorbar\": {\"outlinewidth\": 0, \"ticks\": \"\"}}, \"type\": \"histogram\"}], \"histogram2d\": [{\"colorbar\": {\"outlinewidth\": 0, \"ticks\": \"\"}, \"colorscale\": [[0.0, \"#0d0887\"], [0.1111111111111111, \"#46039f\"], [0.2222222222222222, \"#7201a8\"], [0.3333333333333333, \"#9c179e\"], [0.4444444444444444, \"#bd3786\"], [0.5555555555555556, \"#d8576b\"], [0.6666666666666666, \"#ed7953\"], [0.7777777777777778, \"#fb9f3a\"], [0.8888888888888888, \"#fdca26\"], [1.0, \"#f0f921\"]], \"type\": \"histogram2d\"}], \"histogram2dcontour\": [{\"colorbar\": {\"outlinewidth\": 0, \"ticks\": \"\"}, \"colorscale\": [[0.0, \"#0d0887\"], [0.1111111111111111, \"#46039f\"], [0.2222222222222222, \"#7201a8\"], [0.3333333333333333, \"#9c179e\"], [0.4444444444444444, \"#bd3786\"], [0.5555555555555556, \"#d8576b\"], [0.6666666666666666, \"#ed7953\"], [0.7777777777777778, \"#fb9f3a\"], [0.8888888888888888, \"#fdca26\"], [1.0, \"#f0f921\"]], \"type\": \"histogram2dcontour\"}], \"mesh3d\": [{\"colorbar\": {\"outlinewidth\": 0, \"ticks\": \"\"}, \"type\": \"mesh3d\"}], \"parcoords\": [{\"line\": {\"colorbar\": {\"outlinewidth\": 0, \"ticks\": \"\"}}, \"type\": \"parcoords\"}], \"pie\": [{\"automargin\": true, \"type\": \"pie\"}], \"scatter\": [{\"marker\": {\"colorbar\": {\"outlinewidth\": 0, \"ticks\": \"\"}}, \"type\": \"scatter\"}], \"scatter3d\": [{\"line\": {\"colorbar\": {\"outlinewidth\": 0, \"ticks\": \"\"}}, \"marker\": {\"colorbar\": {\"outlinewidth\": 0, \"ticks\": \"\"}}, \"type\": \"scatter3d\"}], \"scattercarpet\": [{\"marker\": {\"colorbar\": {\"outlinewidth\": 0, \"ticks\": \"\"}}, \"type\": \"scattercarpet\"}], \"scattergeo\": [{\"marker\": {\"colorbar\": {\"outlinewidth\": 0, \"ticks\": \"\"}}, \"type\": \"scattergeo\"}], \"scattergl\": [{\"marker\": {\"colorbar\": {\"outlinewidth\": 0, \"ticks\": \"\"}}, \"type\": \"scattergl\"}], \"scattermapbox\": [{\"marker\": {\"colorbar\": {\"outlinewidth\": 0, \"ticks\": \"\"}}, \"type\": \"scattermapbox\"}], \"scatterpolar\": [{\"marker\": {\"colorbar\": {\"outlinewidth\": 0, \"ticks\": \"\"}}, \"type\": \"scatterpolar\"}], \"scatterpolargl\": [{\"marker\": {\"colorbar\": {\"outlinewidth\": 0, \"ticks\": \"\"}}, \"type\": \"scatterpolargl\"}], \"scatterternary\": [{\"marker\": {\"colorbar\": {\"outlinewidth\": 0, \"ticks\": \"\"}}, \"type\": \"scatterternary\"}], \"surface\": [{\"colorbar\": {\"outlinewidth\": 0, \"ticks\": \"\"}, \"colorscale\": [[0.0, \"#0d0887\"], [0.1111111111111111, \"#46039f\"], [0.2222222222222222, \"#7201a8\"], [0.3333333333333333, \"#9c179e\"], [0.4444444444444444, \"#bd3786\"], [0.5555555555555556, \"#d8576b\"], [0.6666666666666666, \"#ed7953\"], [0.7777777777777778, \"#fb9f3a\"], [0.8888888888888888, \"#fdca26\"], [1.0, \"#f0f921\"]], \"type\": \"surface\"}], \"table\": [{\"cells\": {\"fill\": {\"color\": \"#EBF0F8\"}, \"line\": {\"color\": \"white\"}}, \"header\": {\"fill\": {\"color\": \"#C8D4E3\"}, \"line\": {\"color\": \"white\"}}, \"type\": \"table\"}]}, \"layout\": {\"annotationdefaults\": {\"arrowcolor\": \"#2a3f5f\", \"arrowhead\": 0, \"arrowwidth\": 1}, \"coloraxis\": {\"colorbar\": {\"outlinewidth\": 0, \"ticks\": \"\"}}, \"colorscale\": {\"diverging\": [[0, \"#8e0152\"], [0.1, \"#c51b7d\"], [0.2, \"#de77ae\"], [0.3, \"#f1b6da\"], [0.4, \"#fde0ef\"], [0.5, \"#f7f7f7\"], [0.6, \"#e6f5d0\"], [0.7, \"#b8e186\"], [0.8, \"#7fbc41\"], [0.9, \"#4d9221\"], [1, \"#276419\"]], \"sequential\": [[0.0, \"#0d0887\"], [0.1111111111111111, \"#46039f\"], [0.2222222222222222, \"#7201a8\"], [0.3333333333333333, \"#9c179e\"], [0.4444444444444444, \"#bd3786\"], [0.5555555555555556, \"#d8576b\"], [0.6666666666666666, \"#ed7953\"], [0.7777777777777778, \"#fb9f3a\"], [0.8888888888888888, \"#fdca26\"], [1.0, \"#f0f921\"]], \"sequentialminus\": [[0.0, \"#0d0887\"], [0.1111111111111111, \"#46039f\"], [0.2222222222222222, \"#7201a8\"], [0.3333333333333333, \"#9c179e\"], [0.4444444444444444, \"#bd3786\"], [0.5555555555555556, \"#d8576b\"], [0.6666666666666666, \"#ed7953\"], [0.7777777777777778, \"#fb9f3a\"], [0.8888888888888888, \"#fdca26\"], [1.0, \"#f0f921\"]]}, \"colorway\": [\"#636efa\", \"#EF553B\", \"#00cc96\", \"#ab63fa\", \"#FFA15A\", \"#19d3f3\", \"#FF6692\", \"#B6E880\", \"#FF97FF\", \"#FECB52\"], \"font\": {\"color\": \"#2a3f5f\"}, \"geo\": {\"bgcolor\": \"white\", \"lakecolor\": \"white\", \"landcolor\": \"#E5ECF6\", \"showlakes\": true, \"showland\": true, \"subunitcolor\": \"white\"}, \"hoverlabel\": {\"align\": \"left\"}, \"hovermode\": \"closest\", \"mapbox\": {\"style\": \"light\"}, \"paper_bgcolor\": \"white\", \"plot_bgcolor\": \"#E5ECF6\", \"polar\": {\"angularaxis\": {\"gridcolor\": \"white\", \"linecolor\": \"white\", \"ticks\": \"\"}, \"bgcolor\": \"#E5ECF6\", \"radialaxis\": {\"gridcolor\": \"white\", \"linecolor\": \"white\", \"ticks\": \"\"}}, \"scene\": {\"xaxis\": {\"backgroundcolor\": \"#E5ECF6\", \"gridcolor\": \"white\", \"gridwidth\": 2, \"linecolor\": \"white\", \"showbackground\": true, \"ticks\": \"\", \"zerolinecolor\": \"white\"}, \"yaxis\": {\"backgroundcolor\": \"#E5ECF6\", \"gridcolor\": \"white\", \"gridwidth\": 2, \"linecolor\": \"white\", \"showbackground\": true, \"ticks\": \"\", \"zerolinecolor\": \"white\"}, \"zaxis\": {\"backgroundcolor\": \"#E5ECF6\", \"gridcolor\": \"white\", \"gridwidth\": 2, \"linecolor\": \"white\", \"showbackground\": true, \"ticks\": \"\", \"zerolinecolor\": \"white\"}}, \"shapedefaults\": {\"line\": {\"color\": \"#2a3f5f\"}}, \"ternary\": {\"aaxis\": {\"gridcolor\": \"white\", \"linecolor\": \"white\", \"ticks\": \"\"}, \"baxis\": {\"gridcolor\": \"white\", \"linecolor\": \"white\", \"ticks\": \"\"}, \"bgcolor\": \"#E5ECF6\", \"caxis\": {\"gridcolor\": \"white\", \"linecolor\": \"white\", \"ticks\": \"\"}}, \"title\": {\"x\": 0.05}, \"xaxis\": {\"automargin\": true, \"gridcolor\": \"white\", \"linecolor\": \"white\", \"ticks\": \"\", \"title\": {\"standoff\": 15}, \"zerolinecolor\": \"white\", \"zerolinewidth\": 2}, \"yaxis\": {\"automargin\": true, \"gridcolor\": \"white\", \"linecolor\": \"white\", \"ticks\": \"\", \"title\": {\"standoff\": 15}, \"zerolinecolor\": \"white\", \"zerolinewidth\": 2}}}, \"xaxis\": {\"anchor\": \"y\", \"domain\": [0.0, 1.0]}, \"yaxis\": {\"anchor\": \"x\", \"domain\": [0.0, 1.0], \"title\": {\"text\": \"Rating\"}}},\n",
              "                        {\"responsive\": true}\n",
              "                    ).then(function(){\n",
              "                            \n",
              "var gd = document.getElementById('4c9b6838-7084-427c-af9a-4a0c5176591b');\n",
              "var x = new MutationObserver(function (mutations, observer) {{\n",
              "        var display = window.getComputedStyle(gd).display;\n",
              "        if (!display || display === 'none') {{\n",
              "            console.log([gd, 'removed!']);\n",
              "            Plotly.purge(gd);\n",
              "            observer.disconnect();\n",
              "        }}\n",
              "}});\n",
              "\n",
              "// Listen for the removal of the full notebook cells\n",
              "var notebookContainer = gd.closest('#notebook-container');\n",
              "if (notebookContainer) {{\n",
              "    x.observe(notebookContainer, {childList: true});\n",
              "}}\n",
              "\n",
              "// Listen for the clearing of the current output cell\n",
              "var outputEl = gd.closest('.output');\n",
              "if (outputEl) {{\n",
              "    x.observe(outputEl, {childList: true});\n",
              "}}\n",
              "\n",
              "                        })\n",
              "                };\n",
              "                \n",
              "            </script>\n",
              "        </div>\n",
              "</body>\n",
              "</html>"
            ]
          },
          "metadata": {
            "tags": []
          }
        }
      ]
    },
    {
      "cell_type": "code",
      "metadata": {
        "colab": {
          "base_uri": "https://localhost:8080/",
          "height": 542
        },
        "id": "aNvyekJCnjdN",
        "outputId": "ddf91a8a-d201-499d-db65-9c140e11bca3"
      },
      "source": [
        "fig = px.histogram(data_df,x=\"Rating\")\n",
        "fig.show()"
      ],
      "execution_count": null,
      "outputs": [
        {
          "output_type": "display_data",
          "data": {
            "text/html": [
              "<html>\n",
              "<head><meta charset=\"utf-8\" /></head>\n",
              "<body>\n",
              "    <div>\n",
              "            <script src=\"https://cdnjs.cloudflare.com/ajax/libs/mathjax/2.7.5/MathJax.js?config=TeX-AMS-MML_SVG\"></script><script type=\"text/javascript\">if (window.MathJax) {MathJax.Hub.Config({SVG: {font: \"STIX-Web\"}});}</script>\n",
              "                <script type=\"text/javascript\">window.PlotlyConfig = {MathJaxConfig: 'local'};</script>\n",
              "        <script src=\"https://cdn.plot.ly/plotly-latest.min.js\"></script>    \n",
              "            <div id=\"33e806c9-74d4-4f83-9904-573099ca176d\" class=\"plotly-graph-div\" style=\"height:525px; width:100%;\"></div>\n",
              "            <script type=\"text/javascript\">\n",
              "                \n",
              "                    window.PLOTLYENV=window.PLOTLYENV || {};\n",
              "                    \n",
              "                if (document.getElementById(\"33e806c9-74d4-4f83-9904-573099ca176d\")) {\n",
              "                    Plotly.newPlot(\n",
              "                        '33e806c9-74d4-4f83-9904-573099ca176d',\n",
              "                        [{\"alignmentgroup\": \"True\", \"bingroup\": \"x\", \"hoverlabel\": {\"namelength\": 0}, \"hovertemplate\": \"Rating=%{x}<br>count=%{y}\", \"legendgroup\": \"\", \"marker\": {\"color\": \"#636efa\"}, \"name\": \"\", \"offsetgroup\": \"\", \"orientation\": \"v\", \"showlegend\": false, \"type\": \"histogram\", \"x\": [4.1, 3.9, 4.7, 4.5, 4.3, 4.4, 3.8, 4.1, 4.4, 4.7, 4.4, 4.4, 4.2, 4.6, 4.4, 3.2, 4.7, 4.5, 4.3, 4.6, 4.0, 4.1, 4.7, null, 4.7, 4.8, 4.7, 4.1, 3.9, 4.1, 4.2, 4.1, 4.5, 4.2, 4.7, 3.8, 4.7, 4.1, 4.7, 4.0, 4.2, 4.5, 4.4, 3.8, 4.2, 4.7, 4.6, 4.2, 4.3, 4.2, 4.0, 3.8, 4.6, 3.9, 4.3, 4.9, 4.4, 4.2, 4.0, 3.9, 4.6, 4.9, 4.3, 4.6, 4.9, 3.9, 4.0, 4.3, 3.9, 4.2, 4.8, 3.6, 4.2, 4.8, 4.8, 4.6, 4.5, 4.3, 4.5, 4.9, 3.9, 4.4, 4.0, 4.3, 3.7, 4.4, 4.3, 3.2, 4.6, 4.6, 4.5, 3.7, 4.6, 4.6, 4.6, 4.0, 4.4, 4.0, 4.7, 4.9, 4.7, 3.9, 3.9, 4.2, 4.6, 4.3, 4.7, 4.7, 4.8, 4.2, 4.3, 4.5, 4.1, null, 4.2, 4.5, 4.4, 4.0, 4.1, 4.1, 4.4, 4.6, 4.5, null, 3.9, 4.4, null, 4.6, 3.8, null, null, 4.0, 4.3, 4.5, null, 4.1, 3.7, 4.7, 4.2, 4.6, 4.5, 4.6, 4.4, 4.2, 4.5, 4.5, 4.5, 4.5, 4.4, 4.5, 4.6, 4.8, 3.9, 4.6, 4.2, 4.1, 4.7, 4.2, 4.3, 3.3, 4.6, 4.8, 4.7, null, 4.1, 4.6, 4.1, 4.6, 4.7, 4.5, 3.9, 4.4, 4.3, 4.2, 4.5, 4.4, 3.4, 4.9, 4.6, 4.4, null, 4.4, 4.4, 4.4, 3.5, null, 4.4, 4.1, 4.3, 4.4, 4.3, 4.3, 4.1, 4.4, 4.3, 3.9, 4.8, 4.5, 4.4, 4.0, 4.3, 4.0, 4.2, 4.5, 4.2, 4.2, 4.6, 4.1, 4.6, 3.1, 3.9, 4.3, 4.1, 4.4, 4.1, 4.1, 4.5, 4.4, 4.4, 4.3, 4.4, 4.6, 4.2, 4.4, 4.7, 3.8, 3.9, null, 4.3, 4.2, 4.4, 4.7, 4.5, 4.2, 4.7, 4.8, 4.2, 4.2, 4.3, 4.4, 4.4, 4.1, 3.8, 4.3, 3.8, 3.5, 4.1, 4.6, 4.3, 4.5, 4.1, 4.5, 4.6, 4.0, 4.2, 4.4, 4.4, 4.0, 4.2, 4.2, 4.1, 4.0, 3.8, 3.9, 3.9, 4.2, 4.2, 4.3, 4.4, 4.4, 4.1, 3.8, 4.3, 3.8, 3.5, 4.1, 4.6, 4.3, 4.5, 4.1, 4.5, 4.6, 4.0, 4.2, 4.3, 4.2, 4.4, 4.7, 4.5, 4.2, 4.7, 4.8, 4.1, 4.3, 4.4, 4.5, 4.3, 4.5, 4.6, 4.7, 4.7, 4.8, 3.9, 4.1, 4.4, 4.6, 4.5, 4.7, 4.4, 4.5, 3.9, 3.2, 3.2, 4.1, 4.5, 4.2, 4.2, 3.7, 4.5, 4.6, 4.5, null, 4.7, 4.4, 3.5, 3.3, 4.5, 4.4, 4.2, 5.0, 4.4, 4.7, 4.4, 4.4, 4.6, 4.0, 4.4, 4.3, 4.3, 4.4, 4.3, 4.0, 4.3, 4.3, 4.4, 4.3, 4.3, 4.3, 4.3, 4.3, 4.0, 4.5, 4.3, 3.7, 4.5, 3.9, 4.4, 3.6, 4.4, 4.2, 4.4, 4.1, 4.4, 4.3, 4.2, 4.2, 4.4, 4.4, 3.9, 4.2, 4.4, 4.6, 4.3, 4.3, 4.4, 3.7, 4.3, 3.9, 4.5, 3.7, 4.3, 4.4, 4.0, 4.3, 4.0, 4.3, 4.0, 4.1, 4.2, 4.2, 4.2, 4.1, 4.4, 4.3, 4.2, 4.4, 4.2, 4.1, 4.3, 4.3, 4.5, 4.3, 4.2, 4.2, 4.5, 4.3, 4.3, 4.3, 4.4, 4.2, 4.3, 4.3, 4.4, 4.6, 4.3, 4.4, 4.2, 4.5, 4.5, 4.4, 4.5, 4.1, 4.2, 4.1, 4.3, 4.1, 4.2, 4.0, 4.2, 4.2, 4.2, 4.3, 4.3, 4.4, 4.2, 4.4, 4.1, 4.2, 4.8, 4.4, 4.4, 4.4, 4.0, 4.5, 4.4, 4.1, 4.2, 4.5, 4.3, 4.5, 4.0, 4.3, 4.3, 4.2, 4.5, 4.6, 4.1, 4.0, 4.2, 4.6, 4.1, 4.3, 4.2, 4.3, 4.0, 4.3, 4.2, 4.3, 4.1, 4.2, 4.1, 4.6, 4.3, 4.2, 4.2, 4.3, 4.2, 2.6, null, null, null, 3.5, 4.0, 4.1, 3.7, 4.1, 4.2, 4.5, 4.4, 4.2, 4.0, 4.1, 3.1, 4.4, 4.2, 4.1, 3.9, 4.3, 4.4, 3.5, 4.0, 3.3, 4.5, 4.4, 4.1, 3.9, 3.9, 3.6, 4.0, 3.6, 3.4, 4.2, 4.1, 3.4, 3.0, 4.6, 4.1, 3.9, 1.9, 3.5, 2.5, 3.9, 3.4, 3.5, 4.4, 3.8, 4.2, 2.5, 2.8, 4.1, 4.2, 3.5, 4.3, 3.3, 4.1, 4.2, 3.5, 4.2, 4.4, 4.1, 4.2, 4.3, 4.1, 4.0, 4.1, 4.2, 3.0, 4.4, 4.5, 2.5, 4.1, 4.2, 4.0, 4.1, 1.9, 3.3, 4.4, 4.1, 3.8, 4.1, 4.2, 4.0, 4.5, 3.7, 3.9, 3.5, 3.9, 4.0, 4.6, 4.0, 4.1, 4.2, 3.3, 4.4, 4.3, 4.2, 3.9, 4.3, 3.4, 4.2, 4.1, 4.0, 3.6, 4.2, 3.5, 4.0, 4.1, 4.1, 2.8, 4.4, 4.4, 4.2, 4.1, 4.2, 3.9, 4.1, 4.2, 3.9, 4.0, 4.2, 4.5, 3.9, 3.6, 4.4, 3.5, 4.4, 4.8, 4.6, 4.7, 4.8, null, 2.7, 5.0, null, 4.8, 5.0, 4.8, null, 4.9, 3.0, null, null, 4.7, null, null, 1.0, null, null, null, null, null, null, null, 5.0, 4.7, null, 5.0, null, null, null, 5.0, null, null, null, null, 3.0, 4.1, null, null, null, null, null, null, null, 5.0, 3.7, 4.5, 4.2, null, null, null, 4.3, 4.1, 1.9, 4.1, 4.4, null, 3.9, 3.9, null, 4.0, 4.4, 4.7, 3.8, 4.4, 4.4, 3.6, 4.4, 2.7, 4.3, 4.6, 2.8, 3.5, null, 3.4, 4.8, 4.7, 4.8, 4.8, 4.7, 4.1, 3.5, 4.7, 3.8, 2.9, 4.5, 3.3, 4.1, null, 4.7, 4.6, 4.7, 4.6, 4.7, null, 4.5, 4.7, 4.8, 4.6, 4.6, 4.6, 4.2, 4.9, 3.8, 4.2, 4.4, 4.4, 4.3, 4.5, 4.4, 4.6, 3.9, 4.4, 4.3, 4.4, 4.2, 4.4, 4.0, 4.2, 3.8, 4.5, 4.7, 4.5, 4.3, 4.2, 4.3, 4.7, 4.7, 4.6, 4.6, 4.6, 4.5, 4.4, 4.6, 4.5, 4.5, 4.2, 4.4, 4.4, 4.2, 4.5, 4.1, 4.0, 4.1, 4.3, 4.3, 4.3, 4.5, 4.6, 4.1, 4.6, 4.7, 4.7, 4.3, 4.7, 4.6, 4.6, 4.6, 4.3, 4.2, 4.0, 4.5, 4.2, 4.1, 4.4, 4.0, 4.5, 4.4, 4.0, 4.2, 4.3, 4.2, 4.6, 4.6, 4.7, 4.6, 4.4, 4.5, 4.3, 4.6, 4.5, 4.2, 4.2, 4.7, 4.5, 4.6, 4.3, 4.2, 4.7, 4.7, 4.4, 4.5, 4.4, 4.0, 4.6, 4.4, 4.7, 4.7, 4.3, 4.1, 4.2, 4.3, 4.3, 4.3, 4.0, 4.2, 4.0, 4.0, 3.8, 4.6, 4.1, 3.9, 4.1, 4.5, 4.2, 4.4, 4.7, 4.0, 4.4, 4.4, 4.0, 4.5, 4.7, 4.3, 4.5, 4.3, 4.1, 4.3, 4.5, 4.2, 4.6, 3.5, 4.2, 4.4, 4.4, 4.6, 4.3, 4.5, 4.8, 4.4, 4.1, 4.9, 4.7, 4.7, 4.7, 4.4, 4.0, 4.2, 4.3, 4.5, 3.5, 4.2, 3.1, 4.6, 4.2, 4.3, 4.3, 4.1, 3.8, 3.4, 4.3, 4.4, 4.4, 4.0, 3.7, 3.9, 4.5, 4.4, 4.3, 4.2, 4.2, 4.5, 4.7, 4.5, 4.5, 3.4, 4.2, 4.3, 4.2, 4.6, 4.1, 4.2, 4.2, 4.3, 4.4, 3.9, 4.1, 4.3, 4.5, 4.6, 3.6, 4.3, 4.3, 4.2, 4.4, 4.1, 4.1, 4.2, 3.9, 4.2, 3.7, 4.5, 3.7, 3.8, 4.3, 3.0, 4.1, 4.2, 4.1, 3.9, 4.0, 4.4, 4.2, 4.0, 3.9, 4.0, 4.2, 4.0, 4.3, 3.9, 4.2, 4.4, 4.3, 3.7, 4.3, 3.7, 3.8, 4.2, 4.0, 3.9, 4.4, 4.5, 4.1, 4.1, 3.9, 4.5, 4.0, 4.1, 3.6, 3.8, 4.0, 4.2, 3.7, 3.8, 3.7, 4.1, 3.7, 3.9, 4.4, 4.3, 3.9, 3.7, 3.7, 4.2, 4.3, 4.0, 4.1, 3.9, 4.5, 3.9, 4.1, 4.3, 4.4, 4.1, 4.0, 3.9, 3.9, 4.0, 4.1, 4.2, 3.8, 4.0, 3.9, 4.2, 3.7, 3.9, 4.2, 4.3, 4.3, 4.6, 4.3, 4.6, 4.2, 4.6, 4.5, 4.6, 3.9, 4.2, 4.4, 4.2, 4.3, 4.6, 4.3, 4.5, 4.0, 4.0, 4.5, 4.5, 4.0, 4.0, 4.2, 4.4, 4.6, null, 4.6, 4.1, 4.6, 4.4, 4.6, 4.9, 4.5, 4.6, 4.7, 4.3, null, null, 4.2, 4.3, 5.0, 4.4, 5.0, 4.5, null, null, null, 4.5, 4.8, 4.4, 5.0, null, 3.7, null, 4.1, null, 4.8, null, null, 4.6, 4.4, 4.4, 3.6, 3.7, 3.8, 4.2, 4.2, 4.2, 3.3, 3.4, 4.3, 4.2, 4.7, 4.1, 4.7, 4.0, 3.6, 4.0, 3.6, 4.3, 4.2, 4.2, 4.1, 4.0, 4.1, 4.4, 4.7, 4.5, 4.3, 4.6, 4.3, 4.0, 4.5, 4.5, 3.6, 4.2, 4.1, 3.5, 4.4, 4.0, 4.5, 4.2, 4.6, 4.2, 4.8, 4.5, 4.2, 4.3, 4.2, 4.4, 4.4, 4.6, 4.2, 4.6, 4.6, 4.4, 4.3, 4.2, 4.2, 3.8, 4.5, 4.6, 4.6, 4.7, 4.6, 4.6, 4.7, 3.8, 4.3, 4.3, 4.5, 4.6, 4.6, 4.7, 4.5, 4.4, 3.9, 4.5, 4.6, 4.1, 4.5, 4.4, 4.5, 4.6, 4.2, 4.4, 4.1, 3.9, 4.6, 4.5, 3.7, 4.1, 4.4, 4.6, 4.5, 4.3, 4.3, 4.3, 4.4, 4.3, 4.4, 4.3, 4.4, 4.1, 4.4, 4.2, 4.3, 4.4, 4.3, 4.3, 3.9, 4.1, 4.1, 4.2, 4.5, 4.2, 4.7, 4.4, 4.6, 4.6, 4.4, 4.6, 4.3, 4.0, 4.4, 4.6, 4.2, 4.1, 3.6, null, 4.1, 4.6, null, 4.7, 4.7, 4.7, 4.7, 4.1, 3.4, 3.8, 3.7, 4.2, 3.1, 3.5, 4.7, 4.5, 4.2, 4.3, 4.0, 4.5, 4.6, 4.7, 4.1, 4.3, 3.8, 4.4, 4.3, 4.2, 4.3, 3.8, 4.3, 3.7, 4.5, 3.6, 4.8, 3.3, 4.7, 4.6, 4.6, 3.4, 4.6, 4.0, 4.1, 4.5, 4.4, 4.5, 4.0, 4.1, 4.5, 4.6, 4.1, 4.5, 4.6, 4.5, 4.3, 3.6, 4.4, 4.6, 4.1, 4.3, 3.9, 4.5, 4.1, 3.6, 4.7, 4.3, 4.7, 4.6, 4.4, 4.2, 4.5, 4.3, 4.2, 4.5, 4.5, 4.3, 4.0, 4.3, 4.8, 4.0, 4.9, 4.8, 4.9, 4.8, 4.4, 3.3, 4.7, 4.6, 4.8, 4.8, 4.8, 4.5, 4.4, 4.5, 4.5, 4.5, 4.8, 3.9, 4.6, 4.5, 4.5, 4.7, 4.7, 4.4, 4.2, 3.9, 4.2, 4.4, 4.6, 4.6, 4.2, 4.5, 4.7, 4.5, 4.5, 3.7, 4.5, 4.6, 4.6, 4.7, 4.5, 4.5, 4.6, 4.0, 4.3, 4.4, 4.5, 4.2, 4.6, 4.9, 4.5, 4.5, 4.6, 4.5, 4.6, 4.6, 4.5, 4.5, 4.4, 3.9, 4.5, 4.4, 4.6, 4.4, 4.5, 4.5, 4.6, 4.5, 4.4, 4.4, 4.4, 4.2, 4.5, 4.5, 4.4, 4.3, 4.6, 4.6, 4.9, 4.4, 4.3, 4.1, 4.6, 4.8, 4.5, 4.7, 4.6, 4.3, 4.4, 4.4, 4.6, 4.3, 4.6, 4.6, 4.5, 4.6, 4.6, 4.5, 4.1, 4.5, 4.6, 4.5, 4.8, 4.8, 4.6, 4.5, 4.1, 4.4, 4.2, 4.5, 4.3, 4.6, 4.0, 4.6, 4.5, 4.4, 4.5, 4.6, 4.4, 4.7, 4.4, 4.2, 4.5, 4.2, 4.4, 4.5, 4.6, 4.6, 4.6, 4.5, 4.5, 4.4, 4.4, 4.5, 4.5, 4.0, 4.6, 4.1, 4.0, 4.4, 4.4, 4.1, 3.5, 4.3, 4.5, 4.2, 4.6, 4.4, 4.5, 4.0, 4.5, 4.6, 4.4, 4.4, 4.1, 4.0, 4.1, 4.1, 4.2, 4.5, 3.5, 4.3, 4.2, 4.6, 4.4, 4.5, 4.4, 3.7, 4.3, 4.5, 4.6, 4.7, 4.6, 4.6, 4.0, 4.4, 4.4, 4.8, 4.6, 4.2, 4.6, 4.1, 4.4, 4.5, 4.3, 4.7, 4.6, 4.4, 4.5, 4.8, 4.2, 4.5, 4.1, 4.1, 4.0, 4.3, 4.5, null, 4.6, 3.7, 3.7, 4.2, 4.5, 4.3, 3.9, 4.6, 4.3, 4.4, 4.6, 4.5, 3.8, null, 4.4, 4.7, 3.4, 4.3, 4.3, 4.0, 4.0, 3.8, null, 4.3, 3.6, 3.8, 4.5, 4.6, null, 4.5, 4.7, 4.3, 3.7, null, 4.2, 3.4, 3.9, 4.0, 4.0, 4.0, 4.6, 4.0, 4.1, 3.9, 4.4, 4.4, 4.3, 4.6, 4.5, 4.5, 4.5, 4.5, 4.3, 4.2, 4.4, 4.3, 4.6, 4.1, 3.9, 4.4, 4.6, null, 4.1, null, null, 3.8, 4.6, 3.5, 4.7, 4.3, 4.5, 4.4, 3.4, 4.3, null, 4.3, 4.6, 4.6, null, 4.2, null, null, 4.6, null, null, 4.4, 3.9, 4.5, 3.8, 4.3, 3.7, 5.0, 3.2, 4.5, 4.7, 4.0, null, 4.1, 3.8, 4.7, 4.5, null, 4.2, null, 4.1, 3.1, 4.1, 4.1, 4.3, 4.0, 4.6, 4.4, 4.4, 4.3, 4.6, 3.2, 4.5, 4.6, 4.6, 4.3, 3.0, 4.4, 4.4, 4.3, 3.5, 4.3, 4.5, 3.7, 4.5, 4.2, 4.3, 4.6, 4.5, 3.9, 4.3, 3.3, 4.7, 4.2, 3.2, 4.4, 3.5, 3.7, 3.8, 3.8, 3.7, 4.6, 4.0, 3.6, 3.8, 4.1, 4.7, 3.9, 4.1, 4.6, 4.2, 3.6, 4.6, 4.2, 4.4, 4.6, 4.7, 4.1, 3.9, 4.0, 4.1, 4.6, 4.1, 4.1, 4.1, 4.4, 3.8, 4.3, 4.1, 4.1, 4.1, 4.4, 3.8, 4.3, 4.4, 4.2, 4.4, 4.3, 4.1, 4.0, 4.2, 4.1, 3.9, 4.4, 4.6, 4.5, 4.5, 4.8, 4.4, 4.5, 4.5, 4.6, 4.5, 4.5, 4.5, 4.4, 4.7, 4.5, 4.2, 4.4, 4.6, 4.3, 4.3, 4.2, 4.6, 4.4, 4.4, 4.5, 4.4, 4.3, 4.6, 4.3, 4.2, 4.2, 4.5, 4.5, 4.5, 4.7, 4.7, 4.5, 4.4, 4.3, 3.8, 4.6, 4.6, 4.4, 4.3, 4.1, 4.3, 4.4, 4.6, 4.3, 4.4, 4.7, 4.5, 4.4, 4.6, 4.5, 4.4, 4.6, 4.5, 4.5, 4.3, 4.5, 4.6, 4.4, 4.4, 4.5, 4.7, 4.6, 4.5, 4.5, 4.7, 4.5, 4.8, 4.7, 4.4, 4.6, 4.5, 4.6, 4.7, 4.6, 4.5, 4.6, 4.5, 4.6, 4.4, 4.7, 4.3, 4.3, 4.4, 4.3, 4.5, 4.4, 4.5, 4.4, 4.5, 4.6, 4.7, 4.6, 4.4, 4.4, 4.5, 4.6, 4.3, 4.5, 4.5, 4.4, 4.5, 4.2, 4.5, 4.4, 4.7, 4.2, 4.5, 4.5, 4.6, 4.4, 4.5, 4.3, 4.3, 4.5, 4.7, 4.7, 4.1, 4.8, 4.4, 4.2, 4.4, 4.7, 4.3, 4.7, 4.2, 4.3, 4.4, 4.1, 4.1, 4.2, 4.5, 4.7, 4.6, 4.5, 3.1, 4.1, 3.4, 4.4, 4.3, 4.6, 4.4, 4.3, 4.6, 4.2, 4.2, 4.5, 4.4, 4.2, 4.5, 4.8, 4.4, 4.6, 4.5, 4.3, 4.6, 4.4, 4.4, 4.5, 4.6, 4.6, 4.6, 4.1, 4.5, 4.6, 4.4, 4.7, 4.6, 4.3, 4.5, 4.6, 4.2, 4.5, 4.8, 4.1, 4.3, 4.4, 4.0, 4.2, 4.0, 4.2, 4.5, 4.7, 4.2, 4.4, 4.6, 4.9, 4.4, 4.5, 4.6, 4.2, 4.5, 4.6, 4.6, 4.5, 4.4, 4.6, 4.5, 4.6, 4.4, 4.4, 4.3, 4.3, 4.6, 4.3, 4.3, 4.6, 4.5, 4.5, 4.2, 4.7, 4.3, 4.0, 4.4, 4.3, 4.6, 4.7, 4.4, 4.7, 4.4, 4.3, 4.2, 4.4, 4.5, 4.5, 4.5, 4.4, 4.3, 4.5, 4.7, 4.7, 4.6, 4.6, 4.4, 4.4, 4.7, 4.6, 4.5, 4.3, 4.3, 4.3, 4.6, 4.8, 4.5, 4.4, 4.5, 4.5, 4.6, 4.6, 4.6, 4.6, 4.7, 4.5, 4.5, 4.5, 4.6, 4.5, 4.4, 4.4, 4.6, 4.7, 4.5, 4.4, 4.6, 4.7, 4.6, 4.5, 4.4, 4.5, 4.3, 4.5, 4.2, 4.5, 4.3, 4.4, 4.7, 4.6, 4.7, 4.6, 4.4, 4.6, 4.5, 4.3, 4.5, 4.5, 4.6, 4.6, 4.3, 4.6, 4.5, 4.7, 4.5, 4.7, 4.7, 4.6, 4.4, 4.3, 4.5, 4.3, 4.4, 4.2, 4.3, 4.5, 4.4, 4.7, 4.2, 4.1, 4.5, 4.5, 4.5, 4.1, 4.3, 4.5, 4.4, 4.5, 4.6, 4.0, 4.3, 4.5, 4.4, 4.4, 4.6, 4.2, 4.5, 4.6, 4.5, 4.7, 4.5, 4.5, 4.5, 4.4, 4.6, 4.3, 4.4, 4.3, 4.7, 4.7, 4.4, 4.3, 4.4, 4.5, 4.5, 4.4, 4.4, 4.6, 4.6, 4.4, 4.6, 4.2, 4.4, 4.6, 4.6, 4.7, 4.5, 4.2, 4.6, 4.7, 4.6, 4.3, 4.6, 4.4, 4.4, 4.5, 4.2, 4.4, 4.3, 4.7, 4.5, 4.4, 4.5, 4.4, 4.4, 4.5, 4.6, 4.5, 4.3, 4.7, 4.4, 4.5, 4.2, 4.5, 4.5, 4.7, 4.4, 4.3, 4.6, 3.9, 4.2, 4.5, 4.3, 4.5, 4.4, 4.4, 4.8, 4.4, 4.4, 4.3, 4.6, 4.1, 4.5, 4.5, 4.5, 4.0, 4.5, 4.6, 4.5, 4.5, 4.5, 4.4, 4.7, 4.5, 4.5, 4.2, 4.3, 4.5, 4.2, 4.3, 4.4, 4.6, 4.6, 4.5, 4.2, 4.5, 4.6, 4.6, 4.1, 4.5, 4.6, 4.6, 4.5, 4.3, 3.8, 4.5, 4.1, 4.8, 3.9, 4.5, 4.4, 4.3, 4.2, 3.0, 4.5, 4.4, 4.5, 4.7, 4.1, 4.5, 4.5, 4.5, 4.6, 4.3, 4.3, 4.5, 4.2, 4.2, 4.4, 4.5, 4.1, 4.2, 4.1, 4.7, 4.3, 4.4, 4.4, null, 4.3, 4.4, 4.3, 4.3, 4.2, 4.2, 4.3, 4.3, 4.1, 4.2, 4.5, 4.3, 4.3, 4.5, 4.1, 4.5, 4.2, 4.4, 4.0, 4.1, 4.3, 4.3, 4.4, 4.3, 4.1, 4.0, 4.3, 4.6, 4.3, 4.7, 4.3, 4.4, 4.2, 4.7, 3.9, 4.1, 4.1, 4.1, 4.2, 4.7, 4.4, 4.3, 4.5, 4.3, 4.3, 4.1, 4.1, 4.1, 4.6, 4.1, 4.4, 4.4, 4.3, 4.0, 4.8, 3.8, 4.7, 4.5, 4.8, 4.4, 4.8, 4.2, 4.2, 4.0, 4.7, 4.7, 3.9, 4.5, 4.1, 4.4, 3.9, 4.4, 4.4, 3.6, 4.4, 4.1, 3.6, 4.6, 4.3, 4.5, 4.4, 4.1, 4.4, 3.9, 4.4, 4.4, 3.6, 4.4, 4.1, 3.6, 4.6, 4.3, 4.5, 4.4, 4.5, 4.1, 4.5, 4.1, 3.9, 4.2, 4.1, 3.9, 4.1, 4.2, 4.7, 3.8, 4.3, 4.3, 4.3, 3.9, 4.3, 4.0, 4.0, 4.3, 4.2, 4.1, 4.0, 4.4, 4.3, 4.3, 4.4, 4.2, 4.1, 4.3, 4.2, 4.6, 4.1, 4.5, 4.4, 4.5, 4.3, 4.2, 4.4, 4.6, 4.5, 4.8, 4.5, 3.2, 4.6, 4.5, 4.1, 4.6, 4.5, 4.4, 4.4, 4.4, 3.8, 4.6, 2.5, 4.0, 5.0, 4.3, 3.4, null, 3.4, 4.3, 4.4, 4.4, 4.2, 5.0, 4.1, 3.9, 4.6, 4.2, 4.4, 4.2, 3.6, 4.5, null, 4.7, 4.6, 4.5, 4.2, 4.2, 4.3, 4.4, 4.1, 4.4, 4.6, 4.4, 4.2, 4.5, null, 2.6, 4.6, 4.8, 4.2, 4.7, 3.0, 3.5, 4.6, 4.8, 4.2, 4.6, 4.4, 4.8, 4.0, 3.7, 4.2, 4.8, 4.7, 3.5, 3.9, 4.2, 4.8, 2.7, 4.2, 4.7, 4.6, 4.5, 4.7, 4.7, 4.5, 4.7, 4.0, 3.4, 3.5, 3.0, 4.7, 4.6, 4.2, 4.8, 4.5, 4.2, 3.8, 3.0, 4.4, 4.5, 4.0, 3.6, 4.4, 4.7, 4.9, 3.6, 4.5, 4.1, 4.6, 4.7, 4.7, 2.8, 4.3, 4.6, 4.3, 3.4, null, 4.0, 4.8, 4.2, 3.0, 4.5, 3.7, 4.5, 4.5, 4.6, 4.2, 4.6, 3.6, 4.4, 4.4, 4.5, 4.5, 4.1, 4.6, 4.3, 4.3, 4.7, 4.5, 4.5, 4.5, 4.2, 4.4, 3.9, 4.2, 4.4, 4.1, 3.4, 4.1, 4.0, null, 4.1, 3.5, 4.2, 4.0, 4.5, 4.3, 4.3, 4.8, 4.6, 4.1, 4.6, 3.5, 2.3, 4.5, 4.3, 4.2, 4.2, 3.1, 4.4, 4.4, 2.9, 3.1, 3.7, 4.0, 3.8, 4.6, 4.4, 3.8, null, 4.8, 4.3, null, null, null, null, 3.7, 5.0, 3.0, 3.7, null, null, null, null, null, null, null, null, null, null, null, null, null, null, 3.7, 5.0, null, null, 5.0, null, 5.0, null, 5.0, null, 5.0, 5.0, null, 5.0, 5.0, 5.0, null, null, null, 4.3, 4.9, null, null, null, null, null, null, null, 5.0, null, null, 4.9, 4.6, 5.0, null, null, null, null, 4.0, null, 5.0, null, 4.0, 2.6, 4.7, 4.8, 4.3, 4.7, 2.5, 4.6, 4.5, 4.1, 4.5, 4.3, null, 3.8, 4.4, null, null, null, 4.5, 4.5, 3.8, 4.5, 4.0, 4.5, 3.7, 4.3, 3.7, null, 4.4, 3.8, null, 2.7, 5.0, 4.3, 3.8, 3.0, 5.0, 3.6, 4.0, 4.3, 4.7, 5.0, 4.7, null, 4.6, 3.1, 4.4, 5.0, 3.6, 2.8, 4.4, 4.2, 4.6, 4.2, null, 3.8, 3.5, 4.7, 4.1, 4.5, 4.3, 4.4, 4.4, 4.2, 4.0, 4.3, 4.6, 4.4, 4.2, 4.4, 4.4, 4.3, 4.6, 4.4, 4.5, 4.6, 4.6, 4.6, 4.4, 4.5, 4.5, 4.3, 4.4, 4.6, 4.3, 4.8, 4.2, 4.6, 4.0, 4.6, 4.3, 3.6, 4.0, 4.5, 4.4, 4.5, 4.2, 4.5, 4.3, 4.2, 4.2, 4.4, 4.3, 4.3, 4.1, 4.5, 4.3, 4.2, 4.1, 4.3, 4.2, 4.1, 4.1, 4.4, 3.7, 3.9, 3.7, 4.0, 4.5, 3.6, 4.1, 4.1, 4.0, 4.1, 4.0, 4.5, 4.6, 4.3, 4.3, 4.2, 4.5, 4.2, 4.3, 4.1, 3.8, 4.2, 4.4, 4.3, 4.2, 4.1, 4.0, 4.3, 4.3, 4.2, 4.2, 4.0, 4.4, 4.0, 4.2, 4.2, 4.4, 4.1, 4.1, 4.3, 4.0, 4.2, 4.2, 4.2, 4.1, 4.0, 4.3, 4.3, 4.4, 4.4, 4.2, 4.2, 4.0, 4.2, 4.0, 4.5, 4.6, 4.3, 4.2, 4.3, 4.6, 4.4, 4.4, 4.5, 4.3, 4.2, 4.2, 4.4, 4.6, 4.2, 3.6, 4.5, 4.4, 3.8, 4.7, 3.6, 4.2, 3.6, 4.3, 4.4, 4.5, 4.1, 4.3, 4.3, 4.7, 4.3, 4.2, 4.2, 4.3, 4.2, 4.3, 4.6, 4.4, 4.3, 3.8, 4.6, 4.5, 4.1, 4.4, 4.3, 3.8, 4.0, 3.3, 4.1, 4.1, 4.2, 4.1, 4.4, 4.1, 4.2, 4.5, 4.3, 4.5, 4.1, 4.5, 4.4, 4.6, 4.5, 4.6, 4.7, 4.3, 4.4, 4.4, 4.2, 4.1, 4.1, 4.5, 4.7, 4.1, 4.2, 4.5, 4.4, 4.6, 4.2, 4.6, 4.3, 4.1, 4.1, 4.4, 4.1, 4.6, 4.2, 4.2, 4.1, 4.2, 4.3, 4.2, 4.5, 4.7, 4.5, 4.3, 4.0, 4.4, 4.4, 4.0, 4.5, 4.6, 4.1, 4.5, 3.9, 4.5, 4.2, 4.3, 4.3, 4.4, 4.5, 4.6, 4.4, 4.3, 4.3, 4.1, 4.7, 4.4, 4.2, 4.4, 4.2, 4.2, 4.1, 4.0, 4.1, 4.5, 4.6, 4.3, 4.6, 4.4, 4.0, 4.5, 4.1, 4.4, 4.0, 4.6, 4.5, 4.4, 4.5, 4.1, 4.3, 4.5, 4.2, 3.8, 4.5, 4.7, 4.1, 4.6, 4.8, 4.0, 4.7, 4.7, 4.1, 4.5, 3.6, 4.5, 4.7, 4.7, 4.5, 4.2, 4.5, 4.4, 4.5, 4.5, 4.4, 3.7, 4.3, 4.5, 4.4, 3.3, 4.3, 4.4, 4.5, 4.4, 4.2, 4.5, 4.7, 4.5, 4.6, 4.6, 4.4, 4.3, 4.3, 4.6, 4.4, 4.5, 4.5, 4.2, 4.0, 4.4, 4.7, 4.3, 4.6, 4.4, 4.5, 4.3, 4.3, 4.4, 4.5, 4.4, 4.6, 4.3, 4.6, 4.3, 4.4, 4.2, 4.3, 4.4, 3.9, 4.3, 4.4, 4.2, 4.5, 4.3, 4.3, 4.3, 4.1, 4.4, 4.3, 4.0, 4.0, 4.0, 4.4, 4.3, 4.1, 4.2, 3.9, 4.4, 4.4, 4.5, 4.4, 4.6, 4.3, 4.6, 4.1, 4.0, 4.3, 4.2, 4.0, 4.1, 4.1, 4.0, 4.3, 4.3, 4.2, 4.5, 4.0, 4.4, 4.1, 4.4, 4.3, 4.3, 4.2, 4.3, 4.4, 4.4, 4.3, 4.4, 3.8, 4.4, 4.4, 4.3, 4.6, 4.0, 4.1, 4.2, 4.3, 4.6, 4.6, 4.3, 4.2, 4.1, 4.2, 4.6, 4.6, 4.4, 4.7, 4.4, 4.1, 4.3, 4.4, 4.2, 4.4, 4.5, 4.2, 3.8, 4.3, 4.4, 4.6, 4.4, 4.5, 4.2, 4.5, 4.5, 4.3, 4.4, 4.2, 4.1, 4.3, 4.0, 4.6, 4.3, 4.4, 4.5, 4.2, 4.3, 4.4, 4.2, 4.1, 4.4, 4.7, 4.6, 4.2, 4.3, 4.3, 4.5, 4.6, 4.5, 4.4, 4.7, 4.2, 4.3, 4.2, 3.9, 3.9, 4.2, 4.3, 4.6, 4.3, 4.0, 4.0, 4.0, 4.6, 4.3, 4.2, 4.3, 4.4, 4.0, 4.6, 4.7, 4.3, 4.0, 4.5, 4.7, 4.4, 4.8, 3.3, 4.3, 3.9, 4.4, 3.9, 4.4, 4.3, 4.4, 4.2, 4.2, 4.1, 4.4, 4.0, 4.4, 4.3, 4.1, 4.0, 4.2, 4.2, 4.3, 3.1, 4.1, 2.9, 4.0, 4.5, 4.3, 4.1, 4.3, 4.5, 4.6, 4.4, 4.2, 4.3, 3.4, 4.6, 4.2, 4.4, 4.0, 4.1, 4.0, 4.6, 4.2, 4.5, 4.4, 4.0, 3.5, 4.0, 4.2, 4.0, 4.4, 4.8, 4.1, 4.6, 4.3, 4.4, 4.3, 4.6, 4.5, 4.3, 4.2, 4.4, 4.2, 4.4, 4.3, 4.5, 4.5, 4.1, 4.0, 4.7, 4.6, 4.2, 4.2, 4.1, 4.1, 3.5, 4.5, 3.9, 4.6, 4.0, 4.4, 4.2, 4.2, 4.6, 4.5, 4.4, 4.5, 4.4, 4.3, 4.2, 4.3, 4.5, 4.0, 4.2, 4.1, 3.9, 4.2, 4.0, 3.5, 4.0, 4.0, 4.5, 4.1, 4.2, 4.4, 4.4, 4.1, 4.3, 4.5, 4.5, 4.4, 4.5, 4.7, 4.4, 4.1, 4.4, 4.4, 4.3, 4.2, 4.0, 4.7, 4.3, 4.6, 3.9, 3.6, 4.0, 4.1, 4.2, 3.9, 4.1, 4.3, 3.1, 3.7, 3.4, 4.4, 3.6, 4.4, 3.3, 3.7, 3.0, 3.6, 4.8, 3.9, 3.8, 4.3, 4.5, 3.4, 3.7, 4.5, 4.4, 4.1, 4.5, 4.0, 3.9, 4.4, 4.8, 4.7, 4.3, 3.7, 4.2, 3.5, 4.3, 4.7, 4.3, 4.1, 3.1, 4.3, 4.1, 4.2, 4.3, 4.4, 4.3, 4.3, 4.4, 3.5, 4.1, 4.6, 4.4, 4.2, 3.9, 4.2, 4.4, 4.4, 4.4, 4.4, 3.7, 4.4, 4.5, 3.7, 4.4, 3.7, 4.4, 4.5, 3.6, 4.4, 4.0, 4.1, 4.4, 4.4, 4.3, 4.4, 4.2, 4.2, 4.1, 4.3, 4.5, 4.4, 4.5, 4.3, 4.2, 4.5, 4.7, 4.4, 4.4, 4.4, 4.4, 4.1, 4.6, 4.4, 4.1, 4.5, 4.5, 4.4, 4.3, 4.5, 4.2, 4.2, 4.2, 4.5, 4.7, 4.0, 4.2, 4.2, 4.1, 4.4, 4.4, 4.2, 4.2, 4.1, 4.5, 4.6, 4.1, 4.3, 4.2, 4.1, 4.0, 4.6, 3.1, 4.6, 4.5, 3.2, 4.3, null, 4.6, 4.4, 4.6, 4.5, 4.6, null, 4.4, 4.2, 4.4, 3.1, 3.6, 4.1, 4.2, 3.5, 3.9, 3.0, 3.9, 4.5, 3.4, 4.4, 3.4, 4.3, 3.7, 3.5, 3.8, 3.6, 3.1, 3.8, 4.2, 4.0, 4.3, 4.3, 4.5, 4.5, 4.5, 4.4, 4.4, 4.3, 4.2, 4.7, 4.4, 4.3, 4.4, 4.3, 4.5, 4.7, 4.5, 4.6, 4.7, 4.6, 4.8, 3.9, 4.5, 4.6, 4.5, 4.4, 4.5, 4.0, 4.3, 4.0, 4.4, 4.1, 4.3, 4.1, 4.3, 4.2, 4.2, 4.2, 4.2, 4.3, 4.5, 4.4, 4.5, 4.2, 4.1, 4.4, 4.5, 4.3, 4.4, 4.1, 4.4, 4.2, 4.1, 4.6, 4.5, 4.3, 4.1, 4.1, 4.2, 4.1, 4.6, 4.5, 4.0, 3.5, 4.4, 4.4, 4.4, 4.1, 4.2, 4.6, 4.4, 4.6, 4.6, 4.5, 4.7, 4.4, 4.5, 4.6, 4.6, 4.0, 4.6, 4.5, 4.7, 4.7, 4.4, 4.3, 4.7, 4.1, 4.7, 4.4, 4.6, 4.5, 4.4, 4.4, 4.3, 4.3, 4.6, 4.7, 4.3, 4.5, 4.6, 4.4, 4.5, 4.7, 4.3, 3.7, 4.7, 4.5, 4.4, 4.3, 4.8, 4.6, 4.1, 4.7, 4.1, 4.6, 4.2, 4.3, 4.2, 4.0, 4.2, 3.9, 4.3, 4.1, 4.2, 4.4, 4.3, 4.3, 4.4, 4.3, 4.1, 4.2, 4.1, 4.1, 4.2, 4.1, 4.4, 4.1, 4.3, 4.6, 4.1, 4.6, 4.6, 4.2, 4.1, 4.2, 4.5, 4.3, 4.2, 4.0, 4.2, 4.2, 4.6, 4.3, 4.4, 4.4, 4.4, 4.3, 4.3, 4.6, 4.5, 4.1, 4.3, 4.4, 4.2, 4.2, 4.1, 4.5, 4.7, 4.3, 4.4, 4.4, 3.8, 4.4, 4.3, 4.2, 4.5, 3.2, 4.5, 4.2, 4.4, 4.7, 4.4, 4.0, 4.4, 4.0, 4.6, 4.5, 4.2, 4.0, 4.4, 4.5, 3.9, 4.2, 4.3, 4.2, 4.2, 4.4, 4.7, 4.6, 3.1, 4.4, 4.1, 4.5, 4.6, 4.3, 3.9, 4.5, 4.3, 3.7, 4.5, 4.4, 4.0, 4.0, 4.4, 4.7, 4.6, 4.2, 4.5, 4.6, 4.0, 4.5, 4.4, 4.3, 4.4, 4.5, 4.5, 4.6, 4.4, 4.6, 4.3, 4.6, 4.5, 4.3, 4.1, 4.2, 4.2, 4.6, 4.2, 4.5, 4.4, 4.3, 4.2, 4.3, 4.5, 4.3, 4.3, 4.5, 4.5, 4.4, 4.2, 4.2, 4.6, 4.4, 4.3, 4.6, 4.2, 4.2, 4.2, 4.0, 4.3, 4.6, 4.4, 4.6, 4.6, 4.5, 4.5, 4.4, 4.3, 4.0, 4.2, 4.2, 4.5, 4.0, 4.2, 4.4, 4.6, 4.3, 4.6, 4.2, 4.4, 4.6, 4.4, 4.6, 4.4, 4.1, 4.4, 4.4, 4.1, 4.3, 4.1, 4.1, 4.5, 3.9, null, 3.8, null, null, 4.6, 4.7, null, 4.0, null, 4.7, 4.1, 3.7, null, 4.1, 3.7, 4.6, 4.4, 4.6, 4.1, 4.4, 4.7, 4.4, null, 4.8, 4.0, 4.9, null, 4.8, 4.4, 4.7, 4.2, 4.6, 4.6, 4.5, 4.6, 4.1, 3.8, 4.8, 4.8, null, 4.5, 4.0, 4.4, 4.7, null, 3.9, 4.4, 4.4, 4.5, 4.4, 4.8, 4.4, 4.8, 4.5, 4.7, 4.5, 3.5, 4.4, 4.3, 4.4, 4.2, 4.6, 4.4, 4.4, 3.9, 4.3, 4.5, 4.2, 3.7, 4.2, 3.9, 3.6, 4.5, 4.3, 4.3, 4.2, 4.6, 4.5, 4.5, 4.2, 3.9, 4.8, 3.8, 4.5, 4.5, 4.2, 4.0, 4.2, 4.3, 4.3, 4.2, 4.3, 3.6, 3.9, 4.8, 3.9, 3.7, 4.6, 4.4, 4.4, 4.2, 4.1, 3.8, 4.4, 4.5, 4.6, 4.7, 4.3, 4.5, 4.3, 3.7, 3.9, 3.6, 4.5, 4.4, 3.8, 4.6, 4.2, 4.3, 3.8, 4.4, 3.1, 4.6, 4.1, 4.5, 4.0, 4.5, 4.3, null, 3.7, 3.9, 3.5, 3.3, 4.3, 4.5, 4.1, 4.4, 4.4, 4.5, 4.4, 4.3, 4.5, 4.3, 4.6, 4.1, 4.2, 3.5, 4.0, 3.8, 4.3, 4.3, 4.1, 4.3, 4.5, 4.4, 4.0, 4.1, 4.6, 4.3, 3.9, 4.5, 4.7, 4.3, 4.5, 3.1, 4.7, 3.8, 4.0, 4.2, 4.0, 4.2, 3.4, 4.6, 4.5, 4.0, 4.4, 4.2, 4.1, 4.4, 4.0, 3.7, 4.6, 4.5, 4.6, 4.5, 3.9, 4.3, 4.4, 3.9, 4.3, 4.4, 4.4, 3.6, 4.5, 3.6, 4.1, 4.4, 4.1, 4.2, 4.7, 3.9, 3.9, 4.4, 4.3, 4.6, 4.0, 4.3, 4.2, 4.5, 4.3, 4.0, 4.1, 4.6, 4.1, 4.5, 4.0, 4.2, 4.3, 4.2, 4.3, 4.2, 4.0, 4.2, 4.3, 4.0, 4.5, 4.3, 4.3, 3.9, 4.0, 4.1, 4.1, 4.1, 4.0, 4.0, 4.5, 4.1, 3.9, 4.2, 3.9, 4.5, 4.3, 4.4, 4.6, 4.2, 4.1, 4.4, 4.4, 4.2, 4.5, 4.2, 4.4, 4.4, 4.0, 4.3, 4.4, 4.2, 4.3, 4.1, 4.4, 4.3, 4.4, 4.2, 4.7, 4.3, 4.5, 3.7, 4.3, 4.2, 4.1, 4.5, 4.8, 4.3, 4.7, 4.3, 4.2, 3.7, 4.6, 4.5, 4.3, 4.5, 4.2, 4.2, 4.3, 4.3, 4.4, 3.7, 4.4, 4.4, 4.2, 3.5, 4.2, 4.2, 4.0, 4.5, 4.2, 3.9, 4.3, 3.7, 4.3, 4.3, 4.6, 4.3, 4.2, 4.6, 3.9, 4.4, 4.6, 4.1, 4.8, 4.3, 4.5, 4.4, 4.4, 3.3, 4.2, 3.8, 4.5, 4.3, 4.5, 3.7, 4.5, 4.1, 4.4, 3.7, 4.1, 4.8, 4.4, 4.3, 4.1, 4.4, 4.1, 4.5, 4.5, 4.5, 4.5, 4.2, 4.4, 4.5, 4.3, 3.8, 4.5, 3.7, 4.5, 4.5, 4.3, 4.6, 4.3, 4.4, 4.3, 4.3, 4.3, 4.3, 4.3, 4.4, 4.2, 4.9, 4.5, 4.6, 4.6, 4.6, 3.4, 3.8, 4.4, 4.7, 4.6, 4.1, 3.8, 4.4, 4.4, 3.9, 4.1, 4.5, 3.7, 4.4, 4.5, 4.5, 3.8, 3.1, 4.5, 5.0, 4.4, null, 4.3, 2.9, 3.1, 3.3, 4.1, 4.6, 4.4, 4.5, 4.3, 4.3, 4.5, 4.5, 2.2, 4.5, 4.2, 4.5, 4.6, 3.9, 4.1, 3.3, 4.5, 4.1, 4.8, 4.1, 4.5, null, 4.6, 4.6, 4.3, 4.1, 4.5, 4.3, 4.4, 4.7, 4.4, 4.4, 4.3, 4.2, 4.2, 4.6, 4.5, 4.6, 4.7, 4.8, 4.7, 4.7, 1.7, 4.5, 4.0, 3.6, 2.0, 4.7, 4.1, 4.3, 4.3, 4.5, 4.4, 4.4, 4.6, 3.7, 4.5, 4.0, 4.8, 4.0, 4.7, 4.8, 4.6, 4.3, 4.2, 4.8, 4.2, 4.6, 4.2, 4.5, 4.6, 4.5, 4.5, 4.3, 4.8, 4.6, 4.5, 4.3, 4.2, 4.4, 4.5, 4.2, 4.6, 4.6, 4.4, 4.5, 4.5, 4.6, 4.5, 4.4, 4.1, 4.4, 4.6, 4.6, 4.5, 4.5, 4.3, 4.3, 3.3, 3.7, 4.5, 4.4, 3.1, 4.0, 4.4, 4.2, 3.9, 4.4, 4.6, 4.8, 4.4, 3.9, 4.5, 3.6, 3.4, 4.7, 4.4, 4.4, 4.5, 4.2, 4.6, 4.3, 4.3, 4.3, 4.6, 4.4, 4.5, 4.5, 4.0, 4.3, 4.5, 4.1, 4.3, 4.0, 4.3, 4.6, 4.2, 4.4, 4.5, 4.3, 4.0, 4.3, 4.4, 4.6, 4.4, 4.3, 4.2, 4.3, 4.3, 4.6, 3.6, 4.3, 4.2, 4.2, 4.4, 4.3, 4.9, 4.5, 4.2, 4.3, 4.2, 3.8, 4.2, 1.0, 4.4, 4.0, null, 4.4, 4.4, 4.5, null, 3.4, 3.8, null, 3.7, null, 4.1, 4.6, 4.4, 4.2, 4.2, 4.4, 4.5, 4.2, 4.5, 4.3, 4.4, 4.2, 3.6, 4.0, 4.4, 4.6, 4.5, 4.4, 4.2, 4.3, 4.6, 1.8, 3.8, 4.4, 3.0, 3.4, 4.6, 3.7, 3.0, 4.6, 4.4, 3.1, 4.3, 4.3, 3.8, 4.5, 3.6, null, 4.2, 4.5, 4.2, 3.3, 4.2, 4.3, 4.2, 3.7, 3.8, 2.9, 4.5, 4.3, 4.9, 4.4, 4.4, 4.4, 2.9, 4.2, 4.0, 4.3, 4.3, 3.9, 4.3, null, 4.0, 4.6, 3.7, 4.0, 4.6, 4.4, 4.5, 3.0, 3.1, 4.3, 4.5, 4.5, 4.5, 4.1, 4.6, 4.2, null, 3.9, 3.9, 3.9, 4.3, 4.2, 4.2, 3.7, 2.8, 4.4, 4.1, 4.4, 2.7, 4.7, 4.2, 4.2, 4.1, 4.5, 4.4, 4.0, 4.2, 4.1, 4.0, 4.4, 4.7, 4.3, 4.7, 4.4, 4.0, 4.3, 4.2, 4.4, 4.6, 3.3, 4.5, 2.3, 4.2, 4.1, null, 4.4, 3.2, 3.5, 4.6, 4.3, 4.1, 4.1, 4.1, null, 4.7, 3.5, 3.9, null, null, 4.1, 4.7, null, 4.6, 4.5, 4.7, 4.9, null, 4.3, 4.1, 4.4, 4.2, 4.1, 4.6, 4.3, 4.4, 4.4, 4.5, 4.6, 4.8, 4.3, 4.8, 4.8, 3.7, 4.1, 3.7, 4.2, 4.5, 4.6, 4.5, 4.7, 4.3, null, 4.9, 4.4, 4.6, null, null, 4.0, 4.8, 4.3, 4.4, 4.2, 4.6, null, 4.8, 4.0, 4.3, 4.7, 4.5, 4.6, 4.5, 4.3, 4.0, 4.2, 4.0, 4.5, 4.0, 4.1, 4.6, 3.1, 4.9, 4.5, 4.0, 4.0, 3.6, 4.5, 4.2, 4.3, 3.9, 4.3, 4.3, 4.4, 4.3, 4.4, 4.3, 4.5, 4.4, 3.5, 4.4, 4.4, 4.5, 4.4, 4.4, 4.0, 3.9, 3.9, 4.3, 4.9, 3.7, 3.3, 3.8, 3.5, 4.2, 4.5, 3.5, 3.6, 4.6, 3.9, 4.2, 4.2, 4.0, 3.2, 4.6, 2.4, 4.5, 4.1, 4.2, 3.7, 4.3, 4.2, 4.1, 3.9, 3.8, 4.4, 3.4, 4.0, 4.4, 3.3, 4.8, 4.5, 3.4, 4.3, 4.3, 4.1, 4.0, 4.4, 3.8, 4.4, 3.8, 4.2, 3.8, 4.8, 4.7, 4.3, 3.5, 3.9, 4.2, 4.6, 4.7, 4.5, 3.8, 4.5, 3.7, 3.5, 4.1, 3.9, 4.1, 4.6, 4.4, 4.5, 4.4, 4.6, 4.0, 4.4, 4.4, 4.4, 4.0, 3.8, 3.9, null, 3.7, 4.2, 4.1, 4.3, 4.3, 4.1, 4.4, 3.8, 4.3, 4.4, 3.8, 4.5, 3.8, 3.9, 4.0, 4.3, 4.5, 4.4, 4.6, null, 5.0, 4.4, 4.4, 4.2, 4.0, null, 4.2, null, 4.6, 4.1, null, 3.9, 4.6, null, 4.4, 3.9, 4.6, 4.5, 3.0, null, 3.6, 4.4, 4.6, null, 4.3, 5.0, 4.5, 4.1, 4.1, 4.5, null, 4.8, 4.5, null, 4.0, 4.8, 3.7, null, 4.5, 4.7, 2.7, 2.9, 4.2, 4.4, 4.2, 3.4, 2.6, 4.1, 4.3, 4.5, 4.2, 4.4, null, 4.0, 4.4, 4.1, 4.8, 2.2, 3.8, 3.1, 3.1, 3.8, 3.8, 4.3, 3.6, 4.0, 4.4, 4.6, null, 4.5, 1.8, 4.7, 3.9, 4.4, 3.6, 4.5, 4.4, 3.9, 3.9, 3.8, null, 4.2, 4.1, 4.4, 4.4, null, null, 5.0, 4.1, 4.5, 4.3, null, 3.9, 3.5, null, 3.2, null, null, null, null, 3.3, 4.8, 4.5, 3.7, 4.8, 4.7, 4.3, 3.8, 4.1, 4.7, null, 4.2, null, null, 4.6, 4.2, 4.6, 4.6, 4.2, 4.1, 3.5, 4.1, 4.4, 4.5, 4.1, 4.5, 4.3, 4.4, 4.3, 4.3, 3.8, 3.9, 4.1, 4.8, 4.4, 4.0, 4.7, 4.6, 4.3, 4.0, 4.4, 3.7, 3.7, 3.3, 4.1, 3.0, 4.1, 3.0, 3.8, 4.0, 4.5, 4.6, 4.1, 3.6, 4.7, 3.5, 3.1, 3.9, 3.7, 4.2, 4.4, 4.4, 3.3, 4.8, 4.2, 4.5, 3.8, 4.1, 4.2, 4.2, 4.0, 4.2, 3.8, 4.5, 3.7, 4.3, 4.5, 4.1, 4.2, 4.5, 4.0, 4.4, 4.2, 4.3, 4.7, 4.1, 3.2, 3.9, 4.1, 3.4, 3.0, 4.6, 4.6, 4.1, 3.1, 3.4, 4.2, 4.2, 3.0, 2.4, 4.1, 2.9, 4.0, 4.0, 3.8, 2.4, 4.4, 3.7, 4.3, 4.6, 4.2, 4.8, 3.6, 3.2, 4.0, 3.5, 4.4, 2.5, 3.9, 4.4, 4.2, 4.2, 4.3, 4.1, 4.3, 4.2, 4.2, 3.9, 3.9, 4.4, 3.8, 4.5, 4.2, 3.7, 4.3, 4.3, 4.6, 3.3, 3.6, 4.1, 3.8, 3.3, 4.5, 4.8, 4.6, null, 4.3, 4.5, 4.2, 3.8, 4.7, 4.2, 4.3, 4.7, 4.7, 3.6, 4.2, 4.0, 4.3, 4.7, 4.2, 4.6, 4.8, 4.6, 3.8, 4.6, 4.3, 4.2, 4.5, 3.2, 4.3, 4.3, 4.5, 4.4, 1.9, 4.4, 2.5, 4.2, 4.3, 4.0, 4.5, 4.8, 4.2, 4.7, 4.4, 4.4, 4.4, 4.6, 4.6, 4.2, 4.5, 4.0, 4.4, 4.2, 4.5, 4.6, 4.4, 4.7, 4.2, 4.4, 3.2, 4.1, 4.0, 4.7, 4.6, 4.6, 4.7, 4.8, 4.6, 4.2, 4.3, 3.3, 4.7, 4.5, 4.0, 4.5, 4.2, 4.6, 4.2, 4.7, 4.7, 4.2, 4.3, 4.3, null, 4.5, 4.4, 4.5, 4.6, 4.3, 3.8, 4.5, 4.5, 3.9, 4.0, 2.7, 4.5, 4.0, 2.9, 4.6, 4.4, 4.5, 4.6, 4.4, 4.3, 4.4, 4.2, 4.8, 4.3, 4.3, 4.6, 4.6, 4.2, 4.2, 4.1, 4.4, 4.5, 4.4, 4.4, 4.2, 4.5, 4.6, 4.5, 4.6, 4.0, 4.5, 4.2, 3.9, 4.7, 4.4, 4.5, 4.3, 4.4, 4.2, 3.9, 4.1, 2.2, 4.2, 4.2, 2.8, 3.9, 4.3, 4.8, 4.3, 4.1, 4.2, 4.4, 4.1, 4.6, 4.3, 4.3, 3.8, 4.8, null, 3.8, 3.9, null, 4.3, 4.3, 4.3, 4.1, 4.2, 4.9, 4.5, 4.6, 3.8, 4.7, 4.5, 4.7, 4.5, 4.8, 4.6, 4.6, 4.3, 4.8, 3.4, 4.6, 4.4, 4.5, 4.4, 4.4, 4.6, 4.2, 4.3, 4.3, 3.8, 3.9, 4.3, 4.8, 4.2, 4.5, 4.8, null, 4.6, 4.2, 4.2, 4.0, null, 4.3, 4.8, 4.1, 4.7, null, 4.8, 4.0, 3.5, 3.8, 3.5, 3.3, 3.7, 3.3, 3.4, 1.8, 1.6, 1.9, 3.6, 3.4, 3.2, 2.5, 4.7, 2.6, 2.8, 3.9, 4.2, 3.9, 4.0, 3.5, 3.1, 3.7, 3.6, 3.4, 4.0, 3.7, 1.7, 2.4, 4.3, 4.2, 3.3, 4.1, 4.1, 3.4, 3.0, 3.0, 2.2, 3.7, 3.7, 4.8, 3.7, 3.6, 3.7, 4.4, 3.8, 3.7, 3.7, 4.8, 4.2, 4.1, 4.6, 4.1, 4.3, 3.9, 3.8, 4.0, 4.5, 4.6, 4.1, 4.4, 3.7, 3.9, 3.9, 4.5, 4.5, 4.4, 4.3, 4.5, 4.7, 4.7, 4.1, 3.3, 4.2, 4.1, 3.4, 4.3, 4.9, 4.5, 4.1, 4.4, 4.3, 4.4, 3.4, 4.1, 4.1, 3.5, 3.8, 4.6, 4.6, 5.0, 4.6, 4.2, 4.0, 3.9, 3.7, 4.3, 1.9, 4.2, 4.2, 4.0, 4.4, 4.2, 4.5, 4.3, 4.4, 4.0, 4.2, 4.3, 4.0, 4.3, 3.9, 4.0, 3.7, 4.1, 3.9, 4.2, 4.4, 4.5, 3.9, 3.9, 4.2, 4.5, 4.1, 4.7, null, 4.4, 4.7, 4.7, 4.0, 3.9, null, 3.8, 3.9, 4.4, 4.5, null, 3.8, 3.5, 4.2, 4.7, 2.0, 4.3, 2.8, 4.0, 3.9, 4.2, 3.4, 4.5, 4.7, 2.0, 4.4, null, null, null, 4.7, 3.3, 4.1, null, 4.2, 4.4, null, 3.7, null, 4.3, 3.9, 5.0, 4.1, 4.8, 4.0, null, 4.1, 3.8, 4.6, null, 4.3, 4.1, 4.6, 4.1, 4.4, 4.2, 4.1, 4.3, 4.3, 4.0, 4.5, 4.1, 3.8, null, 4.5, null, 4.1, null, 3.9, 3.7, null, 4.5, 4.4, null, 3.4, null, null, null, null, 2.3, 4.7, 3.4, 4.7, null, null, 5.0, null, null, null, null, null, null, null, null, 3.6, 5.0, null, null, 4.3, null, null, null, 5.0, null, null, 4.1, 4.1, 4.5, null, null, 3.4, null, null, null, 2.9, 4.6, 5.0, null, null, null, 3.9, 3.9, 5.0, 4.1, null, 5.0, 3.0, 4.0, 1.0, null, 4.0, null, null, 4.0, null, 3.8, null, null, null, null, null, null, null, null, 3.5, null, null, null, null, null, 2.6, null, 3.4, null, null, 4.5, 3.4, 3.8, 3.0, 4.4, 4.0, 3.9, 4.6, 3.8, 3.8, 4.0, 4.6, 3.6, 4.4, 3.1, 4.2, 4.6, 4.0, 5.0, 3.3, 4.1, 3.6, 3.2, 4.4, 4.0, 4.4, 4.5, 4.3, 4.7, 4.4, null, 4.4, 4.4, 3.7, 3.3, null, 3.7, 3.0, 2.6, null, null, 3.5, 3.9, 4.6, 3.8, 4.6, 4.4, 4.5, 4.5, 4.7, 4.4, null, 5.0, null, null, 2.8, null, 4.6, 2.8, 5.0, 5.0, 2.8, null, 3.8, 4.1, null, 4.8, 5.0, 5.0, null, 4.4, null, null, 5.0, 4.1, null, 4.8, null, null, 4.8, 4.0, null, 5.0, 4.6, null, 5.0, null, null, null, 4.5, 5.0, null, null, null, 4.4, 4.0, null, 3.9, 4.1, 4.8, 4.3, 3.9, 4.5, null, 3.7, 4.3, 4.2, 3.7, 3.8, 4.6, null, null, null, 3.3, 3.0, 3.9, 4.2, 3.9, null, 4.1, null, 4.6, null, null, null, null, 4.4, 3.8, 4.4, null, 4.9, 3.6, 4.3, 3.6, 4.1, 3.4, 4.5, 4.7, 4.5, 4.4, 4.3, 4.6, 4.2, 4.8, 4.6, 4.8, 4.6, 4.6, 4.6, 4.1, 4.7, 4.7, 4.8, 3.6, 4.7, 4.6, 4.5, 4.7, 4.5, 4.3, 4.5, 4.8, 4.7, 4.7, 4.7, 4.7, 4.7, 4.7, 4.7, 4.6, 4.7, 4.7, 4.6, 3.8, 3.9, 4.0, 4.0, 3.8, 4.1, 2.9, 3.8, 3.5, 4.2, 4.6, 4.4, 4.4, 4.1, 3.9, 3.6, 4.0, 3.8, 4.3, 4.6, 3.6, 3.9, 4.0, 4.2, 4.2, 4.2, 4.5, 4.7, 3.5, 4.5, 4.0, 4.6, 4.2, 4.3, 4.1, 4.5, 4.2, 4.5, 4.4, 3.7, 4.4, 4.3, 4.3, 4.3, 4.5, 4.5, 3.8, 4.5, 4.5, 4.4, 4.7, 3.5, 4.9, 4.0, 4.1, 4.2, null, 4.4, 4.1, 4.6, 4.6, 4.7, 4.5, null, 4.6, 4.4, 4.4, 4.2, 4.4, 4.0, 4.2, 4.2, 4.2, 4.8, 3.7, 3.4, 4.3, 4.3, 4.6, 4.2, 4.6, 4.1, 4.4, 4.6, 4.3, 4.4, 4.7, 4.2, 3.8, 4.3, 3.7, 4.3, 2.9, 4.3, 4.3, 4.0, 3.3, 4.5, 4.1, 5.0, 3.9, 4.6, 4.0, 3.6, 4.0, 4.5, null, 2.9, 4.2, 4.5, null, 4.6, 4.7, 4.2, 4.7, 4.7, 3.9, 4.7, 3.7, 4.8, 4.0, 4.6, 4.4, 4.3, 4.7, 3.6, 4.4, 4.6, 2.9, null, 4.5, 5.0, 3.7, null, 3.7, null, 4.2, 3.0, 5.0, 4.4, 4.7, 4.3, 3.9, null, 4.4, 4.3, null, null, null, null, 4.6, 4.5, 3.9, 4.7, 4.3, 5.0, 5.0, null, 5.0, null, null, 4.4, null, 2.7, 4.6, 4.4, 4.4, 4.1, 3.8, 4.4, 4.6, 4.1, 4.5, 4.2, 4.7, 4.3, 4.3, 4.2, 3.8, 4.0, 4.3, 4.6, 4.3, 4.3, 4.3, 4.7, 4.6, 4.4, 3.8, 4.6, 4.6, 4.5, 4.5, 3.9, 4.4, 3.8, 4.3, 4.3, 3.7, 3.2, 4.0, 3.8, 4.4, 3.8, 3.4, 2.9, 4.5, 3.7, 3.8, 4.1, 4.1, 3.7, 3.6, null, 3.0, 4.1, 3.8, 4.2, 4.4, 4.5, 3.6, 3.6, 3.7, 3.9, null, 4.2, 4.1, 4.5, 2.8, 2.6, 4.3, 4.4, 4.1, 4.0, 4.3, 3.9, 3.5, 3.7, 4.3, 4.3, 4.1, 4.2, 4.3, 4.2, 4.6, 4.3, 4.1, 4.4, 4.4, 4.1, 4.2, 4.4, 4.3, 2.4, 4.5, 4.3, 4.5, 4.5, 4.3, 4.4, 4.3, 4.4, 4.6, 3.4, 3.9, 4.3, 4.4, 4.5, 4.4, 4.2, 4.0, 4.3, 4.4, 4.2, 4.0, 4.4, 4.6, 4.0, 4.4, 3.5, 4.6, 4.0, 4.0, 4.1, 4.1, 3.3, 3.9, 4.1, 4.2, 4.0, 4.5, 3.8, 3.5, 4.3, 4.6, 4.7, 3.8, 4.7, 4.8, 3.2, 4.5, 3.9, 3.6, 3.7, 4.4, 4.1, 4.0, 3.1, 4.0, 2.8, 3.7, 2.7, 3.9, 3.8, 3.6, 4.5, 3.5, 4.0, null, 3.8, 3.6, 4.2, 4.4, 4.0, 4.7, null, null, 4.1, 4.0, null, 4.7, null, null, 3.8, 5.0, 4.4, null, null, 4.0, null, 3.8, 4.1, 4.3, null, 4.5, 4.4, 3.4, 4.1, 4.1, 3.8, 4.3, 4.4, 4.4, 4.8, 3.3, 3.3, 4.4, 3.7, 3.4, 2.3, 3.3, 2.7, null, 4.6, 3.5, 3.4, 4.3, 4.1, 4.7, 4.4, 3.8, 3.0, 4.4, 4.2, 4.5, 3.5, 4.5, 4.3, 4.5, null, 4.5, 4.0, 4.8, null, 4.3, 1.7, 4.3, 4.2, null, 4.2, 4.3, null, 4.0, 4.2, 4.6, 4.1, 4.6, 4.1, 4.0, null, 3.3, 4.1, null, null, 4.0, null, null, 4.4, 4.2, 3.8, 3.1, null, 5.0, 4.2, 4.7, 4.4, 4.6, 4.4, 2.9, 2.7, null, 4.6, 4.0, 3.8, 4.8, 5.0, 3.9, 4.2, 4.1, 4.7, 4.2, 4.2, 3.7, 4.1, 4.1, 3.8, 4.6, null, 4.4, 4.2, 4.4, null, null, 4.6, 5.0, null, 4.5, null, 3.5, null, 3.9, 4.4, 3.0, null, 3.1, 4.4, null, 3.0, null, null, 3.7, null, 3.7, 3.9, 4.8, null, null, 4.6, 4.6, 4.5, 4.3, 5.0, 4.3, null, 4.7, 4.0, 3.8, 5.0, 4.8, 4.5, 4.3, null, null, null, null, 3.7, null, null, null, null, null, 4.3, null, 3.8, null, null, 4.5, 4.6, 4.1, 4.2, null, 5.0, null, null, null, 4.3, null, 3.3, 3.6, 4.0, 4.0, 4.0, 4.3, 4.2, 4.3, 4.2, 4.5, 4.3, 4.6, 4.4, 4.2, 4.2, 4.2, 3.4, 3.2, 4.0, 4.6, 3.2, 4.4, 4.0, 4.7, null, 3.7, 3.9, 4.2, 4.1, 3.5, 4.8, 4.3, 3.9, null, 3.5, 4.3, 4.4, 4.8, 3.9, 3.8, 4.2, 4.0, 4.0, 4.4, 4.7, 4.5, 4.3, 3.3, 4.3, 4.1, 2.1, 3.7, 4.2, 4.4, 4.2, 2.1, 2.4, 4.1, 3.1, 5.0, null, 3.5, 4.2, null, 4.7, null, null, null, 4.8, null, 4.5, 4.6, 4.6, 4.9, 4.8, 4.0, 3.9, 4.1, 4.1, 4.5, 4.2, 4.0, 4.4, 1.9, null, null, 3.7, null, 4.2, 4.0, 4.3, 2.5, 4.4, null, 3.7, 4.7, 4.6, 4.4, 4.3, 4.4, 2.6, 3.6, 3.8, 4.4, 4.4, 3.0, 4.2, 3.7, 5.0, null, 4.2, 4.8, 4.4, 4.1, 4.7, 4.7, 3.3, 4.0, null, null, 1.0, 4.4, 4.2, 4.4, 4.6, 4.3, 4.4, null, 3.7, 2.9, 4.0, 4.4, 3.3, null, null, 4.2, 4.5, 2.3, 5.0, 3.6, null, 3.9, 4.4, 4.2, 4.8, 4.3, 4.2, 4.4, 4.3, 4.0, 1.4, 3.3, 4.3, null, 4.6, 4.7, 4.2, 3.9, 3.4, 4.3, 4.8, 4.8, 4.5, 3.3, 4.2, 4.9, 4.2, 4.6, 4.1, 4.6, 4.0, 4.2, 5.0, 4.1, 3.7, 4.1, 3.8, 4.7, 3.5, 4.0, 4.2, 3.3, 3.7, 3.4, 3.7, 5.0, 4.4, 5.0, 4.8, 4.4, 4.9, 4.0, 4.4, 4.5, 4.9, 4.4, 4.4, 5.0, 4.8, 4.6, 4.3, 3.8, 4.3, 4.3, 4.1, 4.5, 4.2, 3.8, 4.3, 4.4, 4.2, 4.2, 3.8, 4.2, 4.0, 4.2, 4.3, 4.3, 4.4, 4.7, 4.1, 4.5, 4.2, 4.3, 4.4, 4.5, 4.3, null, 4.2, 4.0, 3.4, 4.4, 3.8, 3.0, 4.1, 4.4, 4.1, 4.1, 4.1, 4.5, 4.1, 2.2, 3.9, 4.0, 4.3, 3.9, 4.0, 4.2, 4.2, 3.6, 4.3, null, null, 4.4, 2.6, 4.1, null, 3.5, 4.2, null, null, 3.7, 4.5, 2.4, null, 2.9, 4.2, 4.2, 4.0, 2.6, 4.4, 4.8, 4.7, 4.4, 4.6, 2.7, 3.8, 1.7, 4.6, 3.3, null, null, 4.6, 2.3, 4.5, null, 4.8, null, 5.0, null, 4.1, null, null, null, null, null, null, 4.9, 3.0, null, null, 4.8, 4.5, 3.4, null, null, null, null, 4.0, 3.7, 2.2, 4.8, null, 5.0, null, null, null, 4.5, null, 4.3, 3.8, null, 4.5, 4.5, null, 4.8, 4.5, 4.4, null, 3.9, 4.3, 4.3, null, 4.0, null, 4.1, 4.6, 3.7, 3.4, 4.5, 4.4, null, 4.4, 2.4, 4.1, 4.6, 4.6, 4.3, 4.3, 4.7, null, 4.2, 4.3, 4.3, 3.9, 4.7, 4.2, 4.1, 4.6, 4.7, 4.3, 4.5, 4.6, 2.9, 4.0, 3.0, 3.9, null, 4.8, 3.9, 4.0, null, null, null, 5.0, null, null, null, 4.0, null, 5.0, null, null, 4.5, 4.8, null, 4.6, 4.2, null, 3.4, 2.6, 2.4, null, 4.5, 4.6, 3.3, 4.1, 4.6, 3.9, null, null, null, null, null, 4.0, 3.4, 4.5, 4.0, 5.0, 3.6, 3.5, 4.6, 4.9, 3.7, 5.0, 4.0, 3.9, 5.0, 4.0, null, null, 4.9, 4.4, 3.6, 4.7, 4.3, 3.9, 4.5, 4.2, 4.6, 4.1, 4.3, 4.6, null, null, 4.2, 4.6, 4.5, 4.4, 4.2, 4.5, 4.0, 4.2, 4.7, 4.1, 4.4, 4.3, 4.6, 4.2, 4.0, 2.3, 4.5, 3.6, 4.4, 3.9, 3.9, 4.8, 4.2, 3.7, 4.0, null, 1.0, null, 4.4, 4.2, 4.7, 3.6, null, 4.1, 3.3, null, null, 5.0, 4.3, 4.7, null, null, null, null, null, 4.0, null, 4.4, 4.6, 5.0, 4.3, 4.3, null, 3.8, 4.1, 4.6, 4.0, 4.7, 3.6, 4.5, 4.0, 4.1, 4.0, 3.8, null, 4.5, 2.8, null, 4.2, 4.8, 5.0, 5.0, null, null, null, 4.3, 4.3, 4.5, 4.5, 5.0, 3.8, 4.4, 5.0, 4.7, null, 4.7, 2.2, 4.6, 4.6, 4.7, 4.6, 4.4, 3.8, 3.6, 4.9, 4.8, null, 4.4, 5.0, 4.8, null, null, 4.6, 5.0, 4.6, 5.0, null, 4.0, 4.3, 4.5, 4.0, 3.2, 4.6, 4.2, 4.8, 3.0, 4.3, 3.9, 3.2, 3.9, 4.8, 3.5, 4.4, 4.1, 4.2, 4.7, 4.0, 4.4, 4.2, 5.0, 3.5, 3.8, null, 4.5, 4.1, null, 4.3, null, 4.3, 4.4, null, null, null, null, null, 4.0, 4.3, 4.0, 4.9, 4.7, null, null, null, 4.3, 4.2, 4.1, 4.3, 4.7, 3.2, 3.9, 4.2, 4.1, 4.9, null, 3.7, 3.5, 4.9, null, 3.3, 4.9, 3.4, null, 4.5, 4.3, 5.0, 3.5, null, null, 4.4, 3.7, null, 4.8, null, 4.3, 4.9, null, null, null, null, null, null, 5.0, 4.3, 4.3, null, null, 4.4, 1.0, 4.5, null, 4.0, 5.0, 4.9, 4.7, 4.5, 3.9, null, 3.2, 3.5, null, 3.7, 3.0, 4.2, 4.0, 4.1, null, 4.7, 4.0, 3.1, 4.4, 3.2, 3.9, 4.2, 4.7, 4.0, null, null, 4.0, 3.7, 4.1, 4.4, 4.0, 3.9, 3.6, null, null, 4.6, null, 4.4, 1.9, 4.3, 4.5, 4.1, 3.8, 4.1, 4.6, 3.7, 3.9, 4.4, null, 4.5, null, null, 4.3, 4.4, 3.5, 4.3, 4.5, 4.5, 4.4, 4.2, 4.3, null, 3.6, 4.0, 3.8, null, null, 4.4, 3.8, 3.9, 4.1, 4.3, 3.5, null, 4.3, null, 4.7, 4.5, 3.8, 4.5, 4.2, 4.3, 4.1, 4.6, 4.6, 4.5, 4.5, 3.0, 2.6, 3.4, 4.4, 4.2, 4.0, 4.7, 3.4, 3.7, 3.7, 4.5, 3.9, 5.0, 4.3, 4.2, null, 4.0, null, 4.5, 4.0, 4.4, 1.8, 4.3, 5.0, 5.0, null, 3.2, 4.2, 4.6, 3.8, 3.9, 4.2, null, 4.0, 3.8, 4.1, 3.9, 4.4, 2.1, 1.8, 4.2, 2.0, null, null, 3.4, 4.3, 3.6, 3.7, 4.7, 4.5, 4.6, 3.6, null, null, 4.4, 4.6, null, null, null, 2.3, null, null, 3.8, null, 3.0, 5.0, 4.5, 4.4, 4.5, 4.8, 4.3, 3.8, null, 4.3, 3.7, 4.5, null, 4.3, null, 4.4, 3.4, 4.5, 1.6, null, null, 4.5, null, null, null, null, null, null, 4.4, 3.8, 4.3, 4.3, 3.0, 4.0, 4.2, 4.8, 4.0, 4.5, null, 4.7, 1.9, 4.9, 4.4, 4.7, null, 4.9, 4.8, null, null, 4.5, null, null, 4.6, 4.5, null, 5.0, null, 3.9, null, null, 4.3, null, 4.8, 4.3, 4.6, null, null, 4.1, 4.5, 4.3, 3.8, 2.4, 4.3, 2.8, 4.5, 4.6, 4.1, 4.2, 4.6, 4.3, 4.6, 5.0, 5.0, 3.9, 4.2, 3.9, 4.2, null, null, null, 3.5, null, 4.0, null, 3.7, 3.8, 4.3, null, null, 4.5, 4.6, null, 4.5, 4.3, 4.4, null, null, 4.6, null, 3.9, null, 3.9, 3.1, 3.9, 4.4, 4.4, 4.4, 4.6, 3.9, 4.6, 2.5, 4.6, 2.8, 4.0, 3.4, 3.8, 4.5, 4.8, 3.3, 3.9, 3.5, 4.5, 4.0, null, 3.6, null, 4.7, 3.9, 5.0, 4.6, 3.9, 4.9, 3.6, 3.7, 3.9, 2.7, 3.8, 2.8, 3.5, 4.1, null, 4.7, 4.3, 4.5, 4.1, null, null, 4.8, null, null, null, 3.4, 5.0, null, null, 4.3, 4.4, 1.8, 4.2, 3.3, null, 5.0, null, null, null, 4.8, null, 4.5, 5.0, 4.5, 4.7, null, 4.6, null, null, 4.5, null, null, 3.5, null, null, 3.5, 2.9, null, null, 5.0, null, null, null, null, 4.3, null, 4.8, 4.7, 4.3, 4.1, 5.0, 5.0, null, null, null, 4.0, null, 4.3, null, 4.1, 5.0, null, 5.0, null, null, null, 4.0, null, null, 3.5, null, null, null, 4.1, null, null, 4.6, null, null, null, 4.1, 4.2, 4.2, 2.2, 4.3, 4.7, 3.8, null, 4.1, null, 3.1, 4.2, null, 3.0, 4.8, 3.7, 3.1, 4.6, 2.9, 4.2, 4.7, 4.5, 2.8, null, 4.4, 4.4, 4.1, 4.6, 3.0, 4.1, 4.2, null, 4.4, 3.9, null, null, null, null, 4.3, 4.5, 4.5, 3.6, 2.0, 4.0, 4.5, 4.0, 4.3, null, 4.5, 4.8, 4.5, null, null, 4.2, 4.5, 4.6, null, null, 3.9, null, null, 4.3, 3.9, 4.3, 3.7, 4.7, 4.3, 1.7, 4.5, null, 4.7, null, 5.0, null, null, null, 4.6, 2.9, null, 4.8, 2.3, null, 3.8, 4.2, null, 4.4, null, 4.0, 4.1, 3.4, 4.3, 4.0, 4.2, 4.1, 4.7, 4.2, 3.9, 3.8, 4.1, 4.2, 3.8, 4.7, 3.7, 4.3, 4.0, 4.2, 4.6, 4.7, 4.7, 4.3, 4.2, 3.5, 4.7, 4.7, 4.5, 4.5, 4.7, 4.6, 4.6, 4.9, 4.2, 4.3, 4.4, 4.4, 4.5, 4.3, 4.4, 4.4, 3.0, 4.8, 4.7, 4.6, 4.0, 3.7, 3.5, 2.7, 4.7, 4.1, 4.5, 4.6, 4.5, 4.4, 4.3, 4.4, 4.5, 4.6, 4.7, 4.6, 3.1, 3.9, 4.7, 4.6, 4.7, null, 5.0, 4.4, 4.8, null, 4.1, null, 4.3, 4.4, 4.7, 4.0, 3.4, 4.6, null, 2.8, null, 3.1, null, 3.9, null, 4.2, 4.5, null, 4.1, null, 4.2, null, null, 3.3, 4.4, null, 4.4, 4.6, 4.4, 4.5, 4.1, 2.2, 4.2, 4.8, null, null, 3.2, 4.3, 4.0, 4.6, 4.4, 4.5, null, 3.4, null, null, 3.3, 4.2, null, 2.4, 3.2, 3.1, 3.8, null, 4.8, 3.7, 4.2, 3.7, 3.0, 3.9, 4.0, 5.0, null, 4.0, 2.7, 3.1, 4.1, 4.5, 4.0, 3.8, 3.8, 4.3, 3.5, 4.5, 3.9, null, 4.5, null, null, 3.3, 4.1, null, null, 5.0, null, 3.7, 4.8, 1.5, 5.0, 4.6, null, null, 5.0, 4.7, null, 4.7, null, 5.0, 4.5, null, 5.0, null, null, 5.0, 4.2, 1.0, 4.5, 4.2, 5.0, 4.2, 4.4, 3.9, 4.6, 3.8, null, null, 4.0, null, null, null, 4.6, null, null, 3.4, null, 5.0, 4.6, null, null, null, null, 5.0, null, null, null, null, 3.0, null, 3.8, 4.2, 4.3, null, null, null, null, null, null, 4.4, 3.2, null, null, null, 3.5, 4.4, 4.5, 3.7, 5.0, 4.5, 4.5, 4.1, null, 3.4, 4.1, null, null, 5.0, 4.2, 4.1, 4.1, null, 4.2, 4.3, null, 5.0, 4.4, null, 4.3, 4.5, null, 4.8, 4.4, null, null, null, 4.4, null, null, null, null, null, 4.7, null, null, null, null, null, 4.3, 4.4, 4.6, 2.8, 5.0, 4.4, 4.4, 2.0, 5.0, 4.4, 5.0, null, 3.4, 4.4, null, 3.4, null, null, 3.3, 1.5, null, null, null, 5.0, null, 4.3, 4.3, null, null, null, null, 2.2, 4.6, null, null, 5.0, null, null, 4.7, null, null, null, null, null, null, 4.7, 3.5, 4.3, 3.6, 4.3, 3.6, 2.6, 4.7, 4.5, 4.0, 4.6, 5.0, 4.2, null, null, 4.2, null, 4.7, 4.5, 3.6, 3.8, 4.2, 3.8, 3.5, 4.1, null, null, 5.0, null, 4.2, 4.1, null, null, 3.6, 4.3, 4.1, 4.4, null, null, 4.0, 5.0, 5.0, null, 3.8, 4.3, 4.7, 4.5, 4.4, 4.7, 4.4, 3.7, 4.3, null, 4.0, 3.9, null, 4.9, 3.5, 3.5, null, 4.4, 4.2, null, null, null, 4.3, null, 4.7, 4.5, 4.4, 4.2, 4.4, 3.3, 4.4, 4.9, 4.5, 4.7, 4.7, 3.9, 4.7, 4.7, null, 4.4, 4.8, 4.8, 4.0, 3.7, 5.0, 3.0, 3.9, null, null, 4.6, 4.6, 4.3, 4.2, null, 5.0, null, 4.5, null, 4.2, null, 1.0, null, 4.6, null, null, null, null, null, null, 4.1, 4.7, null, null, null, 4.4, 4.8, 4.2, null, null, 5.0, 4.6, 4.5, 5.0, 2.9, null, 4.4, null, null, 3.0, 4.5, 2.4, 4.3, 3.9, 1.9, 4.4, 5.0, 4.0, 4.7, 3.9, 5.0, 4.2, 4.2, 2.8, 4.2, 1.0, 3.9, 4.1, 4.1, 3.2, null, 5.0, null, 5.0, 4.3, 4.1, 3.8, 4.0, null, 4.2, 5.0, 4.1, 5.0, null, 3.7, null, null, 4.1, 3.5, 3.9, 4.2, 3.8, 3.7, 4.7, 2.8, 4.7, 4.3, 4.1, null, 4.7, 4.2, 4.0, 3.2, 4.6, 5.0, 4.4, 4.5, 4.0, 4.6, 4.7, null, 4.1, 4.5, 4.3, null, 5.0, 5.0, 4.2, 4.0, null, 5.0, 2.7, 4.1, null, null, 4.4, null, 4.3, 4.1, 4.7, 4.4, null, null, 3.6, 4.0, 4.1, 4.0, 4.1, 4.0, 4.6, null, null, null, null, 5.0, 3.6, 4.1, 4.3, 4.1, 2.6, 2.7, 3.8, 5.0, 4.2, null, 5.0, 2.6, 4.4, 4.3, null, null, 4.7, 2.8, 4.1, null, 3.6, null, null, 4.0, null, null, 5.0, 5.0, 4.7, 4.7, 4.6, 4.7, 4.6, 4.6, 4.6, 4.6, 4.6, 4.4, 3.8, 4.1, 3.4, 4.5, 4.5, 4.5, 4.0, 4.7, 4.4, 4.4, 4.7, 4.7, 4.2, 4.2, 4.0, 3.6, 4.7, 4.4, 4.3, 4.4, 4.4, 4.4, 4.3, 3.3, 3.6, 4.5, 4.5, 4.6, 4.3, 3.6, 4.3, 4.4, 4.1, 4.2, 4.8, 4.2, null, 4.0, 3.7, 4.5, 4.1, 4.6, 4.5, 4.7, 4.3, 4.3, 4.6, 4.1, 4.2, 4.3, 4.2, 4.3, 3.6, 4.2, 4.2, 4.0, 4.6, 4.3, 4.4, 4.5, 4.3, 3.7, 4.2, 4.7, 4.6, 4.5, 4.1, 4.5, 4.3, 3.4, 4.2, 3.9, 4.4, 4.1, 4.3, 3.9, 4.0, null, 5.0, 4.2, 4.3, 4.5, 4.5, 3.9, null, 4.5, 3.5, 3.6, 1.9, 4.3, 3.2, 1.6, 4.2, 4.9, 4.4, 3.6, 3.4, null, 4.7, 2.9, 4.3, 4.4, 4.3, 4.6, 4.6, 4.2, 3.5, null, 2.9, 4.4, 4.7, 4.5, 4.4, 2.0, 4.7, 4.4, 4.4, 4.4, null, 4.5, 3.5, 4.2, 3.7, 4.4, 3.4, 4.3, 3.6, 4.6, 4.6, 4.2, 4.3, 3.8, 1.4, 4.4, null, 4.0, null, 4.6, 3.9, 3.8, 4.7, 4.2, 4.3, 4.1, 4.3, 4.2, null, 3.6, 4.6, null, 4.3, 5.0, 5.0, 5.0, 4.5, 3.8, 3.9, null, null, 4.8, 4.1, 4.0, 4.8, 4.8, 4.4, null, 4.1, null, null, null, 4.4, 4.3, 3.7, 4.3, null, null, 4.3, 2.7, 4.4, null, 4.5, null, 4.2, null, 3.7, null, 5.0, null, 4.2, 3.9, null, 4.5, null, 3.5, 4.7, 4.2, 4.4, 4.7, 4.6, 4.0, null, 2.5, null, null, 3.8, 4.7, 4.5, 4.6, 4.6, 5.0, 3.9, 5.0, null, 2.3, null, 3.6, 4.0, 3.7, 4.2, 4.1, 4.4, 4.6, 4.2, 4.4, 4.3, 4.0, 4.5, 3.9, 3.7, 4.6, null, 3.8, 4.7, null, 3.4, 4.5, 4.1, 4.3, 4.6, 4.3, 4.3, 4.0, null, 3.5, 2.3, null, 3.9, 4.1, 4.5, 4.6, 4.4, 3.1, 4.3, 3.3, 5.0, null, 4.2, 3.8, 3.3, null, 5.0, 1.0, 4.5, 4.6, 4.3, 4.4, 4.1, 4.5, 4.2, 3.7, 4.1, 3.9, 4.5, 3.6, 3.2, 3.5, 3.7, 4.6, 4.8, 4.1, 4.4, 4.3, null, 4.0, 3.1, 4.2, 4.1, null, 3.5, 4.3, 3.8, 4.3, 4.8, 2.3, 4.3, 4.4, 3.6, 5.0, null, 4.3, 4.2, 4.3, 4.7, 3.9, 4.4, 4.4, 4.3, 2.6, 4.3, null, 3.8, 4.2, 4.2, 4.1, 4.0, 4.4, 4.7, null, 2.6, 4.3, 5.0, 3.7, 4.3, 4.1, 4.3, 3.8, 4.5, 5.0, null, null, 3.9, 3.8, 4.6, null, 4.6, 4.7, 5.0, null, 4.5, null, 4.3, 3.5, 3.3, null, 4.8, 3.9, null, 4.5, null, 3.4, 5.0, 5.0, null, null, 4.8, 3.6, null, 4.3, 4.0, 4.5, 4.6, 4.7, 3.8, 3.4, 4.7, 4.0, 4.6, 2.0, 4.3, 2.0, 3.6, 4.7, 3.5, 4.0, 3.5, 4.3, 4.1, 4.6, 3.8, 4.3, 3.8, 1.0, 3.8, 3.3, 4.8, 3.0, 4.0, 3.6, 3.8, 4.3, 3.9, 4.2, 4.6, 4.0, 4.5, 4.6, 4.6, 4.5, 3.7, 4.4, 4.6, 3.9, 4.4, 4.5, 4.5, 4.3, 3.7, 3.9, 3.9, 4.3, 4.1, 4.1, 4.4, 4.4, 4.2, 4.5, 4.6, 4.4, 4.4, 4.4, 3.8, 2.6, 4.2, 4.4, 4.2, 4.0, 4.2, 4.0, 4.4, 4.5, 3.2, 4.3, 3.4, 2.3, 4.4, 4.3, null, 4.3, 3.6, 4.6, 4.2, 4.0, 4.4, 4.5, 3.2, 1.7, 2.2, 3.8, 4.8, null, 4.4, 4.5, 4.8, 4.6, 3.7, 4.4, 3.5, 3.8, 3.8, 4.3, null, 4.6, null, 4.5, null, 3.7, null, 4.8, 4.3, 5.0, 3.9, 3.0, null, 5.0, null, 4.4, 4.6, 3.9, 3.3, 4.1, 3.0, 4.2, 4.2, 4.2, 4.0, 4.0, 3.2, 4.6, 3.2, 4.1, 3.3, 4.4, 4.0, 4.2, 4.1, 4.3, 3.3, 4.7, 4.4, 3.1, 3.1, 3.3, 3.9, 3.4, 3.9, 4.4, 3.9, 3.7, 4.5, 4.7, null, 4.6, null, 5.0, 3.0, null, 3.9, null, 5.0, 3.9, null, null, null, null, null, null, 3.8, null, 3.6, 3.9, 3.8, null, 4.8, null, null, null, null, 4.4, 4.5, 4.0, 4.7, 4.8, 4.7, 4.7, 4.5, 4.0, null, 3.2, null, null, 4.7, 4.5, null, 4.5, 4.9, 4.2, 5.0, 5.0, null, 5.0, null, null, 4.2, 4.7, null, null, 4.5, null, null, null, 4.5, 4.5, 3.8, 4.5, null, 4.3, 3.9, 3.9, 4.2, 4.5, 4.1, 4.4, 4.1, 4.6, 3.3, 4.5, 2.2, 4.4, 3.9, 4.5, 2.8, 3.3, null, 4.5, null, null, 3.1, 3.2, 4.4, 4.1, null, 5.0, null, null, 3.8, null, null, 4.3, 4.6, null, null, 3.7, 4.9, 4.3, 5.0, null, null, 2.9, 4.4, 4.4, null, 4.6, 4.5, 4.0, null, 3.5, 4.8, 4.8, 3.5, 4.7, 4.6, 4.4, 4.3, 4.7, 4.4, 4.0, 3.5, 4.6, 3.9, 3.5, 4.6, 4.2, 4.4, 4.6, 4.0, 4.2, 3.8, 4.1, 4.3, 4.4, 4.5, 4.1, 4.2, 4.0, 3.6, 3.3, 4.7, 4.6, 4.5, 3.9, 4.3, null, 3.9, 4.3, null, null, 3.1, 4.4, 3.7, 4.6, 4.6, 2.7, null, null, 4.1, 4.2, 1.9, 4.6, null, 4.2, null, 4.4, 4.2, 3.9, 2.4, 5.0, 3.9, null, 3.7, 5.0, 4.0, 3.0, 4.1, 4.8, 4.5, 3.5, null, null, null, 4.5, 4.5, 4.2, 4.3, 4.4, 4.4, 4.3, 4.2, 4.5, 4.3, 4.3, 4.2, 4.9, 4.1, 1.4, 4.0, 5.0, 4.3, null, 4.2, 4.3, 3.8, 4.1, 4.2, 4.3, 4.1, 4.3, 3.6, 4.3, 4.6, 4.4, 5.0, 4.4, 4.5, null, 4.7, null, 5.0, null, null, 3.4, 3.1, 4.5, 5.0, 4.3, 4.4, 4.3, 4.2, 4.0, 4.5, 4.0, 4.1, 3.8, 4.3, 4.6, 4.1, 4.3, 4.3, 4.2, 4.3, 4.4, 4.4, 3.9, 4.3, 4.5, 4.3, 3.5, 4.2, 4.1, 4.1, 4.7, 4.5, 3.3, 4.2, null, null, 4.2, 4.6, null, 4.3, 4.3, 4.0, 4.7, 5.0, null, null, null, null, null, null, null, 5.0, 4.9, null, null, null, null, null, null, 4.3, null, null, null, 4.0, null, null, 4.5, null, 4.1, 4.3, null, null, null, 4.5, null, null, 3.9, 3.7, 4.2, 3.6, 3.6, 2.1, 4.7, 3.2, 3.0, 4.3, 3.0, 4.3, 3.9, 3.3, 4.3, 4.0, 3.7, 2.8, 4.4, 5.0, 3.9, 4.2, 4.8, 4.0, null, 3.0, 4.5, 2.6, 5.0, null, null, 5.0, 4.1, null, 4.5, 5.0, 4.7, 4.5, 4.4, 4.4, 4.3, 4.2, 3.0, 4.1, 4.2, 4.2, 4.0, 4.3, 4.1, 3.6, 4.3, 5.0, 4.2, 3.9, null, 4.1, 3.8, 5.0, 3.7, 4.3, 4.2, 4.3, 2.5, 4.3, 4.4, null, 4.3, 4.2, 4.6, 4.0, 2.9, null, 4.5, 4.7, 3.8, null, 4.7, 3.9, 4.5, 4.7, 4.5, 4.2, 4.3, 4.4, 4.8, 4.2, 4.1, 4.5, 4.5, 4.6, 4.4, 4.1, 4.3, 4.7, 4.4, 4.2, 4.3, 4.5, 4.3, 4.8, 4.5, 4.6, 4.7, 4.4, 4.1, 4.3, 4.2, 4.2, 3.6, 2.8, 3.9, 3.8, 4.4, 3.7, 2.7, 3.8, 3.2, 3.9, 2.3, 4.1, 4.3, 3.1, 4.6, 4.1, 4.4, 3.2, 4.5, 3.7, null, null, null, 4.4, 4.5, 5.0, 4.8, null, 4.6, 4.0, 4.1, null, 4.1, null, null, 4.8, null, null, null, 4.3, 2.8, null, null, 4.7, 4.5, 4.2, 4.3, 3.8, 3.8, 4.2, 3.8, 4.0, 4.0, 4.6, 4.0, 4.3, 4.3, 3.9, 5.0, 4.0, 4.1, 3.9, 4.2, 4.3, 4.5, 4.4, 4.1, 4.2, 4.5, 4.6, 4.1, 3.9, 4.7, 3.9, 4.3, 2.9, 4.4, 3.7, 4.4, 4.1, null, 2.8, 4.9, 3.4, 2.8, 2.5, 4.7, 3.1, null, 3.2, 4.3, 3.9, 3.6, 3.2, null, 3.5, 3.3, null, null, null, null, 2.4, 4.4, 2.8, 5.0, null, 4.4, null, null, null, null, null, null, null, 5.0, null, 3.3, 2.9, 4.1, 4.6, null, 2.2, 4.3, 5.0, 2.5, null, 3.0, 3.7, 5.0, null, null, null, null, 5.0, null, null, 4.1, null, null, null, 4.1, 2.6, 4.6, 4.5, null, 4.5, null, 3.3, null, 4.4, 4.7, 4.7, 4.0, 4.5, 4.3, 4.6, 4.7, 4.4, 4.0, 4.2, 4.3, 4.1, 4.5, 4.3, 4.3, 4.7, 4.1, 4.3, 4.4, 3.1, 4.0, 4.5, 4.5, 4.4, 4.2, 4.6, 4.4, 4.6, 4.0, 4.6, 4.3, 4.3, 3.9, 4.5, 4.7, 4.3, 4.6, 4.6, 4.2, 4.3, 4.6, 4.2, 4.1, 4.6, 4.4, 3.7, 4.4, 3.9, 4.3, 4.3, 4.3, 4.5, 4.5, 4.5, 4.5, 4.7, 4.3, 4.4, 4.5, 4.3, 4.3, 4.2, 4.2, 4.3, 4.2, 4.7, 4.1, 4.3, 4.1, 3.8, 4.5, 4.1, null, 4.3, 4.5, 4.1, 4.4, 4.3, 4.4, 4.3, null, 4.1, 4.6, 4.7, 4.2, 3.7, 4.7, 4.4, 4.7, 4.2, 4.6, 4.5, 4.8, 3.7, 4.3, 4.2, 3.6, 4.1, 2.3, 4.3, 4.6, 4.5, 4.0, 4.2, 4.6, 4.2, 4.5, 4.3, 4.4, 3.6, 4.0, null, 2.8, 3.8, 4.1, 3.8, 3.4, 4.5, 4.3, 3.1, 4.6, 3.3, 3.9, 4.2, 4.9, 3.9, 3.4, 3.7, 4.2, 3.8, 4.6, 4.4, 4.0, 4.2, null, 4.2, 4.5, 4.6, 4.4, 4.6, 4.5, 3.7, 4.1, 4.2, 4.0, 4.5, 4.6, 4.5, 4.4, 3.3, 4.2, 4.2, 4.0, 4.0, 4.0, 3.5, 4.5, 3.9, 3.9, 4.1, 4.4, 4.2, 4.4, 4.3, 4.1, 4.0, 4.3, 4.4, 4.5, 4.6, 3.7, 3.8, 3.4, 4.3, 3.8, 4.7, 4.4, 4.4, 4.1, 4.4, 4.0, 3.9, 4.3, 4.2, 3.3, 4.0, 4.6, 4.1, 4.1, 3.4, 3.4, 4.1, 4.0, 3.4, 3.2, 3.8, 3.8, 3.9, 3.6, 3.8, 3.9, 3.2, 1.0, 4.6, null, 3.6, 4.9, null, 2.6, 3.9, null, 3.5, 3.2, null, 3.3, null, null, 3.8, 3.9, 4.6, 1.8, null, 4.3, 3.9, null, 4.8, 3.7, 4.0, 4.1, 4.6, 4.0, null, 4.8, null, 4.0, 3.5, null, 3.0, 4.6, 1.6, 3.8, 1.7, 4.6, 5.0, 4.6, 4.4, 4.5, 3.8, 4.0, 4.1, null, 5.0, null, null, null, null, 5.0, 1.0, null, null, 4.4, 4.7, 4.6, 2.4, null, 4.5, null, null, 4.4, 4.3, 5.0, 4.1, 3.8, 3.9, 3.1, 4.7, 4.5, 3.5, 4.5, 4.6, 4.5, 4.5, 4.4, 4.3, 4.4, 4.2, 4.6, 4.5, 3.8, 4.3, 4.6, 4.3, 3.6, 4.2, 4.7, 4.3, 4.7, 4.8, 3.1, 4.5, 4.4, 4.5, 4.5, null, 4.7, 4.1, 4.4, 4.3, 4.6, 3.4, null, 4.7, 3.6, 3.7, 2.1, 2.0, 3.5, 4.3, 2.4, 4.5, 2.8, null, 4.5, null, 2.8, 3.9, 3.2, 3.1, 2.4, 4.6, 2.9, 4.0, 3.7, 2.3, 2.9, 4.6, 4.3, 5.0, 4.2, 4.6, 4.5, 4.2, 4.8, 3.5, 4.6, 3.5, 3.6, null, 5.0, 3.0, null, null, 2.9, 3.7, 4.6, null, 4.2, 3.2, 2.5, 4.4, 4.3, 2.7, 4.0, 4.5, 3.4, 4.3, 4.3, null, 4.3, null, null, 4.0, 4.9, 3.4, 4.9, 4.3, 4.7, 4.8, 4.3, 4.3, 4.0, null, 3.5, null, 5.0, 4.7, null, 4.2, 4.4, 4.2, 5.0, null, 5.0, 2.0, null, 3.7, null, null, null, 3.9, 4.5, null, null, null, 3.1, 4.5, 4.7, null, 4.4, 3.8, 4.2, 4.5, null, 4.5, 4.6, 4.2, 4.5, 4.2, 4.2, 4.1, 4.3, 5.0, 4.6, 4.0, 4.4, null, 4.5, 3.6, 4.6, null, 4.0, 4.6, 4.5, 4.5, null, null, null, 4.8, 5.0, 4.4, null, 4.0, 3.5, 5.0, 4.0, 4.2, 4.0, 3.9, 4.5, 3.6, 4.2, 3.0, 3.0, 4.0, 3.4, 4.9, null, null, null, null, 4.0, 4.4, 4.1, 4.4, 4.0, null, 4.5, 4.2, 3.9, null, 3.6, 5.0, 4.4, 3.6, 4.7, 4.2, 4.5, 4.7, null, null, 4.3, 4.2, 4.4, null, 4.7, 4.4, null, 4.1, 4.5, 4.1, 4.0, null, null, 4.3, 4.2, null, 4.2, null, 4.1, 4.2, null, 5.0, 4.0, 4.0, 4.5, null, 4.1, null, 4.7, 4.4, 4.9, 3.6, 4.2, null, 4.4, null, 4.5, 4.2, null, null, 4.2, null, 4.5, 4.4, 4.4, 4.5, 4.5, 3.9, 4.3, 4.4, null, 4.5, 4.0, 4.5, 4.0, 4.4, 4.3, 2.5, 4.4, 3.8, 4.4, 4.2, 4.1, 4.2, 3.9, 4.5, 4.1, 4.4, 4.3, 4.5, 3.4, 3.4, 4.4, 4.2, 4.4, 3.5, 4.1, 4.6, 1.7, 3.3, 5.0, 4.8, null, 4.6, 3.3, null, 4.2, null, 3.5, 3.7, 5.0, null, null, 4.6, 4.1, 3.5, 5.0, null, 3.7, 4.0, null, null, 4.2, null, 4.5, 3.8, 2.5, 4.0, null, 4.0, 4.1, null, null, 3.4, 3.6, 3.4, 3.9, 4.6, 4.3, 4.7, 5.0, 3.9, 3.9, 4.2, 4.3, 3.5, null, 4.1, 4.2, 4.4, 4.5, 3.8, 3.4, null, 3.9, 4.5, null, null, 3.0, null, 4.1, 4.6, null, 3.9, 4.7, 4.5, 3.4, 5.0, 5.0, 5.0, 4.0, null, null, 4.0, null, 4.9, 5.0, null, 4.6, null, 4.8, 4.1, 4.1, null, null, 4.7, null, 5.0, 4.4, 3.3, 4.0, 3.5, 2.8, null, 3.6, 3.2, 3.6, 3.7, 3.3, 3.1, 4.1, 3.1, 3.5, 3.6, 5.0, 2.3, null, 3.1, 2.9, 3.0, 2.9, 3.9, 5.0, null, 3.4, 5.0, null, 4.8, null, 4.2, null, null, null, 5.0, null, 4.3, 4.6, 4.7, null, 4.4, 4.8, null, null, 4.1, null, 4.6, 4.3, 4.6, 4.0, 2.9, 4.1, null, null, null, null, 4.2, null, 4.3, 4.4, 2.4, 4.2, null, null, null, 3.1, null, 3.0, 4.7, 3.4, null, 4.7, 4.7, 4.2, 5.0, 4.5, 4.3, 3.3, 4.4, null, 4.2, 4.2, 4.7, 4.3, 4.8, 4.2, 4.0, 4.2, 4.1, 4.6, 4.6, 3.8, 4.5, 4.4, 4.1, 4.0, 3.9, 3.5, 5.0, 4.6, null, 3.6, 4.2, null, null, 3.8, null, 3.4, 3.8, 4.2, 4.2, 3.7, 4.0, 4.4, 4.5, 3.7, 4.2, 3.9, 4.0, 3.7, 4.2, 4.0, 3.9, 4.1, 4.3, 4.5, 4.5, 3.3, 4.4, 4.2, 4.2, 4.1, 4.1, 4.4, 4.1, 3.9, 3.9, 4.4, 3.8, 3.0, 3.4, 4.3, null, null, 5.0, null, 4.1, null, 2.4, 3.9, null, null, null, 4.0, null, 3.0, null, 4.4, 3.4, 2.9, 5.0, 4.5, 3.7, 3.0, null, 4.0, 3.2, 3.6, 3.2, 3.7, 4.7, 4.4, 3.9, 4.4, 4.3, 4.9, 2.6, 5.0, 4.1, 4.0, 4.1, null, 3.3, 4.2, 4.0, 4.3, null, 4.4, 5.0, 4.3, 4.4, null, null, null, 3.9, 4.3, 4.0, 3.8, 4.5, null, 3.8, 4.4, 4.3, 4.7, 3.9, 4.2, 3.8, 4.3, 3.8, 4.2, 4.5, 4.2, 3.6, 4.0, null, 3.5, 4.4, 3.5, 4.1, 4.8, 4.4, 4.3, 4.0, 4.2, 4.4, 3.5, 4.3, 4.4, 4.7, 5.0, 3.8, 5.0, 4.8, 4.9, 4.3, null, 5.0, null, 4.9, 4.9, 4.9, 4.5, null, 4.5, 5.0, 5.0, 3.0, null, null, 4.9, 5.0, 5.0, null, 4.1, null, 4.1, 4.3, 4.3, 4.1, 4.7, null, 4.9, 4.0, 5.0, 5.0, null, 4.6, 4.2, 3.7, 5.0, 4.3, 4.0, 4.3, 4.0, 4.0, 3.1, 3.4, 4.2, 4.2, 4.1, 3.4, null, 4.0, null, 3.9, 4.8, 4.1, 4.3, 4.3, 4.4, null, 4.4, 4.5, 4.5, 4.8, 4.4, 4.5, 4.6, 4.6, 4.5, null, 4.2, 4.4, 4.2, 4.7, 4.5, 4.2, 4.5, 4.2, 4.7, 4.1, 4.1, 4.6, 4.4, 4.5, 3.8, 3.9, 3.5, 3.8, 4.2, 4.6, 3.7, 4.4, 3.6, 3.4, 4.0, 4.3, 4.3, 4.5, 4.4, 4.5, 4.1, 4.4, 4.3, 4.5, 4.5, 4.2, 4.5, 4.3, 4.1, 4.6, 4.3, 4.0, 4.4, 4.4, null, 4.6, 4.6, 4.3, 4.3, 4.2, 4.5, 4.0, 4.6, 4.5, 3.8, 4.3, 4.3, 4.9, 4.0, 4.5, 4.1, 4.5, 4.2, 4.4, 4.4, 4.0, 4.3, 4.3, 4.4, 4.4, 4.0, 4.7, 4.2, 4.5, 4.1, 4.4, 4.1, 4.3, 3.5, 4.7, null, 2.6, 4.2, null, null, null, null, null, null, null, null, 5.0, null, 4.3, null, null, null, null, null, 4.4, 4.3, null, null, 4.1, null, 4.3, 4.5, null, 4.6, 4.6, 4.7, null, 4.3, 4.2, 4.5, 4.3, 4.5, 3.5, 4.3, 4.6, 4.5, 4.3, 4.4, null, null, null, 3.4, 4.3, 3.8, 4.5, null, null, null, 5.0, 4.9, null, null, 5.0, null, null, 4.2, 4.3, 4.4, 2.3, 4.7, null, null, null, 4.4, 4.3, 4.4, null, 4.0, 3.6, null, 4.1, 4.6, 3.9, 4.4, null, 3.7, 3.9, null, 4.3, 4.1, 3.6, 3.5, 3.9, 3.9, 3.8, 4.0, null, 4.5, 3.6, 3.9, 4.3, 4.0, 4.2, 3.7, 3.9, 4.2, 3.5, 4.0, 3.8, 4.1, 4.2, 4.1, 4.4, 3.7, null, 4.7, 3.8, 4.0, 4.2, 3.8, 3.9, 4.0, 3.1, 5.0, 3.5, 4.1, 4.5, 4.7, 4.1, null, 3.9, 4.0, 4.3, 3.1, null, 4.2, 4.1, 4.4, 3.2, null, 3.3, 4.3, 4.7, 4.3, 4.2, 4.7, 4.3, 4.2, 4.2, 4.2, 4.1, 4.2, 4.3, 4.4, 4.3, 3.5, 4.3, 1.8, 4.2, 4.2, 4.6, 4.0, 4.3, 5.0, 3.8, 4.3, 3.0, 5.0, 4.7, 4.6, 4.4, 4.7, 5.0, 4.8, 3.0, 4.6, 4.6, null, 4.1, 4.6, 4.5, 4.3, 4.2, 3.9, 4.7, 4.9, 4.3, 4.4, 3.6, 4.6, 4.5, null, 3.9, 4.3, 4.8, 3.7, 4.4, 4.2, 4.3, 4.6, 4.5, 3.9, 4.3, 4.4, 4.0, 4.7, 4.3, 4.5, 4.2, 4.2, 4.8, 4.6, 4.5, 4.0, 4.2, 4.1, 4.7, 4.2, 4.6, 4.5, 3.9, 3.6, 4.6, null, 3.4, 4.2, 3.4, 3.6, 4.2, 3.5, 4.3, null, 3.9, 4.3, 3.6, null, 3.9, 4.3, 3.7, null, 3.8, null, 4.1, 4.1, 4.7, 4.1, null, 1.9, 3.6, 3.8, null, 4.5, 2.7, null, 4.5, null, 5.0, 4.0, 4.2, null, null, 4.4, null, 4.0, null, 3.1, null, null, 5.0, null, null, null, null, null, null, null, null, null, 4.7, 3.7, 3.9, null, null, 3.0, null, null, null, null, null, 4.2, 3.0, null, null, 4.2, null, null, 4.2, 3.7, 4.6, 4.5, 4.6, 4.7, 4.3, 2.3, 2.8, 2.8, 3.6, 3.0, 3.2, 3.5, 3.8, 3.5, 4.2, null, 4.5, 3.4, 3.0, 4.4, 4.0, null, 4.3, null, 4.1, 3.6, 3.7, 4.2, 3.7, 4.3, null, null, 3.3, 4.4, 4.8, 3.5, 4.0, 4.9, 4.0, null, 4.6, 4.3, 3.6, 3.9, 3.9, 4.0, 4.2, 4.4, null, null, 4.3, null, null, null, null, 3.7, null, 4.3, null, null, 3.4, null, 3.5, null, 4.2, 4.2, null, 3.6, null, 3.9, 3.8, 3.8, 4.0, 4.5, 3.8, 4.9, 3.8, 4.1, 3.5, 3.0, 4.5, 4.7, 3.8, 3.3, 4.0, 4.1, 3.7, 3.9, 3.5, 4.4, 4.0, 4.0, 4.6, 4.4, 4.5, 4.3, 4.4, 4.3, 4.1, 4.2, 2.7, 4.2, 2.3, 3.9, 4.1, 2.9, 3.3, 4.2, 4.3, 2.9, 3.5, 2.8, null, 4.3, 3.5, 4.6, 4.2, 4.2, 3.7, 4.7, 3.9, 4.3, 4.4, 4.0, 4.4, 3.7, 4.3, 3.5, null, 4.3, 4.0, 4.5, 4.2, 4.3, 4.1, 2.5, 2.7, null, null, null, null, 1.2, null, null, null, 4.7, 4.9, 4.7, null, null, 4.4, 4.7, 4.0, null, 4.7, 4.3, null, 4.7, null, 4.4, null, null, null, null, null, null, 4.6, null, null, null, 4.4, 4.4, 4.4, 4.6, 3.1, 4.3, 3.7, 4.6, null, 4.1, 4.2, 4.4, 4.1, 3.6, 4.4, 3.8, 4.0, 3.2, 2.8, 3.1, 2.9, 4.1, 3.3, 3.5, 4.2, 2.8, 2.1, 4.4, 4.4, 4.2, 4.1, 3.3, 3.5, 4.7, 3.1, 4.3, 4.1, 4.2, 2.5, 3.9, 3.0, 3.2, 4.3, 4.3, 4.2, 4.3, 2.2, 3.9, 2.8, 4.4, 4.6, 4.4, 3.9, 2.9, 4.1, 5.0, 4.6, 3.7, null, 4.4, 4.2, 4.4, 3.9, 3.6, 3.4, null, 4.3, 4.3, 4.4, null, 4.3, 4.3, null, null, null, 4.4, null, 4.0, 4.5, 4.6, 4.3, 4.1, 4.4, 3.5, 4.1, 3.8, 4.2, 4.3, 4.5, 4.0, 4.0, 4.3, 4.1, 3.4, 4.0, 4.3, 4.7, 4.5, 4.3, 4.1, 4.1, 4.4, 4.6, null, 3.8, 3.9, 4.2, 4.2, 3.7, 4.3, 4.2, 3.6, 4.3, 4.3, 4.3, 4.5, 4.3, 4.7, 3.8, 4.0, 4.1, null, 3.9, 4.3, 3.4, null, 4.2, 4.5, 4.4, 4.2, 4.7, 4.6, 4.4, 4.4, 4.8, 4.6, 4.3, 4.4, 4.4, 3.3, 4.5, 4.6, 4.3, 4.9, 4.3, null, 4.5, 4.9, 3.7, 4.5, 4.6, 4.5, 4.1, 4.8, null, 5.0, 3.4, 4.5, 4.8, 4.5, 4.5, 4.5, 4.5, 4.5, 4.1, 4.1, 3.6, 4.7, 4.6, 4.9, 4.6, 4.1, 4.5, 3.9, 3.9, 4.6, 3.8, 4.7, 3.9, 4.1, 3.9, 4.0, 4.3, 4.0, 4.4, 4.1, 5.0, 4.8, null, 4.6, 5.0, 4.2, 4.7, 4.0, 4.4, 4.9, 3.5, 4.1, 4.2, 4.4, null, 4.5, 3.1, null, 4.5, 4.6, 4.3, 4.4, 4.6, 4.3, 4.8, 2.8, 4.1, 1.0, 3.0, 5.0, 4.5, null, null, null, null, null, null, null, 5.0, 4.1, null, null, null, 4.4, 3.0, null, 3.8, null, 3.9, null, null, null, 5.0, null, null, null, 4.5, null, null, null, 5.0, null, null, 3.3, null, 4.5, 4.9, null, null, null, null, null, null, 4.3, 4.5, 4.1, 4.8, 3.8, 4.1, 3.9, null, 4.2, 4.2, 4.8, 4.1, 4.1, 4.0, 3.9, 4.1, 4.1, 4.2, 3.7, 3.9, 3.9, 3.6, 3.7, 3.6, 4.3, 3.9, 4.5, 2.6, 4.4, null, 1.0, null, null, null, null, 4.2, 4.8, 5.0, 4.3, 4.4, 4.5, null, 4.9, null, null, null, 5.0, null, null, 4.2, 4.2, null, null, 4.0, 2.1, null, 4.2, null, 2.5, 4.4, 4.4, 4.6, null, null, 4.4, 4.2, 4.5, 3.3, 3.9, null, 4.5, 4.1, 4.8, 4.6, 4.4, 3.8, 3.7, 4.2, 3.7, 4.3, 4.5, 3.5, 4.0, 4.5, 2.9, 3.9, 3.6, 4.6, 2.1, 4.7, 4.5, 4.1, 4.5, 3.7, 2.9, 4.0, 4.2, 3.7, 3.6, 3.9, 3.4, 3.5, 4.2, 3.4, 3.9, 3.0, 3.6, 3.2, 4.1, 4.1, 4.2, 4.2, null, 4.7, null, 4.6, 4.5, null, 4.3, 4.5, 4.5, 4.4, 4.3, null, null, null, null, 4.2, null, 3.7, null, 4.1, 4.3, 4.0, 3.5, 4.2, 4.4, 4.2, 4.4, null, 3.8, 3.9, 4.0, 3.8, 3.6, 4.2, null, 3.8, null, 3.7, 4.0, 4.2, 4.4, null, null, 4.4, 4.9, null, 5.0, null, 4.8, null, null, null, null, null, null, null, null, 4.0, null, null, null, null, null, null, null, null, 4.0, null, null, 4.9, null, 3.8, null, 4.9, null, null, null, null, null, 1.5, null, 5.0, null, 4.8, null, 3.9, 3.7, 4.6, 4.7, 4.6, 4.3, 4.2, 4.6, 4.7, 4.6, 2.0, 3.6, 3.2, 3.8, 4.0, 3.8, 3.8, 4.4, 4.4, 4.4, 3.8, 4.3, 4.6, 1.0, 3.2, 4.7, 4.3, 4.5, 4.1, 4.9, 4.1, 4.2, 3.5, 4.2, 5.0, 3.8, 4.7, null, null, 4.5, null, 5.0, 3.3, 5.0, null, 4.0, 4.5, 3.2, 4.5, 4.2, null, 3.7, 3.8, 5.0, null, 4.1, 2.9, null, null, null, 4.7, 5.0, 3.2, null, 3.8, 3.8, 4.6, 4.6, 4.4, 4.8, 4.2, 3.3, 3.9, 4.5, 3.9, 4.3, 4.4, 3.9, 4.6, 3.9, 3.4, 4.6, null, null, 4.2, null, null, 4.8, 5.0, null, null, 5.0, null, null, null, 3.8, null, 2.9, 4.6, 3.8, null, null, null, 4.1, null, 4.5, null, 4.2, null, 2.5, 3.5, 4.6, 4.4, 4.6, 4.3, 4.2, 4.2, 4.1, 4.2, 4.3, 4.5, 4.4, 5.0, 4.6, null, null, null, null, null, 5.0, null, null, null, null, null, 3.4, null, null, 4.6, 4.5, null, null, 3.8, 4.1, 4.4, 4.4, 4.4, 3.0, 4.2, 4.2, 3.9, 4.2, 4.4, 5.0, 4.0, 4.3, 4.6, 3.6, 4.4, 4.1, 4.2, 4.3, 4.5, 3.9, 4.3, 3.5, null, null, null, 4.0, 3.8, 3.6, 4.3, 4.2, 5.0, 3.4, null, null, null, 3.5, null, 3.7, 4.2, null, 3.6, 4.5, 4.2, 4.3, 4.4, 2.7, 4.1, null, 4.4, null, null, 4.5, null, 3.4, 2.9, 4.8, 3.8, null, 4.0, 3.9, null, null, null, null, 5.0, 3.9, 4.0, 3.6, 4.1, 4.3, 3.8, 4.2, 4.3, 4.2, 4.2, 4.1, null, 4.0, 4.1, 4.0, 4.2, 4.4, null, 4.2, 4.7, 4.6, null, 4.7, 4.1, 4.9, 4.0, 4.3, 4.2, 4.3, null, null, null, 4.7, 4.8, null, 4.1, null, 4.0, 4.2, null, 4.0, null, 3.3, 5.0, null, null, null, null, null, 4.0, 4.2, 3.4, 4.6, 3.8, null, 3.8, 4.8, 4.0, null, 4.5, 5.0, null, 4.5, 4.5], \"xaxis\": \"x\", \"yaxis\": \"y\"}],\n",
              "                        {\"barmode\": \"relative\", \"legend\": {\"tracegroupgap\": 0}, \"margin\": {\"t\": 60}, \"template\": {\"data\": {\"bar\": [{\"error_x\": {\"color\": \"#2a3f5f\"}, \"error_y\": {\"color\": \"#2a3f5f\"}, \"marker\": {\"line\": {\"color\": \"#E5ECF6\", \"width\": 0.5}}, \"type\": \"bar\"}], \"barpolar\": [{\"marker\": {\"line\": {\"color\": \"#E5ECF6\", \"width\": 0.5}}, \"type\": \"barpolar\"}], \"carpet\": [{\"aaxis\": {\"endlinecolor\": \"#2a3f5f\", \"gridcolor\": \"white\", \"linecolor\": \"white\", \"minorgridcolor\": \"white\", \"startlinecolor\": \"#2a3f5f\"}, \"baxis\": {\"endlinecolor\": \"#2a3f5f\", \"gridcolor\": \"white\", \"linecolor\": \"white\", \"minorgridcolor\": \"white\", \"startlinecolor\": \"#2a3f5f\"}, \"type\": \"carpet\"}], \"choropleth\": [{\"colorbar\": {\"outlinewidth\": 0, \"ticks\": \"\"}, \"type\": \"choropleth\"}], \"contour\": [{\"colorbar\": {\"outlinewidth\": 0, \"ticks\": \"\"}, \"colorscale\": [[0.0, \"#0d0887\"], [0.1111111111111111, \"#46039f\"], [0.2222222222222222, \"#7201a8\"], [0.3333333333333333, \"#9c179e\"], [0.4444444444444444, \"#bd3786\"], [0.5555555555555556, \"#d8576b\"], [0.6666666666666666, \"#ed7953\"], [0.7777777777777778, \"#fb9f3a\"], [0.8888888888888888, \"#fdca26\"], [1.0, \"#f0f921\"]], \"type\": \"contour\"}], \"contourcarpet\": [{\"colorbar\": {\"outlinewidth\": 0, \"ticks\": \"\"}, \"type\": \"contourcarpet\"}], \"heatmap\": [{\"colorbar\": {\"outlinewidth\": 0, \"ticks\": \"\"}, \"colorscale\": [[0.0, \"#0d0887\"], [0.1111111111111111, \"#46039f\"], [0.2222222222222222, \"#7201a8\"], [0.3333333333333333, \"#9c179e\"], [0.4444444444444444, \"#bd3786\"], [0.5555555555555556, \"#d8576b\"], [0.6666666666666666, \"#ed7953\"], [0.7777777777777778, \"#fb9f3a\"], [0.8888888888888888, \"#fdca26\"], [1.0, \"#f0f921\"]], \"type\": \"heatmap\"}], \"heatmapgl\": [{\"colorbar\": {\"outlinewidth\": 0, \"ticks\": \"\"}, \"colorscale\": [[0.0, \"#0d0887\"], [0.1111111111111111, \"#46039f\"], [0.2222222222222222, \"#7201a8\"], [0.3333333333333333, \"#9c179e\"], [0.4444444444444444, \"#bd3786\"], [0.5555555555555556, \"#d8576b\"], [0.6666666666666666, \"#ed7953\"], [0.7777777777777778, \"#fb9f3a\"], [0.8888888888888888, \"#fdca26\"], [1.0, \"#f0f921\"]], \"type\": \"heatmapgl\"}], \"histogram\": [{\"marker\": {\"colorbar\": {\"outlinewidth\": 0, \"ticks\": \"\"}}, \"type\": \"histogram\"}], \"histogram2d\": [{\"colorbar\": {\"outlinewidth\": 0, \"ticks\": \"\"}, \"colorscale\": [[0.0, \"#0d0887\"], [0.1111111111111111, \"#46039f\"], [0.2222222222222222, \"#7201a8\"], [0.3333333333333333, \"#9c179e\"], [0.4444444444444444, \"#bd3786\"], [0.5555555555555556, \"#d8576b\"], [0.6666666666666666, \"#ed7953\"], [0.7777777777777778, \"#fb9f3a\"], [0.8888888888888888, \"#fdca26\"], [1.0, \"#f0f921\"]], \"type\": \"histogram2d\"}], \"histogram2dcontour\": [{\"colorbar\": {\"outlinewidth\": 0, \"ticks\": \"\"}, \"colorscale\": [[0.0, \"#0d0887\"], [0.1111111111111111, \"#46039f\"], [0.2222222222222222, \"#7201a8\"], [0.3333333333333333, \"#9c179e\"], [0.4444444444444444, \"#bd3786\"], [0.5555555555555556, \"#d8576b\"], [0.6666666666666666, \"#ed7953\"], [0.7777777777777778, \"#fb9f3a\"], [0.8888888888888888, \"#fdca26\"], [1.0, \"#f0f921\"]], \"type\": \"histogram2dcontour\"}], \"mesh3d\": [{\"colorbar\": {\"outlinewidth\": 0, \"ticks\": \"\"}, \"type\": \"mesh3d\"}], \"parcoords\": [{\"line\": {\"colorbar\": {\"outlinewidth\": 0, \"ticks\": \"\"}}, \"type\": \"parcoords\"}], \"pie\": [{\"automargin\": true, \"type\": \"pie\"}], \"scatter\": [{\"marker\": {\"colorbar\": {\"outlinewidth\": 0, \"ticks\": \"\"}}, \"type\": \"scatter\"}], \"scatter3d\": [{\"line\": {\"colorbar\": {\"outlinewidth\": 0, \"ticks\": \"\"}}, \"marker\": {\"colorbar\": {\"outlinewidth\": 0, \"ticks\": \"\"}}, \"type\": \"scatter3d\"}], \"scattercarpet\": [{\"marker\": {\"colorbar\": {\"outlinewidth\": 0, \"ticks\": \"\"}}, \"type\": \"scattercarpet\"}], \"scattergeo\": [{\"marker\": {\"colorbar\": {\"outlinewidth\": 0, \"ticks\": \"\"}}, \"type\": \"scattergeo\"}], \"scattergl\": [{\"marker\": {\"colorbar\": {\"outlinewidth\": 0, \"ticks\": \"\"}}, \"type\": \"scattergl\"}], \"scattermapbox\": [{\"marker\": {\"colorbar\": {\"outlinewidth\": 0, \"ticks\": \"\"}}, \"type\": \"scattermapbox\"}], \"scatterpolar\": [{\"marker\": {\"colorbar\": {\"outlinewidth\": 0, \"ticks\": \"\"}}, \"type\": \"scatterpolar\"}], \"scatterpolargl\": [{\"marker\": {\"colorbar\": {\"outlinewidth\": 0, \"ticks\": \"\"}}, \"type\": \"scatterpolargl\"}], \"scatterternary\": [{\"marker\": {\"colorbar\": {\"outlinewidth\": 0, \"ticks\": \"\"}}, \"type\": \"scatterternary\"}], \"surface\": [{\"colorbar\": {\"outlinewidth\": 0, \"ticks\": \"\"}, \"colorscale\": [[0.0, \"#0d0887\"], [0.1111111111111111, \"#46039f\"], [0.2222222222222222, \"#7201a8\"], [0.3333333333333333, \"#9c179e\"], [0.4444444444444444, \"#bd3786\"], [0.5555555555555556, \"#d8576b\"], [0.6666666666666666, \"#ed7953\"], [0.7777777777777778, \"#fb9f3a\"], [0.8888888888888888, \"#fdca26\"], [1.0, \"#f0f921\"]], \"type\": \"surface\"}], \"table\": [{\"cells\": {\"fill\": {\"color\": \"#EBF0F8\"}, \"line\": {\"color\": \"white\"}}, \"header\": {\"fill\": {\"color\": \"#C8D4E3\"}, \"line\": {\"color\": \"white\"}}, \"type\": \"table\"}]}, \"layout\": {\"annotationdefaults\": {\"arrowcolor\": \"#2a3f5f\", \"arrowhead\": 0, \"arrowwidth\": 1}, \"coloraxis\": {\"colorbar\": {\"outlinewidth\": 0, \"ticks\": \"\"}}, \"colorscale\": {\"diverging\": [[0, \"#8e0152\"], [0.1, \"#c51b7d\"], [0.2, \"#de77ae\"], [0.3, \"#f1b6da\"], [0.4, \"#fde0ef\"], [0.5, \"#f7f7f7\"], [0.6, \"#e6f5d0\"], [0.7, \"#b8e186\"], [0.8, \"#7fbc41\"], [0.9, \"#4d9221\"], [1, \"#276419\"]], \"sequential\": [[0.0, \"#0d0887\"], [0.1111111111111111, \"#46039f\"], [0.2222222222222222, \"#7201a8\"], [0.3333333333333333, \"#9c179e\"], [0.4444444444444444, \"#bd3786\"], [0.5555555555555556, \"#d8576b\"], [0.6666666666666666, \"#ed7953\"], [0.7777777777777778, \"#fb9f3a\"], [0.8888888888888888, \"#fdca26\"], [1.0, \"#f0f921\"]], \"sequentialminus\": [[0.0, \"#0d0887\"], [0.1111111111111111, \"#46039f\"], [0.2222222222222222, \"#7201a8\"], [0.3333333333333333, \"#9c179e\"], [0.4444444444444444, \"#bd3786\"], [0.5555555555555556, \"#d8576b\"], [0.6666666666666666, \"#ed7953\"], [0.7777777777777778, \"#fb9f3a\"], [0.8888888888888888, \"#fdca26\"], [1.0, \"#f0f921\"]]}, \"colorway\": [\"#636efa\", \"#EF553B\", \"#00cc96\", \"#ab63fa\", \"#FFA15A\", \"#19d3f3\", \"#FF6692\", \"#B6E880\", \"#FF97FF\", \"#FECB52\"], \"font\": {\"color\": \"#2a3f5f\"}, \"geo\": {\"bgcolor\": \"white\", \"lakecolor\": \"white\", \"landcolor\": \"#E5ECF6\", \"showlakes\": true, \"showland\": true, \"subunitcolor\": \"white\"}, \"hoverlabel\": {\"align\": \"left\"}, \"hovermode\": \"closest\", \"mapbox\": {\"style\": \"light\"}, \"paper_bgcolor\": \"white\", \"plot_bgcolor\": \"#E5ECF6\", \"polar\": {\"angularaxis\": {\"gridcolor\": \"white\", \"linecolor\": \"white\", \"ticks\": \"\"}, \"bgcolor\": \"#E5ECF6\", \"radialaxis\": {\"gridcolor\": \"white\", \"linecolor\": \"white\", \"ticks\": \"\"}}, \"scene\": {\"xaxis\": {\"backgroundcolor\": \"#E5ECF6\", \"gridcolor\": \"white\", \"gridwidth\": 2, \"linecolor\": \"white\", \"showbackground\": true, \"ticks\": \"\", \"zerolinecolor\": \"white\"}, \"yaxis\": {\"backgroundcolor\": \"#E5ECF6\", \"gridcolor\": \"white\", \"gridwidth\": 2, \"linecolor\": \"white\", \"showbackground\": true, \"ticks\": \"\", \"zerolinecolor\": \"white\"}, \"zaxis\": {\"backgroundcolor\": \"#E5ECF6\", \"gridcolor\": \"white\", \"gridwidth\": 2, \"linecolor\": \"white\", \"showbackground\": true, \"ticks\": \"\", \"zerolinecolor\": \"white\"}}, \"shapedefaults\": {\"line\": {\"color\": \"#2a3f5f\"}}, \"ternary\": {\"aaxis\": {\"gridcolor\": \"white\", \"linecolor\": \"white\", \"ticks\": \"\"}, \"baxis\": {\"gridcolor\": \"white\", \"linecolor\": \"white\", \"ticks\": \"\"}, \"bgcolor\": \"#E5ECF6\", \"caxis\": {\"gridcolor\": \"white\", \"linecolor\": \"white\", \"ticks\": \"\"}}, \"title\": {\"x\": 0.05}, \"xaxis\": {\"automargin\": true, \"gridcolor\": \"white\", \"linecolor\": \"white\", \"ticks\": \"\", \"title\": {\"standoff\": 15}, \"zerolinecolor\": \"white\", \"zerolinewidth\": 2}, \"yaxis\": {\"automargin\": true, \"gridcolor\": \"white\", \"linecolor\": \"white\", \"ticks\": \"\", \"title\": {\"standoff\": 15}, \"zerolinecolor\": \"white\", \"zerolinewidth\": 2}}}, \"xaxis\": {\"anchor\": \"y\", \"domain\": [0.0, 1.0], \"title\": {\"text\": \"Rating\"}}, \"yaxis\": {\"anchor\": \"x\", \"domain\": [0.0, 1.0], \"title\": {\"text\": \"count\"}}},\n",
              "                        {\"responsive\": true}\n",
              "                    ).then(function(){\n",
              "                            \n",
              "var gd = document.getElementById('33e806c9-74d4-4f83-9904-573099ca176d');\n",
              "var x = new MutationObserver(function (mutations, observer) {{\n",
              "        var display = window.getComputedStyle(gd).display;\n",
              "        if (!display || display === 'none') {{\n",
              "            console.log([gd, 'removed!']);\n",
              "            Plotly.purge(gd);\n",
              "            observer.disconnect();\n",
              "        }}\n",
              "}});\n",
              "\n",
              "// Listen for the removal of the full notebook cells\n",
              "var notebookContainer = gd.closest('#notebook-container');\n",
              "if (notebookContainer) {{\n",
              "    x.observe(notebookContainer, {childList: true});\n",
              "}}\n",
              "\n",
              "// Listen for the clearing of the current output cell\n",
              "var outputEl = gd.closest('.output');\n",
              "if (outputEl) {{\n",
              "    x.observe(outputEl, {childList: true});\n",
              "}}\n",
              "\n",
              "                        })\n",
              "                };\n",
              "                \n",
              "            </script>\n",
              "        </div>\n",
              "</body>\n",
              "</html>"
            ]
          },
          "metadata": {
            "tags": []
          }
        }
      ]
    },
    {
      "cell_type": "markdown",
      "metadata": {
        "id": "YMGN8O8iq16e"
      },
      "source": [
        "https://geosim.cs.vt.edu/Sable/converted/MMM/activity.html"
      ]
    },
    {
      "cell_type": "markdown",
      "metadata": {
        "id": "uDnESQg7qj0V"
      },
      "source": [
        "![image.png](data:image/png;base64,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)"
      ]
    },
    {
      "cell_type": "code",
      "metadata": {
        "colab": {
          "base_uri": "https://localhost:8080/"
        },
        "id": "oSofICBinoPL",
        "outputId": "a5392876-1fc9-4661-d846-6d23b8d5ce2f"
      },
      "source": [
        "threshold = len(data_df)*0.1\n",
        "threshold"
      ],
      "execution_count": null,
      "outputs": [
        {
          "output_type": "execute_result",
          "data": {
            "text/plain": [
              "1084.0"
            ]
          },
          "metadata": {
            "tags": []
          },
          "execution_count": 19
        }
      ]
    },
    {
      "cell_type": "code",
      "metadata": {
        "id": "m_24vkDrrMfS"
      },
      "source": [
        "data_df.dropna(thresh=threshold,axis=1,inplace=True)"
      ],
      "execution_count": null,
      "outputs": []
    },
    {
      "cell_type": "code",
      "metadata": {
        "colab": {
          "base_uri": "https://localhost:8080/"
        },
        "id": "pxo9P5zErcBr",
        "outputId": "fb868288-17a0-4f57-9d1e-518a73c940a5"
      },
      "source": [
        "print(data_df.isnull().sum())"
      ],
      "execution_count": null,
      "outputs": [
        {
          "output_type": "stream",
          "text": [
            "App                  0\n",
            "Category             0\n",
            "Rating            1474\n",
            "Reviews              0\n",
            "Size                 0\n",
            "Installs             0\n",
            "Type                 1\n",
            "Price                0\n",
            "Content Rating       0\n",
            "Genres               0\n",
            "Last Updated         0\n",
            "Current Ver          8\n",
            "Android Ver          2\n",
            "dtype: int64\n"
          ],
          "name": "stdout"
        }
      ]
    },
    {
      "cell_type": "code",
      "metadata": {
        "id": "y0mFTH73rjvF"
      },
      "source": [
        "def input_median(series):\n",
        "  return series.fillna(series.median())"
      ],
      "execution_count": null,
      "outputs": []
    },
    {
      "cell_type": "code",
      "metadata": {
        "id": "B43MvER4sjm4"
      },
      "source": [
        "data_df.Rating = data_df['Rating'].transform(input_median)"
      ],
      "execution_count": null,
      "outputs": []
    },
    {
      "cell_type": "code",
      "metadata": {
        "colab": {
          "base_uri": "https://localhost:8080/"
        },
        "id": "dwNs0-MUs9AP",
        "outputId": "42b79f3b-b09d-4749-b156-fe74a9c4dca5"
      },
      "source": [
        "data_df.isnull().sum()"
      ],
      "execution_count": null,
      "outputs": [
        {
          "output_type": "execute_result",
          "data": {
            "text/plain": [
              "App               0\n",
              "Category          0\n",
              "Rating            0\n",
              "Reviews           0\n",
              "Size              0\n",
              "Installs          0\n",
              "Type              1\n",
              "Price             0\n",
              "Content Rating    0\n",
              "Genres            0\n",
              "Last Updated      0\n",
              "Current Ver       8\n",
              "Android Ver       2\n",
              "dtype: int64"
            ]
          },
          "metadata": {
            "tags": []
          },
          "execution_count": 24
        }
      ]
    },
    {
      "cell_type": "code",
      "metadata": {
        "colab": {
          "base_uri": "https://localhost:8080/"
        },
        "id": "Ou3XTFxLtYWd",
        "outputId": "7e4c4e1f-cdff-4f39-d019-e36e6df75468"
      },
      "source": [
        "data_df.Type.unique()"
      ],
      "execution_count": null,
      "outputs": [
        {
          "output_type": "execute_result",
          "data": {
            "text/plain": [
              "array(['Free', 'Paid', nan], dtype=object)"
            ]
          },
          "metadata": {
            "tags": []
          },
          "execution_count": 25
        }
      ]
    },
    {
      "cell_type": "code",
      "metadata": {
        "colab": {
          "base_uri": "https://localhost:8080/"
        },
        "id": "9gvvbPgEufK1",
        "outputId": "e85272d3-1a02-42a1-ea81-e9cfa6cf0b26"
      },
      "source": [
        "data_df['Current Ver'].unique()"
      ],
      "execution_count": null,
      "outputs": [
        {
          "output_type": "execute_result",
          "data": {
            "text/plain": [
              "array(['1.0.0', '2.0.0', '1.2.4', ..., '1.0.612928', '0.3.4', '2.0.148.0'],\n",
              "      dtype=object)"
            ]
          },
          "metadata": {
            "tags": []
          },
          "execution_count": 26
        }
      ]
    },
    {
      "cell_type": "code",
      "metadata": {
        "colab": {
          "base_uri": "https://localhost:8080/"
        },
        "id": "MNpaQ4vYuxFP",
        "outputId": "d1aed3d0-dfa8-48d7-a806-63ada5493a7b"
      },
      "source": [
        "data_df['Android Ver'].unique()"
      ],
      "execution_count": null,
      "outputs": [
        {
          "output_type": "execute_result",
          "data": {
            "text/plain": [
              "array(['4.0.3 and up', '4.2 and up', '4.4 and up', '2.3 and up',\n",
              "       '3.0 and up', '4.1 and up', '4.0 and up', '2.3.3 and up',\n",
              "       'Varies with device', '2.2 and up', '5.0 and up', '6.0 and up',\n",
              "       '1.6 and up', '1.5 and up', '2.1 and up', '7.0 and up',\n",
              "       '5.1 and up', '4.3 and up', '4.0.3 - 7.1.1', '2.0 and up',\n",
              "       '3.2 and up', '4.4W and up', '7.1 and up', '7.0 - 7.1.1',\n",
              "       '8.0 and up', '5.0 - 8.0', '3.1 and up', '2.0.1 and up',\n",
              "       '4.1 - 7.1.1', nan, '5.0 - 6.0', '1.0 and up', '2.2 - 7.1.1',\n",
              "       '5.0 - 7.1.1'], dtype=object)"
            ]
          },
          "metadata": {
            "tags": []
          },
          "execution_count": 27
        }
      ]
    },
    {
      "cell_type": "code",
      "metadata": {
        "colab": {
          "base_uri": "https://localhost:8080/"
        },
        "id": "MOuLCH5vuMOf",
        "outputId": "6c44eb18-37b9-4906-8c36-529060ec8ad7"
      },
      "source": [
        "#categorical values : modes\n",
        "print(data_df['Type'].mode())\n",
        "print(data_df['Current Ver'].mode())\n",
        "print(data_df['Android Ver'].mode())"
      ],
      "execution_count": null,
      "outputs": [
        {
          "output_type": "stream",
          "text": [
            "0    Free\n",
            "dtype: object\n",
            "0    Varies with device\n",
            "dtype: object\n",
            "0    4.1 and up\n",
            "dtype: object\n"
          ],
          "name": "stdout"
        }
      ]
    },
    {
      "cell_type": "code",
      "metadata": {
        "id": "9gXDbI1mucUi"
      },
      "source": [
        "data_df['Type'].fillna(str(data_df['Type'].mode().values[0]),inplace = True)\n",
        "data_df['Current Ver'].fillna(str(data_df['Current Ver'].mode().values[0]),inplace = True)"
      ],
      "execution_count": null,
      "outputs": []
    },
    {
      "cell_type": "code",
      "metadata": {
        "id": "Mz8GA4Ndzy0U"
      },
      "source": [
        "data_df['Android Ver'].fillna(str(data_df['Android Ver'].mode().values[0]),inplace = True)"
      ],
      "execution_count": null,
      "outputs": []
    },
    {
      "cell_type": "code",
      "metadata": {
        "colab": {
          "base_uri": "https://localhost:8080/"
        },
        "id": "QgK2LXhS0B4O",
        "outputId": "fd699e67-81c0-44ed-cb91-5d03d143a3f1"
      },
      "source": [
        "data_df.isnull().sum()"
      ],
      "execution_count": null,
      "outputs": [
        {
          "output_type": "execute_result",
          "data": {
            "text/plain": [
              "App               0\n",
              "Category          0\n",
              "Rating            0\n",
              "Reviews           0\n",
              "Size              0\n",
              "Installs          0\n",
              "Type              0\n",
              "Price             0\n",
              "Content Rating    0\n",
              "Genres            0\n",
              "Last Updated      0\n",
              "Current Ver       0\n",
              "Android Ver       0\n",
              "dtype: int64"
            ]
          },
          "metadata": {
            "tags": []
          },
          "execution_count": 31
        }
      ]
    },
    {
      "cell_type": "code",
      "metadata": {
        "id": "SaZn0dMp0Fcr"
      },
      "source": [
        "data_df['Price'] = data_df['Price'].apply(lambda x : str(x).replace('$','') if '$' in str(x) else str(x))\n",
        "data_df['Price'] = data_df['Price'].apply(lambda x : float(x))\n",
        "data_df['Reviews'] = pd.to_numeric(data_df['Reviews'],errors='coerce')\n"
      ],
      "execution_count": null,
      "outputs": []
    },
    {
      "cell_type": "code",
      "metadata": {
        "id": "NwiGOsO_-u8_"
      },
      "source": [
        ""
      ],
      "execution_count": null,
      "outputs": []
    },
    {
      "cell_type": "code",
      "metadata": {
        "id": "iJBQrTib_dy_"
      },
      "source": [
        "#data_df[\"Review Length\"]= data_df[\"Reviews\"].astype(str).str.len()"
      ],
      "execution_count": null,
      "outputs": []
    },
    {
      "cell_type": "code",
      "metadata": {
        "colab": {
          "base_uri": "https://localhost:8080/",
          "height": 960
        },
        "id": "chlaEDUX_3II",
        "outputId": "dc0ca383-dc88-49f9-fd3d-34d7f040407d"
      },
      "source": [
        "data_df"
      ],
      "execution_count": null,
      "outputs": [
        {
          "output_type": "execute_result",
          "data": {
            "text/html": [
              "<div>\n",
              "<style scoped>\n",
              "    .dataframe tbody tr th:only-of-type {\n",
              "        vertical-align: middle;\n",
              "    }\n",
              "\n",
              "    .dataframe tbody tr th {\n",
              "        vertical-align: top;\n",
              "    }\n",
              "\n",
              "    .dataframe thead th {\n",
              "        text-align: right;\n",
              "    }\n",
              "</style>\n",
              "<table border=\"1\" class=\"dataframe\">\n",
              "  <thead>\n",
              "    <tr style=\"text-align: right;\">\n",
              "      <th></th>\n",
              "      <th>App</th>\n",
              "      <th>Category</th>\n",
              "      <th>Rating</th>\n",
              "      <th>Reviews</th>\n",
              "      <th>Size</th>\n",
              "      <th>Installs</th>\n",
              "      <th>Type</th>\n",
              "      <th>Price</th>\n",
              "      <th>Content Rating</th>\n",
              "      <th>Genres</th>\n",
              "      <th>Last Updated</th>\n",
              "      <th>Current Ver</th>\n",
              "      <th>Android Ver</th>\n",
              "    </tr>\n",
              "  </thead>\n",
              "  <tbody>\n",
              "    <tr>\n",
              "      <th>0</th>\n",
              "      <td>Photo Editor &amp; Candy Camera &amp; Grid &amp; ScrapBook</td>\n",
              "      <td>ART_AND_DESIGN</td>\n",
              "      <td>4.1</td>\n",
              "      <td>159</td>\n",
              "      <td>19M</td>\n",
              "      <td>10,000+</td>\n",
              "      <td>Free</td>\n",
              "      <td>0.0</td>\n",
              "      <td>Everyone</td>\n",
              "      <td>Art &amp; Design</td>\n",
              "      <td>January 7, 2018</td>\n",
              "      <td>1.0.0</td>\n",
              "      <td>4.0.3 and up</td>\n",
              "    </tr>\n",
              "    <tr>\n",
              "      <th>1</th>\n",
              "      <td>Coloring book moana</td>\n",
              "      <td>ART_AND_DESIGN</td>\n",
              "      <td>3.9</td>\n",
              "      <td>967</td>\n",
              "      <td>14M</td>\n",
              "      <td>500,000+</td>\n",
              "      <td>Free</td>\n",
              "      <td>0.0</td>\n",
              "      <td>Everyone</td>\n",
              "      <td>Art &amp; Design;Pretend Play</td>\n",
              "      <td>January 15, 2018</td>\n",
              "      <td>2.0.0</td>\n",
              "      <td>4.0.3 and up</td>\n",
              "    </tr>\n",
              "    <tr>\n",
              "      <th>2</th>\n",
              "      <td>U Launcher Lite – FREE Live Cool Themes, Hide ...</td>\n",
              "      <td>ART_AND_DESIGN</td>\n",
              "      <td>4.7</td>\n",
              "      <td>87510</td>\n",
              "      <td>8.7M</td>\n",
              "      <td>5,000,000+</td>\n",
              "      <td>Free</td>\n",
              "      <td>0.0</td>\n",
              "      <td>Everyone</td>\n",
              "      <td>Art &amp; Design</td>\n",
              "      <td>August 1, 2018</td>\n",
              "      <td>1.2.4</td>\n",
              "      <td>4.0.3 and up</td>\n",
              "    </tr>\n",
              "    <tr>\n",
              "      <th>3</th>\n",
              "      <td>Sketch - Draw &amp; Paint</td>\n",
              "      <td>ART_AND_DESIGN</td>\n",
              "      <td>4.5</td>\n",
              "      <td>215644</td>\n",
              "      <td>25M</td>\n",
              "      <td>50,000,000+</td>\n",
              "      <td>Free</td>\n",
              "      <td>0.0</td>\n",
              "      <td>Teen</td>\n",
              "      <td>Art &amp; Design</td>\n",
              "      <td>June 8, 2018</td>\n",
              "      <td>Varies with device</td>\n",
              "      <td>4.2 and up</td>\n",
              "    </tr>\n",
              "    <tr>\n",
              "      <th>4</th>\n",
              "      <td>Pixel Draw - Number Art Coloring Book</td>\n",
              "      <td>ART_AND_DESIGN</td>\n",
              "      <td>4.3</td>\n",
              "      <td>967</td>\n",
              "      <td>2.8M</td>\n",
              "      <td>100,000+</td>\n",
              "      <td>Free</td>\n",
              "      <td>0.0</td>\n",
              "      <td>Everyone</td>\n",
              "      <td>Art &amp; Design;Creativity</td>\n",
              "      <td>June 20, 2018</td>\n",
              "      <td>1.1</td>\n",
              "      <td>4.4 and up</td>\n",
              "    </tr>\n",
              "    <tr>\n",
              "      <th>...</th>\n",
              "      <td>...</td>\n",
              "      <td>...</td>\n",
              "      <td>...</td>\n",
              "      <td>...</td>\n",
              "      <td>...</td>\n",
              "      <td>...</td>\n",
              "      <td>...</td>\n",
              "      <td>...</td>\n",
              "      <td>...</td>\n",
              "      <td>...</td>\n",
              "      <td>...</td>\n",
              "      <td>...</td>\n",
              "      <td>...</td>\n",
              "    </tr>\n",
              "    <tr>\n",
              "      <th>10836</th>\n",
              "      <td>Sya9a Maroc - FR</td>\n",
              "      <td>FAMILY</td>\n",
              "      <td>4.5</td>\n",
              "      <td>38</td>\n",
              "      <td>53M</td>\n",
              "      <td>5,000+</td>\n",
              "      <td>Free</td>\n",
              "      <td>0.0</td>\n",
              "      <td>Everyone</td>\n",
              "      <td>Education</td>\n",
              "      <td>July 25, 2017</td>\n",
              "      <td>1.48</td>\n",
              "      <td>4.1 and up</td>\n",
              "    </tr>\n",
              "    <tr>\n",
              "      <th>10837</th>\n",
              "      <td>Fr. Mike Schmitz Audio Teachings</td>\n",
              "      <td>FAMILY</td>\n",
              "      <td>5.0</td>\n",
              "      <td>4</td>\n",
              "      <td>3.6M</td>\n",
              "      <td>100+</td>\n",
              "      <td>Free</td>\n",
              "      <td>0.0</td>\n",
              "      <td>Everyone</td>\n",
              "      <td>Education</td>\n",
              "      <td>July 6, 2018</td>\n",
              "      <td>1</td>\n",
              "      <td>4.1 and up</td>\n",
              "    </tr>\n",
              "    <tr>\n",
              "      <th>10838</th>\n",
              "      <td>Parkinson Exercices FR</td>\n",
              "      <td>MEDICAL</td>\n",
              "      <td>4.3</td>\n",
              "      <td>3</td>\n",
              "      <td>9.5M</td>\n",
              "      <td>1,000+</td>\n",
              "      <td>Free</td>\n",
              "      <td>0.0</td>\n",
              "      <td>Everyone</td>\n",
              "      <td>Medical</td>\n",
              "      <td>January 20, 2017</td>\n",
              "      <td>1</td>\n",
              "      <td>2.2 and up</td>\n",
              "    </tr>\n",
              "    <tr>\n",
              "      <th>10839</th>\n",
              "      <td>The SCP Foundation DB fr nn5n</td>\n",
              "      <td>BOOKS_AND_REFERENCE</td>\n",
              "      <td>4.5</td>\n",
              "      <td>114</td>\n",
              "      <td>Varies with device</td>\n",
              "      <td>1,000+</td>\n",
              "      <td>Free</td>\n",
              "      <td>0.0</td>\n",
              "      <td>Mature 17+</td>\n",
              "      <td>Books &amp; Reference</td>\n",
              "      <td>January 19, 2015</td>\n",
              "      <td>Varies with device</td>\n",
              "      <td>Varies with device</td>\n",
              "    </tr>\n",
              "    <tr>\n",
              "      <th>10840</th>\n",
              "      <td>iHoroscope - 2018 Daily Horoscope &amp; Astrology</td>\n",
              "      <td>LIFESTYLE</td>\n",
              "      <td>4.5</td>\n",
              "      <td>398307</td>\n",
              "      <td>19M</td>\n",
              "      <td>10,000,000+</td>\n",
              "      <td>Free</td>\n",
              "      <td>0.0</td>\n",
              "      <td>Everyone</td>\n",
              "      <td>Lifestyle</td>\n",
              "      <td>July 25, 2018</td>\n",
              "      <td>Varies with device</td>\n",
              "      <td>Varies with device</td>\n",
              "    </tr>\n",
              "  </tbody>\n",
              "</table>\n",
              "<p>10840 rows × 13 columns</p>\n",
              "</div>"
            ],
            "text/plain": [
              "                                                     App  ...         Android Ver\n",
              "0         Photo Editor & Candy Camera & Grid & ScrapBook  ...        4.0.3 and up\n",
              "1                                    Coloring book moana  ...        4.0.3 and up\n",
              "2      U Launcher Lite – FREE Live Cool Themes, Hide ...  ...        4.0.3 and up\n",
              "3                                  Sketch - Draw & Paint  ...          4.2 and up\n",
              "4                  Pixel Draw - Number Art Coloring Book  ...          4.4 and up\n",
              "...                                                  ...  ...                 ...\n",
              "10836                                   Sya9a Maroc - FR  ...          4.1 and up\n",
              "10837                   Fr. Mike Schmitz Audio Teachings  ...          4.1 and up\n",
              "10838                             Parkinson Exercices FR  ...          2.2 and up\n",
              "10839                      The SCP Foundation DB fr nn5n  ...  Varies with device\n",
              "10840      iHoroscope - 2018 Daily Horoscope & Astrology  ...  Varies with device\n",
              "\n",
              "[10840 rows x 13 columns]"
            ]
          },
          "metadata": {
            "tags": []
          },
          "execution_count": 34
        }
      ]
    },
    {
      "cell_type": "code",
      "metadata": {
        "id": "bO6DwkB_ALGd"
      },
      "source": [
        "#data_df.drop(['Review Length'],inplace=True,axis=1)"
      ],
      "execution_count": null,
      "outputs": []
    },
    {
      "cell_type": "code",
      "metadata": {
        "colab": {
          "base_uri": "https://localhost:8080/",
          "height": 960
        },
        "id": "eRPgHN9lBIDc",
        "outputId": "5a3710ef-fd3c-4bdb-c11a-3f7a7ab19870"
      },
      "source": [
        "data_df"
      ],
      "execution_count": null,
      "outputs": [
        {
          "output_type": "execute_result",
          "data": {
            "text/html": [
              "<div>\n",
              "<style scoped>\n",
              "    .dataframe tbody tr th:only-of-type {\n",
              "        vertical-align: middle;\n",
              "    }\n",
              "\n",
              "    .dataframe tbody tr th {\n",
              "        vertical-align: top;\n",
              "    }\n",
              "\n",
              "    .dataframe thead th {\n",
              "        text-align: right;\n",
              "    }\n",
              "</style>\n",
              "<table border=\"1\" class=\"dataframe\">\n",
              "  <thead>\n",
              "    <tr style=\"text-align: right;\">\n",
              "      <th></th>\n",
              "      <th>App</th>\n",
              "      <th>Category</th>\n",
              "      <th>Rating</th>\n",
              "      <th>Reviews</th>\n",
              "      <th>Size</th>\n",
              "      <th>Installs</th>\n",
              "      <th>Type</th>\n",
              "      <th>Price</th>\n",
              "      <th>Content Rating</th>\n",
              "      <th>Genres</th>\n",
              "      <th>Last Updated</th>\n",
              "      <th>Current Ver</th>\n",
              "      <th>Android Ver</th>\n",
              "    </tr>\n",
              "  </thead>\n",
              "  <tbody>\n",
              "    <tr>\n",
              "      <th>0</th>\n",
              "      <td>Photo Editor &amp; Candy Camera &amp; Grid &amp; ScrapBook</td>\n",
              "      <td>ART_AND_DESIGN</td>\n",
              "      <td>4.1</td>\n",
              "      <td>159</td>\n",
              "      <td>19M</td>\n",
              "      <td>10,000+</td>\n",
              "      <td>Free</td>\n",
              "      <td>0.0</td>\n",
              "      <td>Everyone</td>\n",
              "      <td>Art &amp; Design</td>\n",
              "      <td>January 7, 2018</td>\n",
              "      <td>1.0.0</td>\n",
              "      <td>4.0.3 and up</td>\n",
              "    </tr>\n",
              "    <tr>\n",
              "      <th>1</th>\n",
              "      <td>Coloring book moana</td>\n",
              "      <td>ART_AND_DESIGN</td>\n",
              "      <td>3.9</td>\n",
              "      <td>967</td>\n",
              "      <td>14M</td>\n",
              "      <td>500,000+</td>\n",
              "      <td>Free</td>\n",
              "      <td>0.0</td>\n",
              "      <td>Everyone</td>\n",
              "      <td>Art &amp; Design;Pretend Play</td>\n",
              "      <td>January 15, 2018</td>\n",
              "      <td>2.0.0</td>\n",
              "      <td>4.0.3 and up</td>\n",
              "    </tr>\n",
              "    <tr>\n",
              "      <th>2</th>\n",
              "      <td>U Launcher Lite – FREE Live Cool Themes, Hide ...</td>\n",
              "      <td>ART_AND_DESIGN</td>\n",
              "      <td>4.7</td>\n",
              "      <td>87510</td>\n",
              "      <td>8.7M</td>\n",
              "      <td>5,000,000+</td>\n",
              "      <td>Free</td>\n",
              "      <td>0.0</td>\n",
              "      <td>Everyone</td>\n",
              "      <td>Art &amp; Design</td>\n",
              "      <td>August 1, 2018</td>\n",
              "      <td>1.2.4</td>\n",
              "      <td>4.0.3 and up</td>\n",
              "    </tr>\n",
              "    <tr>\n",
              "      <th>3</th>\n",
              "      <td>Sketch - Draw &amp; Paint</td>\n",
              "      <td>ART_AND_DESIGN</td>\n",
              "      <td>4.5</td>\n",
              "      <td>215644</td>\n",
              "      <td>25M</td>\n",
              "      <td>50,000,000+</td>\n",
              "      <td>Free</td>\n",
              "      <td>0.0</td>\n",
              "      <td>Teen</td>\n",
              "      <td>Art &amp; Design</td>\n",
              "      <td>June 8, 2018</td>\n",
              "      <td>Varies with device</td>\n",
              "      <td>4.2 and up</td>\n",
              "    </tr>\n",
              "    <tr>\n",
              "      <th>4</th>\n",
              "      <td>Pixel Draw - Number Art Coloring Book</td>\n",
              "      <td>ART_AND_DESIGN</td>\n",
              "      <td>4.3</td>\n",
              "      <td>967</td>\n",
              "      <td>2.8M</td>\n",
              "      <td>100,000+</td>\n",
              "      <td>Free</td>\n",
              "      <td>0.0</td>\n",
              "      <td>Everyone</td>\n",
              "      <td>Art &amp; Design;Creativity</td>\n",
              "      <td>June 20, 2018</td>\n",
              "      <td>1.1</td>\n",
              "      <td>4.4 and up</td>\n",
              "    </tr>\n",
              "    <tr>\n",
              "      <th>...</th>\n",
              "      <td>...</td>\n",
              "      <td>...</td>\n",
              "      <td>...</td>\n",
              "      <td>...</td>\n",
              "      <td>...</td>\n",
              "      <td>...</td>\n",
              "      <td>...</td>\n",
              "      <td>...</td>\n",
              "      <td>...</td>\n",
              "      <td>...</td>\n",
              "      <td>...</td>\n",
              "      <td>...</td>\n",
              "      <td>...</td>\n",
              "    </tr>\n",
              "    <tr>\n",
              "      <th>10836</th>\n",
              "      <td>Sya9a Maroc - FR</td>\n",
              "      <td>FAMILY</td>\n",
              "      <td>4.5</td>\n",
              "      <td>38</td>\n",
              "      <td>53M</td>\n",
              "      <td>5,000+</td>\n",
              "      <td>Free</td>\n",
              "      <td>0.0</td>\n",
              "      <td>Everyone</td>\n",
              "      <td>Education</td>\n",
              "      <td>July 25, 2017</td>\n",
              "      <td>1.48</td>\n",
              "      <td>4.1 and up</td>\n",
              "    </tr>\n",
              "    <tr>\n",
              "      <th>10837</th>\n",
              "      <td>Fr. Mike Schmitz Audio Teachings</td>\n",
              "      <td>FAMILY</td>\n",
              "      <td>5.0</td>\n",
              "      <td>4</td>\n",
              "      <td>3.6M</td>\n",
              "      <td>100+</td>\n",
              "      <td>Free</td>\n",
              "      <td>0.0</td>\n",
              "      <td>Everyone</td>\n",
              "      <td>Education</td>\n",
              "      <td>July 6, 2018</td>\n",
              "      <td>1</td>\n",
              "      <td>4.1 and up</td>\n",
              "    </tr>\n",
              "    <tr>\n",
              "      <th>10838</th>\n",
              "      <td>Parkinson Exercices FR</td>\n",
              "      <td>MEDICAL</td>\n",
              "      <td>4.3</td>\n",
              "      <td>3</td>\n",
              "      <td>9.5M</td>\n",
              "      <td>1,000+</td>\n",
              "      <td>Free</td>\n",
              "      <td>0.0</td>\n",
              "      <td>Everyone</td>\n",
              "      <td>Medical</td>\n",
              "      <td>January 20, 2017</td>\n",
              "      <td>1</td>\n",
              "      <td>2.2 and up</td>\n",
              "    </tr>\n",
              "    <tr>\n",
              "      <th>10839</th>\n",
              "      <td>The SCP Foundation DB fr nn5n</td>\n",
              "      <td>BOOKS_AND_REFERENCE</td>\n",
              "      <td>4.5</td>\n",
              "      <td>114</td>\n",
              "      <td>Varies with device</td>\n",
              "      <td>1,000+</td>\n",
              "      <td>Free</td>\n",
              "      <td>0.0</td>\n",
              "      <td>Mature 17+</td>\n",
              "      <td>Books &amp; Reference</td>\n",
              "      <td>January 19, 2015</td>\n",
              "      <td>Varies with device</td>\n",
              "      <td>Varies with device</td>\n",
              "    </tr>\n",
              "    <tr>\n",
              "      <th>10840</th>\n",
              "      <td>iHoroscope - 2018 Daily Horoscope &amp; Astrology</td>\n",
              "      <td>LIFESTYLE</td>\n",
              "      <td>4.5</td>\n",
              "      <td>398307</td>\n",
              "      <td>19M</td>\n",
              "      <td>10,000,000+</td>\n",
              "      <td>Free</td>\n",
              "      <td>0.0</td>\n",
              "      <td>Everyone</td>\n",
              "      <td>Lifestyle</td>\n",
              "      <td>July 25, 2018</td>\n",
              "      <td>Varies with device</td>\n",
              "      <td>Varies with device</td>\n",
              "    </tr>\n",
              "  </tbody>\n",
              "</table>\n",
              "<p>10840 rows × 13 columns</p>\n",
              "</div>"
            ],
            "text/plain": [
              "                                                     App  ...         Android Ver\n",
              "0         Photo Editor & Candy Camera & Grid & ScrapBook  ...        4.0.3 and up\n",
              "1                                    Coloring book moana  ...        4.0.3 and up\n",
              "2      U Launcher Lite – FREE Live Cool Themes, Hide ...  ...        4.0.3 and up\n",
              "3                                  Sketch - Draw & Paint  ...          4.2 and up\n",
              "4                  Pixel Draw - Number Art Coloring Book  ...          4.4 and up\n",
              "...                                                  ...  ...                 ...\n",
              "10836                                   Sya9a Maroc - FR  ...          4.1 and up\n",
              "10837                   Fr. Mike Schmitz Audio Teachings  ...          4.1 and up\n",
              "10838                             Parkinson Exercices FR  ...          2.2 and up\n",
              "10839                      The SCP Foundation DB fr nn5n  ...  Varies with device\n",
              "10840      iHoroscope - 2018 Daily Horoscope & Astrology  ...  Varies with device\n",
              "\n",
              "[10840 rows x 13 columns]"
            ]
          },
          "metadata": {
            "tags": []
          },
          "execution_count": 36
        }
      ]
    },
    {
      "cell_type": "code",
      "metadata": {
        "id": "D8_aVkWxBL9p"
      },
      "source": [
        "data_df['Installs'] = data_df['Installs'].apply(lambda x : str(x).replace('+','') if '+' in str(x) else str(x))\n",
        "data_df['Installs'] = data_df['Installs'].apply(lambda x : str(x).replace(',','') if ',' in str(x) else str(x))"
      ],
      "execution_count": null,
      "outputs": []
    },
    {
      "cell_type": "code",
      "metadata": {
        "id": "P23mNvJABkSU"
      },
      "source": [
        "data_df['Installs'] = data_df['Installs'].astype(float).apply(lambda x : float(x))"
      ],
      "execution_count": null,
      "outputs": []
    },
    {
      "cell_type": "code",
      "metadata": {
        "colab": {
          "base_uri": "https://localhost:8080/",
          "height": 918
        },
        "id": "n_QXqOLKBjrN",
        "outputId": "91206492-519a-499c-a096-05a22dba1bac"
      },
      "source": [
        "\n",
        "data_df.head(10)"
      ],
      "execution_count": null,
      "outputs": [
        {
          "output_type": "execute_result",
          "data": {
            "text/html": [
              "<div>\n",
              "<style scoped>\n",
              "    .dataframe tbody tr th:only-of-type {\n",
              "        vertical-align: middle;\n",
              "    }\n",
              "\n",
              "    .dataframe tbody tr th {\n",
              "        vertical-align: top;\n",
              "    }\n",
              "\n",
              "    .dataframe thead th {\n",
              "        text-align: right;\n",
              "    }\n",
              "</style>\n",
              "<table border=\"1\" class=\"dataframe\">\n",
              "  <thead>\n",
              "    <tr style=\"text-align: right;\">\n",
              "      <th></th>\n",
              "      <th>App</th>\n",
              "      <th>Category</th>\n",
              "      <th>Rating</th>\n",
              "      <th>Reviews</th>\n",
              "      <th>Size</th>\n",
              "      <th>Installs</th>\n",
              "      <th>Type</th>\n",
              "      <th>Price</th>\n",
              "      <th>Content Rating</th>\n",
              "      <th>Genres</th>\n",
              "      <th>Last Updated</th>\n",
              "      <th>Current Ver</th>\n",
              "      <th>Android Ver</th>\n",
              "    </tr>\n",
              "  </thead>\n",
              "  <tbody>\n",
              "    <tr>\n",
              "      <th>0</th>\n",
              "      <td>Photo Editor &amp; Candy Camera &amp; Grid &amp; ScrapBook</td>\n",
              "      <td>ART_AND_DESIGN</td>\n",
              "      <td>4.1</td>\n",
              "      <td>159</td>\n",
              "      <td>19M</td>\n",
              "      <td>10000.0</td>\n",
              "      <td>Free</td>\n",
              "      <td>0.0</td>\n",
              "      <td>Everyone</td>\n",
              "      <td>Art &amp; Design</td>\n",
              "      <td>January 7, 2018</td>\n",
              "      <td>1.0.0</td>\n",
              "      <td>4.0.3 and up</td>\n",
              "    </tr>\n",
              "    <tr>\n",
              "      <th>1</th>\n",
              "      <td>Coloring book moana</td>\n",
              "      <td>ART_AND_DESIGN</td>\n",
              "      <td>3.9</td>\n",
              "      <td>967</td>\n",
              "      <td>14M</td>\n",
              "      <td>500000.0</td>\n",
              "      <td>Free</td>\n",
              "      <td>0.0</td>\n",
              "      <td>Everyone</td>\n",
              "      <td>Art &amp; Design;Pretend Play</td>\n",
              "      <td>January 15, 2018</td>\n",
              "      <td>2.0.0</td>\n",
              "      <td>4.0.3 and up</td>\n",
              "    </tr>\n",
              "    <tr>\n",
              "      <th>2</th>\n",
              "      <td>U Launcher Lite – FREE Live Cool Themes, Hide ...</td>\n",
              "      <td>ART_AND_DESIGN</td>\n",
              "      <td>4.7</td>\n",
              "      <td>87510</td>\n",
              "      <td>8.7M</td>\n",
              "      <td>5000000.0</td>\n",
              "      <td>Free</td>\n",
              "      <td>0.0</td>\n",
              "      <td>Everyone</td>\n",
              "      <td>Art &amp; Design</td>\n",
              "      <td>August 1, 2018</td>\n",
              "      <td>1.2.4</td>\n",
              "      <td>4.0.3 and up</td>\n",
              "    </tr>\n",
              "    <tr>\n",
              "      <th>3</th>\n",
              "      <td>Sketch - Draw &amp; Paint</td>\n",
              "      <td>ART_AND_DESIGN</td>\n",
              "      <td>4.5</td>\n",
              "      <td>215644</td>\n",
              "      <td>25M</td>\n",
              "      <td>50000000.0</td>\n",
              "      <td>Free</td>\n",
              "      <td>0.0</td>\n",
              "      <td>Teen</td>\n",
              "      <td>Art &amp; Design</td>\n",
              "      <td>June 8, 2018</td>\n",
              "      <td>Varies with device</td>\n",
              "      <td>4.2 and up</td>\n",
              "    </tr>\n",
              "    <tr>\n",
              "      <th>4</th>\n",
              "      <td>Pixel Draw - Number Art Coloring Book</td>\n",
              "      <td>ART_AND_DESIGN</td>\n",
              "      <td>4.3</td>\n",
              "      <td>967</td>\n",
              "      <td>2.8M</td>\n",
              "      <td>100000.0</td>\n",
              "      <td>Free</td>\n",
              "      <td>0.0</td>\n",
              "      <td>Everyone</td>\n",
              "      <td>Art &amp; Design;Creativity</td>\n",
              "      <td>June 20, 2018</td>\n",
              "      <td>1.1</td>\n",
              "      <td>4.4 and up</td>\n",
              "    </tr>\n",
              "    <tr>\n",
              "      <th>5</th>\n",
              "      <td>Paper flowers instructions</td>\n",
              "      <td>ART_AND_DESIGN</td>\n",
              "      <td>4.4</td>\n",
              "      <td>167</td>\n",
              "      <td>5.6M</td>\n",
              "      <td>50000.0</td>\n",
              "      <td>Free</td>\n",
              "      <td>0.0</td>\n",
              "      <td>Everyone</td>\n",
              "      <td>Art &amp; Design</td>\n",
              "      <td>March 26, 2017</td>\n",
              "      <td>1</td>\n",
              "      <td>2.3 and up</td>\n",
              "    </tr>\n",
              "    <tr>\n",
              "      <th>6</th>\n",
              "      <td>Smoke Effect Photo Maker - Smoke Editor</td>\n",
              "      <td>ART_AND_DESIGN</td>\n",
              "      <td>3.8</td>\n",
              "      <td>178</td>\n",
              "      <td>19M</td>\n",
              "      <td>50000.0</td>\n",
              "      <td>Free</td>\n",
              "      <td>0.0</td>\n",
              "      <td>Everyone</td>\n",
              "      <td>Art &amp; Design</td>\n",
              "      <td>April 26, 2018</td>\n",
              "      <td>1.1</td>\n",
              "      <td>4.0.3 and up</td>\n",
              "    </tr>\n",
              "    <tr>\n",
              "      <th>7</th>\n",
              "      <td>Infinite Painter</td>\n",
              "      <td>ART_AND_DESIGN</td>\n",
              "      <td>4.1</td>\n",
              "      <td>36815</td>\n",
              "      <td>29M</td>\n",
              "      <td>1000000.0</td>\n",
              "      <td>Free</td>\n",
              "      <td>0.0</td>\n",
              "      <td>Everyone</td>\n",
              "      <td>Art &amp; Design</td>\n",
              "      <td>June 14, 2018</td>\n",
              "      <td>6.1.61.1</td>\n",
              "      <td>4.2 and up</td>\n",
              "    </tr>\n",
              "    <tr>\n",
              "      <th>8</th>\n",
              "      <td>Garden Coloring Book</td>\n",
              "      <td>ART_AND_DESIGN</td>\n",
              "      <td>4.4</td>\n",
              "      <td>13791</td>\n",
              "      <td>33M</td>\n",
              "      <td>1000000.0</td>\n",
              "      <td>Free</td>\n",
              "      <td>0.0</td>\n",
              "      <td>Everyone</td>\n",
              "      <td>Art &amp; Design</td>\n",
              "      <td>September 20, 2017</td>\n",
              "      <td>2.9.2</td>\n",
              "      <td>3.0 and up</td>\n",
              "    </tr>\n",
              "    <tr>\n",
              "      <th>9</th>\n",
              "      <td>Kids Paint Free - Drawing Fun</td>\n",
              "      <td>ART_AND_DESIGN</td>\n",
              "      <td>4.7</td>\n",
              "      <td>121</td>\n",
              "      <td>3.1M</td>\n",
              "      <td>10000.0</td>\n",
              "      <td>Free</td>\n",
              "      <td>0.0</td>\n",
              "      <td>Everyone</td>\n",
              "      <td>Art &amp; Design;Creativity</td>\n",
              "      <td>July 3, 2018</td>\n",
              "      <td>2.8</td>\n",
              "      <td>4.0.3 and up</td>\n",
              "    </tr>\n",
              "  </tbody>\n",
              "</table>\n",
              "</div>"
            ],
            "text/plain": [
              "                                                 App  ...   Android Ver\n",
              "0     Photo Editor & Candy Camera & Grid & ScrapBook  ...  4.0.3 and up\n",
              "1                                Coloring book moana  ...  4.0.3 and up\n",
              "2  U Launcher Lite – FREE Live Cool Themes, Hide ...  ...  4.0.3 and up\n",
              "3                              Sketch - Draw & Paint  ...    4.2 and up\n",
              "4              Pixel Draw - Number Art Coloring Book  ...    4.4 and up\n",
              "5                         Paper flowers instructions  ...    2.3 and up\n",
              "6            Smoke Effect Photo Maker - Smoke Editor  ...  4.0.3 and up\n",
              "7                                   Infinite Painter  ...    4.2 and up\n",
              "8                               Garden Coloring Book  ...    3.0 and up\n",
              "9                      Kids Paint Free - Drawing Fun  ...  4.0.3 and up\n",
              "\n",
              "[10 rows x 13 columns]"
            ]
          },
          "metadata": {
            "tags": []
          },
          "execution_count": 39
        }
      ]
    },
    {
      "cell_type": "code",
      "metadata": {
        "colab": {
          "base_uri": "https://localhost:8080/",
          "height": 282
        },
        "id": "3FuMMFQKCevA",
        "outputId": "9f06f752-ade2-4603-c8e4-b3968f4c3a71"
      },
      "source": [
        "data_df.describe()"
      ],
      "execution_count": null,
      "outputs": [
        {
          "output_type": "execute_result",
          "data": {
            "text/html": [
              "<div>\n",
              "<style scoped>\n",
              "    .dataframe tbody tr th:only-of-type {\n",
              "        vertical-align: middle;\n",
              "    }\n",
              "\n",
              "    .dataframe tbody tr th {\n",
              "        vertical-align: top;\n",
              "    }\n",
              "\n",
              "    .dataframe thead th {\n",
              "        text-align: right;\n",
              "    }\n",
              "</style>\n",
              "<table border=\"1\" class=\"dataframe\">\n",
              "  <thead>\n",
              "    <tr style=\"text-align: right;\">\n",
              "      <th></th>\n",
              "      <th>Rating</th>\n",
              "      <th>Reviews</th>\n",
              "      <th>Installs</th>\n",
              "      <th>Price</th>\n",
              "    </tr>\n",
              "  </thead>\n",
              "  <tbody>\n",
              "    <tr>\n",
              "      <th>count</th>\n",
              "      <td>10840.000000</td>\n",
              "      <td>1.084000e+04</td>\n",
              "      <td>1.084000e+04</td>\n",
              "      <td>10840.000000</td>\n",
              "    </tr>\n",
              "    <tr>\n",
              "      <th>mean</th>\n",
              "      <td>4.206476</td>\n",
              "      <td>4.441529e+05</td>\n",
              "      <td>1.546434e+07</td>\n",
              "      <td>1.027368</td>\n",
              "    </tr>\n",
              "    <tr>\n",
              "      <th>std</th>\n",
              "      <td>0.480342</td>\n",
              "      <td>2.927761e+06</td>\n",
              "      <td>8.502936e+07</td>\n",
              "      <td>15.949703</td>\n",
              "    </tr>\n",
              "    <tr>\n",
              "      <th>min</th>\n",
              "      <td>1.000000</td>\n",
              "      <td>0.000000e+00</td>\n",
              "      <td>0.000000e+00</td>\n",
              "      <td>0.000000</td>\n",
              "    </tr>\n",
              "    <tr>\n",
              "      <th>25%</th>\n",
              "      <td>4.100000</td>\n",
              "      <td>3.800000e+01</td>\n",
              "      <td>1.000000e+03</td>\n",
              "      <td>0.000000</td>\n",
              "    </tr>\n",
              "    <tr>\n",
              "      <th>50%</th>\n",
              "      <td>4.300000</td>\n",
              "      <td>2.094000e+03</td>\n",
              "      <td>1.000000e+05</td>\n",
              "      <td>0.000000</td>\n",
              "    </tr>\n",
              "    <tr>\n",
              "      <th>75%</th>\n",
              "      <td>4.500000</td>\n",
              "      <td>5.477550e+04</td>\n",
              "      <td>5.000000e+06</td>\n",
              "      <td>0.000000</td>\n",
              "    </tr>\n",
              "    <tr>\n",
              "      <th>max</th>\n",
              "      <td>5.000000</td>\n",
              "      <td>7.815831e+07</td>\n",
              "      <td>1.000000e+09</td>\n",
              "      <td>400.000000</td>\n",
              "    </tr>\n",
              "  </tbody>\n",
              "</table>\n",
              "</div>"
            ],
            "text/plain": [
              "             Rating       Reviews      Installs         Price\n",
              "count  10840.000000  1.084000e+04  1.084000e+04  10840.000000\n",
              "mean       4.206476  4.441529e+05  1.546434e+07      1.027368\n",
              "std        0.480342  2.927761e+06  8.502936e+07     15.949703\n",
              "min        1.000000  0.000000e+00  0.000000e+00      0.000000\n",
              "25%        4.100000  3.800000e+01  1.000000e+03      0.000000\n",
              "50%        4.300000  2.094000e+03  1.000000e+05      0.000000\n",
              "75%        4.500000  5.477550e+04  5.000000e+06      0.000000\n",
              "max        5.000000  7.815831e+07  1.000000e+09    400.000000"
            ]
          },
          "metadata": {
            "tags": []
          },
          "execution_count": 40
        }
      ]
    },
    {
      "cell_type": "code",
      "metadata": {
        "id": "WDAjO2R7CqP6"
      },
      "source": [
        "grp = data_df.groupby('Category',as_index=False).agg({\"Rating\":\"mean\"})\n"
      ],
      "execution_count": null,
      "outputs": []
    },
    {
      "cell_type": "code",
      "metadata": {
        "colab": {
          "base_uri": "https://localhost:8080/",
          "height": 1000
        },
        "id": "39s0RFinGixZ",
        "outputId": "9f5dd595-85fa-472e-db7b-e85cd4aa97e4"
      },
      "source": [
        "grp"
      ],
      "execution_count": null,
      "outputs": [
        {
          "output_type": "execute_result",
          "data": {
            "text/html": [
              "<div>\n",
              "<style scoped>\n",
              "    .dataframe tbody tr th:only-of-type {\n",
              "        vertical-align: middle;\n",
              "    }\n",
              "\n",
              "    .dataframe tbody tr th {\n",
              "        vertical-align: top;\n",
              "    }\n",
              "\n",
              "    .dataframe thead th {\n",
              "        text-align: right;\n",
              "    }\n",
              "</style>\n",
              "<table border=\"1\" class=\"dataframe\">\n",
              "  <thead>\n",
              "    <tr style=\"text-align: right;\">\n",
              "      <th></th>\n",
              "      <th>Category</th>\n",
              "      <th>Rating</th>\n",
              "    </tr>\n",
              "  </thead>\n",
              "  <tbody>\n",
              "    <tr>\n",
              "      <th>0</th>\n",
              "      <td>ART_AND_DESIGN</td>\n",
              "      <td>4.355385</td>\n",
              "    </tr>\n",
              "    <tr>\n",
              "      <th>1</th>\n",
              "      <td>AUTO_AND_VEHICLES</td>\n",
              "      <td>4.205882</td>\n",
              "    </tr>\n",
              "    <tr>\n",
              "      <th>2</th>\n",
              "      <td>BEAUTY</td>\n",
              "      <td>4.283019</td>\n",
              "    </tr>\n",
              "    <tr>\n",
              "      <th>3</th>\n",
              "      <td>BOOKS_AND_REFERENCE</td>\n",
              "      <td>4.335498</td>\n",
              "    </tr>\n",
              "    <tr>\n",
              "      <th>4</th>\n",
              "      <td>BUSINESS</td>\n",
              "      <td>4.182391</td>\n",
              "    </tr>\n",
              "    <tr>\n",
              "      <th>5</th>\n",
              "      <td>COMICS</td>\n",
              "      <td>4.160000</td>\n",
              "    </tr>\n",
              "    <tr>\n",
              "      <th>6</th>\n",
              "      <td>COMMUNICATION</td>\n",
              "      <td>4.180103</td>\n",
              "    </tr>\n",
              "    <tr>\n",
              "      <th>7</th>\n",
              "      <td>DATING</td>\n",
              "      <td>4.025641</td>\n",
              "    </tr>\n",
              "    <tr>\n",
              "      <th>8</th>\n",
              "      <td>EDUCATION</td>\n",
              "      <td>4.388462</td>\n",
              "    </tr>\n",
              "    <tr>\n",
              "      <th>9</th>\n",
              "      <td>ENTERTAINMENT</td>\n",
              "      <td>4.126174</td>\n",
              "    </tr>\n",
              "    <tr>\n",
              "      <th>10</th>\n",
              "      <td>EVENTS</td>\n",
              "      <td>4.395313</td>\n",
              "    </tr>\n",
              "    <tr>\n",
              "      <th>11</th>\n",
              "      <td>FAMILY</td>\n",
              "      <td>4.204564</td>\n",
              "    </tr>\n",
              "    <tr>\n",
              "      <th>12</th>\n",
              "      <td>FINANCE</td>\n",
              "      <td>4.151639</td>\n",
              "    </tr>\n",
              "    <tr>\n",
              "      <th>13</th>\n",
              "      <td>FOOD_AND_DRINK</td>\n",
              "      <td>4.185827</td>\n",
              "    </tr>\n",
              "    <tr>\n",
              "      <th>14</th>\n",
              "      <td>GAME</td>\n",
              "      <td>4.286888</td>\n",
              "    </tr>\n",
              "    <tr>\n",
              "      <th>15</th>\n",
              "      <td>HEALTH_AND_FITNESS</td>\n",
              "      <td>4.280059</td>\n",
              "    </tr>\n",
              "    <tr>\n",
              "      <th>16</th>\n",
              "      <td>HOUSE_AND_HOME</td>\n",
              "      <td>4.211364</td>\n",
              "    </tr>\n",
              "    <tr>\n",
              "      <th>17</th>\n",
              "      <td>LIBRARIES_AND_DEMO</td>\n",
              "      <td>4.207059</td>\n",
              "    </tr>\n",
              "    <tr>\n",
              "      <th>18</th>\n",
              "      <td>LIFESTYLE</td>\n",
              "      <td>4.131414</td>\n",
              "    </tr>\n",
              "    <tr>\n",
              "      <th>19</th>\n",
              "      <td>MAPS_AND_NAVIGATION</td>\n",
              "      <td>4.075182</td>\n",
              "    </tr>\n",
              "    <tr>\n",
              "      <th>20</th>\n",
              "      <td>MEDICAL</td>\n",
              "      <td>4.216199</td>\n",
              "    </tr>\n",
              "    <tr>\n",
              "      <th>21</th>\n",
              "      <td>NEWS_AND_MAGAZINES</td>\n",
              "      <td>4.161837</td>\n",
              "    </tr>\n",
              "    <tr>\n",
              "      <th>22</th>\n",
              "      <td>PARENTING</td>\n",
              "      <td>4.300000</td>\n",
              "    </tr>\n",
              "    <tr>\n",
              "      <th>23</th>\n",
              "      <td>PERSONALIZATION</td>\n",
              "      <td>4.328827</td>\n",
              "    </tr>\n",
              "    <tr>\n",
              "      <th>24</th>\n",
              "      <td>PHOTOGRAPHY</td>\n",
              "      <td>4.197910</td>\n",
              "    </tr>\n",
              "    <tr>\n",
              "      <th>25</th>\n",
              "      <td>PRODUCTIVITY</td>\n",
              "      <td>4.226651</td>\n",
              "    </tr>\n",
              "    <tr>\n",
              "      <th>26</th>\n",
              "      <td>SHOPPING</td>\n",
              "      <td>4.263077</td>\n",
              "    </tr>\n",
              "    <tr>\n",
              "      <th>27</th>\n",
              "      <td>SOCIAL</td>\n",
              "      <td>4.261017</td>\n",
              "    </tr>\n",
              "    <tr>\n",
              "      <th>28</th>\n",
              "      <td>SPORTS</td>\n",
              "      <td>4.236458</td>\n",
              "    </tr>\n",
              "    <tr>\n",
              "      <th>29</th>\n",
              "      <td>TOOLS</td>\n",
              "      <td>4.080071</td>\n",
              "    </tr>\n",
              "    <tr>\n",
              "      <th>30</th>\n",
              "      <td>TRAVEL_AND_LOCAL</td>\n",
              "      <td>4.132946</td>\n",
              "    </tr>\n",
              "    <tr>\n",
              "      <th>31</th>\n",
              "      <td>VIDEO_PLAYERS</td>\n",
              "      <td>4.084000</td>\n",
              "    </tr>\n",
              "    <tr>\n",
              "      <th>32</th>\n",
              "      <td>WEATHER</td>\n",
              "      <td>4.248780</td>\n",
              "    </tr>\n",
              "  </tbody>\n",
              "</table>\n",
              "</div>"
            ],
            "text/plain": [
              "               Category    Rating\n",
              "0        ART_AND_DESIGN  4.355385\n",
              "1     AUTO_AND_VEHICLES  4.205882\n",
              "2                BEAUTY  4.283019\n",
              "3   BOOKS_AND_REFERENCE  4.335498\n",
              "4              BUSINESS  4.182391\n",
              "5                COMICS  4.160000\n",
              "6         COMMUNICATION  4.180103\n",
              "7                DATING  4.025641\n",
              "8             EDUCATION  4.388462\n",
              "9         ENTERTAINMENT  4.126174\n",
              "10               EVENTS  4.395313\n",
              "11               FAMILY  4.204564\n",
              "12              FINANCE  4.151639\n",
              "13       FOOD_AND_DRINK  4.185827\n",
              "14                 GAME  4.286888\n",
              "15   HEALTH_AND_FITNESS  4.280059\n",
              "16       HOUSE_AND_HOME  4.211364\n",
              "17   LIBRARIES_AND_DEMO  4.207059\n",
              "18            LIFESTYLE  4.131414\n",
              "19  MAPS_AND_NAVIGATION  4.075182\n",
              "20              MEDICAL  4.216199\n",
              "21   NEWS_AND_MAGAZINES  4.161837\n",
              "22            PARENTING  4.300000\n",
              "23      PERSONALIZATION  4.328827\n",
              "24          PHOTOGRAPHY  4.197910\n",
              "25         PRODUCTIVITY  4.226651\n",
              "26             SHOPPING  4.263077\n",
              "27               SOCIAL  4.261017\n",
              "28               SPORTS  4.236458\n",
              "29                TOOLS  4.080071\n",
              "30     TRAVEL_AND_LOCAL  4.132946\n",
              "31        VIDEO_PLAYERS  4.084000\n",
              "32              WEATHER  4.248780"
            ]
          },
          "metadata": {
            "tags": []
          },
          "execution_count": 88
        }
      ]
    },
    {
      "cell_type": "code",
      "metadata": {
        "id": "Dcd3YxB8IXPF"
      },
      "source": [
        "grp = grp.reset_index(drop=True)"
      ],
      "execution_count": null,
      "outputs": []
    },
    {
      "cell_type": "code",
      "metadata": {
        "colab": {
          "base_uri": "https://localhost:8080/",
          "height": 1000
        },
        "id": "tLvlPZpgDR6F",
        "outputId": "15448131-314b-4742-eb76-582dedaa2e19"
      },
      "source": [
        "grp"
      ],
      "execution_count": null,
      "outputs": [
        {
          "output_type": "execute_result",
          "data": {
            "text/html": [
              "<div>\n",
              "<style scoped>\n",
              "    .dataframe tbody tr th:only-of-type {\n",
              "        vertical-align: middle;\n",
              "    }\n",
              "\n",
              "    .dataframe tbody tr th {\n",
              "        vertical-align: top;\n",
              "    }\n",
              "\n",
              "    .dataframe thead th {\n",
              "        text-align: right;\n",
              "    }\n",
              "</style>\n",
              "<table border=\"1\" class=\"dataframe\">\n",
              "  <thead>\n",
              "    <tr style=\"text-align: right;\">\n",
              "      <th></th>\n",
              "      <th>Category</th>\n",
              "      <th>Rating</th>\n",
              "    </tr>\n",
              "  </thead>\n",
              "  <tbody>\n",
              "    <tr>\n",
              "      <th>0</th>\n",
              "      <td>ART_AND_DESIGN</td>\n",
              "      <td>4.355385</td>\n",
              "    </tr>\n",
              "    <tr>\n",
              "      <th>1</th>\n",
              "      <td>AUTO_AND_VEHICLES</td>\n",
              "      <td>4.205882</td>\n",
              "    </tr>\n",
              "    <tr>\n",
              "      <th>2</th>\n",
              "      <td>BEAUTY</td>\n",
              "      <td>4.283019</td>\n",
              "    </tr>\n",
              "    <tr>\n",
              "      <th>3</th>\n",
              "      <td>BOOKS_AND_REFERENCE</td>\n",
              "      <td>4.335498</td>\n",
              "    </tr>\n",
              "    <tr>\n",
              "      <th>4</th>\n",
              "      <td>BUSINESS</td>\n",
              "      <td>4.182391</td>\n",
              "    </tr>\n",
              "    <tr>\n",
              "      <th>5</th>\n",
              "      <td>COMICS</td>\n",
              "      <td>4.160000</td>\n",
              "    </tr>\n",
              "    <tr>\n",
              "      <th>6</th>\n",
              "      <td>COMMUNICATION</td>\n",
              "      <td>4.180103</td>\n",
              "    </tr>\n",
              "    <tr>\n",
              "      <th>7</th>\n",
              "      <td>DATING</td>\n",
              "      <td>4.025641</td>\n",
              "    </tr>\n",
              "    <tr>\n",
              "      <th>8</th>\n",
              "      <td>EDUCATION</td>\n",
              "      <td>4.388462</td>\n",
              "    </tr>\n",
              "    <tr>\n",
              "      <th>9</th>\n",
              "      <td>ENTERTAINMENT</td>\n",
              "      <td>4.126174</td>\n",
              "    </tr>\n",
              "    <tr>\n",
              "      <th>10</th>\n",
              "      <td>EVENTS</td>\n",
              "      <td>4.395313</td>\n",
              "    </tr>\n",
              "    <tr>\n",
              "      <th>11</th>\n",
              "      <td>FAMILY</td>\n",
              "      <td>4.204564</td>\n",
              "    </tr>\n",
              "    <tr>\n",
              "      <th>12</th>\n",
              "      <td>FINANCE</td>\n",
              "      <td>4.151639</td>\n",
              "    </tr>\n",
              "    <tr>\n",
              "      <th>13</th>\n",
              "      <td>FOOD_AND_DRINK</td>\n",
              "      <td>4.185827</td>\n",
              "    </tr>\n",
              "    <tr>\n",
              "      <th>14</th>\n",
              "      <td>GAME</td>\n",
              "      <td>4.286888</td>\n",
              "    </tr>\n",
              "    <tr>\n",
              "      <th>15</th>\n",
              "      <td>HEALTH_AND_FITNESS</td>\n",
              "      <td>4.280059</td>\n",
              "    </tr>\n",
              "    <tr>\n",
              "      <th>16</th>\n",
              "      <td>HOUSE_AND_HOME</td>\n",
              "      <td>4.211364</td>\n",
              "    </tr>\n",
              "    <tr>\n",
              "      <th>17</th>\n",
              "      <td>LIBRARIES_AND_DEMO</td>\n",
              "      <td>4.207059</td>\n",
              "    </tr>\n",
              "    <tr>\n",
              "      <th>18</th>\n",
              "      <td>LIFESTYLE</td>\n",
              "      <td>4.131414</td>\n",
              "    </tr>\n",
              "    <tr>\n",
              "      <th>19</th>\n",
              "      <td>MAPS_AND_NAVIGATION</td>\n",
              "      <td>4.075182</td>\n",
              "    </tr>\n",
              "    <tr>\n",
              "      <th>20</th>\n",
              "      <td>MEDICAL</td>\n",
              "      <td>4.216199</td>\n",
              "    </tr>\n",
              "    <tr>\n",
              "      <th>21</th>\n",
              "      <td>NEWS_AND_MAGAZINES</td>\n",
              "      <td>4.161837</td>\n",
              "    </tr>\n",
              "    <tr>\n",
              "      <th>22</th>\n",
              "      <td>PARENTING</td>\n",
              "      <td>4.300000</td>\n",
              "    </tr>\n",
              "    <tr>\n",
              "      <th>23</th>\n",
              "      <td>PERSONALIZATION</td>\n",
              "      <td>4.328827</td>\n",
              "    </tr>\n",
              "    <tr>\n",
              "      <th>24</th>\n",
              "      <td>PHOTOGRAPHY</td>\n",
              "      <td>4.197910</td>\n",
              "    </tr>\n",
              "    <tr>\n",
              "      <th>25</th>\n",
              "      <td>PRODUCTIVITY</td>\n",
              "      <td>4.226651</td>\n",
              "    </tr>\n",
              "    <tr>\n",
              "      <th>26</th>\n",
              "      <td>SHOPPING</td>\n",
              "      <td>4.263077</td>\n",
              "    </tr>\n",
              "    <tr>\n",
              "      <th>27</th>\n",
              "      <td>SOCIAL</td>\n",
              "      <td>4.261017</td>\n",
              "    </tr>\n",
              "    <tr>\n",
              "      <th>28</th>\n",
              "      <td>SPORTS</td>\n",
              "      <td>4.236458</td>\n",
              "    </tr>\n",
              "    <tr>\n",
              "      <th>29</th>\n",
              "      <td>TOOLS</td>\n",
              "      <td>4.080071</td>\n",
              "    </tr>\n",
              "    <tr>\n",
              "      <th>30</th>\n",
              "      <td>TRAVEL_AND_LOCAL</td>\n",
              "      <td>4.132946</td>\n",
              "    </tr>\n",
              "    <tr>\n",
              "      <th>31</th>\n",
              "      <td>VIDEO_PLAYERS</td>\n",
              "      <td>4.084000</td>\n",
              "    </tr>\n",
              "    <tr>\n",
              "      <th>32</th>\n",
              "      <td>WEATHER</td>\n",
              "      <td>4.248780</td>\n",
              "    </tr>\n",
              "  </tbody>\n",
              "</table>\n",
              "</div>"
            ],
            "text/plain": [
              "               Category    Rating\n",
              "0        ART_AND_DESIGN  4.355385\n",
              "1     AUTO_AND_VEHICLES  4.205882\n",
              "2                BEAUTY  4.283019\n",
              "3   BOOKS_AND_REFERENCE  4.335498\n",
              "4              BUSINESS  4.182391\n",
              "5                COMICS  4.160000\n",
              "6         COMMUNICATION  4.180103\n",
              "7                DATING  4.025641\n",
              "8             EDUCATION  4.388462\n",
              "9         ENTERTAINMENT  4.126174\n",
              "10               EVENTS  4.395313\n",
              "11               FAMILY  4.204564\n",
              "12              FINANCE  4.151639\n",
              "13       FOOD_AND_DRINK  4.185827\n",
              "14                 GAME  4.286888\n",
              "15   HEALTH_AND_FITNESS  4.280059\n",
              "16       HOUSE_AND_HOME  4.211364\n",
              "17   LIBRARIES_AND_DEMO  4.207059\n",
              "18            LIFESTYLE  4.131414\n",
              "19  MAPS_AND_NAVIGATION  4.075182\n",
              "20              MEDICAL  4.216199\n",
              "21   NEWS_AND_MAGAZINES  4.161837\n",
              "22            PARENTING  4.300000\n",
              "23      PERSONALIZATION  4.328827\n",
              "24          PHOTOGRAPHY  4.197910\n",
              "25         PRODUCTIVITY  4.226651\n",
              "26             SHOPPING  4.263077\n",
              "27               SOCIAL  4.261017\n",
              "28               SPORTS  4.236458\n",
              "29                TOOLS  4.080071\n",
              "30     TRAVEL_AND_LOCAL  4.132946\n",
              "31        VIDEO_PLAYERS  4.084000\n",
              "32              WEATHER  4.248780"
            ]
          },
          "metadata": {
            "tags": []
          },
          "execution_count": 90
        }
      ]
    },
    {
      "cell_type": "code",
      "metadata": {
        "colab": {
          "base_uri": "https://localhost:8080/",
          "height": 542
        },
        "id": "VaPlbgJICs4A",
        "outputId": "8a24f6a7-53ba-4f0a-9d71-38bd7799ba2d"
      },
      "source": [
        "fig = go.Figure(\n",
        "    data=[go.Bar(x=grp.Category,y=grp['Rating'])],\n",
        "        layout_title_text=\"Rating mean\"\n",
        ")\n",
        "fig.show()\n",
        "\n"
      ],
      "execution_count": null,
      "outputs": [
        {
          "output_type": "display_data",
          "data": {
            "text/html": [
              "<html>\n",
              "<head><meta charset=\"utf-8\" /></head>\n",
              "<body>\n",
              "    <div>\n",
              "            <script src=\"https://cdnjs.cloudflare.com/ajax/libs/mathjax/2.7.5/MathJax.js?config=TeX-AMS-MML_SVG\"></script><script type=\"text/javascript\">if (window.MathJax) {MathJax.Hub.Config({SVG: {font: \"STIX-Web\"}});}</script>\n",
              "                <script type=\"text/javascript\">window.PlotlyConfig = {MathJaxConfig: 'local'};</script>\n",
              "        <script src=\"https://cdn.plot.ly/plotly-latest.min.js\"></script>    \n",
              "            <div id=\"0f4b17c0-3a56-435e-9d07-decf1ad122d9\" class=\"plotly-graph-div\" style=\"height:525px; width:100%;\"></div>\n",
              "            <script type=\"text/javascript\">\n",
              "                \n",
              "                    window.PLOTLYENV=window.PLOTLYENV || {};\n",
              "                    \n",
              "                if (document.getElementById(\"0f4b17c0-3a56-435e-9d07-decf1ad122d9\")) {\n",
              "                    Plotly.newPlot(\n",
              "                        '0f4b17c0-3a56-435e-9d07-decf1ad122d9',\n",
              "                        [{\"type\": \"bar\", \"x\": [\"ART_AND_DESIGN\", \"AUTO_AND_VEHICLES\", \"BEAUTY\", \"BOOKS_AND_REFERENCE\", \"BUSINESS\", \"COMICS\", \"COMMUNICATION\", \"DATING\", \"EDUCATION\", \"ENTERTAINMENT\", \"EVENTS\", \"FAMILY\", \"FINANCE\", \"FOOD_AND_DRINK\", \"GAME\", \"HEALTH_AND_FITNESS\", \"HOUSE_AND_HOME\", \"LIBRARIES_AND_DEMO\", \"LIFESTYLE\", \"MAPS_AND_NAVIGATION\", \"MEDICAL\", \"NEWS_AND_MAGAZINES\", \"PARENTING\", \"PERSONALIZATION\", \"PHOTOGRAPHY\", \"PRODUCTIVITY\", \"SHOPPING\", \"SOCIAL\", \"SPORTS\", \"TOOLS\", \"TRAVEL_AND_LOCAL\", \"VIDEO_PLAYERS\", \"WEATHER\"], \"y\": [4.355384615384615, 4.2058823529411775, 4.28301886792453, 4.335497835497828, 4.182391304347813, 4.160000000000001, 4.180103359173118, 4.0256410256410184, 4.38846153846154, 4.126174496644294, 4.395312500000003, 4.204563894523346, 4.151639344262291, 4.185826771653544, 4.286888111888119, 4.280058651026389, 4.211363636363639, 4.207058823529412, 4.131413612565435, 4.075182481751824, 4.216198704103662, 4.161837455830379, 4.3, 4.32882653061224, 4.19791044776119, 4.226650943396218, 4.2630769230769205, 4.261016949152538, 4.236458333333327, 4.080071174377235, 4.1329457364341025, 4.084, 4.248780487804877]}],\n",
              "                        {\"template\": {\"data\": {\"bar\": [{\"error_x\": {\"color\": \"#2a3f5f\"}, \"error_y\": {\"color\": \"#2a3f5f\"}, \"marker\": {\"line\": {\"color\": \"#E5ECF6\", \"width\": 0.5}}, \"type\": \"bar\"}], \"barpolar\": [{\"marker\": {\"line\": {\"color\": \"#E5ECF6\", \"width\": 0.5}}, \"type\": \"barpolar\"}], \"carpet\": [{\"aaxis\": {\"endlinecolor\": \"#2a3f5f\", \"gridcolor\": \"white\", \"linecolor\": \"white\", \"minorgridcolor\": \"white\", \"startlinecolor\": \"#2a3f5f\"}, \"baxis\": {\"endlinecolor\": \"#2a3f5f\", \"gridcolor\": \"white\", \"linecolor\": \"white\", \"minorgridcolor\": \"white\", \"startlinecolor\": \"#2a3f5f\"}, \"type\": \"carpet\"}], \"choropleth\": [{\"colorbar\": {\"outlinewidth\": 0, \"ticks\": \"\"}, \"type\": \"choropleth\"}], \"contour\": [{\"colorbar\": {\"outlinewidth\": 0, \"ticks\": \"\"}, \"colorscale\": [[0.0, \"#0d0887\"], [0.1111111111111111, \"#46039f\"], [0.2222222222222222, \"#7201a8\"], [0.3333333333333333, \"#9c179e\"], [0.4444444444444444, \"#bd3786\"], [0.5555555555555556, \"#d8576b\"], [0.6666666666666666, \"#ed7953\"], [0.7777777777777778, \"#fb9f3a\"], [0.8888888888888888, \"#fdca26\"], [1.0, \"#f0f921\"]], \"type\": \"contour\"}], \"contourcarpet\": [{\"colorbar\": {\"outlinewidth\": 0, \"ticks\": \"\"}, \"type\": \"contourcarpet\"}], \"heatmap\": [{\"colorbar\": {\"outlinewidth\": 0, \"ticks\": \"\"}, \"colorscale\": [[0.0, \"#0d0887\"], [0.1111111111111111, \"#46039f\"], [0.2222222222222222, \"#7201a8\"], [0.3333333333333333, \"#9c179e\"], [0.4444444444444444, \"#bd3786\"], [0.5555555555555556, \"#d8576b\"], [0.6666666666666666, \"#ed7953\"], [0.7777777777777778, \"#fb9f3a\"], [0.8888888888888888, \"#fdca26\"], [1.0, \"#f0f921\"]], \"type\": \"heatmap\"}], \"heatmapgl\": [{\"colorbar\": {\"outlinewidth\": 0, \"ticks\": \"\"}, \"colorscale\": [[0.0, \"#0d0887\"], [0.1111111111111111, \"#46039f\"], [0.2222222222222222, \"#7201a8\"], [0.3333333333333333, \"#9c179e\"], [0.4444444444444444, \"#bd3786\"], [0.5555555555555556, \"#d8576b\"], [0.6666666666666666, \"#ed7953\"], [0.7777777777777778, \"#fb9f3a\"], [0.8888888888888888, \"#fdca26\"], [1.0, \"#f0f921\"]], \"type\": \"heatmapgl\"}], \"histogram\": [{\"marker\": {\"colorbar\": {\"outlinewidth\": 0, \"ticks\": \"\"}}, \"type\": \"histogram\"}], \"histogram2d\": [{\"colorbar\": {\"outlinewidth\": 0, \"ticks\": \"\"}, \"colorscale\": [[0.0, \"#0d0887\"], [0.1111111111111111, \"#46039f\"], [0.2222222222222222, \"#7201a8\"], [0.3333333333333333, \"#9c179e\"], [0.4444444444444444, \"#bd3786\"], [0.5555555555555556, \"#d8576b\"], [0.6666666666666666, \"#ed7953\"], [0.7777777777777778, \"#fb9f3a\"], [0.8888888888888888, \"#fdca26\"], [1.0, \"#f0f921\"]], \"type\": \"histogram2d\"}], \"histogram2dcontour\": [{\"colorbar\": {\"outlinewidth\": 0, \"ticks\": \"\"}, \"colorscale\": [[0.0, \"#0d0887\"], [0.1111111111111111, \"#46039f\"], [0.2222222222222222, \"#7201a8\"], [0.3333333333333333, \"#9c179e\"], [0.4444444444444444, \"#bd3786\"], [0.5555555555555556, \"#d8576b\"], [0.6666666666666666, \"#ed7953\"], [0.7777777777777778, \"#fb9f3a\"], [0.8888888888888888, \"#fdca26\"], [1.0, \"#f0f921\"]], \"type\": \"histogram2dcontour\"}], \"mesh3d\": [{\"colorbar\": {\"outlinewidth\": 0, \"ticks\": \"\"}, \"type\": \"mesh3d\"}], \"parcoords\": [{\"line\": {\"colorbar\": {\"outlinewidth\": 0, \"ticks\": \"\"}}, \"type\": \"parcoords\"}], \"pie\": [{\"automargin\": true, \"type\": \"pie\"}], \"scatter\": [{\"marker\": {\"colorbar\": {\"outlinewidth\": 0, \"ticks\": \"\"}}, \"type\": \"scatter\"}], \"scatter3d\": [{\"line\": {\"colorbar\": {\"outlinewidth\": 0, \"ticks\": \"\"}}, \"marker\": {\"colorbar\": {\"outlinewidth\": 0, \"ticks\": \"\"}}, \"type\": \"scatter3d\"}], \"scattercarpet\": [{\"marker\": {\"colorbar\": {\"outlinewidth\": 0, \"ticks\": \"\"}}, \"type\": \"scattercarpet\"}], \"scattergeo\": [{\"marker\": {\"colorbar\": {\"outlinewidth\": 0, \"ticks\": \"\"}}, \"type\": \"scattergeo\"}], \"scattergl\": [{\"marker\": {\"colorbar\": {\"outlinewidth\": 0, \"ticks\": \"\"}}, \"type\": \"scattergl\"}], \"scattermapbox\": [{\"marker\": {\"colorbar\": {\"outlinewidth\": 0, \"ticks\": \"\"}}, \"type\": \"scattermapbox\"}], \"scatterpolar\": [{\"marker\": {\"colorbar\": {\"outlinewidth\": 0, \"ticks\": \"\"}}, \"type\": \"scatterpolar\"}], \"scatterpolargl\": [{\"marker\": {\"colorbar\": {\"outlinewidth\": 0, \"ticks\": \"\"}}, \"type\": \"scatterpolargl\"}], \"scatterternary\": [{\"marker\": {\"colorbar\": {\"outlinewidth\": 0, \"ticks\": \"\"}}, \"type\": \"scatterternary\"}], \"surface\": [{\"colorbar\": {\"outlinewidth\": 0, \"ticks\": \"\"}, \"colorscale\": [[0.0, \"#0d0887\"], [0.1111111111111111, \"#46039f\"], [0.2222222222222222, \"#7201a8\"], [0.3333333333333333, \"#9c179e\"], [0.4444444444444444, \"#bd3786\"], [0.5555555555555556, \"#d8576b\"], [0.6666666666666666, \"#ed7953\"], [0.7777777777777778, \"#fb9f3a\"], [0.8888888888888888, \"#fdca26\"], [1.0, \"#f0f921\"]], \"type\": \"surface\"}], \"table\": [{\"cells\": {\"fill\": {\"color\": \"#EBF0F8\"}, \"line\": {\"color\": \"white\"}}, \"header\": {\"fill\": {\"color\": \"#C8D4E3\"}, \"line\": {\"color\": \"white\"}}, \"type\": \"table\"}]}, \"layout\": {\"annotationdefaults\": {\"arrowcolor\": \"#2a3f5f\", \"arrowhead\": 0, \"arrowwidth\": 1}, \"coloraxis\": {\"colorbar\": {\"outlinewidth\": 0, \"ticks\": \"\"}}, \"colorscale\": {\"diverging\": [[0, \"#8e0152\"], [0.1, \"#c51b7d\"], [0.2, \"#de77ae\"], [0.3, \"#f1b6da\"], [0.4, \"#fde0ef\"], [0.5, \"#f7f7f7\"], [0.6, \"#e6f5d0\"], [0.7, \"#b8e186\"], [0.8, \"#7fbc41\"], [0.9, \"#4d9221\"], [1, \"#276419\"]], \"sequential\": [[0.0, \"#0d0887\"], [0.1111111111111111, \"#46039f\"], [0.2222222222222222, \"#7201a8\"], [0.3333333333333333, \"#9c179e\"], [0.4444444444444444, \"#bd3786\"], [0.5555555555555556, \"#d8576b\"], [0.6666666666666666, \"#ed7953\"], [0.7777777777777778, \"#fb9f3a\"], [0.8888888888888888, \"#fdca26\"], [1.0, \"#f0f921\"]], \"sequentialminus\": [[0.0, \"#0d0887\"], [0.1111111111111111, \"#46039f\"], [0.2222222222222222, \"#7201a8\"], [0.3333333333333333, \"#9c179e\"], [0.4444444444444444, \"#bd3786\"], [0.5555555555555556, \"#d8576b\"], [0.6666666666666666, \"#ed7953\"], [0.7777777777777778, \"#fb9f3a\"], [0.8888888888888888, \"#fdca26\"], [1.0, \"#f0f921\"]]}, \"colorway\": [\"#636efa\", \"#EF553B\", \"#00cc96\", \"#ab63fa\", \"#FFA15A\", \"#19d3f3\", \"#FF6692\", \"#B6E880\", \"#FF97FF\", \"#FECB52\"], \"font\": {\"color\": \"#2a3f5f\"}, \"geo\": {\"bgcolor\": \"white\", \"lakecolor\": \"white\", \"landcolor\": \"#E5ECF6\", \"showlakes\": true, \"showland\": true, \"subunitcolor\": \"white\"}, \"hoverlabel\": {\"align\": \"left\"}, \"hovermode\": \"closest\", \"mapbox\": {\"style\": \"light\"}, \"paper_bgcolor\": \"white\", \"plot_bgcolor\": \"#E5ECF6\", \"polar\": {\"angularaxis\": {\"gridcolor\": \"white\", \"linecolor\": \"white\", \"ticks\": \"\"}, \"bgcolor\": \"#E5ECF6\", \"radialaxis\": {\"gridcolor\": \"white\", \"linecolor\": \"white\", \"ticks\": \"\"}}, \"scene\": {\"xaxis\": {\"backgroundcolor\": \"#E5ECF6\", \"gridcolor\": \"white\", \"gridwidth\": 2, \"linecolor\": \"white\", \"showbackground\": true, \"ticks\": \"\", \"zerolinecolor\": \"white\"}, \"yaxis\": {\"backgroundcolor\": \"#E5ECF6\", \"gridcolor\": \"white\", \"gridwidth\": 2, \"linecolor\": \"white\", \"showbackground\": true, \"ticks\": \"\", \"zerolinecolor\": \"white\"}, \"zaxis\": {\"backgroundcolor\": \"#E5ECF6\", \"gridcolor\": \"white\", \"gridwidth\": 2, \"linecolor\": \"white\", \"showbackground\": true, \"ticks\": \"\", \"zerolinecolor\": \"white\"}}, \"shapedefaults\": {\"line\": {\"color\": \"#2a3f5f\"}}, \"ternary\": {\"aaxis\": {\"gridcolor\": \"white\", \"linecolor\": \"white\", \"ticks\": \"\"}, \"baxis\": {\"gridcolor\": \"white\", \"linecolor\": \"white\", \"ticks\": \"\"}, \"bgcolor\": \"#E5ECF6\", \"caxis\": {\"gridcolor\": \"white\", \"linecolor\": \"white\", \"ticks\": \"\"}}, \"title\": {\"x\": 0.05}, \"xaxis\": {\"automargin\": true, \"gridcolor\": \"white\", \"linecolor\": \"white\", \"ticks\": \"\", \"title\": {\"standoff\": 15}, \"zerolinecolor\": \"white\", \"zerolinewidth\": 2}, \"yaxis\": {\"automargin\": true, \"gridcolor\": \"white\", \"linecolor\": \"white\", \"ticks\": \"\", \"title\": {\"standoff\": 15}, \"zerolinecolor\": \"white\", \"zerolinewidth\": 2}}}, \"title\": {\"text\": \"Rating mean\"}},\n",
              "                        {\"responsive\": true}\n",
              "                    ).then(function(){\n",
              "                            \n",
              "var gd = document.getElementById('0f4b17c0-3a56-435e-9d07-decf1ad122d9');\n",
              "var x = new MutationObserver(function (mutations, observer) {{\n",
              "        var display = window.getComputedStyle(gd).display;\n",
              "        if (!display || display === 'none') {{\n",
              "            console.log([gd, 'removed!']);\n",
              "            Plotly.purge(gd);\n",
              "            observer.disconnect();\n",
              "        }}\n",
              "}});\n",
              "\n",
              "// Listen for the removal of the full notebook cells\n",
              "var notebookContainer = gd.closest('#notebook-container');\n",
              "if (notebookContainer) {{\n",
              "    x.observe(notebookContainer, {childList: true});\n",
              "}}\n",
              "\n",
              "// Listen for the clearing of the current output cell\n",
              "var outputEl = gd.closest('.output');\n",
              "if (outputEl) {{\n",
              "    x.observe(outputEl, {childList: true});\n",
              "}}\n",
              "\n",
              "                        })\n",
              "                };\n",
              "                \n",
              "            </script>\n",
              "        </div>\n",
              "</body>\n",
              "</html>"
            ]
          },
          "metadata": {
            "tags": []
          }
        }
      ]
    },
    {
      "cell_type": "code",
      "metadata": {
        "id": "lFqNwIizC04w"
      },
      "source": [
        "x = grp['Rating'].agg(np.mean)\n",
        "y = grp['Price'].agg(np.sum)\n",
        "z = grp['Reviews'].agg(np.mean)"
      ],
      "execution_count": null,
      "outputs": []
    },
    {
      "cell_type": "code",
      "metadata": {
        "id": "2jJTafGcJDl6"
      },
      "source": [
        "grp_reviews_sum = data_df.groupby('Category',as_index=False).agg({\"Reviews\":\"mean\"})\n",
        "grp_price_sum = data_df.groupby('Category',as_index=False).agg({\"Price\":\"sum\"})\n"
      ],
      "execution_count": null,
      "outputs": []
    },
    {
      "cell_type": "code",
      "metadata": {
        "colab": {
          "base_uri": "https://localhost:8080/"
        },
        "id": "VhIzLZe0DPC3",
        "outputId": "77b9de9b-f042-40d8-d9f7-95abdc515f97"
      },
      "source": [
        "print(grp_price_sum)"
      ],
      "execution_count": null,
      "outputs": [
        {
          "output_type": "stream",
          "text": [
            "               Category    Price\n",
            "0        ART_AND_DESIGN     5.97\n",
            "1     AUTO_AND_VEHICLES    13.47\n",
            "2                BEAUTY     0.00\n",
            "3   BOOKS_AND_REFERENCE   119.77\n",
            "4              BUSINESS   185.27\n",
            "5                COMICS     0.00\n",
            "6         COMMUNICATION    83.14\n",
            "7                DATING    31.43\n",
            "8             EDUCATION    17.96\n",
            "9         ENTERTAINMENT     7.98\n",
            "10               EVENTS   109.99\n",
            "11               FAMILY  2434.78\n",
            "12              FINANCE  2900.83\n",
            "13       FOOD_AND_DRINK     8.48\n",
            "14                 GAME   287.30\n",
            "15   HEALTH_AND_FITNESS    67.34\n",
            "16       HOUSE_AND_HOME     0.00\n",
            "17   LIBRARIES_AND_DEMO     0.99\n",
            "18            LIFESTYLE  2360.87\n",
            "19  MAPS_AND_NAVIGATION    26.95\n",
            "20              MEDICAL  1439.96\n",
            "21   NEWS_AND_MAGAZINES     3.98\n",
            "22            PARENTING     9.58\n",
            "23      PERSONALIZATION   153.96\n",
            "24          PHOTOGRAPHY   134.21\n",
            "25         PRODUCTIVITY   250.93\n",
            "26             SHOPPING     5.48\n",
            "27               SOCIAL    15.97\n",
            "28               SPORTS   100.00\n",
            "29                TOOLS   267.25\n",
            "30     TRAVEL_AND_LOCAL    49.95\n",
            "31        VIDEO_PLAYERS    10.46\n",
            "32              WEATHER    32.42\n"
          ],
          "name": "stdout"
        }
      ]
    },
    {
      "cell_type": "code",
      "metadata": {
        "colab": {
          "base_uri": "https://localhost:8080/",
          "height": 695
        },
        "id": "Am7KqmI_KflX",
        "outputId": "3026a792-3bd0-4baa-bf88-bc414a688800"
      },
      "source": [
        "fig = go.Figure(\n",
        "    data=[go.Line(x=grp_price_sum.Category,y=grp_price_sum['Price'])],\n",
        "        layout_title_text=\"Rating mean\"\n",
        ")\n",
        "fig.show()"
      ],
      "execution_count": null,
      "outputs": [
        {
          "output_type": "stream",
          "text": [
            "/usr/local/lib/python3.7/dist-packages/plotly/graph_objs/_deprecations.py:385: DeprecationWarning:\n",
            "\n",
            "plotly.graph_objs.Line is deprecated.\n",
            "Please replace it with one of the following more specific types\n",
            "  - plotly.graph_objs.scatter.Line\n",
            "  - plotly.graph_objs.layout.shape.Line\n",
            "  - etc.\n",
            "\n",
            "\n"
          ],
          "name": "stderr"
        },
        {
          "output_type": "display_data",
          "data": {
            "text/html": [
              "<html>\n",
              "<head><meta charset=\"utf-8\" /></head>\n",
              "<body>\n",
              "    <div>\n",
              "            <script src=\"https://cdnjs.cloudflare.com/ajax/libs/mathjax/2.7.5/MathJax.js?config=TeX-AMS-MML_SVG\"></script><script type=\"text/javascript\">if (window.MathJax) {MathJax.Hub.Config({SVG: {font: \"STIX-Web\"}});}</script>\n",
              "                <script type=\"text/javascript\">window.PlotlyConfig = {MathJaxConfig: 'local'};</script>\n",
              "        <script src=\"https://cdn.plot.ly/plotly-latest.min.js\"></script>    \n",
              "            <div id=\"16ea92c1-821f-4432-b8ab-a1349b4afeac\" class=\"plotly-graph-div\" style=\"height:525px; width:100%;\"></div>\n",
              "            <script type=\"text/javascript\">\n",
              "                \n",
              "                    window.PLOTLYENV=window.PLOTLYENV || {};\n",
              "                    \n",
              "                if (document.getElementById(\"16ea92c1-821f-4432-b8ab-a1349b4afeac\")) {\n",
              "                    Plotly.newPlot(\n",
              "                        '16ea92c1-821f-4432-b8ab-a1349b4afeac',\n",
              "                        [{\"type\": \"scatter\", \"x\": [\"ART_AND_DESIGN\", \"AUTO_AND_VEHICLES\", \"BEAUTY\", \"BOOKS_AND_REFERENCE\", \"BUSINESS\", \"COMICS\", \"COMMUNICATION\", \"DATING\", \"EDUCATION\", \"ENTERTAINMENT\", \"EVENTS\", \"FAMILY\", \"FINANCE\", \"FOOD_AND_DRINK\", \"GAME\", \"HEALTH_AND_FITNESS\", \"HOUSE_AND_HOME\", \"LIBRARIES_AND_DEMO\", \"LIFESTYLE\", \"MAPS_AND_NAVIGATION\", \"MEDICAL\", \"NEWS_AND_MAGAZINES\", \"PARENTING\", \"PERSONALIZATION\", \"PHOTOGRAPHY\", \"PRODUCTIVITY\", \"SHOPPING\", \"SOCIAL\", \"SPORTS\", \"TOOLS\", \"TRAVEL_AND_LOCAL\", \"VIDEO_PLAYERS\", \"WEATHER\"], \"y\": [5.97, 13.47, 0.0, 119.76999999999997, 185.26999999999998, 0.0, 83.13999999999999, 31.430000000000007, 17.96, 7.98, 109.99, 2434.779999999982, 2900.829999999998, 8.48, 287.3000000000003, 67.34, 0.0, 0.99, 2360.87, 26.950000000000003, 1439.9600000000007, 3.9800000000000004, 9.58, 153.95999999999998, 134.20999999999995, 250.93000000000012, 5.48, 15.97, 99.99999999999996, 267.2500000000002, 49.95000000000002, 10.46, 32.42000000000001]}],\n",
              "                        {\"template\": {\"data\": {\"bar\": [{\"error_x\": {\"color\": \"#2a3f5f\"}, \"error_y\": {\"color\": \"#2a3f5f\"}, \"marker\": {\"line\": {\"color\": \"#E5ECF6\", \"width\": 0.5}}, \"type\": \"bar\"}], \"barpolar\": [{\"marker\": {\"line\": {\"color\": \"#E5ECF6\", \"width\": 0.5}}, \"type\": \"barpolar\"}], \"carpet\": [{\"aaxis\": {\"endlinecolor\": \"#2a3f5f\", \"gridcolor\": \"white\", \"linecolor\": \"white\", \"minorgridcolor\": \"white\", \"startlinecolor\": \"#2a3f5f\"}, \"baxis\": {\"endlinecolor\": \"#2a3f5f\", \"gridcolor\": \"white\", \"linecolor\": \"white\", \"minorgridcolor\": \"white\", \"startlinecolor\": \"#2a3f5f\"}, \"type\": \"carpet\"}], \"choropleth\": [{\"colorbar\": {\"outlinewidth\": 0, \"ticks\": \"\"}, \"type\": \"choropleth\"}], \"contour\": [{\"colorbar\": {\"outlinewidth\": 0, \"ticks\": \"\"}, \"colorscale\": [[0.0, \"#0d0887\"], [0.1111111111111111, \"#46039f\"], [0.2222222222222222, \"#7201a8\"], [0.3333333333333333, \"#9c179e\"], [0.4444444444444444, \"#bd3786\"], [0.5555555555555556, \"#d8576b\"], [0.6666666666666666, \"#ed7953\"], [0.7777777777777778, \"#fb9f3a\"], [0.8888888888888888, \"#fdca26\"], [1.0, \"#f0f921\"]], \"type\": \"contour\"}], \"contourcarpet\": [{\"colorbar\": {\"outlinewidth\": 0, \"ticks\": \"\"}, \"type\": \"contourcarpet\"}], \"heatmap\": [{\"colorbar\": {\"outlinewidth\": 0, \"ticks\": \"\"}, \"colorscale\": [[0.0, \"#0d0887\"], [0.1111111111111111, \"#46039f\"], [0.2222222222222222, \"#7201a8\"], [0.3333333333333333, \"#9c179e\"], [0.4444444444444444, \"#bd3786\"], [0.5555555555555556, \"#d8576b\"], [0.6666666666666666, \"#ed7953\"], [0.7777777777777778, \"#fb9f3a\"], [0.8888888888888888, \"#fdca26\"], [1.0, \"#f0f921\"]], \"type\": \"heatmap\"}], \"heatmapgl\": [{\"colorbar\": {\"outlinewidth\": 0, \"ticks\": \"\"}, \"colorscale\": [[0.0, \"#0d0887\"], [0.1111111111111111, \"#46039f\"], [0.2222222222222222, \"#7201a8\"], [0.3333333333333333, \"#9c179e\"], [0.4444444444444444, \"#bd3786\"], [0.5555555555555556, \"#d8576b\"], [0.6666666666666666, \"#ed7953\"], [0.7777777777777778, \"#fb9f3a\"], [0.8888888888888888, \"#fdca26\"], [1.0, \"#f0f921\"]], \"type\": \"heatmapgl\"}], \"histogram\": [{\"marker\": {\"colorbar\": {\"outlinewidth\": 0, \"ticks\": \"\"}}, \"type\": \"histogram\"}], \"histogram2d\": [{\"colorbar\": {\"outlinewidth\": 0, \"ticks\": \"\"}, \"colorscale\": [[0.0, \"#0d0887\"], [0.1111111111111111, \"#46039f\"], [0.2222222222222222, \"#7201a8\"], [0.3333333333333333, \"#9c179e\"], [0.4444444444444444, \"#bd3786\"], [0.5555555555555556, \"#d8576b\"], [0.6666666666666666, \"#ed7953\"], [0.7777777777777778, \"#fb9f3a\"], [0.8888888888888888, \"#fdca26\"], [1.0, \"#f0f921\"]], \"type\": \"histogram2d\"}], \"histogram2dcontour\": [{\"colorbar\": {\"outlinewidth\": 0, \"ticks\": \"\"}, \"colorscale\": [[0.0, \"#0d0887\"], [0.1111111111111111, \"#46039f\"], [0.2222222222222222, \"#7201a8\"], [0.3333333333333333, \"#9c179e\"], [0.4444444444444444, \"#bd3786\"], [0.5555555555555556, \"#d8576b\"], [0.6666666666666666, \"#ed7953\"], [0.7777777777777778, \"#fb9f3a\"], [0.8888888888888888, \"#fdca26\"], [1.0, \"#f0f921\"]], \"type\": \"histogram2dcontour\"}], \"mesh3d\": [{\"colorbar\": {\"outlinewidth\": 0, \"ticks\": \"\"}, \"type\": \"mesh3d\"}], \"parcoords\": [{\"line\": {\"colorbar\": {\"outlinewidth\": 0, \"ticks\": \"\"}}, \"type\": \"parcoords\"}], \"pie\": [{\"automargin\": true, \"type\": \"pie\"}], \"scatter\": [{\"marker\": {\"colorbar\": {\"outlinewidth\": 0, \"ticks\": \"\"}}, \"type\": \"scatter\"}], \"scatter3d\": [{\"line\": {\"colorbar\": {\"outlinewidth\": 0, \"ticks\": \"\"}}, \"marker\": {\"colorbar\": {\"outlinewidth\": 0, \"ticks\": \"\"}}, \"type\": \"scatter3d\"}], \"scattercarpet\": [{\"marker\": {\"colorbar\": {\"outlinewidth\": 0, \"ticks\": \"\"}}, \"type\": \"scattercarpet\"}], \"scattergeo\": [{\"marker\": {\"colorbar\": {\"outlinewidth\": 0, \"ticks\": \"\"}}, \"type\": \"scattergeo\"}], \"scattergl\": [{\"marker\": {\"colorbar\": {\"outlinewidth\": 0, \"ticks\": \"\"}}, \"type\": \"scattergl\"}], \"scattermapbox\": [{\"marker\": {\"colorbar\": {\"outlinewidth\": 0, \"ticks\": \"\"}}, \"type\": \"scattermapbox\"}], \"scatterpolar\": [{\"marker\": {\"colorbar\": {\"outlinewidth\": 0, \"ticks\": \"\"}}, \"type\": \"scatterpolar\"}], \"scatterpolargl\": [{\"marker\": {\"colorbar\": {\"outlinewidth\": 0, \"ticks\": \"\"}}, \"type\": \"scatterpolargl\"}], \"scatterternary\": [{\"marker\": {\"colorbar\": {\"outlinewidth\": 0, \"ticks\": \"\"}}, \"type\": \"scatterternary\"}], \"surface\": [{\"colorbar\": {\"outlinewidth\": 0, \"ticks\": \"\"}, \"colorscale\": [[0.0, \"#0d0887\"], [0.1111111111111111, \"#46039f\"], [0.2222222222222222, \"#7201a8\"], [0.3333333333333333, \"#9c179e\"], [0.4444444444444444, \"#bd3786\"], [0.5555555555555556, \"#d8576b\"], [0.6666666666666666, \"#ed7953\"], [0.7777777777777778, \"#fb9f3a\"], [0.8888888888888888, \"#fdca26\"], [1.0, \"#f0f921\"]], \"type\": \"surface\"}], \"table\": [{\"cells\": {\"fill\": {\"color\": \"#EBF0F8\"}, \"line\": {\"color\": \"white\"}}, \"header\": {\"fill\": {\"color\": \"#C8D4E3\"}, \"line\": {\"color\": \"white\"}}, \"type\": \"table\"}]}, \"layout\": {\"annotationdefaults\": {\"arrowcolor\": \"#2a3f5f\", \"arrowhead\": 0, \"arrowwidth\": 1}, \"coloraxis\": {\"colorbar\": {\"outlinewidth\": 0, \"ticks\": \"\"}}, \"colorscale\": {\"diverging\": [[0, \"#8e0152\"], [0.1, \"#c51b7d\"], [0.2, \"#de77ae\"], [0.3, \"#f1b6da\"], [0.4, \"#fde0ef\"], [0.5, \"#f7f7f7\"], [0.6, \"#e6f5d0\"], [0.7, \"#b8e186\"], [0.8, \"#7fbc41\"], [0.9, \"#4d9221\"], [1, \"#276419\"]], \"sequential\": [[0.0, \"#0d0887\"], [0.1111111111111111, \"#46039f\"], [0.2222222222222222, \"#7201a8\"], [0.3333333333333333, \"#9c179e\"], [0.4444444444444444, \"#bd3786\"], [0.5555555555555556, \"#d8576b\"], [0.6666666666666666, \"#ed7953\"], [0.7777777777777778, \"#fb9f3a\"], [0.8888888888888888, \"#fdca26\"], [1.0, \"#f0f921\"]], \"sequentialminus\": [[0.0, \"#0d0887\"], [0.1111111111111111, \"#46039f\"], [0.2222222222222222, \"#7201a8\"], [0.3333333333333333, \"#9c179e\"], [0.4444444444444444, \"#bd3786\"], [0.5555555555555556, \"#d8576b\"], [0.6666666666666666, \"#ed7953\"], [0.7777777777777778, \"#fb9f3a\"], [0.8888888888888888, \"#fdca26\"], [1.0, \"#f0f921\"]]}, \"colorway\": [\"#636efa\", \"#EF553B\", \"#00cc96\", \"#ab63fa\", \"#FFA15A\", \"#19d3f3\", \"#FF6692\", \"#B6E880\", \"#FF97FF\", \"#FECB52\"], \"font\": {\"color\": \"#2a3f5f\"}, \"geo\": {\"bgcolor\": \"white\", \"lakecolor\": \"white\", \"landcolor\": \"#E5ECF6\", \"showlakes\": true, \"showland\": true, \"subunitcolor\": \"white\"}, \"hoverlabel\": {\"align\": \"left\"}, \"hovermode\": \"closest\", \"mapbox\": {\"style\": \"light\"}, \"paper_bgcolor\": \"white\", \"plot_bgcolor\": \"#E5ECF6\", \"polar\": {\"angularaxis\": {\"gridcolor\": \"white\", \"linecolor\": \"white\", \"ticks\": \"\"}, \"bgcolor\": \"#E5ECF6\", \"radialaxis\": {\"gridcolor\": \"white\", \"linecolor\": \"white\", \"ticks\": \"\"}}, \"scene\": {\"xaxis\": {\"backgroundcolor\": \"#E5ECF6\", \"gridcolor\": \"white\", \"gridwidth\": 2, \"linecolor\": \"white\", \"showbackground\": true, \"ticks\": \"\", \"zerolinecolor\": \"white\"}, \"yaxis\": {\"backgroundcolor\": \"#E5ECF6\", \"gridcolor\": \"white\", \"gridwidth\": 2, \"linecolor\": \"white\", \"showbackground\": true, \"ticks\": \"\", \"zerolinecolor\": \"white\"}, \"zaxis\": {\"backgroundcolor\": \"#E5ECF6\", \"gridcolor\": \"white\", \"gridwidth\": 2, \"linecolor\": \"white\", \"showbackground\": true, \"ticks\": \"\", \"zerolinecolor\": \"white\"}}, \"shapedefaults\": {\"line\": {\"color\": \"#2a3f5f\"}}, \"ternary\": {\"aaxis\": {\"gridcolor\": \"white\", \"linecolor\": \"white\", \"ticks\": \"\"}, \"baxis\": {\"gridcolor\": \"white\", \"linecolor\": \"white\", \"ticks\": \"\"}, \"bgcolor\": \"#E5ECF6\", \"caxis\": {\"gridcolor\": \"white\", \"linecolor\": \"white\", \"ticks\": \"\"}}, \"title\": {\"x\": 0.05}, \"xaxis\": {\"automargin\": true, \"gridcolor\": \"white\", \"linecolor\": \"white\", \"ticks\": \"\", \"title\": {\"standoff\": 15}, \"zerolinecolor\": \"white\", \"zerolinewidth\": 2}, \"yaxis\": {\"automargin\": true, \"gridcolor\": \"white\", \"linecolor\": \"white\", \"ticks\": \"\", \"title\": {\"standoff\": 15}, \"zerolinecolor\": \"white\", \"zerolinewidth\": 2}}}, \"title\": {\"text\": \"Rating mean\"}},\n",
              "                        {\"responsive\": true}\n",
              "                    ).then(function(){\n",
              "                            \n",
              "var gd = document.getElementById('16ea92c1-821f-4432-b8ab-a1349b4afeac');\n",
              "var x = new MutationObserver(function (mutations, observer) {{\n",
              "        var display = window.getComputedStyle(gd).display;\n",
              "        if (!display || display === 'none') {{\n",
              "            console.log([gd, 'removed!']);\n",
              "            Plotly.purge(gd);\n",
              "            observer.disconnect();\n",
              "        }}\n",
              "}});\n",
              "\n",
              "// Listen for the removal of the full notebook cells\n",
              "var notebookContainer = gd.closest('#notebook-container');\n",
              "if (notebookContainer) {{\n",
              "    x.observe(notebookContainer, {childList: true});\n",
              "}}\n",
              "\n",
              "// Listen for the clearing of the current output cell\n",
              "var outputEl = gd.closest('.output');\n",
              "if (outputEl) {{\n",
              "    x.observe(outputEl, {childList: true});\n",
              "}}\n",
              "\n",
              "                        })\n",
              "                };\n",
              "                \n",
              "            </script>\n",
              "        </div>\n",
              "</body>\n",
              "</html>"
            ]
          },
          "metadata": {
            "tags": []
          }
        }
      ]
    },
    {
      "cell_type": "code",
      "metadata": {
        "colab": {
          "base_uri": "https://localhost:8080/",
          "height": 542
        },
        "id": "6ia-xX5oDhJp",
        "outputId": "9f61dd77-7c40-4a39-9756-ffc323526dc5"
      },
      "source": [
        "fig = go.Figure(\n",
        "    data=[go.Bar(x=grp_reviews_sum.Category,y=grp_reviews_sum['Reviews'])],\n",
        "        layout_title_text=\"Rating mean\"\n",
        ")\n",
        "fig.show()\n"
      ],
      "execution_count": null,
      "outputs": [
        {
          "output_type": "display_data",
          "data": {
            "text/html": [
              "<html>\n",
              "<head><meta charset=\"utf-8\" /></head>\n",
              "<body>\n",
              "    <div>\n",
              "            <script src=\"https://cdnjs.cloudflare.com/ajax/libs/mathjax/2.7.5/MathJax.js?config=TeX-AMS-MML_SVG\"></script><script type=\"text/javascript\">if (window.MathJax) {MathJax.Hub.Config({SVG: {font: \"STIX-Web\"}});}</script>\n",
              "                <script type=\"text/javascript\">window.PlotlyConfig = {MathJaxConfig: 'local'};</script>\n",
              "        <script src=\"https://cdn.plot.ly/plotly-latest.min.js\"></script>    \n",
              "            <div id=\"57c45b1d-3d91-4738-8893-a5472a314d24\" class=\"plotly-graph-div\" style=\"height:525px; width:100%;\"></div>\n",
              "            <script type=\"text/javascript\">\n",
              "                \n",
              "                    window.PLOTLYENV=window.PLOTLYENV || {};\n",
              "                    \n",
              "                if (document.getElementById(\"57c45b1d-3d91-4738-8893-a5472a314d24\")) {\n",
              "                    Plotly.newPlot(\n",
              "                        '57c45b1d-3d91-4738-8893-a5472a314d24',\n",
              "                        [{\"type\": \"bar\", \"x\": [\"ART_AND_DESIGN\", \"AUTO_AND_VEHICLES\", \"BEAUTY\", \"BOOKS_AND_REFERENCE\", \"BUSINESS\", \"COMICS\", \"COMMUNICATION\", \"DATING\", \"EDUCATION\", \"ENTERTAINMENT\", \"EVENTS\", \"FAMILY\", \"FINANCE\", \"FOOD_AND_DRINK\", \"GAME\", \"HEALTH_AND_FITNESS\", \"HOUSE_AND_HOME\", \"LIBRARIES_AND_DEMO\", \"LIFESTYLE\", \"MAPS_AND_NAVIGATION\", \"MEDICAL\", \"NEWS_AND_MAGAZINES\", \"PARENTING\", \"PERSONALIZATION\", \"PHOTOGRAPHY\", \"PRODUCTIVITY\", \"SHOPPING\", \"SOCIAL\", \"SPORTS\", \"TOOLS\", \"TRAVEL_AND_LOCAL\", \"VIDEO_PLAYERS\", \"WEATHER\"], \"y\": [26376.0, 13690.188235294117, 7476.226415094339, 95060.90476190476, 30335.982608695653, 56387.933333333334, 2107137.622739018, 31159.30769230769, 253819.14102564103, 397168.8187919463, 2515.90625, 208025.5223123732, 47952.8087431694, 69947.48031496063, 1385858.6966783216, 111125.34604105572, 45186.193181818184, 12201.388235294118, 33724.56544502618, 223790.17518248176, 3425.4319654427645, 192229.19787985866, 15972.183333333332, 227923.82653061225, 637363.1343283582, 269143.80896226416, 442466.23846153845, 2105903.125423729, 184453.56510416666, 324062.9228944247, 242705.11240310076, 630743.9314285715, 178106.5243902439]}],\n",
              "                        {\"template\": {\"data\": {\"bar\": [{\"error_x\": {\"color\": \"#2a3f5f\"}, \"error_y\": {\"color\": \"#2a3f5f\"}, \"marker\": {\"line\": {\"color\": \"#E5ECF6\", \"width\": 0.5}}, \"type\": \"bar\"}], \"barpolar\": [{\"marker\": {\"line\": {\"color\": \"#E5ECF6\", \"width\": 0.5}}, \"type\": \"barpolar\"}], \"carpet\": [{\"aaxis\": {\"endlinecolor\": \"#2a3f5f\", \"gridcolor\": \"white\", \"linecolor\": \"white\", \"minorgridcolor\": \"white\", \"startlinecolor\": \"#2a3f5f\"}, \"baxis\": {\"endlinecolor\": \"#2a3f5f\", \"gridcolor\": \"white\", \"linecolor\": \"white\", \"minorgridcolor\": \"white\", \"startlinecolor\": \"#2a3f5f\"}, \"type\": \"carpet\"}], \"choropleth\": [{\"colorbar\": {\"outlinewidth\": 0, \"ticks\": \"\"}, \"type\": \"choropleth\"}], \"contour\": [{\"colorbar\": {\"outlinewidth\": 0, \"ticks\": \"\"}, \"colorscale\": [[0.0, \"#0d0887\"], [0.1111111111111111, \"#46039f\"], [0.2222222222222222, \"#7201a8\"], [0.3333333333333333, \"#9c179e\"], [0.4444444444444444, \"#bd3786\"], [0.5555555555555556, \"#d8576b\"], [0.6666666666666666, \"#ed7953\"], [0.7777777777777778, \"#fb9f3a\"], [0.8888888888888888, \"#fdca26\"], [1.0, \"#f0f921\"]], \"type\": \"contour\"}], \"contourcarpet\": [{\"colorbar\": {\"outlinewidth\": 0, \"ticks\": \"\"}, \"type\": \"contourcarpet\"}], \"heatmap\": [{\"colorbar\": {\"outlinewidth\": 0, \"ticks\": \"\"}, \"colorscale\": [[0.0, \"#0d0887\"], [0.1111111111111111, \"#46039f\"], [0.2222222222222222, \"#7201a8\"], [0.3333333333333333, \"#9c179e\"], [0.4444444444444444, \"#bd3786\"], [0.5555555555555556, \"#d8576b\"], [0.6666666666666666, \"#ed7953\"], [0.7777777777777778, \"#fb9f3a\"], [0.8888888888888888, \"#fdca26\"], [1.0, \"#f0f921\"]], \"type\": \"heatmap\"}], \"heatmapgl\": [{\"colorbar\": {\"outlinewidth\": 0, \"ticks\": \"\"}, \"colorscale\": [[0.0, \"#0d0887\"], [0.1111111111111111, \"#46039f\"], [0.2222222222222222, \"#7201a8\"], [0.3333333333333333, \"#9c179e\"], [0.4444444444444444, \"#bd3786\"], [0.5555555555555556, \"#d8576b\"], [0.6666666666666666, \"#ed7953\"], [0.7777777777777778, \"#fb9f3a\"], [0.8888888888888888, \"#fdca26\"], [1.0, \"#f0f921\"]], \"type\": \"heatmapgl\"}], \"histogram\": [{\"marker\": {\"colorbar\": {\"outlinewidth\": 0, \"ticks\": \"\"}}, \"type\": \"histogram\"}], \"histogram2d\": [{\"colorbar\": {\"outlinewidth\": 0, \"ticks\": \"\"}, \"colorscale\": [[0.0, \"#0d0887\"], [0.1111111111111111, \"#46039f\"], [0.2222222222222222, \"#7201a8\"], [0.3333333333333333, \"#9c179e\"], [0.4444444444444444, \"#bd3786\"], [0.5555555555555556, \"#d8576b\"], [0.6666666666666666, \"#ed7953\"], [0.7777777777777778, \"#fb9f3a\"], [0.8888888888888888, \"#fdca26\"], [1.0, \"#f0f921\"]], \"type\": \"histogram2d\"}], \"histogram2dcontour\": [{\"colorbar\": {\"outlinewidth\": 0, \"ticks\": \"\"}, \"colorscale\": [[0.0, \"#0d0887\"], [0.1111111111111111, \"#46039f\"], [0.2222222222222222, \"#7201a8\"], [0.3333333333333333, \"#9c179e\"], [0.4444444444444444, \"#bd3786\"], [0.5555555555555556, \"#d8576b\"], [0.6666666666666666, \"#ed7953\"], [0.7777777777777778, \"#fb9f3a\"], [0.8888888888888888, \"#fdca26\"], [1.0, \"#f0f921\"]], \"type\": \"histogram2dcontour\"}], \"mesh3d\": [{\"colorbar\": {\"outlinewidth\": 0, \"ticks\": \"\"}, \"type\": \"mesh3d\"}], \"parcoords\": [{\"line\": {\"colorbar\": {\"outlinewidth\": 0, \"ticks\": \"\"}}, \"type\": \"parcoords\"}], \"pie\": [{\"automargin\": true, \"type\": \"pie\"}], \"scatter\": [{\"marker\": {\"colorbar\": {\"outlinewidth\": 0, \"ticks\": \"\"}}, \"type\": \"scatter\"}], \"scatter3d\": [{\"line\": {\"colorbar\": {\"outlinewidth\": 0, \"ticks\": \"\"}}, \"marker\": {\"colorbar\": {\"outlinewidth\": 0, \"ticks\": \"\"}}, \"type\": \"scatter3d\"}], \"scattercarpet\": [{\"marker\": {\"colorbar\": {\"outlinewidth\": 0, \"ticks\": \"\"}}, \"type\": \"scattercarpet\"}], \"scattergeo\": [{\"marker\": {\"colorbar\": {\"outlinewidth\": 0, \"ticks\": \"\"}}, \"type\": \"scattergeo\"}], \"scattergl\": [{\"marker\": {\"colorbar\": {\"outlinewidth\": 0, \"ticks\": \"\"}}, \"type\": \"scattergl\"}], \"scattermapbox\": [{\"marker\": {\"colorbar\": {\"outlinewidth\": 0, \"ticks\": \"\"}}, \"type\": \"scattermapbox\"}], \"scatterpolar\": [{\"marker\": {\"colorbar\": {\"outlinewidth\": 0, \"ticks\": \"\"}}, \"type\": \"scatterpolar\"}], \"scatterpolargl\": [{\"marker\": {\"colorbar\": {\"outlinewidth\": 0, \"ticks\": \"\"}}, \"type\": \"scatterpolargl\"}], \"scatterternary\": [{\"marker\": {\"colorbar\": {\"outlinewidth\": 0, \"ticks\": \"\"}}, \"type\": \"scatterternary\"}], \"surface\": [{\"colorbar\": {\"outlinewidth\": 0, \"ticks\": \"\"}, \"colorscale\": [[0.0, \"#0d0887\"], [0.1111111111111111, \"#46039f\"], [0.2222222222222222, \"#7201a8\"], [0.3333333333333333, \"#9c179e\"], [0.4444444444444444, \"#bd3786\"], [0.5555555555555556, \"#d8576b\"], [0.6666666666666666, \"#ed7953\"], [0.7777777777777778, \"#fb9f3a\"], [0.8888888888888888, \"#fdca26\"], [1.0, \"#f0f921\"]], \"type\": \"surface\"}], \"table\": [{\"cells\": {\"fill\": {\"color\": \"#EBF0F8\"}, \"line\": {\"color\": \"white\"}}, \"header\": {\"fill\": {\"color\": \"#C8D4E3\"}, \"line\": {\"color\": \"white\"}}, \"type\": \"table\"}]}, \"layout\": {\"annotationdefaults\": {\"arrowcolor\": \"#2a3f5f\", \"arrowhead\": 0, \"arrowwidth\": 1}, \"coloraxis\": {\"colorbar\": {\"outlinewidth\": 0, \"ticks\": \"\"}}, \"colorscale\": {\"diverging\": [[0, \"#8e0152\"], [0.1, \"#c51b7d\"], [0.2, \"#de77ae\"], [0.3, \"#f1b6da\"], [0.4, \"#fde0ef\"], [0.5, \"#f7f7f7\"], [0.6, \"#e6f5d0\"], [0.7, \"#b8e186\"], [0.8, \"#7fbc41\"], [0.9, \"#4d9221\"], [1, \"#276419\"]], \"sequential\": [[0.0, \"#0d0887\"], [0.1111111111111111, \"#46039f\"], [0.2222222222222222, \"#7201a8\"], [0.3333333333333333, \"#9c179e\"], [0.4444444444444444, \"#bd3786\"], [0.5555555555555556, \"#d8576b\"], [0.6666666666666666, \"#ed7953\"], [0.7777777777777778, \"#fb9f3a\"], [0.8888888888888888, \"#fdca26\"], [1.0, \"#f0f921\"]], \"sequentialminus\": [[0.0, \"#0d0887\"], [0.1111111111111111, \"#46039f\"], [0.2222222222222222, \"#7201a8\"], [0.3333333333333333, \"#9c179e\"], [0.4444444444444444, \"#bd3786\"], [0.5555555555555556, \"#d8576b\"], [0.6666666666666666, \"#ed7953\"], [0.7777777777777778, \"#fb9f3a\"], [0.8888888888888888, \"#fdca26\"], [1.0, \"#f0f921\"]]}, \"colorway\": [\"#636efa\", \"#EF553B\", \"#00cc96\", \"#ab63fa\", \"#FFA15A\", \"#19d3f3\", \"#FF6692\", \"#B6E880\", \"#FF97FF\", \"#FECB52\"], \"font\": {\"color\": \"#2a3f5f\"}, \"geo\": {\"bgcolor\": \"white\", \"lakecolor\": \"white\", \"landcolor\": \"#E5ECF6\", \"showlakes\": true, \"showland\": true, \"subunitcolor\": \"white\"}, \"hoverlabel\": {\"align\": \"left\"}, \"hovermode\": \"closest\", \"mapbox\": {\"style\": \"light\"}, \"paper_bgcolor\": \"white\", \"plot_bgcolor\": \"#E5ECF6\", \"polar\": {\"angularaxis\": {\"gridcolor\": \"white\", \"linecolor\": \"white\", \"ticks\": \"\"}, \"bgcolor\": \"#E5ECF6\", \"radialaxis\": {\"gridcolor\": \"white\", \"linecolor\": \"white\", \"ticks\": \"\"}}, \"scene\": {\"xaxis\": {\"backgroundcolor\": \"#E5ECF6\", \"gridcolor\": \"white\", \"gridwidth\": 2, \"linecolor\": \"white\", \"showbackground\": true, \"ticks\": \"\", \"zerolinecolor\": \"white\"}, \"yaxis\": {\"backgroundcolor\": \"#E5ECF6\", \"gridcolor\": \"white\", \"gridwidth\": 2, \"linecolor\": \"white\", \"showbackground\": true, \"ticks\": \"\", \"zerolinecolor\": \"white\"}, \"zaxis\": {\"backgroundcolor\": \"#E5ECF6\", \"gridcolor\": \"white\", \"gridwidth\": 2, \"linecolor\": \"white\", \"showbackground\": true, \"ticks\": \"\", \"zerolinecolor\": \"white\"}}, \"shapedefaults\": {\"line\": {\"color\": \"#2a3f5f\"}}, \"ternary\": {\"aaxis\": {\"gridcolor\": \"white\", \"linecolor\": \"white\", \"ticks\": \"\"}, \"baxis\": {\"gridcolor\": \"white\", \"linecolor\": \"white\", \"ticks\": \"\"}, \"bgcolor\": \"#E5ECF6\", \"caxis\": {\"gridcolor\": \"white\", \"linecolor\": \"white\", \"ticks\": \"\"}}, \"title\": {\"x\": 0.05}, \"xaxis\": {\"automargin\": true, \"gridcolor\": \"white\", \"linecolor\": \"white\", \"ticks\": \"\", \"title\": {\"standoff\": 15}, \"zerolinecolor\": \"white\", \"zerolinewidth\": 2}, \"yaxis\": {\"automargin\": true, \"gridcolor\": \"white\", \"linecolor\": \"white\", \"ticks\": \"\", \"title\": {\"standoff\": 15}, \"zerolinecolor\": \"white\", \"zerolinewidth\": 2}}}, \"title\": {\"text\": \"Rating mean\"}},\n",
              "                        {\"responsive\": true}\n",
              "                    ).then(function(){\n",
              "                            \n",
              "var gd = document.getElementById('57c45b1d-3d91-4738-8893-a5472a314d24');\n",
              "var x = new MutationObserver(function (mutations, observer) {{\n",
              "        var display = window.getComputedStyle(gd).display;\n",
              "        if (!display || display === 'none') {{\n",
              "            console.log([gd, 'removed!']);\n",
              "            Plotly.purge(gd);\n",
              "            observer.disconnect();\n",
              "        }}\n",
              "}});\n",
              "\n",
              "// Listen for the removal of the full notebook cells\n",
              "var notebookContainer = gd.closest('#notebook-container');\n",
              "if (notebookContainer) {{\n",
              "    x.observe(notebookContainer, {childList: true});\n",
              "}}\n",
              "\n",
              "// Listen for the clearing of the current output cell\n",
              "var outputEl = gd.closest('.output');\n",
              "if (outputEl) {{\n",
              "    x.observe(outputEl, {childList: true});\n",
              "}}\n",
              "\n",
              "                        })\n",
              "                };\n",
              "                \n",
              "            </script>\n",
              "        </div>\n",
              "</body>\n",
              "</html>"
            ]
          },
          "metadata": {
            "tags": []
          }
        }
      ]
    },
    {
      "cell_type": "code",
      "metadata": {
        "id": "eECK19ULKAuC"
      },
      "source": [
        "grp_reviews_sum = data_df.groupby('Category',as_index=False).agg({\"Reviews\":\"mean\"})\n"
      ],
      "execution_count": null,
      "outputs": []
    },
    {
      "cell_type": "code",
      "metadata": {
        "id": "06bvPaGIJ_vd"
      },
      "source": [
        "grp_reviews_sum = data_df.groupby('Category',as_index=False).agg({\"Reviews\":\"mean\"})\n"
      ],
      "execution_count": null,
      "outputs": []
    },
    {
      "cell_type": "code",
      "metadata": {
        "id": "uhXDwsAN8rQL"
      },
      "source": [
        "import cufflinks as cf\n",
        "import plotly\n",
        "import plotly.offline as py\n",
        "import plotly.graph_objs as go"
      ],
      "execution_count": null,
      "outputs": []
    }
  ]
}